{
 "cells": [
  {
   "cell_type": "markdown",
   "metadata": {},
   "source": [
    "# First steps with Numba"
   ]
  },
  {
   "cell_type": "code",
   "execution_count": 1,
   "metadata": {
    "collapsed": false,
    "jupyter": {
     "outputs_hidden": false
    }
   },
   "outputs": [],
   "source": [
    "import numba as nb\n",
    "import numpy as np"
   ]
  },
  {
   "cell_type": "code",
   "execution_count": 2,
   "metadata": {
    "collapsed": false,
    "jupyter": {
     "outputs_hidden": false
    }
   },
   "outputs": [],
   "source": [
    "@nb.jit(nopython=True)\n",
    "def sum_sq(a):\n",
    "    N = len(a)\n",
    "    \n",
    "    result = 0\n",
    "    for i in range(N):\n",
    "        result += a[i] ** 2\n",
    "    \n",
    "    return result"
   ]
  },
  {
   "cell_type": "code",
   "execution_count": 3,
   "metadata": {
    "collapsed": false,
    "jupyter": {
     "outputs_hidden": false
    }
   },
   "outputs": [],
   "source": [
    "x = np.random.rand(10000)"
   ]
  },
  {
   "cell_type": "code",
   "execution_count": 4,
   "metadata": {
    "collapsed": false,
    "jupyter": {
     "outputs_hidden": false
    }
   },
   "outputs": [
    {
     "name": "stdout",
     "output_type": "stream",
     "text": [
      "4.3 ms ± 81.6 µs per loop (mean ± std. dev. of 7 runs, 100 loops each)\n"
     ]
    }
   ],
   "source": [
    "%timeit sum_sq.py_func(x)"
   ]
  },
  {
   "cell_type": "code",
   "execution_count": 5,
   "metadata": {
    "collapsed": false,
    "jupyter": {
     "outputs_hidden": false
    }
   },
   "outputs": [
    {
     "name": "stdout",
     "output_type": "stream",
     "text": [
      "12.8 µs ± 5.41 µs per loop (mean ± std. dev. of 7 runs, 1 loop each)\n"
     ]
    }
   ],
   "source": [
    "%timeit sum_sq(x)"
   ]
  },
  {
   "cell_type": "code",
   "execution_count": 6,
   "metadata": {
    "collapsed": false,
    "jupyter": {
     "outputs_hidden": false
    }
   },
   "outputs": [
    {
     "name": "stdout",
     "output_type": "stream",
     "text": [
      "9.44 µs ± 93.7 ns per loop (mean ± std. dev. of 7 runs, 100000 loops each)\n"
     ]
    }
   ],
   "source": [
    "%timeit (x**2).sum()"
   ]
  },
  {
   "cell_type": "code",
   "execution_count": 7,
   "metadata": {
    "tags": []
   },
   "outputs": [],
   "source": [
    "x_list = x.tolist()"
   ]
  },
  {
   "cell_type": "markdown",
   "metadata": {},
   "source": [
    "## Type specializations"
   ]
  },
  {
   "cell_type": "code",
   "execution_count": 8,
   "metadata": {},
   "outputs": [],
   "source": [
    "@nb.jit(nopython=True)\n",
    "def sum_sq(a):\n",
    "    N = len(a)\n",
    "    \n",
    "    result = 0\n",
    "    for i in range(N):\n",
    "        result += a[i] ** 2\n",
    "    \n",
    "    return result"
   ]
  },
  {
   "cell_type": "code",
   "execution_count": 9,
   "metadata": {
    "collapsed": false,
    "jupyter": {
     "outputs_hidden": false
    }
   },
   "outputs": [
    {
     "data": {
      "text/plain": [
       "[]"
      ]
     },
     "execution_count": 9,
     "metadata": {},
     "output_type": "execute_result"
    }
   ],
   "source": [
    "sum_sq.signatures"
   ]
  },
  {
   "cell_type": "code",
   "execution_count": 10,
   "metadata": {
    "collapsed": false,
    "jupyter": {
     "outputs_hidden": false
    }
   },
   "outputs": [
    {
     "data": {
      "text/plain": [
       "[(array(float64, 1d, C),)]"
      ]
     },
     "execution_count": 10,
     "metadata": {},
     "output_type": "execute_result"
    }
   ],
   "source": [
    "x = np.random.rand(1000).astype('float64')\n",
    "sum_sq(x)\n",
    "sum_sq.signatures"
   ]
  },
  {
   "cell_type": "code",
   "execution_count": 12,
   "metadata": {
    "collapsed": false,
    "jupyter": {
     "outputs_hidden": false
    }
   },
   "outputs": [
    {
     "data": {
      "text/plain": [
       "[(array(float64, 1d, C),), (array(float32, 1d, C),)]"
      ]
     },
     "execution_count": 12,
     "metadata": {},
     "output_type": "execute_result"
    }
   ],
   "source": [
    "x = np.random.rand(10000).astype('float32')\n",
    "sum_sq(x)\n",
    "sum_sq.signatures"
   ]
  },
  {
   "cell_type": "code",
   "execution_count": 13,
   "metadata": {},
   "outputs": [],
   "source": [
    "@nb.jit((nb.float64[:],))\n",
    "def sum_sq(a):\n",
    "    N = len(a)\n",
    "    \n",
    "    result = 0\n",
    "    for i in range(N):\n",
    "        result += a[i] ** 2\n",
    "    \n",
    "    return result"
   ]
  },
  {
   "cell_type": "code",
   "execution_count": 14,
   "metadata": {},
   "outputs": [
    {
     "ename": "TypeError",
     "evalue": "No matching definition for argument type(s) array(float32, 1d, C)",
     "output_type": "error",
     "traceback": [
      "\u001b[0;31m---------------------------------------------------------------------------\u001b[0m",
      "\u001b[0;31mTypeError\u001b[0m                                 Traceback (most recent call last)",
      "\u001b[0;32m<ipython-input-14-8fb9ecd0ecd5>\u001b[0m in \u001b[0;36m<module>\u001b[0;34m\u001b[0m\n\u001b[0;32m----> 1\u001b[0;31m \u001b[0msum_sq\u001b[0m\u001b[0;34m(\u001b[0m\u001b[0mx\u001b[0m\u001b[0;34m.\u001b[0m\u001b[0mastype\u001b[0m\u001b[0;34m(\u001b[0m\u001b[0;34m'float32'\u001b[0m\u001b[0;34m)\u001b[0m\u001b[0;34m)\u001b[0m\u001b[0;34m\u001b[0m\u001b[0;34m\u001b[0m\u001b[0m\n\u001b[0m",
      "\u001b[0;32m~/anaconda3/envs/advanced_python/lib/python3.8/site-packages/numba/core/dispatcher.py\u001b[0m in \u001b[0;36m_explain_matching_error\u001b[0;34m(self, *args, **kws)\u001b[0m\n\u001b[1;32m    654\u001b[0m         msg = (\"No matching definition for argument type(s) %s\"\n\u001b[1;32m    655\u001b[0m                % ', '.join(map(str, args)))\n\u001b[0;32m--> 656\u001b[0;31m         \u001b[0;32mraise\u001b[0m \u001b[0mTypeError\u001b[0m\u001b[0;34m(\u001b[0m\u001b[0mmsg\u001b[0m\u001b[0;34m)\u001b[0m\u001b[0;34m\u001b[0m\u001b[0;34m\u001b[0m\u001b[0m\n\u001b[0m\u001b[1;32m    657\u001b[0m \u001b[0;34m\u001b[0m\u001b[0m\n\u001b[1;32m    658\u001b[0m     \u001b[0;32mdef\u001b[0m \u001b[0m_search_new_conversions\u001b[0m\u001b[0;34m(\u001b[0m\u001b[0mself\u001b[0m\u001b[0;34m,\u001b[0m \u001b[0;34m*\u001b[0m\u001b[0margs\u001b[0m\u001b[0;34m,\u001b[0m \u001b[0;34m**\u001b[0m\u001b[0mkws\u001b[0m\u001b[0;34m)\u001b[0m\u001b[0;34m:\u001b[0m\u001b[0;34m\u001b[0m\u001b[0;34m\u001b[0m\u001b[0m\n",
      "\u001b[0;31mTypeError\u001b[0m: No matching definition for argument type(s) array(float32, 1d, C)"
     ]
    }
   ],
   "source": [
    "sum_sq(x.astype('float32'))"
   ]
  },
  {
   "cell_type": "code",
   "execution_count": 19,
   "metadata": {
    "collapsed": false,
    "jupyter": {
     "outputs_hidden": false
    }
   },
   "outputs": [],
   "source": [
    "@nb.jit(['float64(float64[:])',\n",
    "         'float32(float32[:])'])\n",
    "def sum_sq(a):\n",
    "    N = len(a)\n",
    "    \n",
    "    result = 0\n",
    "    for i in range(N):\n",
    "        result += a[i] ** 2\n",
    "    \n",
    "    return result"
   ]
  },
  {
   "cell_type": "code",
   "execution_count": 20,
   "metadata": {
    "collapsed": false,
    "jupyter": {
     "outputs_hidden": false
    }
   },
   "outputs": [
    {
     "data": {
      "text/plain": [
       "[(array(float64, 1d, A),), (array(float32, 1d, A),)]"
      ]
     },
     "execution_count": 20,
     "metadata": {},
     "output_type": "execute_result"
    }
   ],
   "source": [
    "sum_sq.signatures"
   ]
  },
  {
   "cell_type": "code",
   "execution_count": 21,
   "metadata": {
    "collapsed": false,
    "jupyter": {
     "outputs_hidden": false
    },
    "scrolled": true,
    "tags": []
   },
   "outputs": [
    {
     "name": "stdout",
     "output_type": "stream",
     "text": [
      "sum_sq (array(float64, 1d, A),)\n",
      "--------------------------------------------------------------------------------\n",
      "# File: <ipython-input-19-4687c4bff0ac>\n",
      "# --- LINE 1 --- \n",
      "\n",
      "@nb.jit(['float64(float64[:])',\n",
      "\n",
      "         # --- LINE 2 --- \n",
      "\n",
      "         'float32(float32[:])'])\n",
      "\n",
      "# --- LINE 3 --- \n",
      "\n",
      "def sum_sq(a):\n",
      "\n",
      "    # --- LINE 4 --- \n",
      "    # label 0\n",
      "    #   a = arg(0, name=a)  :: array(float64, 1d, A)\n",
      "    #   $2load_global.0 = global(len: <built-in function len>)  :: Function(<built-in function len>)\n",
      "    #   N = call $2load_global.0(a, func=$2load_global.0, args=[Var(a, <ipython-input-19-4687c4bff0ac>:4)], kws=(), vararg=None)  :: (array(float64, 1d, A),) -> int64\n",
      "    #   del $2load_global.0\n",
      "\n",
      "    N = len(a)\n",
      "\n",
      "# --- LINE 5 --- \n",
      "\n",
      "\n",
      "\n",
      "    # --- LINE 6 --- \n",
      "    #   result = const(int, 0)  :: Literal[int](0)\n",
      "\n",
      "    result = 0\n",
      "\n",
      "    # --- LINE 7 --- \n",
      "    #   $14load_global.4 = global(range: <class 'range'>)  :: Function(<class 'range'>)\n",
      "    #   $18call_function.6 = call $14load_global.4(N, func=$14load_global.4, args=[Var(N, <ipython-input-19-4687c4bff0ac>:4)], kws=(), vararg=None)  :: (int64,) -> range_state_int64\n",
      "    #   del N\n",
      "    #   del $14load_global.4\n",
      "    #   $20get_iter.7 = getiter(value=$18call_function.6)  :: range_iter_int64\n",
      "    #   del $18call_function.6\n",
      "    #   $phi22.0 = $20get_iter.7  :: range_iter_int64\n",
      "    #   del $20get_iter.7\n",
      "    #   jump 22\n",
      "    # label 22\n",
      "    #   result.2 = phi(incoming_values=[Var(result, <ipython-input-19-4687c4bff0ac>:6), Var(result.1, <ipython-input-19-4687c4bff0ac>:8)], incoming_blocks=[0, 24])  :: float64\n",
      "    #   del result.1\n",
      "    #   $22for_iter.1 = iternext(value=$phi22.0)  :: pair<int64, bool>\n",
      "    #   $22for_iter.2 = pair_first(value=$22for_iter.1)  :: int64\n",
      "    #   $22for_iter.3 = pair_second(value=$22for_iter.1)  :: bool\n",
      "    #   del $22for_iter.1\n",
      "    #   $phi24.1 = $22for_iter.2  :: int64\n",
      "    #   del $22for_iter.2\n",
      "    #   branch $22for_iter.3, 24, 44\n",
      "    # label 24\n",
      "    #   del $22for_iter.3\n",
      "    #   i = $phi24.1  :: int64\n",
      "    #   del $phi24.1\n",
      "\n",
      "    for i in range(N):\n",
      "\n",
      "        # --- LINE 8 --- \n",
      "        #   $32binary_subscr.5 = getitem(value=a, index=i, fn=<built-in function getitem>)  :: float64\n",
      "        #   del i\n",
      "        #   $const34.6 = const(int, 2)  :: Literal[int](2)\n",
      "        #   $36binary_power.7 = $32binary_subscr.5 ** $const34.6  :: float64\n",
      "        #   del $const34.6\n",
      "        #   del $32binary_subscr.5\n",
      "        #   $38inplace_add.8 = inplace_binop(fn=<built-in function iadd>, immutable_fn=<built-in function add>, lhs=result.2, rhs=$36binary_power.7, static_lhs=Undefined, static_rhs=Undefined)  :: float64\n",
      "        #   del result.2\n",
      "        #   del $36binary_power.7\n",
      "        #   result.1 = $38inplace_add.8  :: float64\n",
      "        #   del $38inplace_add.8\n",
      "        #   jump 22\n",
      "\n",
      "        result += a[i] ** 2\n",
      "\n",
      "# --- LINE 9 --- \n",
      "\n",
      "\n",
      "\n",
      "    # --- LINE 10 --- \n",
      "    # label 44\n",
      "    #   del result\n",
      "    #   del a\n",
      "    #   del $phi24.1\n",
      "    #   del $phi22.0\n",
      "    #   del $22for_iter.3\n",
      "    #   $46return_value.1 = cast(value=result.2)  :: float64\n",
      "    #   del result.2\n",
      "    #   return $46return_value.1\n",
      "\n",
      "    return result\n",
      "\n",
      "\n",
      "================================================================================\n",
      "sum_sq (array(float32, 1d, A),)\n",
      "--------------------------------------------------------------------------------\n",
      "# File: <ipython-input-19-4687c4bff0ac>\n",
      "# --- LINE 1 --- \n",
      "\n",
      "@nb.jit(['float64(float64[:])',\n",
      "\n",
      "         # --- LINE 2 --- \n",
      "\n",
      "         'float32(float32[:])'])\n",
      "\n",
      "# --- LINE 3 --- \n",
      "\n",
      "def sum_sq(a):\n",
      "\n",
      "    # --- LINE 4 --- \n",
      "    # label 0\n",
      "    #   a = arg(0, name=a)  :: array(float32, 1d, A)\n",
      "    #   $2load_global.0 = global(len: <built-in function len>)  :: Function(<built-in function len>)\n",
      "    #   N = call $2load_global.0(a, func=$2load_global.0, args=[Var(a, <ipython-input-19-4687c4bff0ac>:4)], kws=(), vararg=None)  :: (array(float32, 1d, A),) -> int64\n",
      "    #   del $2load_global.0\n",
      "\n",
      "    N = len(a)\n",
      "\n",
      "# --- LINE 5 --- \n",
      "\n",
      "\n",
      "\n",
      "    # --- LINE 6 --- \n",
      "    #   result = const(int, 0)  :: Literal[int](0)\n",
      "\n",
      "    result = 0\n",
      "\n",
      "    # --- LINE 7 --- \n",
      "    #   $14load_global.4 = global(range: <class 'range'>)  :: Function(<class 'range'>)\n",
      "    #   $18call_function.6 = call $14load_global.4(N, func=$14load_global.4, args=[Var(N, <ipython-input-19-4687c4bff0ac>:4)], kws=(), vararg=None)  :: (int64,) -> range_state_int64\n",
      "    #   del N\n",
      "    #   del $14load_global.4\n",
      "    #   $20get_iter.7 = getiter(value=$18call_function.6)  :: range_iter_int64\n",
      "    #   del $18call_function.6\n",
      "    #   $phi22.0 = $20get_iter.7  :: range_iter_int64\n",
      "    #   del $20get_iter.7\n",
      "    #   jump 22\n",
      "    # label 22\n",
      "    #   result.2 = phi(incoming_values=[Var(result, <ipython-input-19-4687c4bff0ac>:6), Var(result.1, <ipython-input-19-4687c4bff0ac>:8)], incoming_blocks=[0, 24])  :: float64\n",
      "    #   del result.1\n",
      "    #   $22for_iter.1 = iternext(value=$phi22.0)  :: pair<int64, bool>\n",
      "    #   $22for_iter.2 = pair_first(value=$22for_iter.1)  :: int64\n",
      "    #   $22for_iter.3 = pair_second(value=$22for_iter.1)  :: bool\n",
      "    #   del $22for_iter.1\n",
      "    #   $phi24.1 = $22for_iter.2  :: int64\n",
      "    #   del $22for_iter.2\n",
      "    #   branch $22for_iter.3, 24, 44\n",
      "    # label 24\n",
      "    #   del $22for_iter.3\n",
      "    #   i = $phi24.1  :: int64\n",
      "    #   del $phi24.1\n",
      "\n",
      "    for i in range(N):\n",
      "\n",
      "        # --- LINE 8 --- \n",
      "        #   $32binary_subscr.5 = getitem(value=a, index=i, fn=<built-in function getitem>)  :: float32\n",
      "        #   del i\n",
      "        #   $const34.6 = const(int, 2)  :: Literal[int](2)\n",
      "        #   $36binary_power.7 = $32binary_subscr.5 ** $const34.6  :: float32\n",
      "        #   del $const34.6\n",
      "        #   del $32binary_subscr.5\n",
      "        #   $38inplace_add.8 = inplace_binop(fn=<built-in function iadd>, immutable_fn=<built-in function add>, lhs=result.2, rhs=$36binary_power.7, static_lhs=Undefined, static_rhs=Undefined)  :: float64\n",
      "        #   del result.2\n",
      "        #   del $36binary_power.7\n",
      "        #   result.1 = $38inplace_add.8  :: float64\n",
      "        #   del $38inplace_add.8\n",
      "        #   jump 22\n",
      "\n",
      "        result += a[i] ** 2\n",
      "\n",
      "# --- LINE 9 --- \n",
      "\n",
      "\n",
      "\n",
      "    # --- LINE 10 --- \n",
      "    # label 44\n",
      "    #   del result\n",
      "    #   del a\n",
      "    #   del $phi24.1\n",
      "    #   del $phi22.0\n",
      "    #   del $22for_iter.3\n",
      "    #   $46return_value.1 = cast(value=result.2)  :: float32\n",
      "    #   del result.2\n",
      "    #   return $46return_value.1\n",
      "\n",
      "    return result\n",
      "\n",
      "\n",
      "================================================================================\n"
     ]
    }
   ],
   "source": [
    "sum_sq.inspect_types()"
   ]
  },
  {
   "cell_type": "code",
   "execution_count": 22,
   "metadata": {
    "tags": []
   },
   "outputs": [],
   "source": [
    "@nb.jit\n",
    "def concatenate(strings):\n",
    "    result = ''\n",
    "    for s in strings:\n",
    "        result += s\n",
    "    return result"
   ]
  },
  {
   "cell_type": "code",
   "execution_count": 23,
   "metadata": {
    "collapsed": false,
    "jupyter": {
     "outputs_hidden": false
    },
    "scrolled": true
   },
   "outputs": [
    {
     "name": "stderr",
     "output_type": "stream",
     "text": [
      "/Users/quannguyen/anaconda3/envs/advanced_python/lib/python3.8/site-packages/numba/core/ir_utils.py:2119: NumbaPendingDeprecationWarning: \n",
      "Encountered the use of a type that is scheduled for deprecation: type 'reflected list' found for argument 'strings' of function 'concatenate'.\n",
      "\n",
      "For more information visit https://numba.pydata.org/numba-doc/latest/reference/deprecation.html#deprecation-of-reflection-for-list-and-set-types\n",
      "\n",
      "File \"<ipython-input-22-52e1d864c8e7>\", line 2:\n",
      "@nb.jit\n",
      "def concatenate(strings):\n",
      "^\n",
      "\n",
      "  warnings.warn(NumbaPendingDeprecationWarning(msg, loc=loc))\n"
     ]
    },
    {
     "name": "stdout",
     "output_type": "stream",
     "text": [
      "concatenate (reflected list(unicode_type)<iv=None>,)\n",
      "--------------------------------------------------------------------------------\n",
      "# File: <ipython-input-22-52e1d864c8e7>\n",
      "# --- LINE 1 --- \n",
      "\n",
      "@nb.jit\n",
      "\n",
      "# --- LINE 2 --- \n",
      "\n",
      "def concatenate(strings):\n",
      "\n",
      "    # --- LINE 3 --- \n",
      "    # label 0\n",
      "    #   strings = arg(0, name=strings)  :: reflected list(unicode_type)<iv=None>\n",
      "    #   result = const(str, )  :: Literal[str]()\n",
      "\n",
      "    result = ''\n",
      "\n",
      "    # --- LINE 4 --- \n",
      "    #   $8get_iter.2 = getiter(value=strings)  :: iter(reflected list(unicode_type)<iv=None>)\n",
      "    #   del strings\n",
      "    #   $phi10.0 = $8get_iter.2  :: iter(reflected list(unicode_type)<iv=None>)\n",
      "    #   del $8get_iter.2\n",
      "    #   jump 10\n",
      "    # label 10\n",
      "    #   result.2 = phi(incoming_values=[Var(result, <ipython-input-22-52e1d864c8e7>:3), Var(result.1, <ipython-input-22-52e1d864c8e7>:5)], incoming_blocks=[0, 12])  :: unicode_type\n",
      "    #   del result.1\n",
      "    #   $10for_iter.1 = iternext(value=$phi10.0)  :: pair<unicode_type, bool>\n",
      "    #   $10for_iter.2 = pair_first(value=$10for_iter.1)  :: unicode_type\n",
      "    #   $10for_iter.3 = pair_second(value=$10for_iter.1)  :: bool\n",
      "    #   del $10for_iter.1\n",
      "    #   $phi12.1 = $10for_iter.2  :: unicode_type\n",
      "    #   del $10for_iter.2\n",
      "    #   branch $10for_iter.3, 12, 24\n",
      "    # label 12\n",
      "    #   del $10for_iter.3\n",
      "    #   s = $phi12.1  :: unicode_type\n",
      "    #   del $phi12.1\n",
      "\n",
      "    for s in strings:\n",
      "\n",
      "        # --- LINE 5 --- \n",
      "        #   $18inplace_add.4 = inplace_binop(fn=<built-in function iadd>, immutable_fn=<built-in function add>, lhs=result.2, rhs=s, static_lhs=Undefined, static_rhs=Undefined)  :: unicode_type\n",
      "        #   del s\n",
      "        #   del result.2\n",
      "        #   result.1 = $18inplace_add.4  :: unicode_type\n",
      "        #   del $18inplace_add.4\n",
      "        #   jump 10\n",
      "\n",
      "        result += s\n",
      "\n",
      "    # --- LINE 6 --- \n",
      "    # label 24\n",
      "    #   del result\n",
      "    #   del $phi12.1\n",
      "    #   del $phi10.0\n",
      "    #   del $10for_iter.3\n",
      "    #   $26return_value.1 = cast(value=result.2)  :: unicode_type\n",
      "    #   del result.2\n",
      "    #   return $26return_value.1\n",
      "\n",
      "    return result\n",
      "\n",
      "\n",
      "================================================================================\n"
     ]
    }
   ],
   "source": [
    "concatenate(['hello', 'world'])\n",
    "concatenate.signatures\n",
    "concatenate.inspect_types()"
   ]
  },
  {
   "cell_type": "code",
   "execution_count": 24,
   "metadata": {
    "collapsed": false,
    "jupyter": {
     "outputs_hidden": false
    }
   },
   "outputs": [
    {
     "name": "stdout",
     "output_type": "stream",
     "text": [
      "81.9 µs ± 1.25 µs per loop (mean ± std. dev. of 7 runs, 10000 loops each)\n"
     ]
    }
   ],
   "source": [
    "x = ['hello'] * 1000\n",
    "%timeit concatenate.py_func(x)"
   ]
  },
  {
   "cell_type": "code",
   "execution_count": 25,
   "metadata": {
    "collapsed": false,
    "jupyter": {
     "outputs_hidden": false
    }
   },
   "outputs": [
    {
     "name": "stdout",
     "output_type": "stream",
     "text": [
      "1.27 ms ± 23.3 µs per loop (mean ± std. dev. of 7 runs, 1000 loops each)\n"
     ]
    }
   ],
   "source": [
    "%timeit concatenate(x)"
   ]
  },
  {
   "cell_type": "markdown",
   "metadata": {},
   "source": [
    "# Ufuncs and Gufuncs"
   ]
  },
  {
   "cell_type": "code",
   "execution_count": 21,
   "metadata": {
    "tags": []
   },
   "outputs": [],
   "source": [
    "# Numpy vectorization\n",
    "@np.vectorize\n",
    "def cantor_py(a, b):\n",
    "    return  int(0.5 * (a + b)*(a + b + 1) + b)"
   ]
  },
  {
   "cell_type": "code",
   "execution_count": 22,
   "metadata": {
    "collapsed": false,
    "jupyter": {
     "outputs_hidden": false
    }
   },
   "outputs": [
    {
     "data": {
      "text/plain": [
       "array([ 8, 12])"
      ]
     },
     "execution_count": 22,
     "metadata": {},
     "output_type": "execute_result"
    }
   ],
   "source": [
    "cantor_py(np.array([1, 2]), 2)"
   ]
  },
  {
   "cell_type": "code",
   "execution_count": 23,
   "metadata": {
    "tags": []
   },
   "outputs": [],
   "source": [
    "# Numba vectorization\n",
    "@nb.vectorize\n",
    "def cantor(a, b):\n",
    "    return  int(0.5 * (a + b)*(a + b + 1) + b)"
   ]
  },
  {
   "cell_type": "code",
   "execution_count": 24,
   "metadata": {
    "collapsed": false,
    "jupyter": {
     "outputs_hidden": false
    }
   },
   "outputs": [
    {
     "data": {
      "text/plain": [
       "array([ 8, 12])"
      ]
     },
     "execution_count": 24,
     "metadata": {},
     "output_type": "execute_result"
    }
   ],
   "source": [
    "cantor(np.array([1, 2]), 2)"
   ]
  },
  {
   "cell_type": "code",
   "execution_count": 25,
   "metadata": {
    "tags": []
   },
   "outputs": [],
   "source": [
    "x1 = np.random.rand(10000)\n",
    "x2 = np.random.rand(10000)"
   ]
  },
  {
   "cell_type": "code",
   "execution_count": 26,
   "metadata": {
    "collapsed": false,
    "jupyter": {
     "outputs_hidden": false
    }
   },
   "outputs": [
    {
     "name": "stdout",
     "output_type": "stream",
     "text": [
      "2.4 ms ± 23.7 µs per loop (mean ± std. dev. of 7 runs, 100 loops each)\n"
     ]
    }
   ],
   "source": [
    "%timeit cantor_py(x1, x2)"
   ]
  },
  {
   "cell_type": "code",
   "execution_count": 27,
   "metadata": {
    "collapsed": false,
    "jupyter": {
     "outputs_hidden": false
    }
   },
   "outputs": [
    {
     "name": "stdout",
     "output_type": "stream",
     "text": [
      "9.1 µs ± 204 ns per loop (mean ± std. dev. of 7 runs, 100000 loops each)\n"
     ]
    }
   ],
   "source": [
    "%timeit cantor(x1, x2)"
   ]
  },
  {
   "cell_type": "code",
   "execution_count": 28,
   "metadata": {
    "collapsed": false,
    "jupyter": {
     "outputs_hidden": false
    }
   },
   "outputs": [
    {
     "name": "stdout",
     "output_type": "stream",
     "text": [
      "33.2 µs ± 1.12 µs per loop (mean ± std. dev. of 7 runs, 10000 loops each)\n"
     ]
    }
   ],
   "source": [
    "%timeit (0.5 * (x1 + x2)*(x1 + x2 + 1) + x2).astype(int)"
   ]
  },
  {
   "cell_type": "markdown",
   "metadata": {},
   "source": [
    "# Matrix multiplication"
   ]
  },
  {
   "cell_type": "code",
   "execution_count": 29,
   "metadata": {
    "collapsed": false,
    "jupyter": {
     "outputs_hidden": false
    }
   },
   "outputs": [
    {
     "data": {
      "text/plain": [
       "(3, 3)"
      ]
     },
     "execution_count": 29,
     "metadata": {},
     "output_type": "execute_result"
    }
   ],
   "source": [
    "a = np.random.rand(3, 3)\n",
    "b = np.random.rand(3, 3)\n",
    "\n",
    "c = np.matmul(a, b)\n",
    "c.shape"
   ]
  },
  {
   "cell_type": "code",
   "execution_count": 30,
   "metadata": {
    "collapsed": false,
    "jupyter": {
     "outputs_hidden": false
    }
   },
   "outputs": [
    {
     "data": {
      "text/plain": [
       "True"
      ]
     },
     "execution_count": 30,
     "metadata": {},
     "output_type": "execute_result"
    }
   ],
   "source": [
    "a = np.random.rand(10, 3, 3)\n",
    "b = np.random.rand(10, 3, 3)\n",
    "\n",
    "c = np.matmul(a, b)\n",
    "c.shape\n",
    "\n",
    "np.allclose(np.matmul(a[0], b[0]), c[0])"
   ]
  },
  {
   "cell_type": "code",
   "execution_count": 31,
   "metadata": {
    "collapsed": false,
    "jupyter": {
     "outputs_hidden": false
    }
   },
   "outputs": [
    {
     "data": {
      "text/plain": [
       "(10, 3, 3)"
      ]
     },
     "execution_count": 31,
     "metadata": {},
     "output_type": "execute_result"
    }
   ],
   "source": [
    "a = np.random.rand(10, 3, 3)\n",
    "b = np.random.rand(3, 3)\n",
    "c = np.matmul(a, b)\n",
    "c.shape"
   ]
  },
  {
   "cell_type": "code",
   "execution_count": 32,
   "metadata": {
    "collapsed": false,
    "jupyter": {
     "outputs_hidden": false
    }
   },
   "outputs": [],
   "source": [
    "@nb.guvectorize(['float64[:], float64[:], float64[:]'], '(n), (n) -> ()')\n",
    "def euclidean(a, b, out):\n",
    "    N = a.shape[0]\n",
    "    out[0] = 0\n",
    "    for i in range(N):\n",
    "        out[0] += (a[i] - b[i])**2    "
   ]
  },
  {
   "cell_type": "code",
   "execution_count": 33,
   "metadata": {
    "collapsed": false,
    "jupyter": {
     "outputs_hidden": false
    }
   },
   "outputs": [],
   "source": [
    "a = np.random.rand(2)\n",
    "b = np.random.rand(2)\n",
    "c = euclidean(a, b)\n",
    "\n",
    "a = np.random.rand(10, 2)\n",
    "b = np.random.rand(10, 2)\n",
    "c = euclidean(a, b)\n",
    "\n",
    "a = np.random.rand(10, 2)\n",
    "b = np.random.rand(2)\n",
    "c = euclidean(a, b)"
   ]
  },
  {
   "cell_type": "code",
   "execution_count": 34,
   "metadata": {
    "tags": []
   },
   "outputs": [],
   "source": [
    "a = np.random.rand(10000, 2)\n",
    "b = np.random.rand(10000, 2)"
   ]
  },
  {
   "cell_type": "code",
   "execution_count": 35,
   "metadata": {
    "collapsed": false,
    "jupyter": {
     "outputs_hidden": false
    }
   },
   "outputs": [
    {
     "name": "stdout",
     "output_type": "stream",
     "text": [
      "153 µs ± 13.2 µs per loop (mean ± std. dev. of 7 runs, 10000 loops each)\n"
     ]
    }
   ],
   "source": [
    "%timeit ((a - b)**2).sum(axis=1)"
   ]
  },
  {
   "cell_type": "code",
   "execution_count": 36,
   "metadata": {
    "collapsed": false,
    "jupyter": {
     "outputs_hidden": false
    }
   },
   "outputs": [
    {
     "name": "stdout",
     "output_type": "stream",
     "text": [
      "47.1 µs ± 3.19 µs per loop (mean ± std. dev. of 7 runs, 10000 loops each)\n"
     ]
    }
   ],
   "source": [
    "%timeit euclidean(a, b)"
   ]
  },
  {
   "cell_type": "code",
   "execution_count": 37,
   "metadata": {
    "collapsed": false,
    "jupyter": {
     "outputs_hidden": false
    }
   },
   "outputs": [
    {
     "data": {
      "text/plain": [
       "True"
      ]
     },
     "execution_count": 37,
     "metadata": {},
     "output_type": "execute_result"
    }
   ],
   "source": [
    "np.allclose(((a - b)**2).sum(axis=1), euclidean(a, b))"
   ]
  },
  {
   "cell_type": "markdown",
   "metadata": {},
   "source": [
    "# JIT classes"
   ]
  },
  {
   "cell_type": "code",
   "execution_count": 38,
   "metadata": {
    "collapsed": false,
    "jupyter": {
     "outputs_hidden": false
    }
   },
   "outputs": [
    {
     "name": "stdout",
     "output_type": "stream",
     "text": [
      "3\n",
      "2\n",
      "1\n"
     ]
    },
    {
     "name": "stderr",
     "output_type": "stream",
     "text": [
      "<ipython-input-38-caf8ec740e10>:25: NumbaWarning: \n",
      "Compilation is falling back to object mode WITH looplifting enabled because Function \"sum_list\" failed type inference due to: non-precise type pyobject\n",
      "During: typing of argument at <ipython-input-38-caf8ec740e10> (27)\n",
      "\n",
      "File \"<ipython-input-38-caf8ec740e10>\", line 27:\n",
      "def sum_list(lst):\n",
      "    result = 0\n",
      "    ^\n",
      "\n",
      "  @nb.jit\n",
      "/Users/quannguyen/anaconda3/envs/advanced_python/lib/python3.8/site-packages/numba/core/object_mode_passes.py:151: NumbaWarning: Function \"sum_list\" was compiled in object mode without forceobj=True.\n",
      "\n",
      "File \"<ipython-input-38-caf8ec740e10>\", line 26:\n",
      "@nb.jit   \n",
      "def sum_list(lst):\n",
      "^\n",
      "\n",
      "  warnings.warn(errors.NumbaWarning(warn_msg,\n",
      "/Users/quannguyen/anaconda3/envs/advanced_python/lib/python3.8/site-packages/numba/core/object_mode_passes.py:161: NumbaDeprecationWarning: \n",
      "Fall-back from the nopython compilation path to the object mode compilation path has been detected, this is deprecated behaviour.\n",
      "\n",
      "For more information visit https://numba.pydata.org/numba-doc/latest/reference/deprecation.html#deprecation-of-object-mode-fall-back-behaviour-when-using-jit\n",
      "\n",
      "File \"<ipython-input-38-caf8ec740e10>\", line 26:\n",
      "@nb.jit   \n",
      "def sum_list(lst):\n",
      "^\n",
      "\n",
      "  warnings.warn(errors.NumbaDeprecationWarning(msg,\n"
     ]
    },
    {
     "data": {
      "text/plain": [
       "6"
      ]
     },
     "execution_count": 38,
     "metadata": {},
     "output_type": "execute_result"
    }
   ],
   "source": [
    "class Node:\n",
    "    def __init__(self, value):\n",
    "        self.next = None\n",
    "        self.value = value\n",
    "\n",
    "\n",
    "class LinkedList:\n",
    "    def __init__(self):\n",
    "        self.head = None\n",
    "    \n",
    "    def push_front(self, value):\n",
    "        if self.head == None:\n",
    "            self.head = Node(value)\n",
    "        else:\n",
    "            # We replace the head\n",
    "            new_head = Node(value)\n",
    "            new_head.next = self.head\n",
    "            self.head = new_head\n",
    "    \n",
    "    def show(self):\n",
    "        node = self.head\n",
    "        while node is not None:\n",
    "            print(node.value)\n",
    "            node = node.next\n",
    "@nb.jit   \n",
    "def sum_list(lst):\n",
    "    result = 0\n",
    "    node = lst.head\n",
    "    while node is not None:\n",
    "        result += node.value\n",
    "        node = node.next\n",
    "    return result\n",
    "        \n",
    "lst = LinkedList()\n",
    "lst.push_front(1)\n",
    "lst.push_front(2)\n",
    "lst.push_front(3)\n",
    "lst.show()\n",
    "\n",
    "sum_list(lst)"
   ]
  },
  {
   "cell_type": "code",
   "execution_count": 39,
   "metadata": {
    "collapsed": false,
    "jupyter": {
     "outputs_hidden": false
    }
   },
   "outputs": [
    {
     "name": "stdout",
     "output_type": "stream",
     "text": [
      "1.73 ms ± 159 µs per loop (mean ± std. dev. of 7 runs, 1000 loops each)\n",
      "1.01 ms ± 175 µs per loop (mean ± std. dev. of 7 runs, 1000 loops each)\n"
     ]
    }
   ],
   "source": [
    "lst = LinkedList()\n",
    "[lst.push_front(i) for i in range(10000)]\n",
    "\n",
    "%timeit sum_list(lst)\n",
    "%timeit sum_list.py_func(lst)"
   ]
  },
  {
   "cell_type": "code",
   "execution_count": 41,
   "metadata": {},
   "outputs": [],
   "source": [
    "from numba.experimental import jitclass"
   ]
  },
  {
   "cell_type": "code",
   "execution_count": 42,
   "metadata": {
    "collapsed": false,
    "jupyter": {
     "outputs_hidden": false
    }
   },
   "outputs": [
    {
     "name": "stdout",
     "output_type": "stream",
     "text": [
      "3\n",
      "2\n",
      "1\n"
     ]
    }
   ],
   "source": [
    "node_type = nb.deferred_type()\n",
    "\n",
    "node_spec = [\n",
    "    ('next', nb.optional(node_type)),\n",
    "    ('value', nb.int64)\n",
    "]\n",
    "\n",
    "@jitclass(node_spec)\n",
    "class Node:\n",
    "    def __init__(self, value):\n",
    "        self.next = None\n",
    "        self.value = value\n",
    "\n",
    "node_type.define(Node.class_type.instance_type)\n",
    "\n",
    "\n",
    "ll_spec = [\n",
    "    ('head', nb.optional(Node.class_type.instance_type))\n",
    "]\n",
    "\n",
    "@jitclass(ll_spec)\n",
    "class LinkedList:\n",
    "    def __init__(self):\n",
    "        self.head = None\n",
    "    \n",
    "    def push_front(self, value):\n",
    "        if self.head is None:\n",
    "            self.head = Node(value)\n",
    "        else:\n",
    "            # We replace the head\n",
    "            new_head = Node(value)\n",
    "            new_head.next = self.head\n",
    "            self.head = new_head\n",
    "    \n",
    "    def show(self):\n",
    "        node = self.head\n",
    "        while node is not None:\n",
    "            print(node.value)\n",
    "            node = node.next\n",
    "\n",
    "\n",
    "lst = LinkedList()\n",
    "lst.push_front(1)\n",
    "lst.push_front(2)\n",
    "lst.push_front(3)\n",
    "lst.show()"
   ]
  },
  {
   "cell_type": "code",
   "execution_count": 43,
   "metadata": {
    "collapsed": false,
    "jupyter": {
     "outputs_hidden": false
    },
    "tags": []
   },
   "outputs": [
    {
     "name": "stdout",
     "output_type": "stream",
     "text": [
      "106 µs ± 2.64 µs per loop (mean ± std. dev. of 7 runs, 10000 loops each)\n",
      "2.42 ms ± 51.8 µs per loop (mean ± std. dev. of 7 runs, 100 loops each)\n"
     ]
    }
   ],
   "source": [
    "lst = LinkedList()\n",
    "[lst.push_front(i) for i in range(10000)]\n",
    "\n",
    "%timeit sum_list(lst)\n",
    "%timeit sum_list.py_func(lst)"
   ]
  },
  {
   "cell_type": "markdown",
   "metadata": {},
   "source": [
    "# Tips and Tricks"
   ]
  },
  {
   "cell_type": "code",
   "execution_count": 44,
   "metadata": {
    "collapsed": false,
    "jupyter": {
     "outputs_hidden": false
    }
   },
   "outputs": [
    {
     "name": "stderr",
     "output_type": "stream",
     "text": [
      "<ipython-input-44-804026218b99>:5: NumbaWarning: \n",
      "Compilation is falling back to object mode WITH looplifting enabled because Function \"sum_sublists\" failed type inference due to: Untyped global name 'sum': Cannot determine Numba type of <class 'builtin_function_or_method'>\n",
      "\n",
      "File \"<ipython-input-44-804026218b99>\", line 10:\n",
      "def sum_sublists(a):\n",
      "    <source elided>\n",
      "    for sublist in a:\n",
      "        result.append(sum(sublist))\n",
      "        ^\n",
      "\n",
      "  @nb.jit\n",
      "<ipython-input-44-804026218b99>:5: NumbaWarning: \n",
      "Compilation is falling back to object mode WITHOUT looplifting enabled because Function \"sum_sublists\" failed type inference due to: Cannot determine Numba type of <class 'numba.core.dispatcher.LiftedLoop'>\n",
      "\n",
      "File \"<ipython-input-44-804026218b99>\", line 9:\n",
      "def sum_sublists(a):\n",
      "    <source elided>\n",
      "\n",
      "    for sublist in a:\n",
      "    ^\n",
      "\n",
      "  @nb.jit\n",
      "/Users/quannguyen/anaconda3/envs/advanced_python/lib/python3.8/site-packages/numba/core/object_mode_passes.py:151: NumbaWarning: Function \"sum_sublists\" was compiled in object mode without forceobj=True, but has lifted loops.\n",
      "\n",
      "File \"<ipython-input-44-804026218b99>\", line 7:\n",
      "def sum_sublists(a):\n",
      "    result = [0]\n",
      "    ^\n",
      "\n",
      "  warnings.warn(errors.NumbaWarning(warn_msg,\n",
      "/Users/quannguyen/anaconda3/envs/advanced_python/lib/python3.8/site-packages/numba/core/object_mode_passes.py:161: NumbaDeprecationWarning: \n",
      "Fall-back from the nopython compilation path to the object mode compilation path has been detected, this is deprecated behaviour.\n",
      "\n",
      "For more information visit https://numba.pydata.org/numba-doc/latest/reference/deprecation.html#deprecation-of-object-mode-fall-back-behaviour-when-using-jit\n",
      "\n",
      "File \"<ipython-input-44-804026218b99>\", line 7:\n",
      "def sum_sublists(a):\n",
      "    result = [0]\n",
      "    ^\n",
      "\n",
      "  warnings.warn(errors.NumbaDeprecationWarning(msg,\n",
      "<ipython-input-44-804026218b99>:5: NumbaWarning: \n",
      "Compilation is falling back to object mode WITHOUT looplifting enabled because Function \"sum_sublists\" failed type inference due to: Untyped global name 'sum': Cannot determine Numba type of <class 'builtin_function_or_method'>\n",
      "\n",
      "File \"<ipython-input-44-804026218b99>\", line 10:\n",
      "def sum_sublists(a):\n",
      "    <source elided>\n",
      "    for sublist in a:\n",
      "        result.append(sum(sublist))\n",
      "        ^\n",
      "\n",
      "  @nb.jit\n",
      "/Users/quannguyen/anaconda3/envs/advanced_python/lib/python3.8/site-packages/numba/core/object_mode_passes.py:151: NumbaWarning: Function \"sum_sublists\" was compiled in object mode without forceobj=True.\n",
      "\n",
      "File \"<ipython-input-44-804026218b99>\", line 9:\n",
      "def sum_sublists(a):\n",
      "    <source elided>\n",
      "\n",
      "    for sublist in a:\n",
      "    ^\n",
      "\n",
      "  warnings.warn(errors.NumbaWarning(warn_msg,\n",
      "/Users/quannguyen/anaconda3/envs/advanced_python/lib/python3.8/site-packages/numba/core/object_mode_passes.py:161: NumbaDeprecationWarning: \n",
      "Fall-back from the nopython compilation path to the object mode compilation path has been detected, this is deprecated behaviour.\n",
      "\n",
      "For more information visit https://numba.pydata.org/numba-doc/latest/reference/deprecation.html#deprecation-of-object-mode-fall-back-behaviour-when-using-jit\n",
      "\n",
      "File \"<ipython-input-44-804026218b99>\", line 9:\n",
      "def sum_sublists(a):\n",
      "    <source elided>\n",
      "\n",
      "    for sublist in a:\n",
      "    ^\n",
      "\n",
      "  warnings.warn(errors.NumbaDeprecationWarning(msg,\n"
     ]
    },
    {
     "data": {
      "text/plain": [
       "[3, 7, 26]"
      ]
     },
     "execution_count": 44,
     "metadata": {},
     "output_type": "execute_result"
    }
   ],
   "source": [
    "a = [[0, 1, 2], \n",
    "      [3, 4], \n",
    "      [5, 6, 7, 8]]\n",
    "\n",
    "@nb.jit\n",
    "def sum_sublists(a):\n",
    "    result = [0]\n",
    "\n",
    "    for sublist in a:\n",
    "        result.append(sum(sublist))\n",
    "    \n",
    "    return result[1:]\n",
    "\n",
    "sum_sublists(a)"
   ]
  },
  {
   "cell_type": "code",
   "execution_count": null,
   "metadata": {},
   "outputs": [],
   "source": []
  }
 ],
 "metadata": {
  "kernelspec": {
   "display_name": "Python 3",
   "language": "python",
   "name": "python3"
  },
  "language_info": {
   "codemirror_mode": {
    "name": "ipython",
    "version": 3
   },
   "file_extension": ".py",
   "mimetype": "text/x-python",
   "name": "python",
   "nbconvert_exporter": "python",
   "pygments_lexer": "ipython3",
   "version": "3.8.8"
  }
 },
 "nbformat": 4,
 "nbformat_minor": 4
}
