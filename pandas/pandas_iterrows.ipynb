{
  "nbformat": 4,
  "nbformat_minor": 0,
  "metadata": {
    "colab": {
      "provenance": []
    },
    "kernelspec": {
      "name": "python3",
      "display_name": "Python 3"
    },
    "language_info": {
      "name": "python"
    }
  },
  "cells": [
    {
      "cell_type": "code",
      "execution_count": null,
      "metadata": {
        "colab": {
          "base_uri": "https://localhost:8080/"
        },
        "id": "WnEz1MpDjPk9",
        "outputId": "9d1c72bd-0a02-4104-982b-407a34de595e"
      },
      "outputs": [
        {
          "output_type": "stream",
          "name": "stdout",
          "text": [
            "   Courses    Fee Duration\n",
            "0    Spark  20000    30day\n",
            "1  PySpark  25000   40days\n",
            "2   Hadoop  26000   35days\n",
            "3   Python  22000   40days\n",
            "4   pandas  24000   60days\n",
            "5   Oracle  21000   50days\n",
            "6     Java  22000   55days\n"
          ]
        }
      ],
      "source": [
        "import pandas as pd\n",
        "import pandas as pd\n",
        "technologies = ({\n",
        "    'Courses':[\"Spark\",\"PySpark\",\"Hadoop\",\"Python\",\"pandas\",\"Oracle\",\"Java\"],\n",
        "    'Fee' :[20000,25000,26000,22000,24000,21000,22000],\n",
        "    'Duration':['30day', '40days' ,'35days', '40days', '60days', '50days', '55days']\n",
        "              })\n",
        "df = pd.DataFrame(technologies)\n",
        "print(df)"
      ]
    },
    {
      "cell_type": "code",
      "source": [
        "# Iterate all rows using DataFrame.iterrows()\n",
        "for index, row in df.iterrows():\n",
        "    print (index,row[\"Fee\"], row[\"Courses\"])"
      ],
      "metadata": {
        "colab": {
          "base_uri": "https://localhost:8080/"
        },
        "id": "bjrWz-AljXSl",
        "outputId": "c88c5bc5-ee04-40ef-8c96-7ff29a1f1952"
      },
      "execution_count": null,
      "outputs": [
        {
          "output_type": "stream",
          "name": "stdout",
          "text": [
            "0 20000 Spark\n",
            "1 25000 PySpark\n",
            "2 26000 Hadoop\n",
            "3 22000 Python\n",
            "4 24000 pandas\n",
            "5 21000 Oracle\n",
            "6 22000 Java\n"
          ]
        }
      ]
    },
    {
      "cell_type": "markdown",
      "source": [
        "# Using DataFrame.itertuples() to Iterate Over Rows"
      ],
      "metadata": {
        "id": "C9TrLt_4jp4z"
      }
    },
    {
      "cell_type": "code",
      "source": [
        "# Iterate all rows using DataFrame.itertuples()\n",
        "for row in df.itertuples(index = True):\n",
        "    print (getattr(row,'Index'),getattr(row, \"Fee\"), getattr(row, \"Courses\"))"
      ],
      "metadata": {
        "colab": {
          "base_uri": "https://localhost:8080/"
        },
        "id": "hpGsbnFpjqcz",
        "outputId": "d1eac01e-9d87-4729-8deb-3afd522c01c6"
      },
      "execution_count": null,
      "outputs": [
        {
          "output_type": "stream",
          "name": "stdout",
          "text": [
            "0 20000 Spark\n",
            "1 25000 PySpark\n",
            "2 26000 Hadoop\n",
            "3 22000 Python\n",
            "4 24000 pandas\n",
            "5 21000 Oracle\n",
            "6 22000 Java\n"
          ]
        }
      ]
    },
    {
      "cell_type": "code",
      "source": [
        "# Display one row from iterator\n",
        "row = next(df.itertuples(index = True,name='Tution'))\n",
        "print(row)"
      ],
      "metadata": {
        "colab": {
          "base_uri": "https://localhost:8080/"
        },
        "id": "GP-NVYDxjyEE",
        "outputId": "44171150-7ce7-4d6c-a356-044c2c176819"
      },
      "execution_count": null,
      "outputs": [
        {
          "output_type": "stream",
          "name": "stdout",
          "text": [
            "Tution(Index=0, Courses='Spark', Fee=20000, Duration='30day')\n"
          ]
        }
      ]
    },
    {
      "cell_type": "code",
      "source": [
        "# Another alternate approach by using DataFrame.apply\n",
        "print(df.apply(lambda row: str(row[\"Fee\"]) + \" \" + str(row[\"Courses\"]), axis = 1))"
      ],
      "metadata": {
        "colab": {
          "base_uri": "https://localhost:8080/"
        },
        "id": "eUny32pLj4Md",
        "outputId": "3291ba06-1368-4777-ea83-a939eb793355"
      },
      "execution_count": null,
      "outputs": [
        {
          "output_type": "stream",
          "name": "stdout",
          "text": [
            "0      20000 Spark\n",
            "1    25000 PySpark\n",
            "2     26000 Hadoop\n",
            "3     22000 Python\n",
            "4     24000 pandas\n",
            "5     21000 Oracle\n",
            "6       22000 Java\n",
            "dtype: object\n"
          ]
        }
      ]
    },
    {
      "cell_type": "code",
      "source": [
        "# Using DataFrame.index\n",
        "for idx in df.index:\n",
        "     print(df['Fee'][idx], df['Courses'][idx])\n"
      ],
      "metadata": {
        "colab": {
          "base_uri": "https://localhost:8080/"
        },
        "id": "yMCmmeE9kKVq",
        "outputId": "317ce111-ab7d-4f9f-9876-e515d4c351f4"
      },
      "execution_count": null,
      "outputs": [
        {
          "output_type": "stream",
          "name": "stdout",
          "text": [
            "20000 Spark\n",
            "25000 PySpark\n",
            "26000 Hadoop\n",
            "22000 Python\n",
            "24000 pandas\n",
            "21000 Oracle\n",
            "22000 Java\n"
          ]
        }
      ]
    },
    {
      "cell_type": "code",
      "source": [],
      "metadata": {
        "id": "C4NLTH4gpd-o"
      },
      "execution_count": null,
      "outputs": []
    },
    {
      "cell_type": "markdown",
      "source": [
        "#MORE EXAMPLES ON USING PANDAS DATAFRAME"
      ],
      "metadata": {
        "id": "71UodTSkqIVR"
      }
    },
    {
      "cell_type": "code",
      "source": [
        "ohlc_data = [\n",
        "    [\"2020/4/6\", 108.432, 119.393, 98.403, 109.252],\n",
        "    [\"2020/4/7\", 109.252, 119.294, 98.680, 108.799],\n",
        "    [\"2020/4/8\", 108.799, 119.109, 98.514, 108.854],\n",
        "]\n",
        "\n",
        "df = pd.DataFrame(ohlc_data, columns=[\"datetime\", \"open\", \"high\", \"low\", \"close\"])\n",
        "df.set_index(\"datetime\", inplace=True)\n",
        "print(df)"
      ],
      "metadata": {
        "colab": {
          "base_uri": "https://localhost:8080/"
        },
        "id": "3mfcKxo6peFV",
        "outputId": "820bfb92-4d01-48ae-ad25-2b625d1c997e"
      },
      "execution_count": 13,
      "outputs": [
        {
          "output_type": "stream",
          "name": "stdout",
          "text": [
            "             open     high     low    close\n",
            "datetime                                   \n",
            "2020/4/6  108.432  119.393  98.403  109.252\n",
            "2020/4/7  109.252  119.294  98.680  108.799\n",
            "2020/4/8  108.799  119.109  98.514  108.854\n"
          ]
        }
      ]
    },
    {
      "cell_type": "code",
      "source": [
        "counter = 0\n",
        "for index, sr_row in df.iterrows():\n",
        "    print(\"\\n*** Loop:[{}] ********************\".format(counter))\n",
        "    print(\"--- index -----\")\n",
        "    print(index)\n",
        "    print(\"--- content -----\")\n",
        "    print(sr_row)\n",
        "    print(\"--- 型を確認 -----\")\n",
        "    print(type(sr_row))\n",
        "    counter += 1"
      ],
      "metadata": {
        "colab": {
          "base_uri": "https://localhost:8080/"
        },
        "id": "Z2BO9KJOqTg2",
        "outputId": "1f753975-0e60-4968-a819-304b8e233a9f"
      },
      "execution_count": 14,
      "outputs": [
        {
          "output_type": "stream",
          "name": "stdout",
          "text": [
            "\n",
            "*** Loop:[0] ********************\n",
            "--- index -----\n",
            "2020/4/6\n",
            "--- content -----\n",
            "open     108.432\n",
            "high     119.393\n",
            "low       98.403\n",
            "close    109.252\n",
            "Name: 2020/4/6, dtype: float64\n",
            "--- 型を確認 -----\n",
            "<class 'pandas.core.series.Series'>\n",
            "\n",
            "*** Loop:[1] ********************\n",
            "--- index -----\n",
            "2020/4/7\n",
            "--- content -----\n",
            "open     109.252\n",
            "high     119.294\n",
            "low       98.680\n",
            "close    108.799\n",
            "Name: 2020/4/7, dtype: float64\n",
            "--- 型を確認 -----\n",
            "<class 'pandas.core.series.Series'>\n",
            "\n",
            "*** Loop:[2] ********************\n",
            "--- index -----\n",
            "2020/4/8\n",
            "--- content -----\n",
            "open     108.799\n",
            "high     119.109\n",
            "low       98.514\n",
            "close    108.854\n",
            "Name: 2020/4/8, dtype: float64\n",
            "--- 型を確認 -----\n",
            "<class 'pandas.core.series.Series'>\n"
          ]
        }
      ]
    },
    {
      "cell_type": "markdown",
      "source": [
        "## itertuples()"
      ],
      "metadata": {
        "id": "h4hLS8W5qbmS"
      }
    },
    {
      "cell_type": "code",
      "source": [
        "counter = 0\n",
        "for n_tuple in df.itertuples():\n",
        "    print(\"\\n*** Loop:[{}] ********************\".format(counter))\n",
        "    print(\"--- 型を確認 -----\")\n",
        "    print(type(n_tuple))\n",
        "    print(\"--- 名前で取得 -----\")\n",
        "    print(\"index: {}\".format(n_tuple.Index))\n",
        "    print(\"open : {}\".format(n_tuple.open))\n",
        "    print(\"high : {}\".format(n_tuple.high))\n",
        "    print(\"low  : {}\".format(n_tuple.low))\n",
        "    print(\"close: {}\".format(n_tuple.close))\n",
        "    print(\"--- インデックスで取得 -----\")\n",
        "    print(\"index: {}\".format(n_tuple[0]))\n",
        "    print(\"open : {}\".format(n_tuple[1]))\n",
        "    print(\"high : {}\".format(n_tuple[2]))\n",
        "    print(\"low  : {}\".format(n_tuple[3]))\n",
        "    print(\"close: {}\".format(n_tuple[4]))\n",
        "    counter += 1"
      ],
      "metadata": {
        "colab": {
          "base_uri": "https://localhost:8080/"
        },
        "id": "zlGL5vD5qa3a",
        "outputId": "0f33a7b3-dbd9-4dbf-f243-34f37478eda7"
      },
      "execution_count": 15,
      "outputs": [
        {
          "output_type": "stream",
          "name": "stdout",
          "text": [
            "\n",
            "*** Loop:[0] ********************\n",
            "--- 型を確認 -----\n",
            "<class 'pandas.core.frame.Pandas'>\n",
            "--- 名前で取得 -----\n",
            "index: 2020/4/6\n",
            "open : 108.432\n",
            "high : 119.393\n",
            "low  : 98.403\n",
            "close: 109.252\n",
            "--- インデックスで取得 -----\n",
            "index: 2020/4/6\n",
            "open : 108.432\n",
            "high : 119.393\n",
            "low  : 98.403\n",
            "close: 109.252\n",
            "\n",
            "*** Loop:[1] ********************\n",
            "--- 型を確認 -----\n",
            "<class 'pandas.core.frame.Pandas'>\n",
            "--- 名前で取得 -----\n",
            "index: 2020/4/7\n",
            "open : 109.252\n",
            "high : 119.294\n",
            "low  : 98.68\n",
            "close: 108.799\n",
            "--- インデックスで取得 -----\n",
            "index: 2020/4/7\n",
            "open : 109.252\n",
            "high : 119.294\n",
            "low  : 98.68\n",
            "close: 108.799\n",
            "\n",
            "*** Loop:[2] ********************\n",
            "--- 型を確認 -----\n",
            "<class 'pandas.core.frame.Pandas'>\n",
            "--- 名前で取得 -----\n",
            "index: 2020/4/8\n",
            "open : 108.799\n",
            "high : 119.109\n",
            "low  : 98.514\n",
            "close: 108.854\n",
            "--- インデックスで取得 -----\n",
            "index: 2020/4/8\n",
            "open : 108.799\n",
            "high : 119.109\n",
            "low  : 98.514\n",
            "close: 108.854\n"
          ]
        }
      ]
    },
    {
      "cell_type": "markdown",
      "source": [
        "# Convert DataFrame to a List of Dictionaries in Python"
      ],
      "metadata": {
        "id": "o8cV0lbnlJFP"
      }
    },
    {
      "cell_type": "markdown",
      "source": [
        "# Using the to_dict() method:\n",
        "The simplest way to convert a DataFrame to a list of dictionaries is by using the to_dict() method provided by Pandas. This method converts the DataFrame into a dictionary, where each column becomes a key, and the corresponding values form the associated values."
      ],
      "metadata": {
        "id": "HcL0_Reak4CY"
      }
    },
    {
      "cell_type": "code",
      "source": [
        "# Create a sample DataFrame\n",
        "data = {'Name': ['John', 'Jane', 'Alice'],\n",
        "        'Age': [25, 30, 35],\n",
        "        'City': ['New York', 'London', 'Paris']}\n",
        "df = pd.DataFrame(data)\n",
        "\n",
        "# Convert DataFrame to a list of dictionaries\n",
        "dict_list = df.to_dict('records')\n",
        "print(dict_list)\n"
      ],
      "metadata": {
        "colab": {
          "base_uri": "https://localhost:8080/"
        },
        "id": "RkMzEhqgkOIM",
        "outputId": "13fcae79-61f5-456b-b7be-e30d943905fa"
      },
      "execution_count": null,
      "outputs": [
        {
          "output_type": "stream",
          "name": "stdout",
          "text": [
            "[{'Name': 'John', 'Age': 25, 'City': 'New York'}, {'Name': 'Jane', 'Age': 30, 'City': 'London'}, {'Name': 'Alice', 'Age': 35, 'City': 'Paris'}]\n"
          ]
        }
      ]
    },
    {
      "cell_type": "markdown",
      "source": [
        "# Iterating over DataFrame rows:\n",
        "Another approach to convert a DataFrame to a list of dictionaries is by iterating over the rows and constructing dictionaries manually. This method provides more flexibility if you want to perform any additional data manipulation during the conversion process. Here’s an example:"
      ],
      "metadata": {
        "id": "VS19o0VWlBgY"
      }
    },
    {
      "cell_type": "code",
      "source": [
        "# Create a sample DataFrame\n",
        "data = {'Name': ['John', 'Jane', 'Alice'],\n",
        "        'Age': [25, 30, 35],\n",
        "        'City': ['New York', 'London', 'Paris']}\n",
        "df = pd.DataFrame(data)\n",
        "\n",
        "# Convert DataFrame to a list of dictionaries\n",
        "dict_list = []\n",
        "for _, row in df.iterrows():\n",
        "    dictionary = {}\n",
        "    for column in df.columns:\n",
        "        dictionary[column] = row[column]\n",
        "    dict_list.append(dictionary)\n",
        "\n",
        "print(dict_list)\n"
      ],
      "metadata": {
        "colab": {
          "base_uri": "https://localhost:8080/"
        },
        "id": "6NgzuJ7ylAz2",
        "outputId": "c1ac4bff-de9a-43b1-90b5-49edd9690123"
      },
      "execution_count": null,
      "outputs": [
        {
          "output_type": "stream",
          "name": "stdout",
          "text": [
            "[{'Name': 'John', 'Age': 25, 'City': 'New York'}, {'Name': 'Jane', 'Age': 30, 'City': 'London'}, {'Name': 'Alice', 'Age': 35, 'City': 'Paris'}]\n"
          ]
        }
      ]
    },
    {
      "cell_type": "markdown",
      "source": [
        "# Export Pandas DataFrame to PDF using fpdf in Python"
      ],
      "metadata": {
        "id": "c6PYv3YLl5l6"
      }
    },
    {
      "cell_type": "code",
      "source": [
        "!pip install  fpdf --quiet"
      ],
      "metadata": {
        "colab": {
          "base_uri": "https://localhost:8080/"
        },
        "id": "FuDGJUoTmAHK",
        "outputId": "13f39467-6eef-4c72-8693-7c9d12e06798"
      },
      "execution_count": null,
      "outputs": [
        {
          "output_type": "stream",
          "name": "stdout",
          "text": [
            "  Preparing metadata (setup.py) ... \u001b[?25l\u001b[?25hdone\n",
            "  Building wheel for fpdf (setup.py) ... \u001b[?25l\u001b[?25hdone\n"
          ]
        }
      ]
    },
    {
      "cell_type": "code",
      "source": [
        "from fpdf import FPDF\n",
        "filename = \"nomi.pdf\"\n",
        "\n",
        "def export_df_to_pdf(df, filename):\n",
        "    \"\"\"\n",
        "    This function exports a pandas DataFrame to a PDF file using the fpdf library.\n",
        "\n",
        "    Parameters:\n",
        "    df (pandas.DataFrame): The DataFrame to be exported\n",
        "    filename (str): The name of the PDF file to be created\n",
        "\n",
        "    Returns:\n",
        "    None\n",
        "    \"\"\"\n",
        "    try:\n",
        "        # Check if the input is a pandas DataFrame\n",
        "        if not isinstance(df, pd.DataFrame):\n",
        "            raise TypeError(\"Input must be a pandas DataFrame\")\n",
        "\n",
        "        # Create a PDF object\n",
        "        pdf = FPDF()\n",
        "        pdf.add_page()\n",
        "\n",
        "        # Set the font and font size\n",
        "        pdf.set_font(\"Arial\", size=12)\n",
        "\n",
        "        # Loop through the DataFrame and add each row to the PDF\n",
        "        for index, row in df.iterrows():\n",
        "            pdf.cell(200, 10, str(row.tolist()), border=1)\n",
        "\n",
        "        # Save the PDF\n",
        "        pdf.output(filename)\n",
        "    except Exception as e:\n",
        "        # Log the error\n",
        "        print(f\"Error: {e}\")"
      ],
      "metadata": {
        "id": "LUggyHa6l7R_"
      },
      "execution_count": null,
      "outputs": []
    },
    {
      "cell_type": "code",
      "source": [
        "export_df_to_pdf(df, filename)"
      ],
      "metadata": {
        "id": "8h4mVkt3oMhx"
      },
      "execution_count": null,
      "outputs": []
    },
    {
      "cell_type": "markdown",
      "source": [
        "#Resources\n",
        "- https://sparkbyexamples.com/pandas/iterate-over-rows-in-pandas-dataframe/\n",
        "- https://levelup.gitconnected.com/ten-practices-i-abandoned-in-pandas-after-gleaning-insights-from-experts-39b80afd8a82\n"
      ],
      "metadata": {
        "id": "Gl_AB076kRCT"
      }
    },
    {
      "cell_type": "code",
      "source": [],
      "metadata": {
        "id": "qc5--3iukTaa"
      },
      "execution_count": null,
      "outputs": []
    }
  ]
}