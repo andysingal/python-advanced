{
  "nbformat": 4,
  "nbformat_minor": 0,
  "metadata": {
    "colab": {
      "private_outputs": true,
      "provenance": [],
      "toc_visible": true,
      "authorship_tag": "ABX9TyMGUmPJfyxCGFK5DHPwEYi9",
      "include_colab_link": true
    },
    "kernelspec": {
      "name": "python3",
      "display_name": "Python 3"
    },
    "language_info": {
      "name": "python"
    }
  },
  "cells": [
    {
      "cell_type": "markdown",
      "metadata": {
        "id": "view-in-github",
        "colab_type": "text"
      },
      "source": [
        "<a href=\"https://colab.research.google.com/github/AndreGulyi/Pandas_for_everyone/blob/main/Pandas_for_everyone_Part_2_(3_Plotting).ipynb\" target=\"_parent\"><img src=\"https://colab.research.google.com/assets/colab-badge.svg\" alt=\"Open In Colab\"/></a>"
      ]
    },
    {
      "cell_type": "markdown",
      "source": [
        "#Plotting Basics"
      ],
      "metadata": {
        "id": "zYjUQm71Z8yd"
      }
    },
    {
      "cell_type": "code",
      "execution_count": null,
      "metadata": {
        "id": "XwLCdYeFYXvU"
      },
      "outputs": [],
      "source": [
        "import pandas as pd\n",
        "# the anscombe data set can be found in the seaborn library\n",
        "import seaborn as sns\n",
        "import matplotlib.pyplot as plt"
      ]
    },
    {
      "cell_type": "code",
      "source": [
        "sns.get_dataset_names()"
      ],
      "metadata": {
        "id": "bY1r0YJlbzcG"
      },
      "execution_count": null,
      "outputs": []
    },
    {
      "cell_type": "code",
      "source": [
        "anscombe = sns.load_dataset(\"anscombe\")\n",
        "#anscombe = pd.read_csv(\"https://github.com/mwaskom/seaborn-data/blob/master/anscombe.csv\")\n",
        "print(anscombe)"
      ],
      "metadata": {
        "id": "6pLNdVH7ZNoE"
      },
      "execution_count": null,
      "outputs": []
    },
    {
      "cell_type": "markdown",
      "source": [
        "##3.2 Matplotlib Basics"
      ],
      "metadata": {
        "id": "GRxy5ZrCaDxE"
      }
    },
    {
      "cell_type": "code",
      "source": [
        "# create a subset of the data\n",
        "# contains only data set 1 from anscombe\n",
        "dataset_1 = anscombe[anscombe['dataset'] =='I']\n",
        "plt.plot(dataset_1['x'], dataset_1['y'])\n",
        "plt.show() # will need this to show explicitly show the plot"
      ],
      "metadata": {
        "id": "CDC8x1lmaUde"
      },
      "execution_count": null,
      "outputs": []
    },
    {
      "cell_type": "code",
      "source": [
        "#if we want dots we could add parameter 'o'\n",
        "plt.plot(dataset_1['x'], dataset_1['y'],'o')\n",
        "plt.show()"
      ],
      "metadata": {
        "id": "E6bTTPl1a0Jk"
      },
      "execution_count": null,
      "outputs": []
    },
    {
      "cell_type": "markdown",
      "source": [
        "###3.2.1 Figure Objects and Axes Subplots"
      ],
      "metadata": {
        "id": "hTzWIFqWbF1W"
      }
    },
    {
      "cell_type": "code",
      "source": [
        "# create subsets of the anscombe data\n",
        "dataset_2 = anscombe[anscombe['dataset'] == 'II']\n",
        "dataset_3 = anscombe[anscombe['dataset'] =='III']\n",
        "dataset_4 = anscombe[anscombe['dataset'] =='IV']"
      ],
      "metadata": {
        "id": "qjt5qyItj69h"
      },
      "execution_count": null,
      "outputs": []
    },
    {
      "cell_type": "code",
      "source": [
        "# create the entire figure where our subplots will go\n",
        "fig = plt.figure()\n",
        "# tell the figure how the subplots should be laid out\n",
        "# in the example, we will have\n",
        "# 2 row of plots, and each row will have 2 plots\n",
        "# subplot has 2 rows and 2 columns, plot location 1\n",
        "axes1 = fig.add_subplot(2, 2, 1)\n",
        "\n",
        "# subplot has 2 rows and 2 columns, plot location 2\n",
        "axes2 = fig.add_subplot(2, 2, 2)\n",
        "# subplot has 2 rows and 2 columns, plot location 3\n",
        "axes3 = fig.add_subplot(2, 2, 3)\n",
        "\n",
        "# subplot has 2 rows and 2 columns, plot location 4\n",
        "axes4 = fig.add_subplot(2, 2, 4)\n",
        "plt.show()"
      ],
      "metadata": {
        "id": "6wvDG_xajG__"
      },
      "execution_count": null,
      "outputs": []
    },
    {
      "cell_type": "code",
      "source": [
        "# you need to run all the plotting code together, same as above\n",
        "fig = plt.figure()\n",
        "axes1 = fig.add_subplot(2, 2, 1)\n",
        "axes2 = fig.add_subplot(2, 2, 2)\n",
        "axes3 = fig.add_subplot(2, 2, 3)\n",
        "axes4 = fig.add_subplot(2, 2, 4)\n",
        "# add a plot to\n",
        "axes1.plot(dataset_1['x'], dataset_1['y'],'o')\n",
        "axes2.plot(dataset_2['x'], dataset_2['y'],'o')\n",
        "axes3.plot(dataset_3['x'], dataset_3['y'],'o')\n",
        "axes4.plot(dataset_4['x'], dataset_4['y'],'o')\n",
        "\n",
        "plt.show()"
      ],
      "metadata": {
        "id": "p1tDsK1-jJvo"
      },
      "execution_count": null,
      "outputs": []
    },
    {
      "cell_type": "code",
      "source": [
        "fig = plt.figure()\n",
        "axes1 = fig.add_subplot(2, 2, 1)\n",
        "axes2 = fig.add_subplot(2, 2, 2)\n",
        "axes3 = fig.add_subplot(2, 2, 3)\n",
        "axes4 = fig.add_subplot(2, 2, 4)\n",
        "# add a plot to\n",
        "axes1.plot(dataset_1['x'], dataset_1['y'],'o')\n",
        "axes2.plot(dataset_2['x'], dataset_2['y'],'o')\n",
        "axes3.plot(dataset_3['x'], dataset_3['y'],'o')\n",
        "axes4.plot(dataset_4['x'], dataset_4['y'],'o')\n",
        "\n",
        "# add a small title to each subplot\n",
        "axes1.set_title(\"dataset_1\")\n",
        "axes2.set_title(\"dataset_2\")\n",
        "axes3.set_title(\"dataset_3\")\n",
        "axes4.set_title(\"dataset_4\")\n",
        "\n",
        "# add a title for the entire figure (title above the title)\n",
        "fig.suptitle(\"Anscombe Data\")\n",
        "# note spelling of \"suptitle\"\n",
        "\n",
        "# use a tight layout so the plots and titles don't overlap\n",
        "fig.set_tight_layout(True)\n",
        "# show the figure\n",
        "plt.show()"
      ],
      "metadata": {
        "id": "qim3p6iFlYOI"
      },
      "execution_count": null,
      "outputs": []
    },
    {
      "cell_type": "markdown",
      "source": [
        "###3.3 Statistical Graphics Using matplotlib"
      ],
      "metadata": {
        "id": "mcSF2Sqdm4CY"
      }
    },
    {
      "cell_type": "code",
      "source": [
        "tips = sns.load_dataset(\"tips\")\n",
        "print(tips)"
      ],
      "metadata": {
        "id": "avthfeBMnss4"
      },
      "execution_count": null,
      "outputs": []
    },
    {
      "cell_type": "code",
      "source": [
        "tips.describe().round(1)"
      ],
      "metadata": {
        "id": "l_0xYEcSoRdi"
      },
      "execution_count": null,
      "outputs": []
    },
    {
      "cell_type": "code",
      "source": [
        "# create the figure object\n",
        "fig = plt.figure()\n",
        "# subplot has 1 row, 1 column, plot location 1\n",
        "axes1 = fig.add_subplot(1, 1, 1)\n",
        "# make the actual histogram\n",
        "axes1.hist(data=tips, x='total_bill', bins=10)\n",
        "# add labels\n",
        "axes1.set_title('Histogram of Total Bill')\n",
        "axes1.set_ylabel('Frequency')\n",
        "axes1.set_xlabel('Total Bill')\n",
        "plt.show()"
      ],
      "metadata": {
        "id": "y-U2omTHn6v_"
      },
      "execution_count": null,
      "outputs": []
    },
    {
      "cell_type": "markdown",
      "source": [
        "###3.3.2 Bivariate (Two Variables)"
      ],
      "metadata": {
        "id": "p2ohXlhcqGol"
      }
    },
    {
      "cell_type": "code",
      "source": [
        "# create the figure object\n",
        "scatter_plot = plt.figure()\n",
        "axes1 = scatter_plot.add_subplot(1, 1, 1)\n",
        "# make the actual scatter plot\n",
        "axes1.scatter(data=tips, x='total_bill',y='tip')\n",
        "# add labels\n",
        "axes1.set_title('Scatterplot of Total Bill vs Tip')\n",
        "axes1.set_xlabel('Total Bill')\n",
        "axes1.set_ylabel('Tip')\n",
        "plt.show()"
      ],
      "metadata": {
        "id": "ZigO7Y55qI69"
      },
      "execution_count": null,
      "outputs": []
    },
    {
      "cell_type": "markdown",
      "source": [
        "####3.3.2.2 Box Plot"
      ],
      "metadata": {
        "id": "vcdmCFSPqeFZ"
      }
    },
    {
      "cell_type": "code",
      "source": [
        "# create the figure object\n",
        "boxplot = plt.figure()\n",
        "axes1 = boxplot.add_subplot(1, 1, 1)\n",
        "\n",
        "# make the actual box plot\n",
        "axes1.boxplot(\n",
        "# first argument of box plot is the data\n",
        "# since we are plotting multiple pieces of data\n",
        "# we have to put each piece of data into a list\n",
        "x=[tips.loc[tips[\"sex\"] == \"Female\", \"tip\"],tips.loc[tips[\"sex\"] == \"Male\", \"tip\"],],\n",
        "# we can then pass in an optional labels parameter\n",
        "# to label the data we passed\n",
        "labels=[\"Female\", \"Male\"],)\n",
        "# add labels\n",
        "axes1.set_xlabel('Sex')\n",
        "axes1.set_ylabel('Tip')\n",
        "axes1.set_title('Boxplot of Tips by Gender')\n",
        "plt.show()"
      ],
      "metadata": {
        "id": "D41bKkl_qgac"
      },
      "execution_count": null,
      "outputs": []
    },
    {
      "cell_type": "markdown",
      "source": [
        "###3.3.3 Multivariate Data"
      ],
      "metadata": {
        "id": "w8VOjsaxn4mG"
      }
    },
    {
      "cell_type": "code",
      "source": [
        "tips.info()"
      ],
      "metadata": {
        "id": "N23WEoBit4Aa"
      },
      "execution_count": null,
      "outputs": []
    },
    {
      "cell_type": "code",
      "source": [
        "# assign color values\n",
        "colors = {\n",
        "    \"Female\":\"f1a340\", #orange\n",
        "    \"Male\":\"998ec3\", #purple\n",
        "}\n",
        "\n",
        "scatter_plot = plt.figure()\n",
        "axes1 = scatter_plot.add_subplot(1,1,1)\n",
        "\n",
        "axes1.scatter(\n",
        "    data=tips,\n",
        "    x='total_bill',\n",
        "    y='tip',\n",
        "    # set the size of the dots based on party size\n",
        "# we multiply the values by 10 to make the points bigger\n",
        "# and also to emphasize the difference\n",
        "    s = tips['size']**2*10,\n",
        "\n",
        "    # set the color for the sex using our color values above\n",
        "    #c=tips['sex'].map(colors),\n",
        "    ### error with mapping colors\n",
        "# set the alpha so points are more transparent\n",
        "# this helps with overlapping points\n",
        "  alpha=0.5\n",
        ")\n",
        "\n",
        "# label the axes\n",
        "axes1.set_title('Colored by Sex and Sized by Size')\n",
        "axes1.set_xlabel('Total Bill')\n",
        "axes1.set_ylabel('Tip')\n",
        "# figure title on top\n",
        "scatter_plot.suptitle(\"Total Bill vs Tip\")\n",
        "plt.show()"
      ],
      "metadata": {
        "id": "l3bKYHumofNj"
      },
      "execution_count": null,
      "outputs": []
    },
    {
      "cell_type": "markdown",
      "source": [
        "##3.4 Seaborn"
      ],
      "metadata": {
        "id": "iRYq1VD9ujNk"
      }
    },
    {
      "cell_type": "code",
      "source": [
        "import seaborn as sns\n",
        "tips = sns.load_dataset('tips')\n",
        "sns.set_context('paper')"
      ],
      "metadata": {
        "id": "XQzcfTEWyPp2"
      },
      "execution_count": null,
      "outputs": []
    },
    {
      "cell_type": "code",
      "source": [
        "# the subplots function is a shortcut for\n",
        "# creating separate figure objects and\n",
        "# adding individual subplots (axes) to the figure\n",
        "hist, ax = plt.subplots()\n",
        "# use seaborn to draw a histogram into the axes\n",
        "sns.histplot(data=tips, x=\"total_bill\", ax=ax)\n",
        "# use matplotlib notation to set a title\n",
        "ax.set_title('Total Bill Histogram')\n",
        "# use matplotlib to show the figure\n",
        "plt.show()"
      ],
      "metadata": {
        "id": "LD4VnoJoy13V"
      },
      "execution_count": null,
      "outputs": []
    },
    {
      "cell_type": "markdown",
      "source": [
        "####3.4.1.2 Density Plot (Kernel Density Estimation)"
      ],
      "metadata": {
        "id": "adU0R966zPw_"
      }
    },
    {
      "cell_type": "code",
      "source": [
        "den, ax = plt.subplots()\n",
        "sns.kdeplot(data=tips, x=\"total_bill\", ax=ax)\n",
        "ax.set_title('Total Bill Density')\n",
        "ax.set_xlabel('Total Bill')\n",
        "ax.set_ylabel('Unit Probability')\n",
        "plt.show()"
      ],
      "metadata": {
        "id": "On3kcCN4zNba"
      },
      "execution_count": null,
      "outputs": []
    },
    {
      "cell_type": "markdown",
      "source": [
        "####3.4.1.3 Rug Plot"
      ],
      "metadata": {
        "id": "Kv-jXJuozYnU"
      }
    },
    {
      "cell_type": "code",
      "source": [
        "rug, ax = plt.subplots()\n",
        "# plot 2 things into the axes we created\n",
        "sns.rugplot(data=tips, x=\"total_bill\", ax=ax)\n",
        "sns.histplot(data=tips, x=\"total_bill\", ax=ax)\n",
        "ax.set_title(\"Rug Plot and Histogram of Total Bill\")\n",
        "ax.set_title(\"Total Bill\")\n",
        "plt.show()"
      ],
      "metadata": {
        "id": "anS_d9r0zhBC"
      },
      "execution_count": null,
      "outputs": []
    },
    {
      "cell_type": "markdown",
      "source": [
        "####3.4.1.4 Distribution Plots"
      ],
      "metadata": {
        "id": "uzP7DJ9Fz5RB"
      }
    },
    {
      "cell_type": "code",
      "source": [
        "# the FacetGrid object creates the figure and axes for us\n",
        "fig = sns.displot(data=tips, x=\"total_bill\", kde=True, rug=True)\n",
        "fig.set_axis_labels(x_var=\"Total Bill\",y_var=\"Count\")\n",
        "fig.figure.suptitle('Distribution of Total Bill')\n",
        "plt.show()"
      ],
      "metadata": {
        "id": "5CI0y8KKz6vl"
      },
      "execution_count": null,
      "outputs": []
    },
    {
      "cell_type": "markdown",
      "source": [
        "####3.4.1.5 Count Plot (Bar Plot)"
      ],
      "metadata": {
        "id": "t1DWhs6b0WtD"
      }
    },
    {
      "cell_type": "code",
      "source": [
        "count, ax = plt.subplots()\n",
        "# we can use the viridis palette to help distinguish the colors\n",
        "sns.countplot(data=tips, x='day',\n",
        "palette=\"viridis\", ax=ax)\n",
        "ax.set_title('Count of days')\n",
        "ax.set_xlabel('Day of the Week')\n",
        "ax.set_ylabel('Frequency')\n",
        "plt.show()"
      ],
      "metadata": {
        "id": "Cyfr9nFQ0ZQX"
      },
      "execution_count": null,
      "outputs": []
    },
    {
      "cell_type": "markdown",
      "source": [
        "###3.4.2 Bivariate Data"
      ],
      "metadata": {
        "id": "fa2IRGI00g2C"
      }
    },
    {
      "cell_type": "code",
      "source": [
        "scatter, ax = plt.subplots()\n",
        "# use fit_reg=False if you do not want the regression line\n",
        "sns.scatterplot(data=tips, x='total_bill',y='tip', ax=ax)\n",
        "ax.set_title('Scatter Plot of Total Bill and Tip')\n",
        "ax.set_xlabel('Total Bill')\n",
        "ax.set_ylabel('Tip')\n",
        "plt.show()"
      ],
      "metadata": {
        "id": "o-o-0pbl0lC3"
      },
      "execution_count": null,
      "outputs": []
    },
    {
      "cell_type": "code",
      "source": [
        "reg, ax = plt.subplots()\n",
        "# use fit_reg=False if you do not want the regression line\n",
        "sns.regplot(data=tips, x='total_bill', y='tip', ax=ax)\n",
        "ax.set_title('Regression Plot of Total Bill and Tip')\n",
        "ax.set_xlabel('Total Bill')\n",
        "ax.set_ylabel('Tip')\n",
        "plt.show()"
      ],
      "metadata": {
        "id": "mP2KepTt08T4"
      },
      "execution_count": null,
      "outputs": []
    },
    {
      "cell_type": "markdown",
      "source": [
        "####3.4.2.2 Joint Plot"
      ],
      "metadata": {
        "id": "uslhXX0N1L5a"
      }
    },
    {
      "cell_type": "code",
      "source": [
        "# jointplot creates the figure and axes for us\n",
        "joint = sns.jointplot(data=tips, x='total_bill',y='tip')\n",
        "joint.set_axis_labels(xlabel='Total Bill',ylabel='Tip')\n",
        "# add a title and move the text up so it doesn't clash with histogram\n",
        "joint.figure.suptitle('Joint Plot of Total Bill and Tip', y=1.03)\n",
        "plt.show()"
      ],
      "metadata": {
        "id": "koFO6-Cj1Rje"
      },
      "execution_count": null,
      "outputs": []
    },
    {
      "cell_type": "markdown",
      "source": [
        "####3.4.2.3 Hexbin Plot"
      ],
      "metadata": {
        "id": "DR3PIn7u1dRT"
      }
    },
    {
      "cell_type": "code",
      "source": [
        "# we can use jointplot with kind=\"hex\" for a hexbin plot\n",
        "hexbin = sns.jointplot(\n",
        "data=tips, x=\"total_bill\", y=\"tip\", kind=\"hex\"\n",
        ")\n",
        "hexbin.set_axis_labels(xlabel='Total Bill', ylabel='Tip')\n",
        "hexbin.figure.suptitle('Hexbin Plot of Total Bill and Tip', y=1.03)\n",
        "plt.show()"
      ],
      "metadata": {
        "id": "xKSZw4hS1k5H"
      },
      "execution_count": null,
      "outputs": []
    },
    {
      "cell_type": "markdown",
      "source": [
        "####3.4.2.4 2D Density Plot"
      ],
      "metadata": {
        "id": "uYaQLTjh1rp1"
      }
    },
    {
      "cell_type": "code",
      "source": [
        "kde, ax = plt.subplots()\n",
        "# shade will fill in the contours\n",
        "sns.kdeplot(data=tips, x=\"total_bill\", y=\"tip\", shade=True, ax=ax)\n",
        "ax.set_title('Kernel Density Plot of Total Bill and Tip')\n",
        "ax.set_xlabel('Total Bill')\n",
        "ax.set_ylabel('Tip')\n",
        "plt.show()"
      ],
      "metadata": {
        "id": "BFEH5ohe1xxc"
      },
      "execution_count": null,
      "outputs": []
    },
    {
      "cell_type": "code",
      "source": [
        "kde2d = sns.jointplot(data=tips, x=\"total_bill\",\n",
        "y=\"tip\", kind=\"kde\")\n",
        "kde2d.set_axis_labels(xlabel='Total Bill', ylabel='Tip')\n",
        "kde2d.fig.suptitle('2D KDE Plot of Total Bill and Tip', y=1.03)\n",
        "plt.show()"
      ],
      "metadata": {
        "id": "YraJ19Qg17l5"
      },
      "execution_count": null,
      "outputs": []
    },
    {
      "cell_type": "markdown",
      "source": [
        "####3.4.2.5 Bar Plot"
      ],
      "metadata": {
        "id": "W1L5IzVG3MqX"
      }
    },
    {
      "cell_type": "code",
      "source": [
        "import numpy as np\n",
        "bar, ax = plt.subplots()\n",
        "# plot the average total bill for each value of time\n",
        "# mean is calculated using numpy\n",
        "sns.barplot(\n",
        "data=tips, x=\"time\", y=\"total_bill\",\n",
        "estimator=np.mean, ax=ax)\n",
        "ax.set_title('Bar Plot of Average Total Bill for Time of Day')\n",
        "ax.set_xlabel('Time of Day')\n",
        "ax.set_ylabel('Average Total Bill')\n",
        "plt.show()"
      ],
      "metadata": {
        "id": "zyl0BVqs3RtZ"
      },
      "execution_count": null,
      "outputs": []
    },
    {
      "cell_type": "code",
      "source": [
        "####3.4.2.6 Box Plot\n"
      ],
      "metadata": {
        "id": "pMRY_FoA3gc3"
      },
      "execution_count": null,
      "outputs": []
    },
    {
      "cell_type": "markdown",
      "source": [
        "##5.2 Apply (Basics)"
      ],
      "metadata": {
        "id": "hc0kWsSKqb0M"
      }
    },
    {
      "cell_type": "code",
      "source": [
        "df = pd.DataFrame({\n",
        "    'a':[10,20,30],\n",
        "    'b':[40,50,60]\n",
        "})\n",
        "print(df)"
      ],
      "metadata": {
        "id": "VHJClai5qe-_"
      },
      "execution_count": null,
      "outputs": []
    },
    {
      "cell_type": "code",
      "source": [
        "print(df['a']**2)"
      ],
      "metadata": {
        "id": "8i-NDFN5qw5e"
      },
      "execution_count": null,
      "outputs": []
    },
    {
      "cell_type": "code",
      "source": [
        "print(type(df['a']))"
      ],
      "metadata": {
        "id": "JR0LdNnvq7US"
      },
      "execution_count": null,
      "outputs": []
    },
    {
      "cell_type": "code",
      "source": [
        "print(type(df.iloc[0]))"
      ],
      "metadata": {
        "id": "Zt5SxBUWrDPZ"
      },
      "execution_count": null,
      "outputs": []
    },
    {
      "cell_type": "code",
      "source": [
        "print(type(df.iloc[:,0:1]))"
      ],
      "metadata": {
        "id": "V0uB5thera16"
      },
      "execution_count": null,
      "outputs": []
    },
    {
      "cell_type": "code",
      "source": [
        "df.loc[:,['a']]"
      ],
      "metadata": {
        "id": "jqQ3pMimr3Ik"
      },
      "execution_count": null,
      "outputs": []
    },
    {
      "cell_type": "code",
      "source": [
        "print(type(df.loc[:,['a']]))"
      ],
      "metadata": {
        "id": "Cs7l8SQ0rwv2"
      },
      "execution_count": null,
      "outputs": []
    },
    {
      "cell_type": "code",
      "source": [
        "def my_sq(x):\n",
        "  return x ** 2\n",
        "#Squares a given value\n",
        "\n",
        "#Calculates the average of 2 numbers\n",
        "def avg_2(x, y):\n",
        "  return (x + y) / 2"
      ],
      "metadata": {
        "id": "0ZHOtRHTuzSw"
      },
      "execution_count": null,
      "outputs": []
    },
    {
      "cell_type": "code",
      "source": [
        "# apply our square function on the 'a' column\n",
        "sq = df['a'].apply(my_sq)\n",
        "print(sq)"
      ],
      "metadata": {
        "id": "DshYpkg5uvZ0"
      },
      "execution_count": null,
      "outputs": []
    },
    {
      "cell_type": "code",
      "source": [
        "def myexp(x,e):\n",
        "  return x ** e"
      ],
      "metadata": {
        "id": "6kjHP_zjxXbT"
      },
      "execution_count": null,
      "outputs": []
    },
    {
      "cell_type": "code",
      "source": [
        "cubed = myexp(2,3)\n",
        "print(cubed)"
      ],
      "metadata": {
        "id": "3m7uCgpcxglB"
      },
      "execution_count": null,
      "outputs": []
    },
    {
      "cell_type": "code",
      "source": [
        "ex = df['a'].apply(myexp, e=2)\n",
        "print(ex)"
      ],
      "metadata": {
        "id": "QrzfW9nXxo1c"
      },
      "execution_count": null,
      "outputs": []
    },
    {
      "cell_type": "code",
      "source": [
        "def printme(x):\n",
        "  print(x)"
      ],
      "metadata": {
        "id": "bTrs_A2ryQff"
      },
      "execution_count": null,
      "outputs": []
    },
    {
      "cell_type": "code",
      "source": [
        "df.apply(printme, axis=0)"
      ],
      "metadata": {
        "id": "3DDIZDpHyVAb"
      },
      "execution_count": null,
      "outputs": []
    },
    {
      "cell_type": "code",
      "source": [
        "df.apply(printme,axis=1)"
      ],
      "metadata": {
        "id": "rv35AixOyein"
      },
      "execution_count": null,
      "outputs": []
    },
    {
      "cell_type": "code",
      "source": [
        "df['a_sq_lamb'] = df['a'].apply(lambda x: x ** 2)\n",
        "print(df)"
      ],
      "metadata": {
        "id": "fFFNLzZTIJLq"
      },
      "execution_count": null,
      "outputs": []
    }
  ]
}