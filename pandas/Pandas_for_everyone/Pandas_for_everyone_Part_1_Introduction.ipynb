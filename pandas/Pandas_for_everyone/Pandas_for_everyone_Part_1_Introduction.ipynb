{
  "nbformat": 4,
  "nbformat_minor": 0,
  "metadata": {
    "colab": {
      "private_outputs": true,
      "provenance": [],
      "toc_visible": true,
      "mount_file_id": "1twVVi0CH7ZzsiVxXkG7uLWvB0qxFBxu5",
      "authorship_tag": "ABX9TyOQoiDOopazcQB32I4CtdqS",
      "include_colab_link": true
    },
    "kernelspec": {
      "name": "python3",
      "display_name": "Python 3"
    },
    "language_info": {
      "name": "python"
    }
  },
  "cells": [
    {
      "cell_type": "markdown",
      "metadata": {
        "id": "view-in-github",
        "colab_type": "text"
      },
      "source": [
        "<a href=\"https://colab.research.google.com/github/AndreGulyi/Pandas_for_everyone/blob/main/Pandas_for_everyone_Part_1_Introduction.ipynb\" target=\"_parent\"><img src=\"https://colab.research.google.com/assets/colab-badge.svg\" alt=\"Open In Colab\"/></a>"
      ]
    },
    {
      "cell_type": "code",
      "execution_count": null,
      "metadata": {
        "id": "BxRoBObC-Zba"
      },
      "outputs": [],
      "source": [
        "import pandas as pd\n",
        "import numpy as np"
      ]
    },
    {
      "cell_type": "markdown",
      "source": [],
      "metadata": {
        "id": "2Rs8K73KNAtG"
      }
    },
    {
      "cell_type": "markdown",
      "source": [
        "# Pandas DataFrame Basics"
      ],
      "metadata": {
        "id": "MEAXoYToND2O"
      }
    },
    {
      "cell_type": "markdown",
      "source": [
        "##1.2 Load Your First Data Set"
      ],
      "metadata": {
        "id": "DsQ_wXHQNYGP"
      }
    },
    {
      "cell_type": "code",
      "source": [
        "#The Gapminder data set originally comes from https://www.gapminder.org/."
      ],
      "metadata": {
        "id": "wwMWf6BkG-R7"
      },
      "execution_count": null,
      "outputs": []
    },
    {
      "cell_type": "code",
      "source": [
        "df = pd.read_csv('/content/drive/MyDrive/DataScience/AG:Pandas_for_everyone/data/gapminder.tsv', sep='\\t')"
      ],
      "metadata": {
        "id": "HkyZ7uBcHElL"
      },
      "execution_count": null,
      "outputs": []
    },
    {
      "cell_type": "markdown",
      "source": [
        "## 1.3 Look at Columns, Rows, and Cells"
      ],
      "metadata": {
        "id": "KQ2BkjOeNlZH"
      }
    },
    {
      "cell_type": "code",
      "source": [
        "df.head()"
      ],
      "metadata": {
        "id": "jFO3FlxyHYyZ"
      },
      "execution_count": null,
      "outputs": []
    },
    {
      "cell_type": "code",
      "source": [
        "#get type\n",
        "print(type(df))"
      ],
      "metadata": {
        "id": "clicKr8uHhkp"
      },
      "execution_count": null,
      "outputs": []
    },
    {
      "cell_type": "code",
      "source": [
        "# get the number of rows and columns\n",
        "print(df.shape)"
      ],
      "metadata": {
        "id": "TRbh4fe-HqFZ"
      },
      "execution_count": null,
      "outputs": []
    },
    {
      "cell_type": "code",
      "source": [
        "#get column names\n",
        "print(df.columns)"
      ],
      "metadata": {
        "id": "YG2NdCRMICJQ"
      },
      "execution_count": null,
      "outputs": []
    },
    {
      "cell_type": "code",
      "source": [
        "# get the dtype of each column\n",
        "print(df.dtypes)"
      ],
      "metadata": {
        "id": "aXwNWeWDITLN"
      },
      "execution_count": null,
      "outputs": []
    },
    {
      "cell_type": "code",
      "source": [
        "# get more information about our data\n",
        "print(df.info())"
      ],
      "metadata": {
        "id": "8EJ-ZLCTIZhx"
      },
      "execution_count": null,
      "outputs": []
    },
    {
      "cell_type": "code",
      "source": [
        "# show the first 5 observations\n",
        "print(df.head())"
      ],
      "metadata": {
        "id": "n-9cm00UIZ2E"
      },
      "execution_count": null,
      "outputs": []
    },
    {
      "cell_type": "code",
      "source": [
        "# just get the country column and save it to its own variable\n",
        "country_df = df['country']\n",
        "print(country_df.head())"
      ],
      "metadata": {
        "id": "YDKjEpG6IyAt"
      },
      "execution_count": null,
      "outputs": []
    },
    {
      "cell_type": "code",
      "source": [
        "# show the last 5 observations\n",
        "print(country_df.tail())"
      ],
      "metadata": {
        "id": "ijBiEqKHJG-k"
      },
      "execution_count": null,
      "outputs": []
    },
    {
      "cell_type": "code",
      "source": [
        "# Looking at country, continent, and year\n",
        "subset = df[['country', 'continent', 'year']]\n",
        "print(subset.head())"
      ],
      "metadata": {
        "id": "DuZa6o4VJPIu"
      },
      "execution_count": null,
      "outputs": []
    },
    {
      "cell_type": "code",
      "source": [
        "print(type(country_df))"
      ],
      "metadata": {
        "id": "_PNclB1oJdNf"
      },
      "execution_count": null,
      "outputs": []
    },
    {
      "cell_type": "code",
      "source": [
        "country_df_list = df[['country']] # note the double square bracket\n",
        "print(type(country_df_list))\n",
        "# If we use a list to subset, we will always get a DataFrame object back."
      ],
      "metadata": {
        "id": "kKlxfN_vJxh0"
      },
      "execution_count": null,
      "outputs": []
    },
    {
      "cell_type": "code",
      "source": [
        "# using square bracket notation\n",
        "print(df['country'])"
      ],
      "metadata": {
        "id": "11Mq-pykKRzc"
      },
      "execution_count": null,
      "outputs": []
    },
    {
      "cell_type": "code",
      "source": [
        "# using dot notation\n",
        "print(df.country)"
      ],
      "metadata": {
        "id": "bVAht7PpKS77"
      },
      "execution_count": null,
      "outputs": []
    },
    {
      "cell_type": "markdown",
      "source": [
        "###1.3.2.1 Subset Rows by index Label - .loc[]"
      ],
      "metadata": {
        "id": "OM6SZHfQKomJ"
      }
    },
    {
      "cell_type": "code",
      "source": [
        "# get the first row\n",
        "# python counts from 0\n",
        "print(df.loc[0])"
      ],
      "metadata": {
        "id": "GOJW9f7HKmBl"
      },
      "execution_count": null,
      "outputs": []
    },
    {
      "cell_type": "code",
      "source": [
        "# get the 100th row\n",
        "# python counts from 0\n",
        "print(df.loc[99])"
      ],
      "metadata": {
        "id": "tLR_slF_LVvy"
      },
      "execution_count": null,
      "outputs": []
    },
    {
      "cell_type": "code",
      "source": [
        "# get the last row (correctly)\n",
        "# use the first value given from shape to getthe number of rows\n",
        "number_of_rows = df.shape[0]\n",
        "# subtract 1 from the value since we want the last index value\n",
        "last_row_index = number_of_rows - 1\n",
        "# finally do the subset using the index of the last row\n",
        "print(df.loc[last_row_index])"
      ],
      "metadata": {
        "id": "IEr5lRAMLhvl"
      },
      "execution_count": null,
      "outputs": []
    },
    {
      "cell_type": "code",
      "source": [
        "# there are many ways of doing what you want\n",
        "print(df.tail(n=1))"
      ],
      "metadata": {
        "id": "WtWojiNBMGtZ"
      },
      "execution_count": null,
      "outputs": []
    },
    {
      "cell_type": "code",
      "source": [
        "# get the last row of data in different ways\n",
        "subset_loc = df.loc[0]\n",
        "subset_head = df.head(n=1)\n",
        "\n",
        "# type using loc of 1 row\n",
        "print(type(subset_loc))"
      ],
      "metadata": {
        "id": "wkGWqr3ZMbsn"
      },
      "execution_count": null,
      "outputs": []
    },
    {
      "cell_type": "code",
      "source": [
        "# type of using head of 1 row\n",
        "print(type(subset_head))"
      ],
      "metadata": {
        "id": "UheGDIhoMs4v"
      },
      "execution_count": null,
      "outputs": []
    },
    {
      "cell_type": "markdown",
      "source": [
        "###1.3.2.2 Subsetting Multiple Rows"
      ],
      "metadata": {
        "id": "pcrMy3wUM2bo"
      }
    },
    {
      "cell_type": "code",
      "source": [
        "print(df.loc[[0, 99, 999]])"
      ],
      "metadata": {
        "id": "EpFGgVlDMtMc"
      },
      "execution_count": null,
      "outputs": []
    },
    {
      "cell_type": "code",
      "source": [
        "# get the 2nd row\n",
        "print(df.iloc[1])"
      ],
      "metadata": {
        "id": "myr5aH_fOGN6"
      },
      "execution_count": null,
      "outputs": []
    },
    {
      "cell_type": "code",
      "source": [
        "## get the 100th row\n",
        "print(df.iloc[99])"
      ],
      "metadata": {
        "id": "IR4jQiUVOOBg"
      },
      "execution_count": null,
      "outputs": []
    },
    {
      "cell_type": "code",
      "source": [
        "# using -1 to get the last row\n",
        "print(df.iloc[-1])"
      ],
      "metadata": {
        "id": "sbpb_mdoORuq"
      },
      "execution_count": null,
      "outputs": []
    },
    {
      "cell_type": "code",
      "source": [
        "## get the first, 100th, and 1000th row\n",
        "print(df.iloc[[0, 99, 999]])"
      ],
      "metadata": {
        "id": "pz0_C3EXOXk2"
      },
      "execution_count": null,
      "outputs": []
    },
    {
      "cell_type": "markdown",
      "source": [
        "###1.3.4.1 Selecting Columns"
      ],
      "metadata": {
        "id": "HNO6vvYsPD6c"
      }
    },
    {
      "cell_type": "code",
      "source": [
        "# subset columns with loc\n",
        "# note the position of the colon\n",
        "# it is used to select all rows\n",
        "subset = df.loc[:, ['year', 'pop']]\n",
        "print(subset)"
      ],
      "metadata": {
        "id": "XIc7mVoEPF5F"
      },
      "execution_count": null,
      "outputs": []
    },
    {
      "cell_type": "code",
      "source": [
        "# subset columns with iloc\n",
        "# iloc will allow us to use integers\n",
        "# -1 will select the last column\n",
        "subset = df.iloc[:, [2, 4, -1]]\n",
        "print(subset)"
      ],
      "metadata": {
        "id": "rgJTsGDNPLuh"
      },
      "execution_count": null,
      "outputs": []
    },
    {
      "cell_type": "markdown",
      "source": [
        "Errors"
      ],
      "metadata": {
        "id": "jR8l3vjci0jH"
      }
    },
    {
      "cell_type": "code",
      "source": [
        "# subset columns with loc\n",
        "# but pass in integer values\n",
        "# this will cause an error\n",
        "\n",
        "#subset = df.loc[:, [2, 4, -1]]\n",
        "#print(subset)"
      ],
      "metadata": {
        "id": "hawWlrLoaElB"
      },
      "execution_count": null,
      "outputs": []
    },
    {
      "cell_type": "code",
      "source": [
        "# subset columns with iloc\n",
        "# but pass in index names\n",
        "# this will cause an error\n",
        "\n",
        "#subset = df.iloc[:, ['year', 'pop']]\n",
        "#print(subset)"
      ],
      "metadata": {
        "id": "tTwvTcsMaVKX"
      },
      "execution_count": null,
      "outputs": []
    },
    {
      "cell_type": "markdown",
      "source": [
        "###1.3.4.2 Subsetting with range()"
      ],
      "metadata": {
        "id": "sTJ7jlW5a3BP"
      }
    },
    {
      "cell_type": "code",
      "source": [
        "# create a range of integers from 0 - 4 inclusive\n",
        "small_range = list(range(5))\n",
        "print(small_range)"
      ],
      "metadata": {
        "id": "fky78y2ya4sV"
      },
      "execution_count": null,
      "outputs": []
    },
    {
      "cell_type": "code",
      "source": [
        "# subset the dataframe with the range\n",
        "subset = df.iloc[:, small_range]\n",
        "print(subset)"
      ],
      "metadata": {
        "id": "i7Bsg2o6bGoR"
      },
      "execution_count": null,
      "outputs": []
    },
    {
      "cell_type": "code",
      "source": [
        "# create a range from 3 - 5 inclusive\n",
        "small_range = list(range(3,6))\n",
        "print(small_range)"
      ],
      "metadata": {
        "id": "P4Zc7shjjIlj"
      },
      "execution_count": null,
      "outputs": []
    },
    {
      "cell_type": "code",
      "source": [
        "subset = df.iloc[:, small_range]\n",
        "print(subset)"
      ],
      "metadata": {
        "id": "yPQ5_5cbjWtP"
      },
      "execution_count": null,
      "outputs": []
    },
    {
      "cell_type": "code",
      "source": [
        "# create a range from 0 - 5 inclusive, step =2\n",
        "small_range = list(range(0,6,2))\n",
        "print(small_range)"
      ],
      "metadata": {
        "id": "5_4wnHq1jofj"
      },
      "execution_count": null,
      "outputs": []
    },
    {
      "cell_type": "markdown",
      "source": [
        "###1.3.4.3 Subsetting with Slicing :\n"
      ],
      "metadata": {
        "id": "kkwEEDpKkA8z"
      }
    },
    {
      "cell_type": "code",
      "source": [
        "print(df.columns)"
      ],
      "metadata": {
        "id": "tiWW-3HlkFJP"
      },
      "execution_count": null,
      "outputs": []
    },
    {
      "cell_type": "code",
      "source": [
        "small_range = list(range(3))\n",
        "print(small_range)"
      ],
      "metadata": {
        "id": "i8fTG_gmkWNn"
      },
      "execution_count": null,
      "outputs": []
    },
    {
      "cell_type": "code",
      "source": [
        "subset = df.iloc[:,small_range]\n",
        "print(subset)"
      ],
      "metadata": {
        "id": "ZckaQa49kdTD"
      },
      "execution_count": null,
      "outputs": []
    },
    {
      "cell_type": "code",
      "source": [
        "# slice the first 3 columns\n",
        "subset = df.iloc[:, :3]\n",
        "print(subset)"
      ],
      "metadata": {
        "id": "Is-n8gOHksoN"
      },
      "execution_count": null,
      "outputs": []
    },
    {
      "cell_type": "code",
      "source": [
        "small_range = list(range(3,6))\n",
        "subset = df.iloc[:,small_range]\n",
        "print(subset)"
      ],
      "metadata": {
        "id": "2WefDizVk9dL"
      },
      "execution_count": null,
      "outputs": []
    },
    {
      "cell_type": "code",
      "source": [
        "subset = df.iloc[:,list(range(0,6,2))]\n",
        "print(subset)"
      ],
      "metadata": {
        "id": "_6AaFrshlawA"
      },
      "execution_count": null,
      "outputs": []
    },
    {
      "cell_type": "code",
      "source": [
        "# slice columns 3 to 5 inclusive\n",
        "subset = df.iloc[:, 3:6]\n",
        "print(subset)"
      ],
      "metadata": {
        "id": "zXQpRTEhlnSo"
      },
      "execution_count": null,
      "outputs": []
    },
    {
      "cell_type": "code",
      "source": [
        "small_range = list(range(0, 6, 2))\n",
        "subset = df.iloc[:, small_range]\n",
        "print(subset)"
      ],
      "metadata": {
        "id": "Vj0asNLNlrCG"
      },
      "execution_count": null,
      "outputs": []
    },
    {
      "cell_type": "code",
      "source": [
        "# slice every other columns\n",
        "subset = df.iloc[:, 0:6:2]\n",
        "print(subset)"
      ],
      "metadata": {
        "id": "eimB_C7cluXE"
      },
      "execution_count": null,
      "outputs": []
    },
    {
      "cell_type": "code",
      "source": [
        "print(df.iloc[:, ::2])"
      ],
      "metadata": {
        "id": "Ns4bX_pUl18P"
      },
      "execution_count": null,
      "outputs": []
    },
    {
      "cell_type": "markdown",
      "source": [
        "###1.3.5 Subsetting Rows and Columns"
      ],
      "metadata": {
        "id": "WSoZsVbNmBo3"
      }
    },
    {
      "cell_type": "code",
      "source": [
        "# using loc\n",
        "print(df.loc[42, 'country'])"
      ],
      "metadata": {
        "id": "TADlZ_7pmDCI"
      },
      "execution_count": null,
      "outputs": []
    },
    {
      "cell_type": "code",
      "source": [
        "# using iloc\n",
        "print(df.iloc[42, 0])"
      ],
      "metadata": {
        "id": "h_ygQB9HmOEP"
      },
      "execution_count": null,
      "outputs": []
    },
    {
      "cell_type": "markdown",
      "source": [
        "####1.3.5.1 Subsetting Multiple Rows and Columns"
      ],
      "metadata": {
        "id": "klMPSvZkmUb6"
      }
    },
    {
      "cell_type": "code",
      "source": [
        "# get the 1st, 100th, and 1000th rows\n",
        "# from the 1st, 4th, and 6th column\n",
        "# note the columns we are hoping to get are:\n",
        "# country, lifeExp, and gdpPercap\n",
        "print(df.iloc[[0, 99, 999], [0, 3, 5]])"
      ],
      "metadata": {
        "id": "1A7kVtkSmeso"
      },
      "execution_count": null,
      "outputs": []
    },
    {
      "cell_type": "code",
      "source": [
        "# if we use the column names directly,\n",
        "# it makes the code a bit easier to read\n",
        "# note now we have to use loc, instead of iloc\n",
        "print(df.loc[[0, 99, 999], ['country',\n",
        "'lifeExp', 'gdpPercap']])"
      ],
      "metadata": {
        "id": "2aPyhjizmmZs"
      },
      "execution_count": null,
      "outputs": []
    },
    {
      "cell_type": "markdown",
      "source": [
        "##1.4 Grouped and Aggregated Calculations\n"
      ],
      "metadata": {
        "id": "J9LM6Rqxm2_C"
      }
    },
    {
      "cell_type": "markdown",
      "source": [
        "### 1.4.1 Grouped Means"
      ],
      "metadata": {
        "id": "HOGhveKInK7j"
      }
    },
    {
      "cell_type": "markdown",
      "source": [
        " There are several initial questions that we can ask ourselves:\n",
        "* For each year in our data, what was the average life expectancy?\n",
        "* Whatis the average life expectancy, population, and GDP?\n",
        "* What if we stratify the data by continent and perform the same\n",
        "calculations?\n",
        "* How many countries are listed in each continent?\n",
        "\n",
        "\n"
      ],
      "metadata": {
        "id": "CNzH9hxwnNEP"
      }
    },
    {
      "cell_type": "code",
      "source": [
        "# For each year in our data, what was the average life expectancy?\n",
        "# To answer this question, we need to:\n",
        "# 1. split our data into parts by year\n",
        "# 2. get the 'lifeExp' column\n",
        "# 3. calculate the mean\n",
        "print(df.groupby('year')['lifeExp'].mean())"
      ],
      "metadata": {
        "id": "mr4GwgibnBXj"
      },
      "execution_count": null,
      "outputs": []
    },
    {
      "cell_type": "code",
      "source": [
        "# create grouped object by year\n",
        "grouped_year_df = df.groupby('year')\n",
        "print(type(grouped_year_df))"
      ],
      "metadata": {
        "id": "hiX6VxxLpEeQ"
      },
      "execution_count": null,
      "outputs": []
    },
    {
      "cell_type": "code",
      "source": [
        "print(grouped_year_df)"
      ],
      "metadata": {
        "id": "YDpJc2edpLWa"
      },
      "execution_count": null,
      "outputs": []
    },
    {
      "cell_type": "code",
      "source": [
        "grouped_year_df_lifeExp = grouped_year_df['lifeExp']\n",
        "print(type(grouped_year_df_lifeExp))"
      ],
      "metadata": {
        "id": "qZV5ArT9pXri"
      },
      "execution_count": null,
      "outputs": []
    },
    {
      "cell_type": "code",
      "source": [
        "print(grouped_year_df_lifeExp)"
      ],
      "metadata": {
        "id": "wdvt5LJVpb0m"
      },
      "execution_count": null,
      "outputs": []
    },
    {
      "cell_type": "code",
      "source": [
        "mean_lifeExp_by_year = grouped_year_df_lifeExp.mean()\n",
        "print(mean_lifeExp_by_year)"
      ],
      "metadata": {
        "id": "h6UljM5qpk_T"
      },
      "execution_count": null,
      "outputs": []
    },
    {
      "cell_type": "code",
      "source": [
        "# the backslash allows us to break up 1 long line of python code\n",
        "# into multiple lines\n",
        "df.groupby(['year', 'continent'])[['lifeExp','gdpPercap']].mean()\n",
        "# is the same as\n",
        "multi_group_var = df.groupby(['year', 'continent'])[['lifeExp', 'gdpPercap']].mean()\n",
        "# look at the first 10 rows\n",
        "print(multi_group_var)"
      ],
      "metadata": {
        "id": "7xXDsLj6p6AL"
      },
      "execution_count": null,
      "outputs": []
    },
    {
      "cell_type": "markdown",
      "source": [
        "### 1.4.2 Grouped Frequency Counts"
      ],
      "metadata": {
        "id": "MkgJWE6wrOhK"
      }
    },
    {
      "cell_type": "code",
      "source": [
        "# use the nunique (number unique)\n",
        "# to calculate the number of unique values in a series\n",
        "print(df.groupby('continent')['country'].nunique())"
      ],
      "metadata": {
        "id": "IKbiY0E8rQND"
      },
      "execution_count": null,
      "outputs": []
    },
    {
      "cell_type": "markdown",
      "source": [
        "##1.5 Basic Plot"
      ],
      "metadata": {
        "id": "v_VgHUdjrkDg"
      }
    },
    {
      "cell_type": "code",
      "source": [
        "global_yearly_life_expectancy = df.groupby('year')['lifeExp'].mean()\n",
        "print(global_yearly_life_expectancy)"
      ],
      "metadata": {
        "id": "U3RED_02rnts"
      },
      "execution_count": null,
      "outputs": []
    },
    {
      "cell_type": "code",
      "source": [
        "# matplotlib is the default plotting library\n",
        "# we need to import first\n",
        "import matplotlib.pyplot as plt\n",
        "\n",
        "# use the .plot() DataFrame method\n",
        "global_yearly_life_expectancy.plot()\n",
        "# show the plot\n",
        "plt.show()"
      ],
      "metadata": {
        "id": "ZnyMSx2BrtwS"
      },
      "execution_count": null,
      "outputs": []
    }
  ]
}