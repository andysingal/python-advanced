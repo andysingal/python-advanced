{
  "nbformat": 4,
  "nbformat_minor": 0,
  "metadata": {
    "colab": {
      "private_outputs": true,
      "provenance": [],
      "toc_visible": true,
      "authorship_tag": "ABX9TyPRNJphQDlaKRM+1t2c/A5D",
      "include_colab_link": true
    },
    "kernelspec": {
      "name": "python3",
      "display_name": "Python 3"
    },
    "language_info": {
      "name": "python"
    }
  },
  "cells": [
    {
      "cell_type": "markdown",
      "metadata": {
        "id": "view-in-github",
        "colab_type": "text"
      },
      "source": [
        "<a href=\"https://colab.research.google.com/github/AndreGulyi/Pandas_for_everyone/blob/main/Pandas_for_everyone_Part_3_Data_Processing.ipynb\" target=\"_parent\"><img src=\"https://colab.research.google.com/assets/colab-badge.svg\" alt=\"Open In Colab\"/></a>"
      ]
    },
    {
      "cell_type": "code",
      "execution_count": null,
      "metadata": {
        "id": "jJFMF593I3-D"
      },
      "outputs": [],
      "source": [
        "import pandas as pd\n",
        "import numpy as np"
      ]
    },
    {
      "cell_type": "markdown",
      "source": [
        "#Data Assembly"
      ],
      "metadata": {
        "id": "eZ7KgMVzI-HI"
      }
    },
    {
      "cell_type": "code",
      "source": [
        "df = pd.DataFrame({\n",
        "    'a':[1,5,10]\n",
        "})\n",
        "\n",
        "df2 = pd.DataFrame({\n",
        "    'b':[1,2,3]\n",
        "})\n",
        "\n",
        "df3 = pd.DataFrame({\n",
        "    'c':[1,2,3]\n",
        "})"
      ],
      "metadata": {
        "id": "LpgisrfHJ3eG"
      },
      "execution_count": null,
      "outputs": []
    },
    {
      "cell_type": "code",
      "source": [
        "print(df.index)"
      ],
      "metadata": {
        "id": "FXjyMF_PKH-s"
      },
      "execution_count": null,
      "outputs": []
    },
    {
      "cell_type": "code",
      "source": [
        "print(df.columns)"
      ],
      "metadata": {
        "id": "Dern7FO1KRrW"
      },
      "execution_count": null,
      "outputs": []
    },
    {
      "cell_type": "code",
      "source": [
        "print(df.values)"
      ],
      "metadata": {
        "id": "hIeRQr5IKWTH"
      },
      "execution_count": null,
      "outputs": []
    },
    {
      "cell_type": "code",
      "source": [
        "row_concat = pd.concat([df,df2,df3])\n",
        "print(row_concat)"
      ],
      "metadata": {
        "id": "66rpyDlFKeva"
      },
      "execution_count": null,
      "outputs": []
    },
    {
      "cell_type": "code",
      "source": [
        "# create a new row of data\n",
        "new_row_series = pd.Series(['n1', 'n2', 'n3',\n",
        "'n4'])\n",
        "print(new_row_series)"
      ],
      "metadata": {
        "id": "AeMuuJSsLBRg"
      },
      "execution_count": null,
      "outputs": []
    },
    {
      "cell_type": "code",
      "source": [
        "# attempt to add the new row to a dataframe\n",
        "print(pd.concat([df, new_row_series]))"
      ],
      "metadata": {
        "id": "3J44UX-JLDbC"
      },
      "execution_count": null,
      "outputs": []
    },
    {
      "cell_type": "code",
      "source": [
        "new_row_df = pd.DataFrame(\n",
        "# note the double brackets to create a \"row\" of data\n",
        "data=[[\"n1\", \"n2\", \"n3\", \"n4\"]],\n",
        "columns=[\"A\", \"B\", \"C\", \"D\"],\n",
        ")\n",
        "print(new_row_df)"
      ],
      "metadata": {
        "id": "O_iRk4SQLcpQ"
      },
      "execution_count": null,
      "outputs": []
    },
    {
      "cell_type": "code",
      "source": [
        "df = pd.DataFrame({\n",
        "    'A':[99,50,100]\n",
        "})"
      ],
      "metadata": {
        "id": "BEWWoRbvLn82"
      },
      "execution_count": null,
      "outputs": []
    },
    {
      "cell_type": "code",
      "source": [
        "# concatenate the row of data\n",
        "print(pd.concat([df, new_row_df]))"
      ],
      "metadata": {
        "id": "_95uqZc8Lhrg"
      },
      "execution_count": null,
      "outputs": []
    },
    {
      "cell_type": "code",
      "source": [
        "row_concat_i = pd.concat([df, new_row_df], ignore_index=True)\n",
        "print(row_concat_i)"
      ],
      "metadata": {
        "id": "uBfjCwPTRb8m"
      },
      "execution_count": null,
      "outputs": []
    },
    {
      "cell_type": "markdown",
      "source": [
        "####6.2.3 Add Columns"
      ],
      "metadata": {
        "id": "Hn3T7CtSR0XD"
      }
    },
    {
      "cell_type": "code",
      "source": [
        "#default axis for concatenation i 0(row) but its a mess in results\n",
        "col_concat = pd.concat([df,df2,new_row_df, df3], axis=1)\n",
        "print(col_concat)"
      ],
      "metadata": {
        "id": "NQ2wkY8bRcAA"
      },
      "execution_count": null,
      "outputs": []
    },
    {
      "cell_type": "code",
      "source": [
        "print(col_concat['A'])"
      ],
      "metadata": {
        "id": "wPgbVBQISfW5"
      },
      "execution_count": null,
      "outputs": []
    },
    {
      "cell_type": "code",
      "source": [
        "col_concat[\"new\"] = ['n1','n2','n3']\n",
        "print(col_concat)"
      ],
      "metadata": {
        "id": "n0F6yaM_RcDE"
      },
      "execution_count": null,
      "outputs": []
    },
    {
      "cell_type": "code",
      "source": [],
      "metadata": {
        "id": "VVoiXdZGRcFX"
      },
      "execution_count": null,
      "outputs": []
    },
    {
      "cell_type": "code",
      "source": [],
      "metadata": {
        "id": "HaLogCw9RcP6"
      },
      "execution_count": null,
      "outputs": []
    },
    {
      "cell_type": "code",
      "source": [],
      "metadata": {
        "id": "zP6_NluVRcTF"
      },
      "execution_count": null,
      "outputs": []
    },
    {
      "cell_type": "code",
      "source": [],
      "metadata": {
        "id": "GX6TgkmbRcVL"
      },
      "execution_count": null,
      "outputs": []
    },
    {
      "cell_type": "code",
      "source": [],
      "metadata": {
        "id": "5QBcQqG8RcXr"
      },
      "execution_count": null,
      "outputs": []
    },
    {
      "cell_type": "code",
      "source": [],
      "metadata": {
        "id": "Fybx0PS-Rcas"
      },
      "execution_count": null,
      "outputs": []
    },
    {
      "cell_type": "code",
      "source": [],
      "metadata": {
        "id": "MWgGxMJnRccz"
      },
      "execution_count": null,
      "outputs": []
    },
    {
      "cell_type": "code",
      "source": [],
      "metadata": {
        "id": "XH7ic81KRcfk"
      },
      "execution_count": null,
      "outputs": []
    }
  ]
}