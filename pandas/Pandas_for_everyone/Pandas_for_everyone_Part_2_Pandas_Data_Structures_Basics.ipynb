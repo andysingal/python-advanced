{
  "nbformat": 4,
  "nbformat_minor": 0,
  "metadata": {
    "colab": {
      "private_outputs": true,
      "provenance": [],
      "toc_visible": true,
      "mount_file_id": "1VYpwVvqx6ZsOzIHH6elmTrF3KupwL1Zs",
      "authorship_tag": "ABX9TyMIh8Zo/hTsri15aKGpk7TA",
      "include_colab_link": true
    },
    "kernelspec": {
      "name": "python3",
      "display_name": "Python 3"
    },
    "language_info": {
      "name": "python"
    }
  },
  "cells": [
    {
      "cell_type": "markdown",
      "metadata": {
        "id": "view-in-github",
        "colab_type": "text"
      },
      "source": [
        "<a href=\"https://colab.research.google.com/github/AndreGulyi/Pandas_for_everyone/blob/main/Pandas_for_everyone_Part_2_Pandas_Data_Structures_Basics.ipynb\" target=\"_parent\"><img src=\"https://colab.research.google.com/assets/colab-badge.svg\" alt=\"Open In Colab\"/></a>"
      ]
    },
    {
      "cell_type": "code",
      "execution_count": null,
      "metadata": {
        "id": "fX3K1kx-sQb7"
      },
      "outputs": [],
      "source": [
        "import pandas as pd"
      ]
    },
    {
      "cell_type": "markdown",
      "source": [
        "##2.1 Create Your Own Data"
      ],
      "metadata": {
        "id": "f7rk05xHsrNZ"
      }
    },
    {
      "cell_type": "markdown",
      "source": [
        "###2.1.1 Create a Series"
      ],
      "metadata": {
        "id": "GIuGdh7Tsu4d"
      }
    },
    {
      "cell_type": "code",
      "source": [
        " s = pd.Series(['banana', 2])\n",
        " print(s)"
      ],
      "metadata": {
        "id": "YRvZTXHZtFwA"
      },
      "execution_count": null,
      "outputs": []
    },
    {
      "cell_type": "code",
      "source": [
        "# manually assign index values to a series\n",
        "# by passing a Python list\n",
        "s = pd.Series(\n",
        "data=[\"Wes McKinney\", \"Creator of Pandas\"],\n",
        "index=[\"Person\", \"Who\"],)\n",
        "print(s)"
      ],
      "metadata": {
        "id": "SWVe1eF1taor"
      },
      "execution_count": null,
      "outputs": []
    },
    {
      "cell_type": "code",
      "source": [
        "scientists = pd.DataFrame(\n",
        "{\n",
        "\"Name\": [\"Rosaline Franklin\", \"WilliamGosset\"],\n",
        "\"Occupation\": [\"Chemist\", \"Statistician\"],\n",
        "\"Born\": [\"1920-07-25\", \"1876-06-13\"],\n",
        "\"Died\": [\"1958-04-16\", \"1937-10-16\"],\n",
        "\"Age\": [37, 61],\n",
        "}\n",
        ")\n",
        "print(scientists)"
      ],
      "metadata": {
        "id": "nhEVAB0qtqUt"
      },
      "execution_count": null,
      "outputs": []
    },
    {
      "cell_type": "code",
      "source": [
        "scientists = pd.DataFrame(\n",
        "data={\n",
        "\"Occupation\": [\"Chemist\", \"Statistician\"],\n",
        "\"Born\": [\"1920-07-25\", \"1876-06-13\"],\n",
        "\"Died\": [\"1958-04-16\", \"1937-10-16\"],\n",
        "\"Age\": [37, 61],\n",
        "},\n",
        "index=[\"Rosaline Franklin\", \"William Gosset\"],columns=[\"Occupation\", \"Born\", \"Died\", \"Age\"],\n",
        ")\n",
        "print(scientists)"
      ],
      "metadata": {
        "id": "4T5CFC1kt7K9"
      },
      "execution_count": null,
      "outputs": []
    },
    {
      "cell_type": "markdown",
      "source": [
        "##2.2 The Series"
      ],
      "metadata": {
        "id": "VIZcxoL0vyuA"
      }
    },
    {
      "cell_type": "code",
      "source": [
        "# create our example dataframe\n",
        "# with a row index label\n",
        "scientists = pd.DataFrame(\n",
        "data={\n",
        "\"Occupation\": [\"Chemist\", \"Statistician\"],\n",
        "\"Born\": [\"1920-07-25\", \"1876-06-13\"],\n",
        "\"Died\": [\"1958-04-16\", \"1937-10-16\"],\n",
        "\"Age\": [37, 61],\n",
        "},\n",
        "index=[\"Rosaline Franklin\", \"William Gosset\"],\n",
        "columns=[\"Occupation\", \"Born\", \"Died\", \"Age\"],\n",
        ")"
      ],
      "metadata": {
        "id": "FAvv2oubv7VP"
      },
      "execution_count": null,
      "outputs": []
    },
    {
      "cell_type": "code",
      "source": [
        "scientists.head()"
      ],
      "metadata": {
        "id": "8R3aWaZlv99a"
      },
      "execution_count": null,
      "outputs": []
    },
    {
      "cell_type": "code",
      "source": [
        "# select by row index label\n",
        "first_row = scientists.loc['William Gosset']\n",
        "print(type(first_row))"
      ],
      "metadata": {
        "id": "fByKCGztwJFe"
      },
      "execution_count": null,
      "outputs": []
    },
    {
      "cell_type": "code",
      "source": [
        "print(first_row)"
      ],
      "metadata": {
        "id": "5ppokeaTwRGx"
      },
      "execution_count": null,
      "outputs": []
    },
    {
      "cell_type": "code",
      "source": [
        "print(first_row.index)"
      ],
      "metadata": {
        "id": "8PW-6JF_wh6m"
      },
      "execution_count": null,
      "outputs": []
    },
    {
      "cell_type": "code",
      "source": [
        "print(first_row.values)"
      ],
      "metadata": {
        "id": "AvwuHcQSwrEp"
      },
      "execution_count": null,
      "outputs": []
    },
    {
      "cell_type": "code",
      "source": [
        "print(first_row.keys())"
      ],
      "metadata": {
        "id": "pfCs-3_Bw0LR"
      },
      "execution_count": null,
      "outputs": []
    },
    {
      "cell_type": "code",
      "source": [
        "# get the first index using an attribute\n",
        "print(first_row.index[0])"
      ],
      "metadata": {
        "id": "RdnenddRxBcb"
      },
      "execution_count": null,
      "outputs": []
    },
    {
      "cell_type": "code",
      "source": [
        "# get the first index using a method\n",
        "print(first_row.keys()[0])"
      ],
      "metadata": {
        "id": "c63FJasZxF-V"
      },
      "execution_count": null,
      "outputs": []
    },
    {
      "cell_type": "markdown",
      "source": [
        "###2.2.1 The Series Is ndarray-like"
      ],
      "metadata": {
        "id": "-SN4K8ZcxLWK"
      }
    },
    {
      "cell_type": "markdown",
      "source": [
        "####2.2.1.1 Series Methods"
      ],
      "metadata": {
        "id": "wBhJVRmgxNlk"
      }
    },
    {
      "cell_type": "code",
      "source": [
        "# get the 'Age' column\n",
        "ages = scientists['Age']\n",
        "print(ages)"
      ],
      "metadata": {
        "id": "mB9l_08ZxTpl"
      },
      "execution_count": null,
      "outputs": []
    },
    {
      "cell_type": "code",
      "source": [
        "# calculate the mean\n",
        "print(ages.mean())"
      ],
      "metadata": {
        "id": "DRmh3OHAxhFv"
      },
      "execution_count": null,
      "outputs": []
    },
    {
      "cell_type": "code",
      "source": [
        "# calculate the minimum\n",
        "print(ages.min())"
      ],
      "metadata": {
        "id": "Ks2SX1hwxnfI"
      },
      "execution_count": null,
      "outputs": []
    },
    {
      "cell_type": "code",
      "source": [
        "# calculate the maximum\n",
        "print(ages.max())"
      ],
      "metadata": {
        "id": "k-EZH0sqxp8V"
      },
      "execution_count": null,
      "outputs": []
    },
    {
      "cell_type": "code",
      "source": [
        "# calculate the standard deviation\n",
        "print(ages.std())"
      ],
      "metadata": {
        "id": "JLxRz4NAxxXg"
      },
      "execution_count": null,
      "outputs": []
    },
    {
      "cell_type": "markdown",
      "source": [
        "### 2.2.2 Boolean Subsetting: Series"
      ],
      "metadata": {
        "id": "n9oJ14qYx58l"
      }
    },
    {
      "cell_type": "code",
      "source": [
        "scientists = pd.read_csv('/content/drive/MyDrive/DataScience/AG:Pandas_for_everyone/data/scientists.csv')"
      ],
      "metadata": {
        "id": "emnt1tVux7dQ"
      },
      "execution_count": null,
      "outputs": []
    },
    {
      "cell_type": "code",
      "source": [
        "scientists.head()"
      ],
      "metadata": {
        "id": "CyHbqSZcyZko"
      },
      "execution_count": null,
      "outputs": []
    },
    {
      "cell_type": "code",
      "source": [
        "scientists.info()"
      ],
      "metadata": {
        "id": "10jcZKgQydfD"
      },
      "execution_count": null,
      "outputs": []
    },
    {
      "cell_type": "code",
      "source": [
        "ages = scientists['Age']\n",
        "print(ages)"
      ],
      "metadata": {
        "id": "Eag0bYgwyjC3"
      },
      "execution_count": null,
      "outputs": []
    },
    {
      "cell_type": "code",
      "source": [
        "ages.describe()"
      ],
      "metadata": {
        "id": "abyWxrwOywWL"
      },
      "execution_count": null,
      "outputs": []
    },
    {
      "cell_type": "code",
      "source": [
        "ages.hist()"
      ],
      "metadata": {
        "id": "VorSmQJGy51N"
      },
      "execution_count": null,
      "outputs": []
    },
    {
      "cell_type": "code",
      "source": [
        "# mean of all ages\n",
        "print(ages.mean())"
      ],
      "metadata": {
        "id": "nxoGgBKuzF8Y"
      },
      "execution_count": null,
      "outputs": []
    },
    {
      "cell_type": "code",
      "source": [
        "print(ages[ages > ages.mean()])"
      ],
      "metadata": {
        "id": "Q8wAMSxrzIhe"
      },
      "execution_count": null,
      "outputs": []
    },
    {
      "cell_type": "code",
      "source": [
        "print(ages > ages.mean())"
      ],
      "metadata": {
        "id": "sZpTlkelzMnY"
      },
      "execution_count": null,
      "outputs": []
    },
    {
      "cell_type": "markdown",
      "source": [
        "#### 2.2.3.3 Vectors With Different Lengths\n"
      ],
      "metadata": {
        "id": "KjzgTWnPzoce"
      }
    },
    {
      "cell_type": "code",
      "source": [
        "print(ages + pd.Series([1, 100]))"
      ],
      "metadata": {
        "id": "V0nmzeR4zqlz"
      },
      "execution_count": null,
      "outputs": []
    },
    {
      "cell_type": "code",
      "source": [
        "rev_ages = ages.sort_index(ascending=False)\n",
        "print(rev_ages)"
      ],
      "metadata": {
        "id": "QLwvouk8z90T"
      },
      "execution_count": null,
      "outputs": []
    },
    {
      "cell_type": "code",
      "source": [
        "# reference output to show index label alignment\n",
        "print(ages * 2)"
      ],
      "metadata": {
        "id": "QwGtsL-g0Baj"
      },
      "execution_count": null,
      "outputs": []
    },
    {
      "cell_type": "code",
      "source": [
        "# note how we get the same values\n",
        "# even though the vector is reversed\n",
        "print(ages + rev_ages)"
      ],
      "metadata": {
        "id": "lH7szKxa0FWE"
      },
      "execution_count": null,
      "outputs": []
    },
    {
      "cell_type": "markdown",
      "source": [
        "###2.3.1 Parts of a DataFrame"
      ],
      "metadata": {
        "id": "_050FgfE0Smu"
      }
    },
    {
      "cell_type": "code",
      "source": [
        "scientists.index"
      ],
      "metadata": {
        "id": "0jPCHyid0UlA"
      },
      "execution_count": null,
      "outputs": []
    },
    {
      "cell_type": "code",
      "source": [
        "scientists.columns"
      ],
      "metadata": {
        "id": "mzivdjMn0Ybb"
      },
      "execution_count": null,
      "outputs": []
    },
    {
      "cell_type": "code",
      "source": [
        "scientists.values"
      ],
      "metadata": {
        "id": "XNGygJ4r0aIU"
      },
      "execution_count": null,
      "outputs": []
    },
    {
      "cell_type": "markdown",
      "source": [
        "###2.3.2 Boolean Subsetting: DataFrames"
      ],
      "metadata": {
        "id": "E8O5ylzK0gOJ"
      }
    },
    {
      "cell_type": "code",
      "source": [
        "range = (scientists['Age']>scientists['Age'].mean())\n",
        "print(range)"
      ],
      "metadata": {
        "id": "f0j4kP4URmb-"
      },
      "execution_count": null,
      "outputs": []
    },
    {
      "cell_type": "code",
      "source": [
        "# boolean vectors will subset rows\n",
        "print(scientists.loc[scientists['Age'] > scientists['Age'].mean()])"
      ],
      "metadata": {
        "id": "pmOzRqfA0h2B"
      },
      "execution_count": null,
      "outputs": []
    },
    {
      "cell_type": "markdown",
      "source": [
        "####2.3.3 Operations Are Automatically Aligned and Vectorized (Broadcasting)"
      ],
      "metadata": {
        "id": "dPi8msM0T5Iy"
      }
    },
    {
      "cell_type": "code",
      "source": [
        "first_half = scientists[:4]\n",
        "second_half = scientists[4:]"
      ],
      "metadata": {
        "id": "0i0D7EC4T72Y"
      },
      "execution_count": null,
      "outputs": []
    },
    {
      "cell_type": "code",
      "source": [
        "print(first_half)"
      ],
      "metadata": {
        "id": "O1BPK-C3UBmu"
      },
      "execution_count": null,
      "outputs": []
    },
    {
      "cell_type": "code",
      "source": [
        "print(second_half)"
      ],
      "metadata": {
        "id": "VbAQUCmZUO7s"
      },
      "execution_count": null,
      "outputs": []
    },
    {
      "cell_type": "code",
      "source": [
        "# multiply by a scalar\n",
        "print(scientists * 2)"
      ],
      "metadata": {
        "id": "pi6-Fzq9UJF_"
      },
      "execution_count": null,
      "outputs": []
    },
    {
      "cell_type": "code",
      "source": [
        "# format the 'Born' column as a datetime\n",
        "born_datetime = pd.to_datetime(scientists['Born'], format='%Y-%m-%d')\n",
        "print(born_datetime)"
      ],
      "metadata": {
        "id": "7AOHaS3oUrRd"
      },
      "execution_count": null,
      "outputs": []
    },
    {
      "cell_type": "code",
      "source": [
        "# format the 'Died' column as a datetime\n",
        "died_datetime = pd.to_datetime(scientists['Died'], format='%Y-%m-%d')"
      ],
      "metadata": {
        "id": "fWBMLOsnU3P8"
      },
      "execution_count": null,
      "outputs": []
    },
    {
      "cell_type": "code",
      "source": [
        "scientists['born_dt'], scientists['died_dt'] = (born_datetime,died_datetime)\n",
        "print(scientists.head())"
      ],
      "metadata": {
        "id": "myonRm3NU_PE"
      },
      "execution_count": null,
      "outputs": []
    },
    {
      "cell_type": "code",
      "source": [
        "print(scientists.shape)"
      ],
      "metadata": {
        "id": "ap6wusUyVTAS"
      },
      "execution_count": null,
      "outputs": []
    },
    {
      "cell_type": "code",
      "source": [
        "print(scientists.dtypes)"
      ],
      "metadata": {
        "id": "ZH8FgoMZVVE7"
      },
      "execution_count": null,
      "outputs": []
    },
    {
      "cell_type": "markdown",
      "source": [
        "###2.4.2 Directly Change a Column"
      ],
      "metadata": {
        "id": "W6sC49_xVd9D"
      }
    },
    {
      "cell_type": "code",
      "source": [
        "print(scientists['Age'])"
      ],
      "metadata": {
        "id": "j85IztIDVjph"
      },
      "execution_count": null,
      "outputs": []
    },
    {
      "cell_type": "code",
      "source": [
        "# the frac=1 tells pandas to randomly select 100% of the values\n",
        "# the random_state makes the randomization the same each time\n",
        "scientists[\"Age\"] = scientists[\"Age\"].sample(frac=1,random_state=42)\n",
        "print(scientists['Age'])"
      ],
      "metadata": {
        "id": "ecluvr0fVpBm"
      },
      "execution_count": null,
      "outputs": []
    },
    {
      "cell_type": "code",
      "source": [
        "# remove the index so it doesn't auto align the values\n",
        "scientists['Age'] = (scientists['Age'].sample(frac=1, random_state=42).values )\n",
        "print(scientists['Age'])"
      ],
      "metadata": {
        "id": "IMIyU7xWWFd8"
      },
      "execution_count": null,
      "outputs": []
    },
    {
      "cell_type": "markdown",
      "source": [
        "###2.4.4 Dropping Values"
      ],
      "metadata": {
        "id": "FfiQ6a-OXBiB"
      }
    },
    {
      "cell_type": "code",
      "source": [
        "# all the current columns in our data\n",
        "print(scientists.columns)"
      ],
      "metadata": {
        "id": "5ShwMGxEXELR"
      },
      "execution_count": null,
      "outputs": []
    },
    {
      "cell_type": "code",
      "source": [
        "# drop the shuffled age column\n",
        "# you provide the axis=1 argument to drop column-wise\n",
        "scientists_dropped = scientists.drop(['Age'],\n",
        "axis=\"columns\")"
      ],
      "metadata": {
        "id": "cWa4G5ScXHj1"
      },
      "execution_count": null,
      "outputs": []
    },
    {
      "cell_type": "code",
      "source": [
        "# columns after dropping our column\n",
        "print(scientists_dropped.columns)"
      ],
      "metadata": {
        "id": "M-D98529XL4J"
      },
      "execution_count": null,
      "outputs": []
    }
  ]
}