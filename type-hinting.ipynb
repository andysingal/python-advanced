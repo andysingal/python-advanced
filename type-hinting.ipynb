{
 "cells": [
  {
   "cell_type": "markdown",
   "id": "9c9542dd",
   "metadata": {},
   "source": [
    "### Type Hinting"
   ]
  },
  {
   "cell_type": "markdown",
   "id": "465b011b",
   "metadata": {},
   "source": [
    "As we all well know, Python uses dynamic typing.\n",
    "\n",
    "This means that, unlike other statically typed languages such as Java, variables in Python do not have a static type - they are simply labels that reference objects - those objects definitely have a specific type, but the label is nothing more than a \"pointer\" to some object."
   ]
  },
  {
   "cell_type": "markdown",
   "id": "8f640eb9",
   "metadata": {},
   "source": [
    "Over time, though, people have found a need to still \"assign\" a type to variables, especially to function arguments and return types."
   ]
  },
  {
   "cell_type": "markdown",
   "id": "2a5d54dc",
   "metadata": {},
   "source": [
    "And so type hints happened. \n",
    "\n",
    "First with external libraries such as the static type checker [mypy](https://mypy.readthedocs.io/en/stable/index.html), then later integrated directly into Python itself."
   ]
  },
  {
   "cell_type": "markdown",
   "id": "ab2fea83",
   "metadata": {},
   "source": [
    "The thing with type hints, is that they in no way modify how Python **runs**. They do get compiled along with the rest of your code, but they do not affect how Python executes your code. \n",
    "\n",
    "Let's take a look at an example:"
   ]
  },
  {
   "cell_type": "code",
   "execution_count": 1,
   "id": "a3d2c409",
   "metadata": {},
   "outputs": [],
   "source": [
    "def mult(a: int, b: int):\n",
    "    return a * b"
   ]
  },
  {
   "cell_type": "markdown",
   "id": "c0d870c1",
   "metadata": {},
   "source": [
    "According to the type hints, `a` and `b` should be integers, and we can call the function with integers:"
   ]
  },
  {
   "cell_type": "code",
   "execution_count": 2,
   "id": "56a96f8f",
   "metadata": {},
   "outputs": [
    {
     "data": {
      "text/plain": [
       "15"
      ]
     },
     "execution_count": 2,
     "metadata": {},
     "output_type": "execute_result"
    }
   ],
   "source": [
    "mult(3, 5)"
   ]
  },
  {
   "cell_type": "markdown",
   "id": "c776e841",
   "metadata": {},
   "source": [
    "But, we are entirely free to pass other types to the same function, without raising any exceptions:"
   ]
  },
  {
   "cell_type": "code",
   "execution_count": 3,
   "id": "ff0797c9",
   "metadata": {},
   "outputs": [
    {
     "data": {
      "text/plain": [
       "'aaaaaaaaaa'"
      ]
     },
     "execution_count": 3,
     "metadata": {},
     "output_type": "execute_result"
    }
   ],
   "source": [
    "mult('a', 10)"
   ]
  },
  {
   "cell_type": "markdown",
   "id": "d42df576",
   "metadata": {},
   "source": [
    "Since multiplication between strings and integers is well-defined in Python, the function executes normally."
   ]
  },
  {
   "cell_type": "markdown",
   "id": "2ecd55ce",
   "metadata": {},
   "source": [
    "As you can see, the type hints *do not* affect how Python runs."
   ]
  },
  {
   "cell_type": "markdown",
   "id": "db20c2ff",
   "metadata": {},
   "source": [
    "So, why use type hinting at all?"
   ]
  },
  {
   "cell_type": "markdown",
   "id": "ca1c5bd8",
   "metadata": {},
   "source": [
    "There are a number of positives about using type hints, even if Python basically ignores them."
   ]
  },
  {
   "cell_type": "markdown",
   "id": "48cfa66e",
   "metadata": {},
   "source": [
    "- helps IDEs display context sensitive help info (such as not only the function parameters, but also what the expected type is)\n",
    "- can help document your code, and in fact several automated document generators are able to use those type hints when they generate documentation\n",
    "- 3rd party tools can be used to perform static type checking (basically it can help identify bugs, where you pass an unexpected type for a callable)"
   ]
  },
  {
   "cell_type": "markdown",
   "id": "a35e450b",
   "metadata": {},
   "source": [
    "Some libraries in Python, including some included with the standard library can also leverage those type hints."
   ]
  },
  {
   "cell_type": "markdown",
   "id": "c072b048",
   "metadata": {},
   "source": [
    "For example, the Data Classes code generator can use type hints to generate your classes."
   ]
  },
  {
   "cell_type": "markdown",
   "id": "44bb9d2c",
   "metadata": {},
   "source": [
    "3rd party libraries can also leverage it - for example [pydantic](https://pydantic-docs.helpmanual.io/) uses it for run-time type validation, as well as additional things such as serialization and deserialization."
   ]
  },
  {
   "cell_type": "markdown",
   "id": "dfe99ebb",
   "metadata": {},
   "source": [
    "The API framework [FastAPI](https://fastapi.tiangolo.com/) uses Pydantic, and this allows not only a very simple way of validating inputs, but also formatting outputs, as well as auto generating API swagger documentation."
   ]
  },
  {
   "cell_type": "markdown",
   "id": "bb0d725f",
   "metadata": {},
   "source": [
    "However, it's not all positives - the addition of type hinting does make the code a little more verbose, and in some cases a little less readable, as well as taking more time to put the type hints in. \n",
    "\n",
    "There may be a slight startup time overhead, especially if you use the `typing` module, since that module has to be loaded up."
   ]
  },
  {
   "cell_type": "markdown",
   "id": "45c6fc20",
   "metadata": {},
   "source": [
    "But in general, the benefits of type hinting outweight any negatives."
   ]
  },
  {
   "cell_type": "markdown",
   "id": "45f5c75f",
   "metadata": {},
   "source": [
    "So let's look at how we can specify some type hints.\n",
    "\n",
    "For this video, we'll stick to relatively simple cases, but as hinting continues to evolve, more and more becomes possible."
   ]
  },
  {
   "cell_type": "markdown",
   "id": "ed71e37e",
   "metadata": {},
   "source": [
    "For standard types, hinting is very easy, and we saw an example earlier."
   ]
  },
  {
   "cell_type": "markdown",
   "id": "0ee75be9",
   "metadata": {},
   "source": [
    "Let's look at another one:"
   ]
  },
  {
   "cell_type": "code",
   "execution_count": 4,
   "id": "82ebdf92",
   "metadata": {},
   "outputs": [],
   "source": [
    "def func(a: dict, b: list, c: bool = True):\n",
    "    pass"
   ]
  },
  {
   "cell_type": "markdown",
   "id": "42396042",
   "metadata": {},
   "source": [
    "Here you can see that we are able to use type hints as well as defaults at the same time, and it works just fine with keyword-only arguments as well:"
   ]
  },
  {
   "cell_type": "code",
   "execution_count": 5,
   "id": "570684d8",
   "metadata": {},
   "outputs": [],
   "source": [
    "def func(*, a: int, b: int = 0):\n",
    "    pass"
   ]
  },
  {
   "cell_type": "markdown",
   "id": "860b33c7",
   "metadata": {},
   "source": [
    "We can also specify the return type hint:"
   ]
  },
  {
   "cell_type": "code",
   "execution_count": 6,
   "id": "ad6a0603",
   "metadata": {},
   "outputs": [],
   "source": [
    "def func(a: int, b: int) -> str:\n",
    "    return f\"{a=}, {b=}\""
   ]
  },
  {
   "cell_type": "markdown",
   "id": "5d59ce02",
   "metadata": {},
   "source": [
    "Or, for a function that does not have a return value, remembering that functions **always** return something, and in the absence of an explicit `return` statement, will return `None`."
   ]
  },
  {
   "cell_type": "code",
   "execution_count": 7,
   "id": "3f49414e",
   "metadata": {},
   "outputs": [],
   "source": [
    "def func(a: str) -> None:\n",
    "    print(a)"
   ]
  },
  {
   "cell_type": "markdown",
   "id": "6c3960bf",
   "metadata": {},
   "source": [
    "Where things get more interesting, is when dealing with more complex types, or when we are willing to accept different types for the same argument."
   ]
  },
  {
   "cell_type": "markdown",
   "id": "24ed754d",
   "metadata": {},
   "source": [
    "Let's start with type hinting a function that can accept either an `int` or a `float` for some parameter.\n",
    "\n",
    "To do this, we'll need to use the `typing` module."
   ]
  },
  {
   "cell_type": "markdown",
   "id": "0b336efb",
   "metadata": {},
   "source": [
    "To define a type hint that can accept one of multiple types, we can use `Union` from typing:"
   ]
  },
  {
   "cell_type": "code",
   "execution_count": 8,
   "id": "331feb11",
   "metadata": {},
   "outputs": [],
   "source": [
    "from typing import Union"
   ]
  },
  {
   "cell_type": "code",
   "execution_count": 9,
   "id": "73536357",
   "metadata": {},
   "outputs": [],
   "source": [
    "def mult(a: Union[str, int], b: int) -> Union[str, int]:\n",
    "    return a * b"
   ]
  },
  {
   "cell_type": "markdown",
   "id": "eddf0b49",
   "metadata": {},
   "source": [
    "Here we are saying that `a` can be either a string or an integer, `b` should be an integer, and the result will be either a string or an integer."
   ]
  },
  {
   "cell_type": "markdown",
   "id": "88ca45cc",
   "metadata": {},
   "source": [
    "In more recent versions of Python (3.10+), you can skip the use of `Union` and use the `|` operator instead:"
   ]
  },
  {
   "cell_type": "code",
   "execution_count": 10,
   "id": "e4214c21",
   "metadata": {},
   "outputs": [],
   "source": [
    "def mult(a: str | int, b: int) -> str | int:\n",
    "    return a * b"
   ]
  },
  {
   "cell_type": "markdown",
   "id": "2c7a154a",
   "metadata": {},
   "source": [
    "We can also use the `Any` annotation to indicate that any type is acceptable:"
   ]
  },
  {
   "cell_type": "code",
   "execution_count": 11,
   "id": "88cbf5d1",
   "metadata": {},
   "outputs": [],
   "source": [
    "from typing import Any"
   ]
  },
  {
   "cell_type": "code",
   "execution_count": 12,
   "id": "7a018c60",
   "metadata": {},
   "outputs": [],
   "source": [
    "def fmt(a: Any) -> None:\n",
    "    print(str(a))"
   ]
  },
  {
   "cell_type": "markdown",
   "id": "b5e40971",
   "metadata": {},
   "source": [
    "We can also indicate that an argument can be `None` by using the `Optional` annotation - this is not the same thing as an optional parameter, this is more for specifying that an argument is required, but can be either some specific type (or types), or even `None`:"
   ]
  },
  {
   "cell_type": "code",
   "execution_count": 13,
   "id": "a6ff9acb",
   "metadata": {},
   "outputs": [],
   "source": [
    "from typing import Optional"
   ]
  },
  {
   "cell_type": "code",
   "execution_count": 14,
   "id": "28a29bf5",
   "metadata": {},
   "outputs": [],
   "source": [
    "def func(a: Optional[int]) -> None:\n",
    "    pass"
   ]
  },
  {
   "cell_type": "markdown",
   "id": "085acab2",
   "metadata": {},
   "source": [
    "And using the `|` notation, we can also write it this way:"
   ]
  },
  {
   "cell_type": "code",
   "execution_count": 15,
   "id": "9bd11a81",
   "metadata": {},
   "outputs": [],
   "source": [
    "def func(a: int | None) -> None:\n",
    "    pass"
   ]
  },
  {
   "cell_type": "markdown",
   "id": "938320b8",
   "metadata": {},
   "source": [
    "So far, we've still been using simple types, but we can also annotate container types, such as lists, tuples, dictionaries and so on."
   ]
  },
  {
   "cell_type": "markdown",
   "id": "6ce2be96",
   "metadata": {},
   "source": [
    "We could definitely indicate an argument is a list this way:"
   ]
  },
  {
   "cell_type": "code",
   "execution_count": 16,
   "id": "b5e446b0",
   "metadata": {},
   "outputs": [],
   "source": [
    "def func(l: list) -> None:\n",
    "    pass"
   ]
  },
  {
   "cell_type": "markdown",
   "id": "a9606eaa",
   "metadata": {},
   "source": [
    "But we can go further and specify that the list should be a list of floats for example."
   ]
  },
  {
   "cell_type": "markdown",
   "id": "9214d3d7",
   "metadata": {},
   "source": [
    "To do this, we need to use something called generic types (or simply generics)."
   ]
  },
  {
   "cell_type": "markdown",
   "id": "d04893d9",
   "metadata": {},
   "source": [
    "Let's try the list annotation first:"
   ]
  },
  {
   "cell_type": "code",
   "execution_count": 17,
   "id": "9e44614f",
   "metadata": {},
   "outputs": [],
   "source": [
    "from typing import List"
   ]
  },
  {
   "cell_type": "code",
   "execution_count": 18,
   "id": "efd4d046",
   "metadata": {},
   "outputs": [],
   "source": [
    "def func(l: List[float]) -> List[int]:\n",
    "    return [int(el) for el in l]"
   ]
  },
  {
   "cell_type": "markdown",
   "id": "50b3864a",
   "metadata": {},
   "source": [
    "Again, just to reiterate, Python will gladly accept a list of integers here, or even a list of strings - of course you may run into a run-time exception if you do, but Python is not going to complain otherwise:"
   ]
  },
  {
   "cell_type": "code",
   "execution_count": 19,
   "id": "245fdd2f",
   "metadata": {},
   "outputs": [
    {
     "data": {
      "text/plain": [
       "[1, 2, 3]"
      ]
     },
     "execution_count": 19,
     "metadata": {},
     "output_type": "execute_result"
    }
   ],
   "source": [
    "func(['1', '2', '3'])"
   ]
  },
  {
   "cell_type": "markdown",
   "id": "59943d40",
   "metadata": {},
   "source": [
    "There are plenty of generics available in the `typing` module, so you should read up about them in the Python docs. (and as I'll mention later, some of these are generics in the `typing` module are being deprecated, and instead we can use the ones becoming available in other modules). For now, especially if you want to be backward compatible, we'll use the ones in the `typing` module.)\n",
    "\n",
    "So let's look at a few more."
   ]
  },
  {
   "cell_type": "markdown",
   "id": "4ea4a5a1",
   "metadata": {},
   "source": [
    "Sometimes, we want to indicate that a sequence of objects can be a list or a tuple, or really any **sequence** type containing elemnts of a certain type."
   ]
  },
  {
   "cell_type": "markdown",
   "id": "2cab61c3",
   "metadata": {},
   "source": [
    "We can do this using the more general `Sequence` generic:"
   ]
  },
  {
   "cell_type": "code",
   "execution_count": 20,
   "id": "4ecd2f7a",
   "metadata": {},
   "outputs": [],
   "source": [
    "from typing import Sequence"
   ]
  },
  {
   "cell_type": "code",
   "execution_count": 21,
   "id": "a91fc218",
   "metadata": {},
   "outputs": [],
   "source": [
    "def square(numbers: Sequence[float | int]) -> List[float | int]:\n",
    "    return [el * el for el in numbers]"
   ]
  },
  {
   "cell_type": "markdown",
   "id": "9a5d77b1",
   "metadata": {},
   "source": [
    "In cases where we may be re-using the same annotation over and over again, maybe we're building a module of functions that mostly take a sequence of floats or integers as we saw in the function above."
   ]
  },
  {
   "cell_type": "markdown",
   "id": "83083b6c",
   "metadata": {},
   "source": [
    "Re-writing the same hint again and again, can become tedious, so we can actually define the type hint annotation itself as a variable:"
   ]
  },
  {
   "cell_type": "code",
   "execution_count": 22,
   "id": "57639d6e",
   "metadata": {},
   "outputs": [],
   "source": [
    "Vector = Sequence[float | int]"
   ]
  },
  {
   "cell_type": "code",
   "execution_count": 23,
   "id": "f3ca8640",
   "metadata": {},
   "outputs": [],
   "source": [
    "def norm(v: Vector) -> float:\n",
    "    pass"
   ]
  },
  {
   "cell_type": "markdown",
   "id": "a443b323",
   "metadata": {},
   "source": [
    "Let's switch to specifying hints for dictionaries, that are little more specific than just using `dict`."
   ]
  },
  {
   "cell_type": "code",
   "execution_count": 24,
   "id": "3203627e",
   "metadata": {},
   "outputs": [],
   "source": [
    "from typing import Dict"
   ]
  },
  {
   "cell_type": "markdown",
   "id": "c609661a",
   "metadata": {},
   "source": [
    "With the `Dict` generic, we can specify type hints for both the keys and the values:"
   ]
  },
  {
   "cell_type": "code",
   "execution_count": 25,
   "id": "3ed33457",
   "metadata": {},
   "outputs": [
    {
     "data": {
      "text/plain": [
       "typing.Dict[str, int]"
      ]
     },
     "execution_count": 25,
     "metadata": {},
     "output_type": "execute_result"
    }
   ],
   "source": [
    "Dict[str, int]"
   ]
  },
  {
   "cell_type": "markdown",
   "id": "3039846f",
   "metadata": {},
   "source": [
    "This indicates a dictionary with keys as strings, and values as integers."
   ]
  },
  {
   "cell_type": "markdown",
   "id": "a2e33026",
   "metadata": {},
   "source": [
    "This can be combined with other annotations we saw earlier, for example:"
   ]
  },
  {
   "cell_type": "code",
   "execution_count": 26,
   "id": "71b34a30",
   "metadata": {},
   "outputs": [
    {
     "data": {
      "text/plain": [
       "typing.Dict[str, typing.Union[int, typing.Sequence[int]]]"
      ]
     },
     "execution_count": 26,
     "metadata": {},
     "output_type": "execute_result"
    }
   ],
   "source": [
    "Dict[str, int | Sequence[int]]"
   ]
  },
  {
   "cell_type": "markdown",
   "id": "1b5fd30b",
   "metadata": {},
   "source": [
    "Or, if dealing with earlier versions of Python:"
   ]
  },
  {
   "cell_type": "code",
   "execution_count": 27,
   "id": "9abae0a1",
   "metadata": {},
   "outputs": [
    {
     "data": {
      "text/plain": [
       "typing.Dict[str, typing.Union[int, typing.Sequence[int]]]"
      ]
     },
     "execution_count": 27,
     "metadata": {},
     "output_type": "execute_result"
    }
   ],
   "source": [
    "Dict[str, Union[int, Sequence[int]]]"
   ]
  },
  {
   "cell_type": "markdown",
   "id": "27f7115b",
   "metadata": {},
   "source": [
    "One last generic I'd like to cover, is how to specify type hints when a parameter is a callable."
   ]
  },
  {
   "cell_type": "markdown",
   "id": "e984b550",
   "metadata": {},
   "source": [
    "Let's look at this function, that replicates the `map` function:"
   ]
  },
  {
   "cell_type": "code",
   "execution_count": 28,
   "id": "162e31c8",
   "metadata": {},
   "outputs": [],
   "source": [
    "def custom_map(func, sequence):\n",
    "    for el in sequence:\n",
    "        yield str(func(el))"
   ]
  },
  {
   "cell_type": "markdown",
   "id": "9c2833f4",
   "metadata": {},
   "source": [
    "So, here we have a few things going on:\n",
    "- `func` is a function with a single parameter (of undetermined type) that returns an undefined type\n",
    "- `sequence` needs to be a sequence of elements (of undetermined type)\n",
    "- `custom_map` is a generator, so it yields results one by one.\n",
    "- each result yielded by `custom_map` is a string"
   ]
  },
  {
   "cell_type": "markdown",
   "id": "1ce6051e",
   "metadata": {},
   "source": [
    "Let's first fill in the hints we already know how to do:"
   ]
  },
  {
   "cell_type": "code",
   "execution_count": 29,
   "id": "d5ef117e",
   "metadata": {},
   "outputs": [],
   "source": [
    "def custom_map(func, sequence: Sequence[Any]):\n",
    "    for el in sequence:\n",
    "        yield str(func(el))"
   ]
  },
  {
   "cell_type": "markdown",
   "id": "eef77370",
   "metadata": {},
   "source": [
    "Next, we need to specify that `func` is a function of one variable (of any type)."
   ]
  },
  {
   "cell_type": "markdown",
   "id": "533da8f5",
   "metadata": {},
   "source": [
    "To do this, we're going to use the `Callable` generic:"
   ]
  },
  {
   "cell_type": "code",
   "execution_count": 30,
   "id": "7e3d6625",
   "metadata": {},
   "outputs": [],
   "source": [
    "from typing import Callable"
   ]
  },
  {
   "cell_type": "markdown",
   "id": "f9de8288",
   "metadata": {},
   "source": [
    "We can specify both the arguments of the callable, as well as the return type as follows:"
   ]
  },
  {
   "cell_type": "code",
   "execution_count": 31,
   "id": "885c2540",
   "metadata": {},
   "outputs": [
    {
     "data": {
      "text/plain": [
       "typing.Callable[[typing.Any], typing.Any]"
      ]
     },
     "execution_count": 31,
     "metadata": {},
     "output_type": "execute_result"
    }
   ],
   "source": [
    "Callable[[Any], Any]"
   ]
  },
  {
   "cell_type": "markdown",
   "id": "5de450da",
   "metadata": {},
   "source": [
    "So now, we can add this hint to our function:"
   ]
  },
  {
   "cell_type": "code",
   "execution_count": 32,
   "id": "81758dd4",
   "metadata": {},
   "outputs": [],
   "source": [
    "def custom_map(\n",
    "    func: Callable[[Any], Any], \n",
    "    sequence: Sequence[Any]\n",
    "):\n",
    "    for el in sequence:\n",
    "        yield str(func(el))"
   ]
  },
  {
   "cell_type": "markdown",
   "id": "78164c63",
   "metadata": {},
   "source": [
    "Finally, we need to indicate that `custom_map` is generator that yields strings.\n",
    "\n",
    "For that, we could use the `Iterator` generic:"
   ]
  },
  {
   "cell_type": "code",
   "execution_count": 33,
   "id": "37f2d47b",
   "metadata": {},
   "outputs": [],
   "source": [
    "from typing import Iterator"
   ]
  },
  {
   "cell_type": "code",
   "execution_count": 34,
   "id": "7c5255db",
   "metadata": {},
   "outputs": [
    {
     "data": {
      "text/plain": [
       "typing.Iterator[str]"
      ]
     },
     "execution_count": 34,
     "metadata": {},
     "output_type": "execute_result"
    }
   ],
   "source": [
    "Iterator[str]"
   ]
  },
  {
   "cell_type": "markdown",
   "id": "d9a9099f",
   "metadata": {},
   "source": [
    "And we can now fully annotate our function:"
   ]
  },
  {
   "cell_type": "code",
   "execution_count": 35,
   "id": "75a00753",
   "metadata": {},
   "outputs": [],
   "source": [
    "def custom_map(\n",
    "    func: Callable[[Any], Any], \n",
    "    sequence: Sequence[Any]\n",
    ") -> Iterator[str]:\n",
    "    for el in sequence:\n",
    "        yield str(func(el))"
   ]
  },
  {
   "cell_type": "markdown",
   "id": "4febfcf0",
   "metadata": {},
   "source": [
    "Note that for generators, more can be happening than just yielding a result - generators can also receive inputs, as well as return something when they terminate. That can also be annotated, using the `Generator` generic - you can read up more about it [here](https://docs.python.org/3/library/typing.html#typing.Generator)"
   ]
  },
  {
   "cell_type": "markdown",
   "id": "aad54a4a",
   "metadata": {},
   "source": [
    "Let's annotate a callable with a bit more detail, just to get a little bit more practice."
   ]
  },
  {
   "cell_type": "code",
   "execution_count": 36,
   "id": "8d331e71",
   "metadata": {},
   "outputs": [],
   "source": [
    "def apply(func, values):\n",
    "    for value_1, value_2 in values:\n",
    "        yield func(value_1, value_2)"
   ]
  },
  {
   "cell_type": "markdown",
   "id": "350352eb",
   "metadata": {},
   "source": [
    "So, for this function, we expect `func` to be a function of two arguments - let's say we want them to be floats or ints.\n",
    "\n",
    "We then also expect that values will be an iterable (not necessarily a sequence type) of iterables containing two values (int or float).\n",
    "\n",
    "For example we can call it this way:"
   ]
  },
  {
   "cell_type": "code",
   "execution_count": 37,
   "id": "cf29fad1",
   "metadata": {},
   "outputs": [
    {
     "data": {
      "text/plain": [
       "[2, 4, 7, 11]"
      ]
     },
     "execution_count": 37,
     "metadata": {},
     "output_type": "execute_result"
    }
   ],
   "source": [
    "list(apply(lambda x, y: x + y, [(1, 1), (2, 2), (3, 4), [5, 6]]))"
   ]
  },
  {
   "cell_type": "markdown",
   "id": "b20be371",
   "metadata": {},
   "source": [
    "Let's annotate our function:"
   ]
  },
  {
   "cell_type": "code",
   "execution_count": 38,
   "id": "5a222c01",
   "metadata": {},
   "outputs": [],
   "source": [
    "from typing import Iterable"
   ]
  },
  {
   "cell_type": "code",
   "execution_count": 39,
   "id": "d18575a3",
   "metadata": {},
   "outputs": [],
   "source": [
    "def apply(\n",
    "    func: Callable[[int | float, int| float], int | float],\n",
    "    values: Iterable[Iterable[int | float]]\n",
    ") -> Iterator[int | float]:\n",
    "    for value_1, value_2 in values:\n",
    "        yield func(value_1, value_2)"
   ]
  },
  {
   "cell_type": "markdown",
   "id": "f3159617",
   "metadata": {},
   "source": [
    "Type hinting in Python is still evolving, and here we have been using generics such as `Iterable` and `Iterator` that we imported from the `typing` module. But these have since been deprecated, and we really should get them from the `collections.abc` module:"
   ]
  },
  {
   "cell_type": "code",
   "execution_count": 40,
   "id": "7ea4c6ec",
   "metadata": {},
   "outputs": [],
   "source": [
    "from collections.abc import Iterable, Iterator"
   ]
  },
  {
   "cell_type": "markdown",
   "id": "2e573c3e",
   "metadata": {},
   "source": [
    "They work the same way, it's just that these abstract base classes now support the `[]` we use for type hints, and will therefore eventually be removed from the typing module.\n",
    "\n",
    "For a full list of these deprecated generics that can now be found in the abstract base classes, see [here](https://docs.python.org/3/library/typing.html#abstract-base-classes)"
   ]
  },
  {
   "cell_type": "markdown",
   "id": "e11c23a5",
   "metadata": {},
   "source": [
    "Another thing to mention is that type hints can be used to annotate any variable, not just function arguments."
   ]
  },
  {
   "cell_type": "code",
   "execution_count": 41,
   "id": "428c19f4",
   "metadata": {},
   "outputs": [],
   "source": [
    "class Test:\n",
    "    a: int = 10\n",
    "    b: str = 'abc'\n",
    "    l: List[int | float] = [1, 3.14]"
   ]
  },
  {
   "cell_type": "markdown",
   "id": "fd1db17d",
   "metadata": {},
   "source": [
    "What we've covered here is just a small sample of what's available in type hints, refer to the [python docs](https://docs.python.org/3/library/typing.html#module-typing) on type hints for more info."
   ]
  },
  {
   "cell_type": "markdown",
   "id": "d84c7346",
   "metadata": {},
   "source": [
    "In an upcoming video we'll take a look at the Pydantic 3rd party library, and see how it leverages type hints to do some really cool stuff!"
   ]
  },
  {
   "cell_type": "code",
   "execution_count": null,
   "id": "799ebaab",
   "metadata": {},
   "outputs": [],
   "source": []
  }
 ],
 "metadata": {
  "kernelspec": {
   "display_name": "Python 3 (ipykernel)",
   "language": "python",
   "name": "python3"
  },
  "language_info": {
   "codemirror_mode": {
    "name": "ipython",
    "version": 3
   },
   "file_extension": ".py",
   "mimetype": "text/x-python",
   "name": "python",
   "nbconvert_exporter": "python",
   "pygments_lexer": "ipython3",
   "version": "3.10.2"
  }
 },
 "nbformat": 4,
 "nbformat_minor": 5
}
