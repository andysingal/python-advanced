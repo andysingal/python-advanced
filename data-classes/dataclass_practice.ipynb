{
  "nbformat": 4,
  "nbformat_minor": 0,
  "metadata": {
    "colab": {
      "provenance": []
    },
    "kernelspec": {
      "name": "python3",
      "display_name": "Python 3"
    },
    "language_info": {
      "name": "python"
    }
  },
  "cells": [
    {
      "cell_type": "code",
      "execution_count": 1,
      "metadata": {
        "colab": {
          "base_uri": "https://localhost:8080/"
        },
        "id": "mvwVpFk1wypf",
        "outputId": "6242fbfc-91ea-4f90-f53a-3cd594631c7e"
      },
      "outputs": [
        {
          "output_type": "execute_result",
          "data": {
            "text/plain": [
              "<__main__.Circle at 0x7b807f1810c0>"
            ]
          },
          "metadata": {},
          "execution_count": 1
        }
      ],
      "source": [
        "class Circle:\n",
        "    def __init__(self, x: int = 0, y: int = 0, radius: int = 1):\n",
        "        self.x = x\n",
        "        self.y = y\n",
        "        self.radius = radius\n",
        "\n",
        "c = Circle()\n",
        "c"
      ]
    },
    {
      "cell_type": "markdown",
      "source": [
        "Let's add some functionality that we usually add (or should add) to our class.\n",
        "\n",
        "First, let's have a custom __repr__"
      ],
      "metadata": {
        "id": "z6Et9OULxaiL"
      }
    },
    {
      "cell_type": "code",
      "source": [
        "class Circle:\n",
        "    def __init__(self, x: int = 0, y: int = 0, radius: int = 1):\n",
        "        self.x = x\n",
        "        self.y = y\n",
        "        self.radius = radius\n",
        "\n",
        "    def __repr__(self):\n",
        "        return f\"{self.__class__.__qualname__}(x={self.x}, y={self.y}, radius={self.radius})\""
      ],
      "metadata": {
        "id": "l_9SwQQwxoC-"
      },
      "execution_count": 2,
      "outputs": []
    },
    {
      "cell_type": "code",
      "source": [
        "c1 = Circle(0, 0, 1)\n",
        "c1"
      ],
      "metadata": {
        "colab": {
          "base_uri": "https://localhost:8080/"
        },
        "id": "y6MGllP2xo2e",
        "outputId": "2dd0fa8c-1125-4751-d5e2-f7ca4816c26b"
      },
      "execution_count": 3,
      "outputs": [
        {
          "output_type": "execute_result",
          "data": {
            "text/plain": [
              "Circle(x=0, y=0, radius=1)"
            ]
          },
          "metadata": {},
          "execution_count": 3
        }
      ]
    },
    {
      "cell_type": "markdown",
      "source": [
        "Now let's see how we can do the same thing using a dataclass:"
      ],
      "metadata": {
        "id": "WApVir-Nxv4x"
      }
    },
    {
      "cell_type": "code",
      "source": [
        "from dataclasses import dataclass,field\n",
        "\n",
        "@dataclass\n",
        "class CircleD:\n",
        "    x: int = 0\n",
        "    y: int = 0\n",
        "    radius: int = 1\n",
        "\n",
        "c2 = CircleD()\n",
        "c2"
      ],
      "metadata": {
        "colab": {
          "base_uri": "https://localhost:8080/"
        },
        "id": "A9_havRFxrnn",
        "outputId": "2b3b804d-a030-46f9-8381-7dc53dcfb62f"
      },
      "execution_count": 7,
      "outputs": [
        {
          "output_type": "execute_result",
          "data": {
            "text/plain": [
              "CircleD(x=0, y=0, radius=1)"
            ]
          },
          "metadata": {},
          "execution_count": 7
        }
      ]
    },
    {
      "cell_type": "markdown",
      "source": [
        "Basically the dataclass gave us the __repr__ for \"free\". We don't have to type that code ourselves, and the less code we type the less bugs we are likely to introduce.\n",
        "\n",
        "Not only that, but dataclasses will generate that code using best practices - how many of use really use self.__class__.__qualname__? Many people (myself included I'll confess) just use the hardcoded class name, maybe stretching it to self.__class__.__name__, when using __qualname__ is actually better. (I'll let you do some web searches on your own to figure out why if you don't know already).\n",
        "\n",
        "Both classes work the same way as far as attribute access goes:"
      ],
      "metadata": {
        "id": "9Gor5nP1zylH"
      }
    },
    {
      "cell_type": "code",
      "source": [
        "c3 = CircleD(1, 1, 5)\n",
        "c4 = CircleD(1, 1, 5)\n",
        "c3 == c4"
      ],
      "metadata": {
        "colab": {
          "base_uri": "https://localhost:8080/"
        },
        "id": "kdNlf4j8zqfB",
        "outputId": "780d73df-76b2-4a55-f185-186c1205143d"
      },
      "execution_count": 5,
      "outputs": [
        {
          "output_type": "execute_result",
          "data": {
            "text/plain": [
              "True"
            ]
          },
          "metadata": {},
          "execution_count": 5
        }
      ]
    },
    {
      "cell_type": "markdown",
      "source": [
        "#Defaults And Field Information\n",
        "Dataclasses allow for setting default values to fields. Additionally, there's the field() function which can be used to customize how individual fields work."
      ],
      "metadata": {
        "id": "yYHTbeZAHytk"
      }
    },
    {
      "cell_type": "code",
      "source": [
        "@dataclass\n",
        "class Product:\n",
        "    name: str\n",
        "    price: float = field(default=0.0, metadata={'unit': 'USD'})\n",
        "\n",
        "\n",
        "john = Product(name=\"John Doe\")\n",
        "# Printing the instance will automatically use the generated __repr__() method\n",
        "print(john)"
      ],
      "metadata": {
        "colab": {
          "base_uri": "https://localhost:8080/"
        },
        "id": "-06t25al-mI-",
        "outputId": "abdc4fae-e5a2-4161-8f11-950348d88a54"
      },
      "execution_count": 10,
      "outputs": [
        {
          "output_type": "stream",
          "name": "stdout",
          "text": [
            "Product(name='John Doe', price=0.0)\n"
          ]
        }
      ]
    },
    {
      "cell_type": "markdown",
      "source": [
        "# Mutability And Immutability\n",
        "By default, dataclass instances are mutable, meaning you can change their attribute values. However, there are occasions when immutability is preferred."
      ],
      "metadata": {
        "id": "T5Lcn93kIh54"
      }
    },
    {
      "cell_type": "code",
      "source": [
        "# Mutability by default\n",
        "@dataclass\n",
        "class Student:\n",
        "    name: str\n",
        "    age: int\n",
        "    grade: float\n",
        "\n",
        "# Creating a Student object\n",
        "alice = Student(name=\"Alice\", age=20, grade=85.5)\n",
        "\n",
        "alice.age = 21\n",
        "print(alice.age)  # Outputs: 21"
      ],
      "metadata": {
        "colab": {
          "base_uri": "https://localhost:8080/"
        },
        "id": "xElW8AF4H3nT",
        "outputId": "5f83b941-8eec-4ba7-9c54-fd3e27e5d15e"
      },
      "execution_count": 12,
      "outputs": [
        {
          "output_type": "stream",
          "name": "stdout",
          "text": [
            "21\n"
          ]
        }
      ]
    },
    {
      "cell_type": "code",
      "source": [
        "# Making a dataclass immutable\n",
        "@dataclass(frozen=True)\n",
        "class ImmutableStudent:\n",
        "    name: str\n",
        "    age: int\n",
        "    grade: float"
      ],
      "metadata": {
        "id": "p-auOJd2Il_E"
      },
      "execution_count": 13,
      "outputs": []
    },
    {
      "cell_type": "code",
      "source": [
        "bob = Student(name=\"Bob\", age=22, grade=88.5)\n",
        "\n",
        "\n",
        "# Using auto-generated __repr__ method\n",
        "print(bob)"
      ],
      "metadata": {
        "colab": {
          "base_uri": "https://localhost:8080/"
        },
        "id": "Gxso-n1sJPti",
        "outputId": "90272c8b-0f2e-42c0-a0e3-f672cc6496d5"
      },
      "execution_count": 14,
      "outputs": [
        {
          "output_type": "stream",
          "name": "stdout",
          "text": [
            "Student(name='Bob', age=22, grade=88.5)\n"
          ]
        }
      ]
    },
    {
      "cell_type": "markdown",
      "source": [
        "# Advanced Features And Techniques\n",
        "- Field Defaults\n",
        "- Field Default Factories\n",
        "- Post Initialization Processing\n",
        "- Order Control\n",
        "- Inheritance With Dataclasses\n",
        "\n",
        "While Python-dataclass provides a streamlined approach for basic class structures, its true power shines when you leverage its advanced features. These nuances can greatly enhance the flexibility and efficiency of your class designs."
      ],
      "metadata": {
        "id": "ZDGY5tBxJqfF"
      }
    },
    {
      "cell_type": "markdown",
      "source": [
        "### Field Defaults\n",
        "Often, you might want some fields to have default values. Dataclasses make this easy.\n",
        "\n"
      ],
      "metadata": {
        "id": "7NXPiNfGKMHp"
      }
    },
    {
      "cell_type": "code",
      "source": [
        "@dataclass\n",
        "class Book:\n",
        "    title: str\n",
        "    author: str\n",
        "    pages: int = field(default=100)"
      ],
      "metadata": {
        "id": "pcab0YptJvrY"
      },
      "execution_count": 15,
      "outputs": []
    },
    {
      "cell_type": "markdown",
      "source": [
        "# Field Default Factories\n",
        "For mutable default values, like lists or dictionaries, use default_factory.\n",
        "\n"
      ],
      "metadata": {
        "id": "4UnUX6jOKcJ7"
      }
    },
    {
      "cell_type": "markdown",
      "source": [
        "### Resources\n",
        "- https://marketsplash.com/tutorials/python/python-dataclass/"
      ],
      "metadata": {
        "id": "wgifPHK5KeIf"
      }
    },
    {
      "cell_type": "code",
      "source": [],
      "metadata": {
        "id": "CiJ9xvtmKRZW"
      },
      "execution_count": null,
      "outputs": []
    }
  ]
}