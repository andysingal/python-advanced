{
  "nbformat": 4,
  "nbformat_minor": 0,
  "metadata": {
    "colab": {
      "provenance": []
    },
    "kernelspec": {
      "name": "python3",
      "display_name": "Python 3"
    },
    "language_info": {
      "name": "python"
    }
  },
  "cells": [
    {
      "cell_type": "code",
      "execution_count": 1,
      "metadata": {
        "colab": {
          "base_uri": "https://localhost:8080/"
        },
        "id": "60J_fNMuhqVU",
        "outputId": "b7eef387-fdd9-4f21-9420-a5a170032888"
      },
      "outputs": [
        {
          "output_type": "stream",
          "name": "stdout",
          "text": [
            "\u001b[2K     \u001b[90m━━━━━━━━━━━━━━━━━━━━━━━━━━━━━━━━━━━━━━━━\u001b[0m \u001b[32m226.7/226.7 kB\u001b[0m \u001b[31m10.6 MB/s\u001b[0m eta \u001b[36m0:00:00\u001b[0m\n",
            "\u001b[2K     \u001b[90m━━━━━━━━━━━━━━━━━━━━━━━━━━━━━━━━━━━━━━━━\u001b[0m \u001b[32m817.0/817.0 kB\u001b[0m \u001b[31m34.3 MB/s\u001b[0m eta \u001b[36m0:00:00\u001b[0m\n",
            "\u001b[2K     \u001b[90m━━━━━━━━━━━━━━━━━━━━━━━━━━━━━━━━━━━━━━━━\u001b[0m \u001b[32m75.6/75.6 kB\u001b[0m \u001b[31m10.4 MB/s\u001b[0m eta \u001b[36m0:00:00\u001b[0m\n",
            "\u001b[2K     \u001b[90m━━━━━━━━━━━━━━━━━━━━━━━━━━━━━━━━━━━━━━━━\u001b[0m \u001b[32m77.8/77.8 kB\u001b[0m \u001b[31m10.4 MB/s\u001b[0m eta \u001b[36m0:00:00\u001b[0m\n",
            "\u001b[2K     \u001b[90m━━━━━━━━━━━━━━━━━━━━━━━━━━━━━━━━━━━━━━━━\u001b[0m \u001b[32m58.3/58.3 kB\u001b[0m \u001b[31m6.3 MB/s\u001b[0m eta \u001b[36m0:00:00\u001b[0m\n",
            "\u001b[2K     \u001b[90m━━━━━━━━━━━━━━━━━━━━━━━━━━━━━━━━━━━━━━━━\u001b[0m \u001b[32m1.7/1.7 MB\u001b[0m \u001b[31m44.1 MB/s\u001b[0m eta \u001b[36m0:00:00\u001b[0m\n",
            "\u001b[2K     \u001b[90m━━━━━━━━━━━━━━━━━━━━━━━━━━━━━━━━━━━━━━━━\u001b[0m \u001b[32m250.8/250.8 kB\u001b[0m \u001b[31m22.8 MB/s\u001b[0m eta \u001b[36m0:00:00\u001b[0m\n",
            "\u001b[2K     \u001b[90m━━━━━━━━━━━━━━━━━━━━━━━━━━━━━━━━━━━━━━━━\u001b[0m \u001b[32m62.3/62.3 kB\u001b[0m \u001b[31m7.6 MB/s\u001b[0m eta \u001b[36m0:00:00\u001b[0m\n",
            "\u001b[2K     \u001b[90m━━━━━━━━━━━━━━━━━━━━━━━━━━━━━━━━━━━━━━━━\u001b[0m \u001b[32m49.4/49.4 kB\u001b[0m \u001b[31m6.6 MB/s\u001b[0m eta \u001b[36m0:00:00\u001b[0m\n",
            "\u001b[2K     \u001b[90m━━━━━━━━━━━━━━━━━━━━━━━━━━━━━━━━━━━━━━━━\u001b[0m \u001b[32m138.5/138.5 kB\u001b[0m \u001b[31m17.8 MB/s\u001b[0m eta \u001b[36m0:00:00\u001b[0m\n",
            "\u001b[?25h"
          ]
        }
      ],
      "source": [
        "!pip install -q kor markdownify requests pydantic openai colorama bs4 rich"
      ]
    },
    {
      "cell_type": "code",
      "source": [
        "from datetime import date\n",
        "from enum import Enum\n",
        "from pydantic import BaseModel, ConfigDict\n",
        "\n",
        "\n",
        "class AutomobileType(Enum):\n",
        "    sedan = \"Sedan\"\n",
        "    coupe = \"Coupe\"\n",
        "    convertible = \"Convertible\"\n",
        "    suv = \"SUV\"\n",
        "    truck = \"Truck\"\n",
        "\n",
        "\n",
        "class Automobile(BaseModel):\n",
        "    model_config = ConfigDict(\n",
        "        extra=\"forbid\",\n",
        "        str_strip_whitespace=True,\n",
        "        validate_default=True,\n",
        "        validate_assignment=True,\n",
        "    )\n",
        "\n",
        "    manufacturer: str\n",
        "    series_name: str\n",
        "    type_: AutomobileType\n",
        "    is_electric: bool = False\n",
        "    manufactured_date: date\n",
        "    base_msrp_usd: float\n",
        "    vin: str\n",
        "    number_of_doors: int = 4\n",
        "    registration_country: str | None = None\n",
        "    license_plate: str | None = None\n"
      ],
      "metadata": {
        "id": "if11CD-BitqG"
      },
      "execution_count": 2,
      "outputs": []
    },
    {
      "cell_type": "markdown",
      "source": [
        "Modify your Automobile model to implement the following:\n",
        "\n",
        "auto generate camel case aliases\n",
        "- the field type_ in our model is provided as type in source data, and should also serialize to type.\n",
        "- the data we receive contains the following field names that need to map to our own model field names - but we still want our camelized field names to be used for serialization. Account for that (without renaming the field names):\n",
        "number_of_doors is provided as doors\n",
        "- manufactured_date is provided as completionDate\n",
        "- The field base_msrp_usd is provided as msrpUSD, and we want the serialization name to be baseMSRPUSD\n",
        "- we want the JSON serialized output of manufactured_date to be this pattern: YYYY/MM/DD (e.g. 2020/01/01), but serializing to a Python dict should remain as a date object."
      ],
      "metadata": {
        "id": "omJn7bJjjj4L"
      }
    },
    {
      "cell_type": "code",
      "source": [
        "data_json = '''\n",
        "{\n",
        "    \"manufacturer\": \"BMW\",\n",
        "    \"seriesName\": \"M4\",\n",
        "    \"type\": \"Convertible\",\n",
        "    \"isElectric\": false,\n",
        "    \"completionDate\": \"2023-01-01\",\n",
        "    \"msrpUSD\": 93300,\n",
        "    \"vin\": \"1234567890\",\n",
        "    \"doors\": 2,\n",
        "    \"registrationCountry\": \"France\",\n",
        "    \"licensePlate\": \"AAA-BBB\"\n",
        "}\n",
        "'''\n",
        "\n"
      ],
      "metadata": {
        "id": "9ANa7z-MjsXr"
      },
      "execution_count": 3,
      "outputs": []
    },
    {
      "cell_type": "code",
      "source": [
        "expected_serialized_dict = {\n",
        "    'manufacturer': 'BMW',\n",
        "    'series_name': 'M4',\n",
        "    'type_': AutomobileType.convertible,\n",
        "    'is_electric': False,\n",
        "    'manufactured_date': date(2023, 1, 1),\n",
        "    'base_msrp_usd': 93300.0,\n",
        "    'vin': '1234567890',\n",
        "    'number_of_doors': 2,\n",
        "    'registration_country': 'France',\n",
        "    'license_plate': 'AAA-BBB'\n",
        "}"
      ],
      "metadata": {
        "id": "f63r058NkEyF"
      },
      "execution_count": 4,
      "outputs": []
    },
    {
      "cell_type": "code",
      "source": [
        "expected_serialized_dict_by_alias = {\n",
        "    'manufacturer': 'BMW',\n",
        "    'seriesName': 'M4',\n",
        "    'type': AutomobileType.convertible,\n",
        "    'isElectric': False,\n",
        "    'manufacturedDate': date(2023, 1, 1),\n",
        "    'baseMSRPUSD': 93300.0,\n",
        "    'vin': '1234567890',\n",
        "    'numberOfDoors': 2,\n",
        "    'registrationCountry': 'France',\n",
        "    'licensePlate': 'AAA-BBB'\n",
        "}"
      ],
      "metadata": {
        "id": "CUrjzEhkkTXH"
      },
      "execution_count": 5,
      "outputs": []
    },
    {
      "cell_type": "code",
      "source": [
        "expected_serialized_json_by_alias = (\n",
        "    '{\"manufacturer\":\"BMW\",\"seriesName\":\"M4\",\"type\":\"Convertible\",'\n",
        "    '\"isElectric\":false,\"manufacturedDate\":\"2023/01/01\",\"baseMSRPUSD\":93300.0,'\n",
        "    '\"vin\":\"1234567890\",\"numberOfDoors\":2,\"registrationCountry\":\"France\",'\n",
        "    '\"licensePlate\":\"AAA-BBB\"}'\n",
        ")"
      ],
      "metadata": {
        "id": "t7vihAQqkfu_"
      },
      "execution_count": 6,
      "outputs": []
    },
    {
      "cell_type": "markdown",
      "source": [
        "## Solution"
      ],
      "metadata": {
        "id": "JhVNB7t9km70"
      }
    },
    {
      "cell_type": "code",
      "source": [
        "from pydantic import Field, field_serializer\n",
        "from pydantic.alias_generators import to_camel\n",
        "\n",
        "class Automobile(BaseModel):\n",
        "    model_config = ConfigDict(\n",
        "        extra=\"forbid\",\n",
        "        str_strip_whitespace=True,\n",
        "        validate_default=True,\n",
        "        validate_assignment=True,\n",
        "        alias_generator=to_camel,\n",
        "    )\n",
        "\n",
        "    manufacturer: str\n",
        "    series_name: str\n",
        "    type_: AutomobileType = Field(alias=\"type\")\n",
        "    is_electric: bool = False\n",
        "    manufactured_date: date = Field(validation_alias=\"completionDate\")\n",
        "    base_msrp_usd: float = Field(\n",
        "        validation_alias=\"msrpUSD\",\n",
        "        serialization_alias=\"baseMSRPUSD\"\n",
        "    )\n",
        "    vin: str\n",
        "    number_of_doors: int = Field(default=4, validation_alias=\"doors\")\n",
        "    registration_country: str | None = None\n",
        "    license_plate: str | None = None\n",
        "\n",
        "    @field_serializer(\"manufactured_date\", when_used=\"json-unless-none\")\n",
        "    def serialize_date(self, value: date) -> str:\n",
        "        return value.strftime(\"%Y/%m/%d\")"
      ],
      "metadata": {
        "id": "a_x5Joe1kgb6"
      },
      "execution_count": 7,
      "outputs": []
    },
    {
      "cell_type": "markdown",
      "source": [],
      "metadata": {
        "id": "IN2tssKxTtjs"
      }
    },
    {
      "cell_type": "code",
      "source": [
        "car = Automobile.model_validate_json(data_json)\n",
        "car"
      ],
      "metadata": {
        "colab": {
          "base_uri": "https://localhost:8080/"
        },
        "id": "uFXwL2eTlrhs",
        "outputId": "2bbcb2f9-d427-4e6b-f29f-7ef49607f180"
      },
      "execution_count": 8,
      "outputs": [
        {
          "output_type": "execute_result",
          "data": {
            "text/plain": [
              "Automobile(manufacturer='BMW', series_name='M4', type_=<AutomobileType.convertible: 'Convertible'>, is_electric=False, manufactured_date=datetime.date(2023, 1, 1), base_msrp_usd=93300.0, vin='1234567890', number_of_doors=2, registration_country='France', license_plate='AAA-BBB')"
            ]
          },
          "metadata": {},
          "execution_count": 8
        }
      ]
    },
    {
      "cell_type": "code",
      "source": [
        "assert car.model_dump() == expected_serialized_dict"
      ],
      "metadata": {
        "id": "3I_tYPQ6lr1M"
      },
      "execution_count": 9,
      "outputs": []
    },
    {
      "cell_type": "code",
      "source": [
        "assert car.model_dump(by_alias=True) == expected_serialized_dict_by_alias"
      ],
      "metadata": {
        "id": "oGhh7C-KlvJO"
      },
      "execution_count": 10,
      "outputs": []
    },
    {
      "cell_type": "code",
      "source": [
        "assert car.model_dump_json(by_alias=True) == expected_serialized_json_by_alias"
      ],
      "metadata": {
        "id": "fxHdOkeVlzK4"
      },
      "execution_count": 11,
      "outputs": []
    },
    {
      "cell_type": "code",
      "source": [],
      "metadata": {
        "id": "Tx8dAiOTTut-"
      },
      "execution_count": null,
      "outputs": []
    },
    {
      "cell_type": "markdown",
      "source": [],
      "metadata": {
        "id": "3cXzjEr6TvIc"
      }
    },
    {
      "cell_type": "markdown",
      "source": [],
      "metadata": {
        "id": "fMpjUAOMTvL2"
      }
    },
    {
      "cell_type": "markdown",
      "source": [
        "## ANOTHER EXAMPLE"
      ],
      "metadata": {
        "id": "pt1GtfmuTvO3"
      }
    },
    {
      "cell_type": "code",
      "source": [
        "from datetime import datetime, timedelta, timezone\n",
        "\n",
        "from pydantic import BaseModel, ConfigDict, field_serializer\n",
        "from pydantic_core.core_schema import FieldSerializationInfo, SerializerFunctionWrapHandler\n",
        "\n",
        "class WithCustomEncoders(BaseModel):\n",
        "    model_config = ConfigDict(ser_json_timedelta='iso8601')\n",
        "\n",
        "    dt: datetime\n",
        "    diff: timedelta\n",
        "    diff2: timedelta\n",
        "\n",
        "    @field_serializer('dt')\n",
        "    def serialize_dt(self, dt: datetime, _info: FieldSerializationInfo):\n",
        "        print(_info)\n",
        "        return dt.timestamp()\n",
        "\n",
        "    # The decorator below executes first\n",
        "    @field_serializer('diff')\n",
        "    def ssse(self, diff: timedelta, info: FieldSerializationInfo):\n",
        "        print(info)\n",
        "        return diff.total_seconds()\n",
        "\n",
        "    @field_serializer('diff2', mode='wrap')\n",
        "    @staticmethod\n",
        "    def diff2_ser(diff2: timedelta, nxt: SerializerFunctionWrapHandler, info: FieldSerializationInfo):\n",
        "        value = nxt(diff2)\n",
        "        return value + 'postprocess'\n",
        "\n",
        "m = WithCustomEncoders(\n",
        "    dt=datetime(2032, 6, 1, tzinfo=timezone.utc), diff=timedelta(minutes=2),\n",
        "    diff2=timedelta(minutes=1)\n",
        ")\n",
        "\n",
        "print(m.model_dump_json())"
      ],
      "metadata": {
        "colab": {
          "base_uri": "https://localhost:8080/"
        },
        "id": "NkgVtqaRTwvq",
        "outputId": "09173d6d-44f7-4724-f6ec-54c59bfb0c4d"
      },
      "execution_count": 12,
      "outputs": [
        {
          "output_type": "stream",
          "name": "stdout",
          "text": [
            "SerializationInfo(include=None, exclude=None, mode='json', by_alias=False, exclude_unset=False, exclude_defaults=False, exclude_none=False, round_trip=False)\n",
            "SerializationInfo(include=None, exclude=None, mode='json', by_alias=False, exclude_unset=False, exclude_defaults=False, exclude_none=False, round_trip=False)\n",
            "{\"dt\":1969660800.0,\"diff\":120.0,\"diff2\":\"PT60Spostprocess\"}\n"
          ]
        }
      ]
    },
    {
      "cell_type": "code",
      "source": [
        "from typing import Dict, Any\n",
        "\n",
        "from pydantic import BaseModel, model_serializer\n",
        "from pydantic_core.core_schema import SerializerFunctionWrapHandler, SerializationInfo\n",
        "\n",
        "\n",
        "class Model(BaseModel):\n",
        "    x: str\n",
        "\n",
        "    @model_serializer\n",
        "    def ser_model(self, info: SerializationInfo):\n",
        "        print(info)\n",
        "        return {'x': f'xxxxxx {self.x}'}\n",
        "\n",
        "    @model_serializer(mode='wrap')\n",
        "    def ser_model_wrap(self, nxt: SerializerFunctionWrapHandler, info: SerializationInfo) -> Dict[str, Any]:\n",
        "        print(info)\n",
        "        return {'x': f'serialized {nxt(self)}'}\n",
        "\n",
        "\n",
        "print(Model(x='test value').model_dump_json())"
      ],
      "metadata": {
        "colab": {
          "base_uri": "https://localhost:8080/"
        },
        "id": "S-bzp_J0UKOF",
        "outputId": "70b0603a-8212-45dd-b62d-2e13ff236091"
      },
      "execution_count": 13,
      "outputs": [
        {
          "output_type": "stream",
          "name": "stdout",
          "text": [
            "SerializationInfo(include=None, exclude=None, mode='json', by_alias=False, exclude_unset=False, exclude_defaults=False, exclude_none=False, round_trip=False)\n",
            "{\"x\":\"serialized {'x': 'test value'}\"}\n"
          ]
        }
      ]
    },
    {
      "cell_type": "markdown",
      "source": [
        "**Resource:\n",
        "\n",
        "-- http://windcf.com/archives/102\n",
        "\n",
        "-- https://zenn.dev/yosemat/articles/6834cfc8de0d86"
      ],
      "metadata": {
        "id": "_qRcAqGFVGzu"
      }
    },
    {
      "cell_type": "code",
      "source": [],
      "metadata": {
        "id": "qqLYa9vnVJ6r"
      },
      "execution_count": null,
      "outputs": []
    }
  ]
}