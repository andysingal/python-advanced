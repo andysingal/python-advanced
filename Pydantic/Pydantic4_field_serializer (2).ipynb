{
  "nbformat": 4,
  "nbformat_minor": 0,
  "metadata": {
    "colab": {
      "provenance": []
    },
    "kernelspec": {
      "name": "python3",
      "display_name": "Python 3"
    },
    "language_info": {
      "name": "python"
    }
  },
  "cells": [
    {
      "cell_type": "code",
      "execution_count": 15,
      "metadata": {
        "colab": {
          "base_uri": "https://localhost:8080/"
        },
        "id": "60J_fNMuhqVU",
        "outputId": "5879d1b7-d9e9-49cb-b53c-94472576d7ce"
      },
      "outputs": [
        {
          "output_type": "stream",
          "name": "stdout",
          "text": [
            "\u001b[?25l     \u001b[90m━━━━━━━━━━━━━━━━━━━━━━━━━━━━━━━━━━━━━━━━\u001b[0m \u001b[32m0.0/307.7 kB\u001b[0m \u001b[31m?\u001b[0m eta \u001b[36m-:--:--\u001b[0m\r\u001b[2K     \u001b[91m━━━━━\u001b[0m\u001b[90m╺\u001b[0m\u001b[90m━━━━━━━━━━━━━━━━━━━━━━━━━━━━━━━━━━\u001b[0m \u001b[32m41.0/307.7 kB\u001b[0m \u001b[31m2.5 MB/s\u001b[0m eta \u001b[36m0:00:01\u001b[0m\r\u001b[2K     \u001b[91m━━━━━━━━━━━━━━━━━━━━━━\u001b[0m\u001b[91m╸\u001b[0m\u001b[90m━━━━━━━━━━━━━━━━━\u001b[0m \u001b[32m174.1/307.7 kB\u001b[0m \u001b[31m2.7 MB/s\u001b[0m eta \u001b[36m0:00:01\u001b[0m\r\u001b[2K     \u001b[90m━━━━━━━━━━━━━━━━━━━━━━━━━━━━━━━━━━━━━━━━\u001b[0m \u001b[32m307.7/307.7 kB\u001b[0m \u001b[31m3.0 MB/s\u001b[0m eta \u001b[36m0:00:00\u001b[0m\n",
            "\u001b[?25h"
          ]
        }
      ],
      "source": [
        "!pip install -q kor markdownify requests pydantic pydantic[email] openai colorama bs4 rich"
      ]
    },
    {
      "cell_type": "code",
      "source": [
        "from datetime import date\n",
        "from enum import Enum\n",
        "from pydantic import BaseModel, ConfigDict\n",
        "\n",
        "\n",
        "class AutomobileType(Enum):\n",
        "    sedan = \"Sedan\"\n",
        "    coupe = \"Coupe\"\n",
        "    convertible = \"Convertible\"\n",
        "    suv = \"SUV\"\n",
        "    truck = \"Truck\"\n",
        "\n",
        "\n",
        "class Automobile(BaseModel):\n",
        "    model_config = ConfigDict(\n",
        "        extra=\"forbid\",\n",
        "        str_strip_whitespace=True,\n",
        "        validate_default=True,\n",
        "        validate_assignment=True,\n",
        "    )\n",
        "\n",
        "    manufacturer: str\n",
        "    series_name: str\n",
        "    type_: AutomobileType\n",
        "    is_electric: bool = False\n",
        "    manufactured_date: date\n",
        "    base_msrp_usd: float\n",
        "    vin: str\n",
        "    number_of_doors: int = 4\n",
        "    registration_country: str | None = None\n",
        "    license_plate: str | None = None\n"
      ],
      "metadata": {
        "id": "if11CD-BitqG"
      },
      "execution_count": 2,
      "outputs": []
    },
    {
      "cell_type": "markdown",
      "source": [
        "Modify your Automobile model to implement the following:\n",
        "\n",
        "auto generate camel case aliases\n",
        "- the field type_ in our model is provided as type in source data, and should also serialize to type.\n",
        "- the data we receive contains the following field names that need to map to our own model field names - but we still want our camelized field names to be used for serialization. Account for that (without renaming the field names):\n",
        "number_of_doors is provided as doors\n",
        "- manufactured_date is provided as completionDate\n",
        "- The field base_msrp_usd is provided as msrpUSD, and we want the serialization name to be baseMSRPUSD\n",
        "- we want the JSON serialized output of manufactured_date to be this pattern: YYYY/MM/DD (e.g. 2020/01/01), but serializing to a Python dict should remain as a date object."
      ],
      "metadata": {
        "id": "omJn7bJjjj4L"
      }
    },
    {
      "cell_type": "code",
      "source": [
        "data_json = '''\n",
        "{\n",
        "    \"manufacturer\": \"BMW\",\n",
        "    \"seriesName\": \"M4\",\n",
        "    \"type\": \"Convertible\",\n",
        "    \"isElectric\": false,\n",
        "    \"completionDate\": \"2023-01-01\",\n",
        "    \"msrpUSD\": 93300,\n",
        "    \"vin\": \"1234567890\",\n",
        "    \"doors\": 2,\n",
        "    \"registrationCountry\": \"France\",\n",
        "    \"licensePlate\": \"AAA-BBB\"\n",
        "}\n",
        "'''\n",
        "\n"
      ],
      "metadata": {
        "id": "9ANa7z-MjsXr"
      },
      "execution_count": 3,
      "outputs": []
    },
    {
      "cell_type": "code",
      "source": [
        "expected_serialized_dict = {\n",
        "    'manufacturer': 'BMW',\n",
        "    'series_name': 'M4',\n",
        "    'type_': AutomobileType.convertible,\n",
        "    'is_electric': False,\n",
        "    'manufactured_date': date(2023, 1, 1),\n",
        "    'base_msrp_usd': 93300.0,\n",
        "    'vin': '1234567890',\n",
        "    'number_of_doors': 2,\n",
        "    'registration_country': 'France',\n",
        "    'license_plate': 'AAA-BBB'\n",
        "}"
      ],
      "metadata": {
        "id": "f63r058NkEyF"
      },
      "execution_count": 4,
      "outputs": []
    },
    {
      "cell_type": "code",
      "source": [
        "expected_serialized_dict_by_alias = {\n",
        "    'manufacturer': 'BMW',\n",
        "    'seriesName': 'M4',\n",
        "    'type': AutomobileType.convertible,\n",
        "    'isElectric': False,\n",
        "    'manufacturedDate': date(2023, 1, 1),\n",
        "    'baseMSRPUSD': 93300.0,\n",
        "    'vin': '1234567890',\n",
        "    'numberOfDoors': 2,\n",
        "    'registrationCountry': 'France',\n",
        "    'licensePlate': 'AAA-BBB'\n",
        "}"
      ],
      "metadata": {
        "id": "CUrjzEhkkTXH"
      },
      "execution_count": 5,
      "outputs": []
    },
    {
      "cell_type": "code",
      "source": [
        "expected_serialized_json_by_alias = (\n",
        "    '{\"manufacturer\":\"BMW\",\"seriesName\":\"M4\",\"type\":\"Convertible\",'\n",
        "    '\"isElectric\":false,\"manufacturedDate\":\"2023/01/01\",\"baseMSRPUSD\":93300.0,'\n",
        "    '\"vin\":\"1234567890\",\"numberOfDoors\":2,\"registrationCountry\":\"France\",'\n",
        "    '\"licensePlate\":\"AAA-BBB\"}'\n",
        ")"
      ],
      "metadata": {
        "id": "t7vihAQqkfu_"
      },
      "execution_count": 6,
      "outputs": []
    },
    {
      "cell_type": "markdown",
      "source": [
        "## Solution"
      ],
      "metadata": {
        "id": "JhVNB7t9km70"
      }
    },
    {
      "cell_type": "code",
      "source": [
        "from pydantic import Field, field_serializer\n",
        "from pydantic.alias_generators import to_camel\n",
        "\n",
        "class Automobile(BaseModel):\n",
        "    model_config = ConfigDict(\n",
        "        extra=\"forbid\",\n",
        "        str_strip_whitespace=True,\n",
        "        validate_default=True,\n",
        "        validate_assignment=True,\n",
        "        alias_generator=to_camel,\n",
        "    )\n",
        "\n",
        "    manufacturer: str\n",
        "    series_name: str\n",
        "    type_: AutomobileType = Field(alias=\"type\")\n",
        "    is_electric: bool = False\n",
        "    manufactured_date: date = Field(validation_alias=\"completionDate\")\n",
        "    base_msrp_usd: float = Field(\n",
        "        validation_alias=\"msrpUSD\",\n",
        "        serialization_alias=\"baseMSRPUSD\"\n",
        "    )\n",
        "    vin: str\n",
        "    number_of_doors: int = Field(default=4, validation_alias=\"doors\")\n",
        "    registration_country: str | None = None\n",
        "    license_plate: str | None = None\n",
        "\n",
        "    @field_serializer(\"manufactured_date\", when_used=\"json-unless-none\")\n",
        "    def serialize_date(self, value: date) -> str:\n",
        "        return value.strftime(\"%Y/%m/%d\")"
      ],
      "metadata": {
        "id": "a_x5Joe1kgb6"
      },
      "execution_count": 7,
      "outputs": []
    },
    {
      "cell_type": "markdown",
      "source": [],
      "metadata": {
        "id": "IN2tssKxTtjs"
      }
    },
    {
      "cell_type": "code",
      "source": [
        "car = Automobile.model_validate_json(data_json)\n",
        "car"
      ],
      "metadata": {
        "colab": {
          "base_uri": "https://localhost:8080/"
        },
        "id": "uFXwL2eTlrhs",
        "outputId": "379a2b84-fd61-4957-c1ca-bf413de75f16"
      },
      "execution_count": 8,
      "outputs": [
        {
          "output_type": "execute_result",
          "data": {
            "text/plain": [
              "Automobile(manufacturer='BMW', series_name='M4', type_=<AutomobileType.convertible: 'Convertible'>, is_electric=False, manufactured_date=datetime.date(2023, 1, 1), base_msrp_usd=93300.0, vin='1234567890', number_of_doors=2, registration_country='France', license_plate='AAA-BBB')"
            ]
          },
          "metadata": {},
          "execution_count": 8
        }
      ]
    },
    {
      "cell_type": "code",
      "source": [
        "assert car.model_dump() == expected_serialized_dict"
      ],
      "metadata": {
        "id": "3I_tYPQ6lr1M"
      },
      "execution_count": 9,
      "outputs": []
    },
    {
      "cell_type": "code",
      "source": [
        "assert car.model_dump(by_alias=True) == expected_serialized_dict_by_alias"
      ],
      "metadata": {
        "id": "oGhh7C-KlvJO"
      },
      "execution_count": 10,
      "outputs": []
    },
    {
      "cell_type": "code",
      "source": [
        "assert car.model_dump_json(by_alias=True) == expected_serialized_json_by_alias"
      ],
      "metadata": {
        "id": "fxHdOkeVlzK4"
      },
      "execution_count": 11,
      "outputs": []
    },
    {
      "cell_type": "code",
      "source": [],
      "metadata": {
        "id": "Tx8dAiOTTut-"
      },
      "execution_count": null,
      "outputs": []
    },
    {
      "cell_type": "markdown",
      "source": [],
      "metadata": {
        "id": "3cXzjEr6TvIc"
      }
    },
    {
      "cell_type": "markdown",
      "source": [],
      "metadata": {
        "id": "fMpjUAOMTvL2"
      }
    },
    {
      "cell_type": "markdown",
      "source": [
        "## ANOTHER EXAMPLE"
      ],
      "metadata": {
        "id": "pt1GtfmuTvO3"
      }
    },
    {
      "cell_type": "code",
      "source": [
        "from datetime import datetime, timedelta, timezone\n",
        "\n",
        "from pydantic import BaseModel, ConfigDict, field_serializer\n",
        "from pydantic_core.core_schema import FieldSerializationInfo, SerializerFunctionWrapHandler\n",
        "\n",
        "class WithCustomEncoders(BaseModel):\n",
        "    model_config = ConfigDict(ser_json_timedelta='iso8601')\n",
        "\n",
        "    dt: datetime\n",
        "    diff: timedelta\n",
        "    diff2: timedelta\n",
        "\n",
        "    @field_serializer('dt')\n",
        "    def serialize_dt(self, dt: datetime, _info: FieldSerializationInfo):\n",
        "        print(_info)\n",
        "        return dt.timestamp()\n",
        "\n",
        "    # The decorator below executes first\n",
        "    @field_serializer('diff')\n",
        "    def ssse(self, diff: timedelta, info: FieldSerializationInfo):\n",
        "        print(info)\n",
        "        return diff.total_seconds()\n",
        "\n",
        "    @field_serializer('diff2', mode='wrap')\n",
        "    @staticmethod\n",
        "    def diff2_ser(diff2: timedelta, nxt: SerializerFunctionWrapHandler, info: FieldSerializationInfo):\n",
        "        value = nxt(diff2)\n",
        "        return value + 'postprocess'\n",
        "\n",
        "m = WithCustomEncoders(\n",
        "    dt=datetime(2032, 6, 1, tzinfo=timezone.utc), diff=timedelta(minutes=2),\n",
        "    diff2=timedelta(minutes=1)\n",
        ")\n",
        "\n",
        "print(m.model_dump_json())"
      ],
      "metadata": {
        "colab": {
          "base_uri": "https://localhost:8080/"
        },
        "id": "NkgVtqaRTwvq",
        "outputId": "e4b07198-f32c-48a7-8674-468e4a0f7af2"
      },
      "execution_count": 13,
      "outputs": [
        {
          "output_type": "stream",
          "name": "stdout",
          "text": [
            "SerializationInfo(include=None, exclude=None, mode='json', by_alias=False, exclude_unset=False, exclude_defaults=False, exclude_none=False, round_trip=False)\n",
            "SerializationInfo(include=None, exclude=None, mode='json', by_alias=False, exclude_unset=False, exclude_defaults=False, exclude_none=False, round_trip=False)\n",
            "{\"dt\":1969660800.0,\"diff\":120.0,\"diff2\":\"PT60Spostprocess\"}\n"
          ]
        }
      ]
    },
    {
      "cell_type": "code",
      "source": [
        "from typing import Dict, Any\n",
        "\n",
        "from pydantic import BaseModel, model_serializer\n",
        "from pydantic_core.core_schema import SerializerFunctionWrapHandler, SerializationInfo\n",
        "\n",
        "\n",
        "class Model(BaseModel):\n",
        "    x: str\n",
        "\n",
        "    @model_serializer\n",
        "    def ser_model(self, info: SerializationInfo):\n",
        "        print(info)\n",
        "        return {'x': f'xxxxxx {self.x}'}\n",
        "\n",
        "    @model_serializer(mode='wrap')\n",
        "    def ser_model_wrap(self, nxt: SerializerFunctionWrapHandler, info: SerializationInfo) -> Dict[str, Any]:\n",
        "        print(info)\n",
        "        return {'x': f'serialized {nxt(self)}'}\n",
        "\n",
        "\n",
        "print(Model(x='test value').model_dump_json())"
      ],
      "metadata": {
        "colab": {
          "base_uri": "https://localhost:8080/"
        },
        "id": "S-bzp_J0UKOF",
        "outputId": "72dcca72-16f9-4017-dfb6-69fd95d78b7f"
      },
      "execution_count": 12,
      "outputs": [
        {
          "output_type": "stream",
          "name": "stdout",
          "text": [
            "SerializationInfo(include=None, exclude=None, mode='json', by_alias=False, exclude_unset=False, exclude_defaults=False, exclude_none=False, round_trip=False)\n",
            "{\"x\":\"serialized {'x': 'test value'}\"}\n"
          ]
        }
      ]
    },
    {
      "cell_type": "markdown",
      "source": [
        "## Network Types\n",
        "The networks module contains types for common network-related fields."
      ],
      "metadata": {
        "id": "dlNfkF3q5voY"
      }
    },
    {
      "cell_type": "code",
      "source": [
        "from pydantic import BaseModel, EmailStr, NameEmail, ValidationError,AnyUrl\n",
        "\n",
        "class Model(BaseModel):\n",
        "    email: EmailStr\n",
        "\n",
        "try:\n",
        "    Model(email=\"john.smith@some-domain\")\n",
        "except ValidationError as ex:\n",
        "    print(ex)"
      ],
      "metadata": {
        "colab": {
          "base_uri": "https://localhost:8080/"
        },
        "id": "uq0Ocir67J0y",
        "outputId": "213586cd-feec-4f17-967f-32fc983f00a2"
      },
      "execution_count": 27,
      "outputs": [
        {
          "output_type": "stream",
          "name": "stdout",
          "text": [
            "1 validation error for Model\n",
            "email\n",
            "  value is not a valid email address: The part after the @-sign is not valid. It should have a period. [type=value_error, input_value='john.smith@some-domain', input_type=str]\n"
          ]
        }
      ]
    },
    {
      "cell_type": "code",
      "source": [
        "class Model(BaseModel):\n",
        "    email: NameEmail"
      ],
      "metadata": {
        "id": "J1eY1xWl7poF"
      },
      "execution_count": 19,
      "outputs": []
    },
    {
      "cell_type": "code",
      "source": [
        "m = Model(email=\"john.smith@some-domain.com\")\n",
        "m"
      ],
      "metadata": {
        "colab": {
          "base_uri": "https://localhost:8080/"
        },
        "id": "ZhKp73Re73Cj",
        "outputId": "15d5e1e1-6ed5-4df0-9e49-75ff55caa7bc"
      },
      "execution_count": 20,
      "outputs": [
        {
          "output_type": "execute_result",
          "data": {
            "text/plain": [
              "Model(email=NameEmail(name='john.smith', email='john.smith@some-domain.com'))"
            ]
          },
          "metadata": {},
          "execution_count": 20
        }
      ]
    },
    {
      "cell_type": "code",
      "source": [
        "m.email.name"
      ],
      "metadata": {
        "colab": {
          "base_uri": "https://localhost:8080/",
          "height": 35
        },
        "id": "UTO1yvox79Hd",
        "outputId": "029d5ab8-0715-4619-af91-e71298ecfc17"
      },
      "execution_count": 21,
      "outputs": [
        {
          "output_type": "execute_result",
          "data": {
            "text/plain": [
              "'john.smith'"
            ],
            "application/vnd.google.colaboratory.intrinsic+json": {
              "type": "string"
            }
          },
          "metadata": {},
          "execution_count": 21
        }
      ]
    },
    {
      "cell_type": "code",
      "source": [
        "m.email.email"
      ],
      "metadata": {
        "colab": {
          "base_uri": "https://localhost:8080/",
          "height": 35
        },
        "id": "iH9Tbvrh8acN",
        "outputId": "41cf738d-7453-46a7-ff20-cd9db842bfa3"
      },
      "execution_count": 22,
      "outputs": [
        {
          "output_type": "execute_result",
          "data": {
            "text/plain": [
              "'john.smith@some-domain.com'"
            ],
            "application/vnd.google.colaboratory.intrinsic+json": {
              "type": "string"
            }
          },
          "metadata": {},
          "execution_count": 22
        }
      ]
    },
    {
      "cell_type": "code",
      "source": [
        "m.model_dump()"
      ],
      "metadata": {
        "colab": {
          "base_uri": "https://localhost:8080/"
        },
        "id": "6W8hPek78euP",
        "outputId": "7f65c0e0-cabb-47f0-aa75-ec072949ae20"
      },
      "execution_count": 23,
      "outputs": [
        {
          "output_type": "execute_result",
          "data": {
            "text/plain": [
              "{'email': NameEmail(name='john.smith', email='john.smith@some-domain.com')}"
            ]
          },
          "metadata": {},
          "execution_count": 23
        }
      ]
    },
    {
      "cell_type": "code",
      "source": [
        "m.model_dump_json()"
      ],
      "metadata": {
        "colab": {
          "base_uri": "https://localhost:8080/",
          "height": 35
        },
        "id": "1Jf61nx58hPC",
        "outputId": "7013f83d-72db-4425-e0f6-a7c86474bab1"
      },
      "execution_count": 24,
      "outputs": [
        {
          "output_type": "execute_result",
          "data": {
            "text/plain": [
              "'{\"email\":\"john.smith <john.smith@some-domain.com>\"}'"
            ],
            "application/vnd.google.colaboratory.intrinsic+json": {
              "type": "string"
            }
          },
          "metadata": {},
          "execution_count": 24
        }
      ]
    },
    {
      "cell_type": "code",
      "source": [
        "m = Model(email=\"John Smith <john.smith@some-domain.com>\")\n",
        "m"
      ],
      "metadata": {
        "colab": {
          "base_uri": "https://localhost:8080/"
        },
        "id": "dwIgOufJ8nGe",
        "outputId": "8a21824a-4c4b-48a1-fe97-bdbddabf2b8b"
      },
      "execution_count": 25,
      "outputs": [
        {
          "output_type": "execute_result",
          "data": {
            "text/plain": [
              "Model(email=NameEmail(name='John Smith', email='john.smith@some-domain.com'))"
            ]
          },
          "metadata": {},
          "execution_count": 25
        }
      ]
    },
    {
      "cell_type": "markdown",
      "source": [
        "If the email-validator library isn't sufficient for your needs, you'll have to use custom validators and serializers.\n",
        "\n",
        "Let's turn our attention to some of the URL types."
      ],
      "metadata": {
        "id": "rLBH3Gns9son"
      }
    },
    {
      "cell_type": "code",
      "source": [
        "url = AnyUrl(\"https://www.google.com/search?q=pydantic\")\n",
        "url"
      ],
      "metadata": {
        "colab": {
          "base_uri": "https://localhost:8080/"
        },
        "id": "m5KgteWc9uO0",
        "outputId": "c131a1c2-bcf6-4baf-8fb7-6a290579061b"
      },
      "execution_count": 28,
      "outputs": [
        {
          "output_type": "execute_result",
          "data": {
            "text/plain": [
              "Url('https://www.google.com/search?q=pydantic')"
            ]
          },
          "metadata": {},
          "execution_count": 28
        }
      ]
    },
    {
      "cell_type": "code",
      "source": [
        "print(f\"{url.scheme=}\")\n",
        "print(f\"{url.host=}\")\n",
        "print(f\"{url.path=}\")\n",
        "print(f\"{url.query=}\")\n",
        "print(f\"{url.port=}\")\n",
        "print(f\"{url.username=}\")\n",
        "print(f\"{url.password=}\")"
      ],
      "metadata": {
        "colab": {
          "base_uri": "https://localhost:8080/"
        },
        "id": "LsNub1Pf99Y0",
        "outputId": "6573aece-c9d4-4568-99f9-c24e152d1c7c"
      },
      "execution_count": 30,
      "outputs": [
        {
          "output_type": "stream",
          "name": "stdout",
          "text": [
            "url.scheme='https'\n",
            "url.host='www.google.com'\n",
            "url.path='/search'\n",
            "url.query='q=pydantic'\n",
            "url.port=443\n",
            "url.username=None\n",
            "url.password=None\n"
          ]
        }
      ]
    },
    {
      "cell_type": "markdown",
      "source": [
        "When you have a bare URL (no path), like this for example:\n",
        "```\n",
        "https://www.google.com\n",
        "\n",
        "```\n",
        "When Pydantic deserializes this URL, it ADDS a trailing /. This was not the case with Pydantic V1, so be careful if you define a URL field that you then later use to concatenate with a path - if you use string concatenation you could end up with a double slash at the start of your URL."
      ],
      "metadata": {
        "id": "E4x9KtZ8-RE7"
      }
    },
    {
      "cell_type": "code",
      "source": [
        "from pydantic import HttpUrl\n",
        "\n",
        "class ExternalAPI(BaseModel):\n",
        "    root_url: HttpUrl\n",
        "\n",
        "api = ExternalAPI(root_url=\"https://api.myserver.com\")\n",
        "api"
      ],
      "metadata": {
        "colab": {
          "base_uri": "https://localhost:8080/"
        },
        "id": "0f1AgL1d-V3Q",
        "outputId": "fbc721d2-6fa3-401f-bf0a-4a4ffc46b849"
      },
      "execution_count": 31,
      "outputs": [
        {
          "output_type": "execute_result",
          "data": {
            "text/plain": [
              "ExternalAPI(root_url=Url('https://api.myserver.com/'))"
            ]
          },
          "metadata": {},
          "execution_count": 31
        }
      ]
    },
    {
      "cell_type": "markdown",
      "source": [
        "**Resource:\n",
        "\n",
        "-- http://windcf.com/archives/102\n",
        "\n",
        "-- https://zenn.dev/yosemat/articles/6834cfc8de0d86"
      ],
      "metadata": {
        "id": "_qRcAqGFVGzu"
      }
    },
    {
      "cell_type": "code",
      "source": [],
      "metadata": {
        "id": "qqLYa9vnVJ6r"
      },
      "execution_count": null,
      "outputs": []
    }
  ]
}