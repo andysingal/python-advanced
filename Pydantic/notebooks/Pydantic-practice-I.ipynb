{
 "cells": [
  {
   "cell_type": "markdown",
   "metadata": {},
   "source": [
    "### `Pydantic In A Nutshell`"
   ]
  },
  {
   "cell_type": "markdown",
   "metadata": {},
   "source": [
    "##### `Introduction to Pydantic`"
   ]
  },
  {
   "cell_type": "markdown",
   "metadata": {},
   "source": [
    "> * <span style=\"font-family: Monaco; font-size:.8em;\">what is pydantic?</span>\n",
    "> <ul style=\"font-family: Monaco; font-size:.6em;\">\n",
    "> <li style=\"margin-left: 0.6em;\">a library to declaratively define data models, plus a powerful validation engine</li>\n",
    "> </ul>\n",
    "\n",
    "<br/>\n",
    "\n",
    "> * <span style=\"font-family: Monaco; font-size:.8em;\">what is it good for?</span>\n",
    "> <ul style=\"font-family: Monaco; font-size:.6em;\">\n",
    "> <li style=\"margin-left: 0.6em;\">declarative definitions of data models and constraints</li>\n",
    "> <li style=\"margin-left: 0.6em;\">ensuring incoming and outgoing data adheres to model definitions and constraints</li>\n",
    "> <li style=\"margin-left: 0.6em;\">automatic generation of documentation, easy integration with type checkers, higher code clarity</li>\n",
    "> <li style=\"margin-left: 0.6em;\">easily convert models to and from various formats like JSON, YAML, XML, etc</li>\n",
    "> </ul>\n",
    "\n",
    "<br/>\n",
    "\n",
    "> * <span style=\"font-family: Monaco; font-size:.8em;\">pydantic workflow</span>\n",
    "> <ul style=\"font-family: Monaco; font-size:.6em;\">\n",
    "> <li style=\"margin-left: 0.6em;\">define data model, i.e. a python class that inherits from BaseModel</li>\n",
    "> <li style=\"margin-left: 0.6em;\">create instances of that model by passing data to the model constructor (serialize)</li>\n",
    "> <li style=\"margin-left: 0.6em;\">once instantiated, manipulate the attributes just like any other python object</li>\n",
    "> <li style=\"margin-left: 0.6em;\">optionally, deserialize the data object back out according to business logic</li>\n",
    "> </ul>"
   ]
  },
  {
   "cell_type": "markdown",
   "metadata": {},
   "source": [
    "##### `Our First Pydantic Model`"
   ]
  },
  {
   "cell_type": "code",
   "execution_count": 4,
   "metadata": {},
   "outputs": [],
   "source": [
    "# !pip install pydantic==2.5.3"
   ]
  },
  {
   "cell_type": "code",
   "execution_count": 3,
   "metadata": {},
   "outputs": [],
   "source": [
    "import pydantic"
   ]
  },
  {
   "cell_type": "code",
   "execution_count": 5,
   "metadata": {},
   "outputs": [
    {
     "name": "stdout",
     "output_type": "stream",
     "text": [
      "2.5.3\n"
     ]
    }
   ],
   "source": [
    "print(pydantic.VERSION)"
   ]
  },
  {
   "cell_type": "code",
   "execution_count": 6,
   "metadata": {},
   "outputs": [],
   "source": [
    "from pydantic import BaseModel"
   ]
  },
  {
   "cell_type": "code",
   "execution_count": 7,
   "metadata": {},
   "outputs": [],
   "source": [
    "class User(BaseModel):\n",
    "    pass"
   ]
  },
  {
   "cell_type": "code",
   "execution_count": 8,
   "metadata": {},
   "outputs": [],
   "source": [
    "class User(BaseModel):\n",
    "    name: str\n",
    "    age: int\n",
    "    email: str"
   ]
  },
  {
   "cell_type": "code",
   "execution_count": 10,
   "metadata": {},
   "outputs": [],
   "source": [
    "user = User(name=\"John Doe\", age=25, email=\"pony@gmail.com\")"
   ]
  },
  {
   "cell_type": "code",
   "execution_count": 11,
   "metadata": {},
   "outputs": [
    {
     "data": {
      "text/plain": [
       "User(name='John Doe', age=25, email='pony@gmail.com')"
      ]
     },
     "execution_count": 11,
     "metadata": {},
     "output_type": "execute_result"
    }
   ],
   "source": [
    "user"
   ]
  },
  {
   "cell_type": "code",
   "execution_count": 12,
   "metadata": {},
   "outputs": [
    {
     "data": {
      "text/plain": [
       "'John Doe'"
      ]
     },
     "execution_count": 12,
     "metadata": {},
     "output_type": "execute_result"
    }
   ],
   "source": [
    "user.name"
   ]
  },
  {
   "cell_type": "code",
   "execution_count": 13,
   "metadata": {},
   "outputs": [
    {
     "data": {
      "text/plain": [
       "25"
      ]
     },
     "execution_count": 13,
     "metadata": {},
     "output_type": "execute_result"
    }
   ],
   "source": [
    "user.age"
   ]
  },
  {
   "cell_type": "code",
   "execution_count": 14,
   "metadata": {},
   "outputs": [
    {
     "data": {
      "text/plain": [
       "'pony@gmail.com'"
      ]
     },
     "execution_count": 14,
     "metadata": {},
     "output_type": "execute_result"
    }
   ],
   "source": [
    "user.email"
   ]
  },
  {
   "cell_type": "code",
   "execution_count": 16,
   "metadata": {},
   "outputs": [
    {
     "name": "stdout",
     "output_type": "stream",
     "text": [
      "1 validation error for User\n",
      "age\n",
      "  Input should be a valid integer, unable to parse string as an integer [type=int_parsing, input_value='25pdofd', input_type=str]\n",
      "    For further information visit https://errors.pydantic.dev/2.5/v/int_parsing\n"
     ]
    }
   ],
   "source": [
    "try:\n",
    "    user = User(name=\"John Doe\", age=\"25pdofd\", email=\"pony@gmail.com\")\n",
    "except pydantic.ValidationError as e:\n",
    "    print(e)"
   ]
  },
  {
   "cell_type": "markdown",
   "metadata": {},
   "source": [
    "##### `Coercion And Strict Types`"
   ]
  },
  {
   "cell_type": "code",
   "execution_count": 17,
   "metadata": {},
   "outputs": [],
   "source": [
    "class User(BaseModel):\n",
    "    name: str\n",
    "    age: int\n",
    "    email: str"
   ]
  },
  {
   "cell_type": "code",
   "execution_count": 18,
   "metadata": {},
   "outputs": [
    {
     "name": "stdout",
     "output_type": "stream",
     "text": [
      "1 validation error for User\n",
      "age\n",
      "  Input should be a valid integer, unable to parse string as an integer [type=int_parsing, input_value='25idif', input_type=str]\n",
      "    For further information visit https://errors.pydantic.dev/2.5/v/int_parsing\n"
     ]
    }
   ],
   "source": [
    "try:\n",
    "    user = User(name='John Doe', age=\"25idif\", email=\"pony123@gmail.com\")\n",
    "except pydantic.ValidationError as e:\n",
    "    print(e)"
   ]
  },
  {
   "cell_type": "code",
   "execution_count": 19,
   "metadata": {},
   "outputs": [],
   "source": [
    "try:\n",
    "    user = User(name='John Doe', age=\"25\", email=\"pony123@gmail.com\")\n",
    "except pydantic.ValidationError as e:\n",
    "    print(e)"
   ]
  },
  {
   "cell_type": "code",
   "execution_count": 23,
   "metadata": {},
   "outputs": [
    {
     "data": {
      "text/plain": [
       "25"
      ]
     },
     "execution_count": 23,
     "metadata": {},
     "output_type": "execute_result"
    }
   ],
   "source": [
    "int(\"25\")"
   ]
  },
  {
   "cell_type": "code",
   "execution_count": 22,
   "metadata": {},
   "outputs": [],
   "source": [
    "# int(\"25idif\")"
   ]
  },
  {
   "cell_type": "code",
   "execution_count": 24,
   "metadata": {},
   "outputs": [],
   "source": [
    "class User(BaseModel):\n",
    "    name: str\n",
    "    age: int\n",
    "    email: str\n",
    "    \n",
    "    class Config:\n",
    "        strict = True"
   ]
  },
  {
   "cell_type": "code",
   "execution_count": 25,
   "metadata": {},
   "outputs": [
    {
     "name": "stdout",
     "output_type": "stream",
     "text": [
      "1 validation error for User\n",
      "age\n",
      "  Input should be a valid integer [type=int_type, input_value='25', input_type=str]\n",
      "    For further information visit https://errors.pydantic.dev/2.5/v/int_type\n"
     ]
    }
   ],
   "source": [
    "try:\n",
    "    user = User(name='John Doe', age=\"25\", email=\"pony123@gmail.com\")\n",
    "except pydantic.ValidationError as e:\n",
    "    print(e)"
   ]
  },
  {
   "cell_type": "code",
   "execution_count": 26,
   "metadata": {},
   "outputs": [],
   "source": [
    "from pydantic import StrictInt"
   ]
  },
  {
   "cell_type": "code",
   "execution_count": 27,
   "metadata": {},
   "outputs": [],
   "source": [
    "class User(BaseModel):\n",
    "    name: str\n",
    "    age: StrictInt\n",
    "    email: str"
   ]
  },
  {
   "cell_type": "code",
   "execution_count": 28,
   "metadata": {},
   "outputs": [
    {
     "name": "stdout",
     "output_type": "stream",
     "text": [
      "1 validation error for User\n",
      "age\n",
      "  Input should be a valid integer [type=int_type, input_value='25', input_type=str]\n",
      "    For further information visit https://errors.pydantic.dev/2.5/v/int_type\n"
     ]
    }
   ],
   "source": [
    "try:\n",
    "    user = User(name='John Doe', age=\"25\", email=\"pony123@gmail.com\")\n",
    "except pydantic.ValidationError as e:\n",
    "    print(e)"
   ]
  },
  {
   "cell_type": "markdown",
   "metadata": {},
   "source": [
    "##### `More Types And Constraints`"
   ]
  },
  {
   "cell_type": "code",
   "execution_count": 29,
   "metadata": {},
   "outputs": [],
   "source": [
    "from pydantic import StrictInt\n",
    "\n",
    "class User(BaseModel):\n",
    "    name: str\n",
    "    age: StrictInt\n",
    "    email: str\n",
    "\n",
    "try:\n",
    "    user = User(name='John Doe', age=25, email=\"pony123@gmail.com\")\n",
    "except pydantic.ValidationError as e:\n",
    "    print(e)"
   ]
  },
  {
   "cell_type": "markdown",
   "metadata": {},
   "source": [
    "> some additional conditions...\n",
    "\n",
    "    * age should be between 18 and 120 years old\n",
    "    * name should be between 3 and 50 characters long\n",
    "    * email should be a valid email address"
   ]
  },
  {
   "cell_type": "code",
   "execution_count": 30,
   "metadata": {},
   "outputs": [],
   "source": [
    "from pydantic import Field"
   ]
  },
  {
   "cell_type": "code",
   "execution_count": 31,
   "metadata": {},
   "outputs": [],
   "source": [
    "class User(BaseModel):\n",
    "    name: str\n",
    "    age: StrictInt = Field(ge=18, le=120)\n",
    "    email: str"
   ]
  },
  {
   "cell_type": "code",
   "execution_count": 37,
   "metadata": {},
   "outputs": [],
   "source": [
    "try:\n",
    "    user = User(name='John Doe', age=29, email=\"pony123@gmail.com\")\n",
    "except pydantic.ValidationError as e:\n",
    "    print(e)"
   ]
  },
  {
   "cell_type": "code",
   "execution_count": 38,
   "metadata": {},
   "outputs": [],
   "source": [
    "class User(BaseModel):\n",
    "    name: str = Field(min_length=3, max_length=50)\n",
    "    age: StrictInt = Field(ge=18, le=120)\n",
    "    email: str "
   ]
  },
  {
   "cell_type": "code",
   "execution_count": 40,
   "metadata": {},
   "outputs": [],
   "source": [
    "try:\n",
    "    user = User(name='Joni', age=29, email=\"pony123@gmail.com\")\n",
    "except pydantic.ValidationError as e:\n",
    "    print(e)"
   ]
  },
  {
   "cell_type": "code",
   "execution_count": 41,
   "metadata": {},
   "outputs": [],
   "source": [
    "from pydantic import EmailStr"
   ]
  },
  {
   "cell_type": "code",
   "execution_count": 44,
   "metadata": {},
   "outputs": [],
   "source": [
    "class User(BaseModel):\n",
    "    name: str = Field(min_length=3, max_length=50)\n",
    "    age: StrictInt = Field(ge=18, le=120)\n",
    "    email: EmailStr "
   ]
  },
  {
   "cell_type": "code",
   "execution_count": 49,
   "metadata": {},
   "outputs": [],
   "source": [
    "try:\n",
    "    user = User(name='Joni', age=29, email=\"pony123@gmail.com\")\n",
    "except pydantic.ValidationError as e:\n",
    "    print(e)"
   ]
  },
  {
   "cell_type": "code",
   "execution_count": null,
   "metadata": {},
   "outputs": [],
   "source": [
    "# pip install pydantic[email]"
   ]
  },
  {
   "cell_type": "code",
   "execution_count": null,
   "metadata": {},
   "outputs": [],
   "source": []
  },
  {
   "cell_type": "code",
   "execution_count": null,
   "metadata": {},
   "outputs": [],
   "source": []
  },
  {
   "cell_type": "code",
   "execution_count": 43,
   "metadata": {},
   "outputs": [
    {
     "name": "stdout",
     "output_type": "stream",
     "text": [
      "Collecting email-validator==2.1.0\n",
      "  Using cached email_validator-2.1.0-py3-none-any.whl (32 kB)\n",
      "Collecting dnspython>=2.0.0\n",
      "  Using cached dnspython-2.4.2-py3-none-any.whl (300 kB)\n",
      "Collecting idna>=2.0.0\n",
      "  Using cached idna-3.6-py3-none-any.whl (61 kB)\n",
      "\u001b[33mWARNING: The candidate selected for download or install is a yanked version: 'email-validator' candidate (version 2.1.0 at https://files.pythonhosted.org/packages/90/41/4767ff64e422734487a06384a66e62615b1f5cf9cf3b23295e22d3ecf711/email_validator-2.1.0-py3-none-any.whl#sha256=4496ecc949b51e42d1c9e6159d57cd04ef017af57d2e366ed7fd998f1bf8af69 (from https://pypi.org/simple/email-validator/) (requires-python:>=3.7))\n",
      "Reason for being yanked: Forgot to drop Python 3.7 from python_requires, see https://github.com/JoshData/python-email-validator/pull/118\u001b[0m\n",
      "Installing collected packages: idna, dnspython, email-validator\n",
      "Successfully installed dnspython-2.4.2 email-validator-2.1.0 idna-3.6\n",
      "\u001b[33mWARNING: You are using pip version 21.2.4; however, version 23.3.2 is available.\n",
      "You should consider upgrading via the '/Users/sh7ata/pydantic-course/pydantic-env/bin/python -m pip install --upgrade pip' command.\u001b[0m\n"
     ]
    }
   ],
   "source": [
    "!pip install email-validator==2.1.0"
   ]
  },
  {
   "cell_type": "markdown",
   "metadata": {},
   "source": [
    "### `Type Hinting Foundations`"
   ]
  },
  {
   "cell_type": "markdown",
   "metadata": {},
   "source": [
    "##### `Date And Time Types`"
   ]
  },
  {
   "cell_type": "code",
   "execution_count": 50,
   "metadata": {},
   "outputs": [],
   "source": [
    "from datetime import date"
   ]
  },
  {
   "cell_type": "code",
   "execution_count": 51,
   "metadata": {},
   "outputs": [],
   "source": [
    "# 2024-01-01"
   ]
  },
  {
   "cell_type": "code",
   "execution_count": 53,
   "metadata": {},
   "outputs": [],
   "source": [
    "from pydantic import BaseModel"
   ]
  },
  {
   "cell_type": "code",
   "execution_count": 54,
   "metadata": {},
   "outputs": [],
   "source": [
    "class Event(BaseModel):\n",
    "    event_date: date"
   ]
  },
  {
   "cell_type": "code",
   "execution_count": 58,
   "metadata": {},
   "outputs": [],
   "source": [
    "try: \n",
    "    event = Event(event_date=\"2024-03-03\")\n",
    "    # event = Event(event_date=\"2024\")\n",
    "except pydantic.ValidationError as e:\n",
    "    print(e)"
   ]
  },
  {
   "cell_type": "code",
   "execution_count": 59,
   "metadata": {},
   "outputs": [],
   "source": [
    "from datetime import time"
   ]
  },
  {
   "cell_type": "code",
   "execution_count": 60,
   "metadata": {},
   "outputs": [],
   "source": [
    "class Event(BaseModel):\n",
    "    event_date: date\n",
    "    event_time: time"
   ]
  },
  {
   "cell_type": "code",
   "execution_count": 63,
   "metadata": {},
   "outputs": [],
   "source": [
    "try: \n",
    "    event = Event(event_date=\"2024-03-03\", event_time=\"14:30:00\")\n",
    "    # event = Event(event_date=\"2024\")\n",
    "except pydantic.ValidationError as e:\n",
    "    print(e)"
   ]
  },
  {
   "cell_type": "code",
   "execution_count": 64,
   "metadata": {},
   "outputs": [],
   "source": [
    "from datetime import datetime"
   ]
  },
  {
   "cell_type": "code",
   "execution_count": 65,
   "metadata": {},
   "outputs": [],
   "source": [
    "class Appointment(BaseModel):\n",
    "    start_time: datetime"
   ]
  },
  {
   "cell_type": "code",
   "execution_count": 71,
   "metadata": {},
   "outputs": [
    {
     "name": "stdout",
     "output_type": "stream",
     "text": [
      "1 validation error for Appointment\n",
      "start_time\n",
      "  Input should be a valid datetime, invalid character in year [type=datetime_parsing, input_value='HELLO2023-01-01T10:00:00', input_type=str]\n",
      "    For further information visit https://errors.pydantic.dev/2.5/v/datetime_parsing\n"
     ]
    }
   ],
   "source": [
    "try: \n",
    "    # appt = Appointment(start_time=datetime.now())\n",
    "    # appt = Appointment(start_time=\"2023-01-01T10:00:00\")\n",
    "    \n",
    "    appt = Appointment(start_time=\"HELLO2023-01-01T10:00:00\")\n",
    "    # event = Event(event_date=\"2024\")\n",
    "except pydantic.ValidationError as e:\n",
    "    print(e)"
   ]
  },
  {
   "cell_type": "code",
   "execution_count": 70,
   "metadata": {},
   "outputs": [
    {
     "data": {
      "text/plain": [
       "datetime.datetime(2023, 1, 1, 10, 0)"
      ]
     },
     "execution_count": 70,
     "metadata": {},
     "output_type": "execute_result"
    }
   ],
   "source": [
    "appt.start_time"
   ]
  },
  {
   "cell_type": "markdown",
   "metadata": {},
   "source": [
    "##### `Lists And Nested Lists`"
   ]
  },
  {
   "cell_type": "code",
   "execution_count": 72,
   "metadata": {},
   "outputs": [
    {
     "data": {
      "text/plain": [
       "[2, 4, 6, 8, 10]"
      ]
     },
     "execution_count": 72,
     "metadata": {},
     "output_type": "execute_result"
    }
   ],
   "source": [
    "[2, 4, 6, 8, 10]"
   ]
  },
  {
   "cell_type": "code",
   "execution_count": 74,
   "metadata": {},
   "outputs": [
    {
     "data": {
      "text/plain": [
       "[2, 4, 6, 8, 10]"
      ]
     },
     "execution_count": 74,
     "metadata": {},
     "output_type": "execute_result"
    }
   ],
   "source": [
    "[x for x in range(1, 11) if x % 2 == 0]"
   ]
  },
  {
   "cell_type": "code",
   "execution_count": 75,
   "metadata": {},
   "outputs": [],
   "source": [
    "from typing import List"
   ]
  },
  {
   "cell_type": "code",
   "execution_count": 81,
   "metadata": {},
   "outputs": [
    {
     "data": {
      "text/plain": [
       "list"
      ]
     },
     "execution_count": 81,
     "metadata": {},
     "output_type": "execute_result"
    }
   ],
   "source": [
    "list"
   ]
  },
  {
   "cell_type": "code",
   "execution_count": 84,
   "metadata": {},
   "outputs": [],
   "source": [
    "class ShoppingList(BaseModel):\n",
    "    items: List[str]\n",
    "    # items: list[str]"
   ]
  },
  {
   "cell_type": "code",
   "execution_count": 83,
   "metadata": {},
   "outputs": [
    {
     "name": "stdout",
     "output_type": "stream",
     "text": [
      "items=['apple', 'banana', 'cherry']\n"
     ]
    }
   ],
   "source": [
    "try:\n",
    "    shopping_list = ShoppingList(items=[\"apple\", \"banana\", \"cherry\"])\n",
    "    print(shopping_list)\n",
    "except pydantic.ValidationError as e:\n",
    "    print(e)"
   ]
  },
  {
   "cell_type": "code",
   "execution_count": 85,
   "metadata": {},
   "outputs": [],
   "source": [
    "from pydantic import Field"
   ]
  },
  {
   "cell_type": "code",
   "execution_count": 86,
   "metadata": {},
   "outputs": [],
   "source": [
    "class ShoppingList(BaseModel):\n",
    "    items: List[str] = Field(max_items=5, min_items=2)"
   ]
  },
  {
   "cell_type": "code",
   "execution_count": 87,
   "metadata": {},
   "outputs": [
    {
     "name": "stdout",
     "output_type": "stream",
     "text": [
      "1 validation error for ShoppingList\n",
      "items\n",
      "  List should have at least 2 items after validation, not 1 [type=too_short, input_value=['apple'], input_type=list]\n",
      "    For further information visit https://errors.pydantic.dev/2.5/v/too_short\n"
     ]
    }
   ],
   "source": [
    "try:\n",
    "    shopping_list = ShoppingList(items=[\"apple\"])\n",
    "    print(shopping_list)\n",
    "except pydantic.ValidationError as e:\n",
    "    print(e)"
   ]
  },
  {
   "cell_type": "code",
   "execution_count": 88,
   "metadata": {},
   "outputs": [],
   "source": [
    "class Matrix(BaseModel):\n",
    "    grid: List[List[int]]"
   ]
  },
  {
   "cell_type": "code",
   "execution_count": 91,
   "metadata": {},
   "outputs": [
    {
     "name": "stdout",
     "output_type": "stream",
     "text": [
      "grid=[[1, 2, 3], [3, 4, 9]]\n"
     ]
    }
   ],
   "source": [
    "try:\n",
    "    matrix = Matrix(grid=[[1,2,3], [3,4,9]])\n",
    "    print(matrix)\n",
    "except pydantic.ValidationError as e:\n",
    "    print(e)"
   ]
  },
  {
   "cell_type": "code",
   "execution_count": 92,
   "metadata": {},
   "outputs": [],
   "source": [
    "class Ingedient(BaseModel):\n",
    "    name: str\n",
    "    quantity: float"
   ]
  },
  {
   "cell_type": "code",
   "execution_count": 93,
   "metadata": {},
   "outputs": [],
   "source": [
    "class Repice(BaseModel):\n",
    "    ingredients: List[Ingedient]"
   ]
  },
  {
   "cell_type": "code",
   "execution_count": 94,
   "metadata": {},
   "outputs": [
    {
     "name": "stdout",
     "output_type": "stream",
     "text": [
      "ingredients=[Ingedient(name='salt', quantity=0.3), Ingedient(name='pepper', quantity=0.6), Ingedient(name='chicken breast', quantity=4.6)]\n"
     ]
    }
   ],
   "source": [
    "try:\n",
    "    recipe = Repice(ingredients=[\n",
    "        Ingedient(name=\"salt\", quantity=0.3),\n",
    "        Ingedient(name=\"pepper\", quantity=0.6),\n",
    "        Ingedient(name=\"chicken breast\", quantity=4.6),\n",
    "    ])\n",
    "    print(recipe)\n",
    "except pydantic.ValidationError as e:\n",
    "    print(e)"
   ]
  },
  {
   "cell_type": "markdown",
   "metadata": {},
   "source": [
    "##### `Dictionaries And Typed Key-Values`"
   ]
  },
  {
   "cell_type": "code",
   "execution_count": 116,
   "metadata": {},
   "outputs": [],
   "source": [
    "# either dict (built-in) or Dict (from typing)"
   ]
  },
  {
   "cell_type": "code",
   "execution_count": 138,
   "metadata": {},
   "outputs": [],
   "source": [
    "from pydantic import BaseModel\n",
    "from typing import Dict\n",
    "\n",
    "class UserProfiles(BaseModel):\n",
    "    profiles: Dict[str, int]"
   ]
  },
  {
   "cell_type": "code",
   "execution_count": 142,
   "metadata": {},
   "outputs": [],
   "source": [
    "try:\n",
    "    user_profiles = UserProfiles(profiles={\"alice\": 25, \"bob\": 23})\n",
    "    # user_profiles = UserProfiles(profiles={\"alice\": \"25\", \"bob\": 23})\n",
    "    # user_profiles = UserProfiles(profiles={\"alice\": \"25asfasd\", \"bob\": 23})\n",
    "except pydantic.ValidationError as e:\n",
    "    print(e)"
   ]
  },
  {
   "cell_type": "code",
   "execution_count": 144,
   "metadata": {},
   "outputs": [
    {
     "data": {
      "text/plain": [
       "2"
      ]
     },
     "execution_count": 144,
     "metadata": {},
     "output_type": "execute_result"
    }
   ],
   "source": [
    "len(user_profiles.profiles)"
   ]
  },
  {
   "cell_type": "code",
   "execution_count": 145,
   "metadata": {},
   "outputs": [],
   "source": [
    "from pydantic import Field\n",
    "\n",
    "class UserProfiles(BaseModel):\n",
    "    profiles: Dict[str, int] = Field(min_items=2)"
   ]
  },
  {
   "cell_type": "code",
   "execution_count": null,
   "metadata": {},
   "outputs": [],
   "source": []
  },
  {
   "cell_type": "code",
   "execution_count": 146,
   "metadata": {},
   "outputs": [],
   "source": [
    "class Product(BaseModel):\n",
    "    name: str\n",
    "    price: float\n",
    "    \n",
    "class ProductCatalog(BaseModel):\n",
    "    products: Dict[str, Product]"
   ]
  },
  {
   "cell_type": "code",
   "execution_count": 150,
   "metadata": {},
   "outputs": [],
   "source": [
    "try:\n",
    "    catalog = ProductCatalog(\n",
    "        products={\n",
    "            \"p1\": Product(name=\"tea\", price=4.99),\n",
    "            \"p2\": Product(name=\"coffee\", price=3.99),\n",
    "            \"p3\": {\"name\": \"pasta\", \"price\": 13.09}\n",
    "        }\n",
    "    )\n",
    "except pydantic.ValidationError as e:\n",
    "    print(e)"
   ]
  },
  {
   "cell_type": "code",
   "execution_count": 151,
   "metadata": {},
   "outputs": [
    {
     "data": {
      "text/plain": [
       "ProductCatalog(products={'p1': Product(name='tea', price=4.99), 'p2': Product(name='coffee', price=3.99), 'p3': Product(name='pasta', price=13.09)})"
      ]
     },
     "execution_count": 151,
     "metadata": {},
     "output_type": "execute_result"
    }
   ],
   "source": [
    "catalog"
   ]
  },
  {
   "cell_type": "code",
   "execution_count": 152,
   "metadata": {},
   "outputs": [],
   "source": [
    "class Order(BaseModel):\n",
    "    product_id: str\n",
    "    quantity: int\n",
    "    \n",
    "class OrderBook(BaseModel):\n",
    "    orders: Dict[str, Dict[str, Order]]"
   ]
  },
  {
   "cell_type": "code",
   "execution_count": 154,
   "metadata": {},
   "outputs": [],
   "source": [
    "order_book = OrderBook(\n",
    "    orders={\n",
    "        \"o1\": {\"i1\": Order(product_id=\"A1\", quantity=2)}\n",
    "    }\n",
    ")"
   ]
  },
  {
   "cell_type": "markdown",
   "metadata": {},
   "source": [
    "##### `Sets And Tuples`"
   ]
  },
  {
   "cell_type": "code",
   "execution_count": 157,
   "metadata": {},
   "outputs": [],
   "source": [
    "# set(), tuple()"
   ]
  },
  {
   "cell_type": "code",
   "execution_count": 155,
   "metadata": {},
   "outputs": [
    {
     "name": "stdout",
     "output_type": "stream",
     "text": [
      "values={1, 2, 3, 4}\n"
     ]
    }
   ],
   "source": [
    "from pydantic import BaseModel, Field, ValidationError\n",
    "from typing import Set\n",
    "\n",
    "class UniqueNumbers(BaseModel):\n",
    "    values: Set[int] = Field(max_items=10, min_items=2)\n",
    "    \n",
    "try:\n",
    "    unique_numbers = UniqueNumbers(values={1, 2, 3, 4, \"4\"})\n",
    "    print(unique_numbers)\n",
    "except ValidationError as e:\n",
    "    print(e)"
   ]
  },
  {
   "cell_type": "code",
   "execution_count": null,
   "metadata": {},
   "outputs": [],
   "source": []
  },
  {
   "cell_type": "code",
   "execution_count": 158,
   "metadata": {},
   "outputs": [],
   "source": [
    "from typing import Tuple\n",
    "\n",
    "class Coordinates(BaseModel):\n",
    "    point: Tuple[float, float, float]"
   ]
  },
  {
   "cell_type": "code",
   "execution_count": 159,
   "metadata": {},
   "outputs": [],
   "source": [
    "# target shape: \n",
    "coordinates = Coordinates(point=(1.0, 2.0, 3.0))"
   ]
  },
  {
   "cell_type": "code",
   "execution_count": 160,
   "metadata": {},
   "outputs": [
    {
     "name": "stdout",
     "output_type": "stream",
     "text": [
      "point=(1.0, 2.0, 3.0)\n"
     ]
    }
   ],
   "source": [
    "print(coordinates)"
   ]
  },
  {
   "cell_type": "code",
   "execution_count": null,
   "metadata": {},
   "outputs": [],
   "source": [
    "# tuple -> (name, age, is_admin) -> "
   ]
  },
  {
   "cell_type": "code",
   "execution_count": 161,
   "metadata": {},
   "outputs": [],
   "source": [
    "class UserInfo(BaseModel):\n",
    "    details: Tuple[int, str, bool]"
   ]
  },
  {
   "cell_type": "code",
   "execution_count": 163,
   "metadata": {},
   "outputs": [],
   "source": [
    "user_info = UserInfo(details=(42, \"Answer\", True))"
   ]
  },
  {
   "cell_type": "code",
   "execution_count": 164,
   "metadata": {},
   "outputs": [
    {
     "data": {
      "text/plain": [
       "UserInfo(details=(42, 'Answer', True))"
      ]
     },
     "execution_count": 164,
     "metadata": {},
     "output_type": "execute_result"
    }
   ],
   "source": [
    "user_info"
   ]
  },
  {
   "cell_type": "code",
   "execution_count": 165,
   "metadata": {},
   "outputs": [],
   "source": [
    "class GroceryList(BaseModel):\n",
    "    items: Tuple[str, ...]"
   ]
  },
  {
   "cell_type": "code",
   "execution_count": 167,
   "metadata": {},
   "outputs": [
    {
     "data": {
      "text/plain": [
       "GroceryList(items=('apples',))"
      ]
     },
     "execution_count": 167,
     "metadata": {},
     "output_type": "execute_result"
    }
   ],
   "source": [
    "GroceryList(items=(\"apples\",))"
   ]
  },
  {
   "cell_type": "code",
   "execution_count": 174,
   "metadata": {},
   "outputs": [
    {
     "data": {
      "text/plain": [
       "GroceryList(items=('apples', 'kiwi', 'watermelon'))"
      ]
     },
     "execution_count": 174,
     "metadata": {},
     "output_type": "execute_result"
    }
   ],
   "source": [
    "GroceryList(items=(\"apples\", \"kiwi\", \"watermelon\"))"
   ]
  },
  {
   "cell_type": "code",
   "execution_count": null,
   "metadata": {},
   "outputs": [],
   "source": []
  },
  {
   "cell_type": "code",
   "execution_count": null,
   "metadata": {},
   "outputs": [],
   "source": []
  },
  {
   "cell_type": "code",
   "execution_count": null,
   "metadata": {},
   "outputs": [],
   "source": []
  },
  {
   "cell_type": "code",
   "execution_count": 169,
   "metadata": {},
   "outputs": [
    {
     "data": {
      "text/plain": [
       "str"
      ]
     },
     "execution_count": 169,
     "metadata": {},
     "output_type": "execute_result"
    }
   ],
   "source": [
    "type((\"apples\"))"
   ]
  },
  {
   "cell_type": "code",
   "execution_count": 171,
   "metadata": {},
   "outputs": [
    {
     "data": {
      "text/plain": [
       "tuple"
      ]
     },
     "execution_count": 171,
     "metadata": {},
     "output_type": "execute_result"
    }
   ],
   "source": [
    "type((\"apples\",))"
   ]
  },
  {
   "cell_type": "code",
   "execution_count": 173,
   "metadata": {},
   "outputs": [
    {
     "data": {
      "text/plain": [
       "tuple"
      ]
     },
     "execution_count": 173,
     "metadata": {},
     "output_type": "execute_result"
    }
   ],
   "source": [
    "type((\"apples\", \"bananas\"))"
   ]
  },
  {
   "cell_type": "markdown",
   "metadata": {},
   "source": [
    "##### `Unions`"
   ]
  },
  {
   "cell_type": "code",
   "execution_count": 177,
   "metadata": {},
   "outputs": [],
   "source": [
    "from pydantic import BaseModel\n",
    "\n",
    "class Car(BaseModel):\n",
    "    make: str\n",
    "    model: str\n",
    "    seat_count: int\n",
    "\n",
    "class Motorcycle(BaseModel):\n",
    "    make: str\n",
    "    model: str\n",
    "    has_sidecar: bool\n",
    "\n",
    "class Truck(BaseModel):\n",
    "    make: str\n",
    "    model: str\n",
    "    payload_capacity: float"
   ]
  },
  {
   "cell_type": "code",
   "execution_count": 178,
   "metadata": {},
   "outputs": [],
   "source": [
    "from typing import Union"
   ]
  },
  {
   "cell_type": "code",
   "execution_count": 179,
   "metadata": {},
   "outputs": [],
   "source": [
    "class Vehicle(BaseModel):\n",
    "    owner: str\n",
    "    vehicle_details: Union[Car, Motorcycle, Truck]"
   ]
  },
  {
   "cell_type": "code",
   "execution_count": 180,
   "metadata": {},
   "outputs": [
    {
     "data": {
      "text/plain": [
       "Vehicle(owner='Alice', vehicle_details=Car(make='Tesla', model='S', seat_count=5))"
      ]
     },
     "execution_count": 180,
     "metadata": {},
     "output_type": "execute_result"
    }
   ],
   "source": [
    "Vehicle(owner=\"Alice\", vehicle_details=Car(make=\"Tesla\", model=\"S\", seat_count=5))"
   ]
  },
  {
   "cell_type": "code",
   "execution_count": 182,
   "metadata": {},
   "outputs": [
    {
     "data": {
      "text/plain": [
       "Vehicle(owner='Alice', vehicle_details=Motorcycle(make='HD', model='Softail', has_sidecar=False))"
      ]
     },
     "execution_count": 182,
     "metadata": {},
     "output_type": "execute_result"
    }
   ],
   "source": [
    "Vehicle(owner=\"Alice\", vehicle_details=Motorcycle(make=\"HD\", model=\"Softail\", has_sidecar=False))"
   ]
  },
  {
   "cell_type": "code",
   "execution_count": 183,
   "metadata": {},
   "outputs": [],
   "source": [
    "from pydantic import BaseModel\n",
    "\n",
    "class VehicleBase(BaseModel):\n",
    "    make: str\n",
    "    model: str\n",
    "\n",
    "class Car(VehicleBase):\n",
    "    seat_count: int\n",
    "\n",
    "class Motorcycle(VehicleBase):\n",
    "    has_sidecar: bool\n",
    "\n",
    "class Truck(VehicleBase):\n",
    "    payload_capacity: float"
   ]
  },
  {
   "cell_type": "markdown",
   "metadata": {},
   "source": [
    "### `Factories, Enums, And Other Props`"
   ]
  },
  {
   "cell_type": "markdown",
   "metadata": {},
   "source": [
    "##### `Optional, Any And Defaults`"
   ]
  },
  {
   "cell_type": "code",
   "execution_count": 187,
   "metadata": {},
   "outputs": [
    {
     "name": "stdout",
     "output_type": "stream",
     "text": [
      "1 validation error for User\n",
      "age\n",
      "  Field required [type=missing, input_value={'name': 'Alice'}, input_type=dict]\n",
      "    For further information visit https://errors.pydantic.dev/2.5/v/missing\n"
     ]
    }
   ],
   "source": [
    "from pydantic import BaseModel, ValidationError\n",
    "\n",
    "class User(BaseModel):\n",
    "    name: str\n",
    "    age: int\n",
    "    \n",
    "try: \n",
    "    user1 = User(name=\"Alice\")\n",
    "    print(user1.age)\n",
    "except ValidationError as e:\n",
    "    print(e)"
   ]
  },
  {
   "cell_type": "code",
   "execution_count": 188,
   "metadata": {},
   "outputs": [
    {
     "name": "stdout",
     "output_type": "stream",
     "text": [
      "None\n"
     ]
    }
   ],
   "source": [
    "from pydantic import BaseModel, ValidationError\n",
    "from typing import Optional\n",
    "\n",
    "class User(BaseModel):\n",
    "    name: str\n",
    "    age: Optional[int] = None\n",
    "    \n",
    "try: \n",
    "    user1 = User(name=\"Alice\")\n",
    "    print(user1.age)\n",
    "except ValidationError as e:\n",
    "    print(e)"
   ]
  },
  {
   "cell_type": "code",
   "execution_count": 189,
   "metadata": {},
   "outputs": [
    {
     "data": {
      "text/plain": [
       "User(name='Alice', age=None)"
      ]
     },
     "execution_count": 189,
     "metadata": {},
     "output_type": "execute_result"
    }
   ],
   "source": [
    "user1"
   ]
  },
  {
   "cell_type": "code",
   "execution_count": null,
   "metadata": {},
   "outputs": [],
   "source": []
  },
  {
   "cell_type": "markdown",
   "metadata": {},
   "source": [
    "> * if you want a value to not be required at instantiation set a default alongside a type annotation, e.g. age: int = 33\n",
    "\n",
    "> * if, in addition to not being required, you want the field to be nullable, meaning possibly assume the value of None, then all you need to do is wrap the type in Optional, e.g. age: Optional[int] = 33\n",
    "\n",
    "> * if, in addition to nullable and not being required, you also want the field to not be type checked, then you use Any instead of the type, alongside a specified default, e.g. age: Any = 33"
   ]
  },
  {
   "cell_type": "code",
   "execution_count": null,
   "metadata": {},
   "outputs": [],
   "source": []
  },
  {
   "cell_type": "code",
   "execution_count": null,
   "metadata": {},
   "outputs": [],
   "source": [
    "from typing import Any\n",
    "\n",
    "class Mnemonic(BaseModel):\n",
    "    requiredIntQuantity: int\n",
    "    optionalIntQuantity: int = 10\n",
    "    optionalIntQuantityNullable: Optional[int] = 10\n",
    "    optionalAnyTypeQuantity: Any = 10"
   ]
  },
  {
   "cell_type": "markdown",
   "metadata": {},
   "source": [
    "##### `UUIDs And Default Factories`"
   ]
  },
  {
   "cell_type": "code",
   "execution_count": 193,
   "metadata": {},
   "outputs": [],
   "source": [
    "# UUID -> universally unique identifiers\n",
    "# GUID -> globally unique identifiers\n",
    "\n",
    "# e.g. da3a3ea3-1b95-4b35-ad10-3ac541d4bde7"
   ]
  },
  {
   "cell_type": "code",
   "execution_count": 195,
   "metadata": {},
   "outputs": [],
   "source": [
    "import uuid"
   ]
  },
  {
   "cell_type": "code",
   "execution_count": 213,
   "metadata": {},
   "outputs": [
    {
     "name": "stdout",
     "output_type": "stream",
     "text": [
      "b8822965-2f78-41bb-b9f1-d36f26eb10be\n"
     ]
    }
   ],
   "source": [
    "print(uuid.uuid4())"
   ]
  },
  {
   "cell_type": "code",
   "execution_count": null,
   "metadata": {},
   "outputs": [],
   "source": []
  },
  {
   "cell_type": "code",
   "execution_count": 214,
   "metadata": {},
   "outputs": [],
   "source": [
    "class User(BaseModel):\n",
    "    id: uuid.UUID\n",
    "    name: str"
   ]
  },
  {
   "cell_type": "code",
   "execution_count": 218,
   "metadata": {},
   "outputs": [
    {
     "name": "stdout",
     "output_type": "stream",
     "text": [
      "id=UUID('58f37850-1f76-4fd5-9e34-2e1a80129900') name='Allison'\n"
     ]
    }
   ],
   "source": [
    "try:\n",
    "    user = User(id=uuid.uuid4(), name=\"Allison\")\n",
    "    \n",
    "    # user = User(id=\"asdflksadjflj1329412a\", name=\"Allison\")    \n",
    "    print(user)\n",
    "except pydantic.ValidationError as e:\n",
    "    print(e)"
   ]
  },
  {
   "cell_type": "code",
   "execution_count": 219,
   "metadata": {},
   "outputs": [],
   "source": [
    "from pydantic import Field\n",
    "\n",
    "class User(BaseModel):\n",
    "    id: uuid.UUID = Field(default_factory=lambda: uuid.uuid4())\n",
    "    name: str"
   ]
  },
  {
   "cell_type": "code",
   "execution_count": 220,
   "metadata": {},
   "outputs": [
    {
     "data": {
      "text/plain": [
       "User(id=UUID('816354b8-7e1f-46d7-92d1-c6c80b6d35f5'), name='Billy')"
      ]
     },
     "execution_count": 220,
     "metadata": {},
     "output_type": "execute_result"
    }
   ],
   "source": [
    "User(name=\"Billy\")"
   ]
  },
  {
   "cell_type": "code",
   "execution_count": 221,
   "metadata": {},
   "outputs": [],
   "source": [
    "class User(BaseModel):\n",
    "    id: uuid.UUID = Field(default_factory=uuid.uuid4)\n",
    "    name: str"
   ]
  },
  {
   "cell_type": "code",
   "execution_count": 223,
   "metadata": {},
   "outputs": [
    {
     "data": {
      "text/plain": [
       "User(id=UUID('0eb735fa-8cfe-4c4d-8938-6cf164c2de95'), name='Billy')"
      ]
     },
     "execution_count": 223,
     "metadata": {},
     "output_type": "execute_result"
    }
   ],
   "source": [
    "User(name=\"Billy\")"
   ]
  },
  {
   "cell_type": "code",
   "execution_count": 224,
   "metadata": {},
   "outputs": [],
   "source": [
    "some_id = uuid.uuid4()"
   ]
  },
  {
   "cell_type": "code",
   "execution_count": 225,
   "metadata": {},
   "outputs": [
    {
     "data": {
      "text/plain": [
       "UUID('9f38b133-bb12-420d-baf4-acb4ed265c99')"
      ]
     },
     "execution_count": 225,
     "metadata": {},
     "output_type": "execute_result"
    }
   ],
   "source": [
    "some_id"
   ]
  },
  {
   "cell_type": "code",
   "execution_count": 226,
   "metadata": {},
   "outputs": [
    {
     "data": {
      "text/plain": [
       "User(id=UUID('9f38b133-bb12-420d-baf4-acb4ed265c99'), name='Allison')"
      ]
     },
     "execution_count": 226,
     "metadata": {},
     "output_type": "execute_result"
    }
   ],
   "source": [
    "User(id=some_id, name=\"Allison\")"
   ]
  },
  {
   "cell_type": "markdown",
   "metadata": {},
   "source": [
    "##### `Immutable Attributes`"
   ]
  },
  {
   "cell_type": "markdown",
   "metadata": {},
   "source": [
    "Immutable objects have several desirable characteristics:\n",
    "\n",
    "- **They contribute to data integrity**: Immutable attributes prevent accidental or unauthorized modifications, ensuring the consistency of data.\n",
    "- **They are predictable**: Having attributes that don't change state after creation makes the behavior of your models more predictable.\n",
    "- **Concurrency safety**: In concurrent programming, immutable objects are safer to use as they can't be modified after creation, reducing the risk of data races.\n"
   ]
  },
  {
   "cell_type": "code",
   "execution_count": 238,
   "metadata": {},
   "outputs": [],
   "source": [
    "from pydantic import BaseModel, ValidationError\n",
    "\n",
    "class User(BaseModel):\n",
    "    name: str\n",
    "    age: int\n",
    "    \n",
    "    class Config:\n",
    "        frozen = True"
   ]
  },
  {
   "cell_type": "code",
   "execution_count": 239,
   "metadata": {},
   "outputs": [
    {
     "name": "stdout",
     "output_type": "stream",
     "text": [
      "1 validation error for User\n",
      "name\n",
      "  Instance is frozen [type=frozen_instance, input_value='Billy', input_type=str]\n",
      "    For further information visit https://errors.pydantic.dev/2.5/v/frozen_instance\n"
     ]
    }
   ],
   "source": [
    "try:\n",
    "    user = User(name=\"Alice\", age=30)\n",
    "    user.name = \"Billy\"\n",
    "    print(user.name)\n",
    "except ValidationError as e:\n",
    "    print(e)"
   ]
  },
  {
   "cell_type": "code",
   "execution_count": 240,
   "metadata": {},
   "outputs": [],
   "source": [
    "from pydantic import ConfigDict"
   ]
  },
  {
   "cell_type": "code",
   "execution_count": 241,
   "metadata": {},
   "outputs": [],
   "source": [
    "class User(BaseModel):\n",
    "    model_config: ConfigDict = { \"frozen\": True }\n",
    "    \n",
    "    name: str\n",
    "    age: int"
   ]
  },
  {
   "cell_type": "code",
   "execution_count": 243,
   "metadata": {},
   "outputs": [
    {
     "name": "stdout",
     "output_type": "stream",
     "text": [
      "Alice\n"
     ]
    }
   ],
   "source": [
    "try:\n",
    "    user = User(name=\"Alice\", age=30)\n",
    "    # user.name = \"Billy\"\n",
    "    print(user.name)\n",
    "except ValidationError as e:\n",
    "    print(e)"
   ]
  },
  {
   "cell_type": "code",
   "execution_count": 244,
   "metadata": {},
   "outputs": [],
   "source": [
    "from pydantic import Field\n",
    "\n",
    "class User(BaseModel):    \n",
    "    id: int = Field(frozen=True)\n",
    "    name: str\n",
    "    age: int"
   ]
  },
  {
   "cell_type": "code",
   "execution_count": 248,
   "metadata": {},
   "outputs": [
    {
     "name": "stdout",
     "output_type": "stream",
     "text": [
      "123 Billy\n",
      "1 validation error for User\n",
      "id\n",
      "  Field is frozen [type=frozen_field, input_value=456, input_type=int]\n",
      "    For further information visit https://errors.pydantic.dev/2.5/v/frozen_field\n"
     ]
    }
   ],
   "source": [
    "try:\n",
    "    user = User(id=123, name=\"Alice\", age=30)\n",
    "    user.name = \"Billy\"\n",
    "    print(user.id, user.name)\n",
    "    user.id = 456\n",
    "except ValidationError as e:\n",
    "    print(e)"
   ]
  },
  {
   "cell_type": "markdown",
   "metadata": {},
   "source": [
    "##### `Additional Properties`"
   ]
  },
  {
   "cell_type": "code",
   "execution_count": 249,
   "metadata": {},
   "outputs": [],
   "source": [
    "from pydantic import BaseModel, Field\n",
    "from uuid import UUID, uuid4\n",
    "\n",
    "class Product(BaseModel):\n",
    "    id: UUID = Field(frozen=True, default_factory=uuid4)\n",
    "    name: str"
   ]
  },
  {
   "cell_type": "code",
   "execution_count": 254,
   "metadata": {},
   "outputs": [
    {
     "name": "stdout",
     "output_type": "stream",
     "text": [
      "id=UUID('b9cfa6c5-189c-4b37-8f91-f34762a939c7') name='Chair'\n"
     ]
    }
   ],
   "source": [
    "try:\n",
    "    # product = Product(name=\"Chair\")\n",
    "    \n",
    "    product = Product(name=\"Chair\", price=202)\n",
    "    print(product)\n",
    "except ValueError as e:\n",
    "    print(e)"
   ]
  },
  {
   "cell_type": "code",
   "execution_count": 255,
   "metadata": {},
   "outputs": [],
   "source": [
    "class Product(BaseModel):\n",
    "    id: UUID = Field(frozen=True, default_factory=uuid4)\n",
    "    name: str\n",
    "    \n",
    "    class Config:\n",
    "        # extra =\"ignore\" # default\n",
    "        extra =\"forbid\""
   ]
  },
  {
   "cell_type": "code",
   "execution_count": 257,
   "metadata": {},
   "outputs": [
    {
     "name": "stdout",
     "output_type": "stream",
     "text": [
      "1 validation error for Product\n",
      "price\n",
      "  Extra inputs are not permitted [type=extra_forbidden, input_value=202, input_type=int]\n",
      "    For further information visit https://errors.pydantic.dev/2.5/v/extra_forbidden\n"
     ]
    }
   ],
   "source": [
    "try:\n",
    "    # product = Product(name=\"Chair\")\n",
    "    \n",
    "    product = Product(name=\"Chair\", price=202)\n",
    "    print(product)\n",
    "except ValidationError as e:\n",
    "    print(e)"
   ]
  },
  {
   "cell_type": "code",
   "execution_count": 258,
   "metadata": {},
   "outputs": [],
   "source": [
    "class Product(BaseModel):\n",
    "    id: UUID = Field(frozen=True, default_factory=uuid4)\n",
    "    name: str\n",
    "    \n",
    "    class Config:\n",
    "        # extra =\"ignore\" # default\n",
    "        # extra = \"forbid\"\n",
    "        extra = \"allow\""
   ]
  },
  {
   "cell_type": "code",
   "execution_count": 259,
   "metadata": {},
   "outputs": [
    {
     "name": "stdout",
     "output_type": "stream",
     "text": [
      "id=UUID('6820b68f-a63a-4aec-b087-a883698bbc7c') name='Chair' price=202 weight=20.3\n"
     ]
    }
   ],
   "source": [
    "try:\n",
    "    # product = Product(name=\"Chair\")\n",
    "    \n",
    "    product = Product(name=\"Chair\", price=202, weight=20.3)\n",
    "    print(product)\n",
    "except ValidationError as e:\n",
    "    print(e)"
   ]
  },
  {
   "cell_type": "markdown",
   "metadata": {},
   "source": [
    "##### `Enumerations`"
   ]
  },
  {
   "cell_type": "markdown",
   "metadata": {},
   "source": [
    "> * <span style=\"font-family: Monaco; font-size:.8em;\">what are enums?</span>\n",
    "> <ul style=\"font-family: Monaco; font-size:.6em;\">\n",
    "> <li style=\"margin-left: 0.6em;\">a set of named constants</li>\n",
    "> <li style=\"margin-left: 0.6em;\">defined in python by sub-classing enum.Enum</li>\n",
    "> </ul>"
   ]
  },
  {
   "cell_type": "code",
   "execution_count": 261,
   "metadata": {},
   "outputs": [],
   "source": [
    "from enum import Enum"
   ]
  },
  {
   "cell_type": "code",
   "execution_count": 262,
   "metadata": {},
   "outputs": [],
   "source": [
    "class Color(Enum):\n",
    "    RED = 'red'\n",
    "    GREEN = 'green'\n",
    "    BLUE = 'blue'"
   ]
  },
  {
   "cell_type": "code",
   "execution_count": 263,
   "metadata": {},
   "outputs": [
    {
     "data": {
      "text/plain": [
       "<Color.GREEN: 'green'>"
      ]
     },
     "execution_count": 263,
     "metadata": {},
     "output_type": "execute_result"
    }
   ],
   "source": [
    "Color.GREEN"
   ]
  },
  {
   "cell_type": "code",
   "execution_count": 264,
   "metadata": {},
   "outputs": [],
   "source": [
    "class Item(BaseModel):\n",
    "    name: str\n",
    "    color: Color"
   ]
  },
  {
   "cell_type": "code",
   "execution_count": 266,
   "metadata": {},
   "outputs": [
    {
     "data": {
      "text/plain": [
       "Item(name='chair', color=<Color.RED: 'red'>)"
      ]
     },
     "execution_count": 266,
     "metadata": {},
     "output_type": "execute_result"
    }
   ],
   "source": [
    "Item(name=\"chair\", color=\"red\")"
   ]
  },
  {
   "cell_type": "code",
   "execution_count": 268,
   "metadata": {},
   "outputs": [],
   "source": [
    "# Item(name=\"chair\", color=\"pink\")"
   ]
  },
  {
   "cell_type": "markdown",
   "metadata": {},
   "source": [
    "##### `For Better Performance: Literals`"
   ]
  },
  {
   "cell_type": "code",
   "execution_count": 278,
   "metadata": {},
   "outputs": [],
   "source": [
    "from enum import Enum\n",
    "from pydantic import BaseModel, ValidationError\n",
    "from typing import Literal\n",
    "\n",
    "class Color(Enum):\n",
    "    RED = 'red'\n",
    "    GREEN = 'green'\n",
    "    BLUE = 'blue'\n",
    "\n",
    "class ItemWithEnum(BaseModel):\n",
    "    name: str\n",
    "    color: Color\n",
    "    \n",
    "class ItemWithLiteral(BaseModel):\n",
    "    name: str\n",
    "    color: Literal[\"red\", \"green\", \"blue\"]"
   ]
  },
  {
   "cell_type": "code",
   "execution_count": 280,
   "metadata": {},
   "outputs": [
    {
     "name": "stdout",
     "output_type": "stream",
     "text": [
      "1 validation error for ItemWithLiteral\n",
      "color\n",
      "  Input should be 'red', 'green' or 'blue' [type=literal_error, input_value='grey', input_type=str]\n",
      "    For further information visit https://errors.pydantic.dev/2.5/v/literal_error\n"
     ]
    }
   ],
   "source": [
    "try: \n",
    "    # item = ItemWithEnum(name=\"Chair\", color=\"grey\")\n",
    "    item = ItemWithLiteral(name=\"Chair\", color=\"grey\")\n",
    "    print(item)\n",
    "except ValidationError as e:\n",
    "    print(e)"
   ]
  },
  {
   "cell_type": "code",
   "execution_count": 274,
   "metadata": {},
   "outputs": [],
   "source": []
  },
  {
   "cell_type": "code",
   "execution_count": 281,
   "metadata": {},
   "outputs": [],
   "source": [
    "from pydantic import TypeAdapter"
   ]
  },
  {
   "cell_type": "code",
   "execution_count": 285,
   "metadata": {},
   "outputs": [],
   "source": [
    "literal = Literal[\"red\", \"green\", \"blue\"]\n",
    "\n",
    "class Color(Enum):\n",
    "    RED = 'red'\n",
    "    GREEN = 'green'\n",
    "    BLUE = 'blue'\n",
    "    \n",
    "lit_adapter = TypeAdapter(literal)\n",
    "enum_adapter = TypeAdapter(Color)"
   ]
  },
  {
   "cell_type": "code",
   "execution_count": 286,
   "metadata": {},
   "outputs": [],
   "source": [
    "from timeit import timeit"
   ]
  },
  {
   "cell_type": "code",
   "execution_count": 287,
   "metadata": {},
   "outputs": [],
   "source": [
    "res1 = timeit(lambda: lit_adapter.validate_python(\"red\"), number=1000)\n",
    "res2 = timeit(lambda: enum_adapter.validate_python(\"red\"), number=1000)"
   ]
  },
  {
   "cell_type": "code",
   "execution_count": 288,
   "metadata": {},
   "outputs": [
    {
     "name": "stdout",
     "output_type": "stream",
     "text": [
      "0.0022473798599094152 0.0006414738018065691\n"
     ]
    }
   ],
   "source": [
    "print(res2, res1)"
   ]
  },
  {
   "cell_type": "code",
   "execution_count": 289,
   "metadata": {},
   "outputs": [
    {
     "data": {
      "text/plain": [
       "3.5034632023633185"
      ]
     },
     "execution_count": 289,
     "metadata": {},
     "output_type": "execute_result"
    }
   ],
   "source": [
    "res2/res1"
   ]
  },
  {
   "cell_type": "markdown",
   "metadata": {},
   "source": [
    "### `Custom Validators`"
   ]
  },
  {
   "cell_type": "markdown",
   "metadata": {},
   "source": [
    "##### `Customizing Field Validators`"
   ]
  },
  {
   "cell_type": "code",
   "execution_count": 292,
   "metadata": {},
   "outputs": [
    {
     "name": "stdout",
     "output_type": "stream",
     "text": [
      "1 validation error for User\n",
      "age\n",
      "  Input should be greater than 31 [type=greater_than, input_value=30, input_type=int]\n",
      "    For further information visit https://errors.pydantic.dev/2.5/v/greater_than\n"
     ]
    }
   ],
   "source": [
    "from pydantic import BaseModel, Field, ValidationError\n",
    "\n",
    "class User(BaseModel):\n",
    "    name: str\n",
    "    age: int = Field(gt=31)\n",
    "\n",
    "try: \n",
    "    user = User(name=\"Alice\", age=30)\n",
    "    print(user)\n",
    "except ValidationError as e:\n",
    "    print(e)"
   ]
  },
  {
   "cell_type": "code",
   "execution_count": 293,
   "metadata": {},
   "outputs": [],
   "source": [
    "from pydantic import field_validator"
   ]
  },
  {
   "cell_type": "code",
   "execution_count": 296,
   "metadata": {},
   "outputs": [],
   "source": [
    "class User(BaseModel):\n",
    "    name: str\n",
    "    age: int = Field(gt=0)\n",
    "    \n",
    "    @field_validator(\"age\")\n",
    "    @classmethod\n",
    "    def validate_age(cls, v):\n",
    "        if v < 18 or v % 2 != 0:\n",
    "            raise ValueError(\"Age must be even and at least 18\")\n",
    "        return v"
   ]
  },
  {
   "cell_type": "code",
   "execution_count": 299,
   "metadata": {},
   "outputs": [],
   "source": [
    "User(name=\"Alice\", age=-30) # field validator kicks in    "
   ]
  },
  {
   "cell_type": "code",
   "execution_count": 301,
   "metadata": {},
   "outputs": [],
   "source": [
    "User(name=\"Alice\", age=16) # custom validator (after type checking and field validators)"
   ]
  },
  {
   "cell_type": "markdown",
   "metadata": {},
   "source": [
    "##### `Model-Level Validators`"
   ]
  },
  {
   "cell_type": "code",
   "execution_count": 302,
   "metadata": {},
   "outputs": [],
   "source": [
    "from datetime import date\n",
    "from pydantic import BaseModel, ValidationError\n",
    "\n",
    "class ScheduledCourse(BaseModel):\n",
    "    department: str\n",
    "    course_number: int\n",
    "    start_date: date\n",
    "    end_date: date"
   ]
  },
  {
   "cell_type": "code",
   "execution_count": 305,
   "metadata": {},
   "outputs": [],
   "source": [
    "from pydantic import model_validator"
   ]
  },
  {
   "cell_type": "code",
   "execution_count": 306,
   "metadata": {},
   "outputs": [],
   "source": [
    "class ScheduledCourse(BaseModel):\n",
    "    department: str\n",
    "    course_number: int\n",
    "    start_date: date\n",
    "    end_date: date\n",
    "    \n",
    "    @model_validator(mode=\"before\")\n",
    "    @classmethod\n",
    "    def validate_dates(cls, data: dict):\n",
    "        if data[\"start_date\"] > data[\"end_date\"]:\n",
    "            raise ValueError(\"Start date must be before end date for the course\")\n",
    "        return data"
   ]
  },
  {
   "cell_type": "code",
   "execution_count": 307,
   "metadata": {},
   "outputs": [
    {
     "name": "stdout",
     "output_type": "stream",
     "text": [
      "1 validation error for ScheduledCourse\n",
      "  Value error, Start date must be before end date for the course [type=value_error, input_value={'start_date': '2024-12-2...end_date': '2024-11-10'}, input_type=dict]\n",
      "    For further information visit https://errors.pydantic.dev/2.5/v/value_error\n"
     ]
    }
   ],
   "source": [
    "try:\n",
    "    course = ScheduledCourse(\n",
    "        start_date=\"2024-12-22\", \n",
    "        end_date=\"2024-11-10\"\n",
    "        )\n",
    "    print(course)\n",
    "except ValidationError as e:\n",
    "    print(e)"
   ]
  },
  {
   "cell_type": "code",
   "execution_count": 308,
   "metadata": {},
   "outputs": [],
   "source": [
    "class ScheduledCourse(BaseModel):\n",
    "    department: str\n",
    "    course_number: int\n",
    "    start_date: date\n",
    "    end_date: date\n",
    "    \n",
    "    @model_validator(mode=\"after\")\n",
    "    def validate_dates(self):\n",
    "        # if data[\"start_date\"] > data[\"end_date\"]:\n",
    "        if self.start_date > self.end_date:\n",
    "            raise ValueError(\"Start date must be before end date for the course\")\n",
    "        # return data\n",
    "        return self"
   ]
  },
  {
   "cell_type": "code",
   "execution_count": 313,
   "metadata": {},
   "outputs": [
    {
     "name": "stdout",
     "output_type": "stream",
     "text": [
      "department='cs' course_number=101 start_date=datetime.date(2024, 12, 22) end_date=datetime.date(2026, 11, 10)\n"
     ]
    }
   ],
   "source": [
    "try:\n",
    "    # course = ScheduledCourse(\n",
    "    #     start_date=\"2024-12-22\", \n",
    "    #     end_date=\"2024-11-10\"\n",
    "    #     )\n",
    "    \n",
    "    # course = ScheduledCourse(\n",
    "    #     start_date=\"2024-12-22\", \n",
    "    #     end_date=\"2024-11-10\",\n",
    "    #     course_number=101,\n",
    "    #     department=\"cs\"\n",
    "    #     )\n",
    "    \n",
    "    course = ScheduledCourse(\n",
    "        start_date=\"2024-12-22\", \n",
    "        end_date=\"2026-11-10\",\n",
    "        course_number=101,\n",
    "        department=\"cs\"\n",
    "        )\n",
    "    print(course)\n",
    "except ValidationError as e:\n",
    "    print(e)"
   ]
  },
  {
   "cell_type": "markdown",
   "metadata": {},
   "source": [
    "##### `A Closer Look At Error Objects`"
   ]
  },
  {
   "cell_type": "code",
   "execution_count": 315,
   "metadata": {},
   "outputs": [],
   "source": [
    "from pydantic import ValidationError"
   ]
  },
  {
   "cell_type": "code",
   "execution_count": 316,
   "metadata": {},
   "outputs": [
    {
     "data": {
      "text/plain": [
       "True"
      ]
     },
     "execution_count": 316,
     "metadata": {},
     "output_type": "execute_result"
    }
   ],
   "source": [
    "issubclass(ValidationError, ValueError)"
   ]
  },
  {
   "cell_type": "code",
   "execution_count": 317,
   "metadata": {},
   "outputs": [
    {
     "data": {
      "text/plain": [
       "(pydantic_core._pydantic_core.ValidationError,\n",
       " ValueError,\n",
       " Exception,\n",
       " BaseException,\n",
       " object)"
      ]
     },
     "execution_count": 317,
     "metadata": {},
     "output_type": "execute_result"
    }
   ],
   "source": [
    "ValidationError.__mro__"
   ]
  },
  {
   "cell_type": "code",
   "execution_count": null,
   "metadata": {},
   "outputs": [],
   "source": []
  },
  {
   "cell_type": "code",
   "execution_count": 318,
   "metadata": {},
   "outputs": [],
   "source": [
    "class User(BaseModel):\n",
    "    username: str\n",
    "    password: str\n",
    "    \n",
    "    @field_validator(\"password\")\n",
    "    @classmethod\n",
    "    def validate_password(cls, v):\n",
    "        if len(v) < 8 or not any(char.isdigit() for char in v):\n",
    "            raise ValueError(\"Password must be at least 8 chars long and contains at least one digit\")\n",
    "        return v"
   ]
  },
  {
   "cell_type": "code",
   "execution_count": 327,
   "metadata": {},
   "outputs": [
    {
     "name": "stdout",
     "output_type": "stream",
     "text": [
      "{(('password',), 'Value error, Password must be at least 8 chars long and contains at least one digit')}\n"
     ]
    }
   ],
   "source": [
    "try:\n",
    "    user = User(username=\"Andy\", password=\"abcabcabc\")\n",
    "except ValidationError as e:\n",
    "    # print(e)\n",
    "    # print(str(e))\n",
    "    # print(e.json(indent=2))\n",
    "    \n",
    "    # print(e.errors())\n",
    "    # print(e.errors()[0][\"type\"])\n",
    "    print(\n",
    "        {\n",
    "            (error['loc'], error['msg']) for error in e.errors()\n",
    "        }\n",
    "    )"
   ]
  },
  {
   "cell_type": "code",
   "execution_count": null,
   "metadata": {},
   "outputs": [],
   "source": [
    "# str(e) -> human-readable repr of the error object\n",
    "# __str__, __repr__"
   ]
  },
  {
   "cell_type": "markdown",
   "metadata": {},
   "source": [
    "### `Model Serialization And Deserialization`"
   ]
  },
  {
   "cell_type": "markdown",
   "metadata": {},
   "source": [
    "##### `Instance Serialization To Dict And JSON`"
   ]
  },
  {
   "cell_type": "code",
   "execution_count": 329,
   "metadata": {},
   "outputs": [],
   "source": [
    "from datetime import date\n",
    "from pydantic import BaseModel, model_validator\n",
    "\n",
    "\n",
    "class ScheduledCourse(BaseModel):\n",
    "    department: str\n",
    "    course_number: int\n",
    "    start_date: date\n",
    "    end_date: date\n",
    "\n",
    "    @model_validator(mode=\"after\")\n",
    "    def validate_dates(self):\n",
    "        if self.start_date > self.end_date:\n",
    "            raise ValueError('Start date must be before end date')\n",
    "        return self"
   ]
  },
  {
   "cell_type": "code",
   "execution_count": 331,
   "metadata": {},
   "outputs": [],
   "source": [
    "course = ScheduledCourse(\n",
    "    department=\"CS\",\n",
    "    course_number=101,\n",
    "    start_date=\"2024-01-23\",\n",
    "    end_date=\"2024-09-23\"\n",
    ")"
   ]
  },
  {
   "cell_type": "code",
   "execution_count": 332,
   "metadata": {},
   "outputs": [
    {
     "data": {
      "text/plain": [
       "{'department': 'CS',\n",
       " 'course_number': 101,\n",
       " 'start_date': datetime.date(2024, 1, 23),\n",
       " 'end_date': datetime.date(2024, 9, 23)}"
      ]
     },
     "execution_count": 332,
     "metadata": {},
     "output_type": "execute_result"
    }
   ],
   "source": [
    "course.model_dump()"
   ]
  },
  {
   "cell_type": "code",
   "execution_count": 333,
   "metadata": {},
   "outputs": [
    {
     "data": {
      "text/plain": [
       "'{\"department\":\"CS\",\"course_number\":101,\"start_date\":\"2024-01-23\",\"end_date\":\"2024-09-23\"}'"
      ]
     },
     "execution_count": 333,
     "metadata": {},
     "output_type": "execute_result"
    }
   ],
   "source": [
    "course.model_dump_json()"
   ]
  },
  {
   "cell_type": "markdown",
   "metadata": {},
   "source": [
    "##### `Field Exclusions`"
   ]
  },
  {
   "cell_type": "code",
   "execution_count": 334,
   "metadata": {},
   "outputs": [],
   "source": [
    "from datetime import date\n",
    "from pydantic import BaseModel, model_validator\n",
    "\n",
    "class ScheduledCourse(BaseModel):\n",
    "    department: str\n",
    "    course_number: int\n",
    "    start_date: date\n",
    "    end_date: date\n",
    "\n",
    "    @model_validator(mode=\"after\")\n",
    "    def validate_dates(self):\n",
    "        if self.start_date > self.end_date:\n",
    "            raise ValueError('Start date must be before end date')\n",
    "        return self"
   ]
  },
  {
   "cell_type": "code",
   "execution_count": 335,
   "metadata": {},
   "outputs": [
    {
     "data": {
      "text/plain": [
       "'{\"department\":\"CS\",\"course_number\":101,\"start_date\":\"2021-01-01\",\"end_date\":\"2021-01-01\"}'"
      ]
     },
     "execution_count": 335,
     "metadata": {},
     "output_type": "execute_result"
    }
   ],
   "source": [
    "course = ScheduledCourse(department=\"CS\", course_number=101, start_date=date(2021, 1, 1), end_date=date(2021, 1, 1))\n",
    "course.model_dump_json()"
   ]
  },
  {
   "cell_type": "code",
   "execution_count": 336,
   "metadata": {},
   "outputs": [
    {
     "data": {
      "text/plain": [
       "'{\"start_date\":\"2021-01-01\",\"end_date\":\"2021-01-01\"}'"
      ]
     },
     "execution_count": 336,
     "metadata": {},
     "output_type": "execute_result"
    }
   ],
   "source": [
    "course.model_dump_json(exclude={\"department\", \"course_number\"})"
   ]
  },
  {
   "cell_type": "code",
   "execution_count": 337,
   "metadata": {},
   "outputs": [
    {
     "data": {
      "text/plain": [
       "'{\"department\":\"CS\",\"course_number\":101}'"
      ]
     },
     "execution_count": 337,
     "metadata": {},
     "output_type": "execute_result"
    }
   ],
   "source": [
    "course.model_dump_json(include={\"department\", \"course_number\"})"
   ]
  },
  {
   "cell_type": "code",
   "execution_count": 338,
   "metadata": {},
   "outputs": [],
   "source": [
    "# exclude_unset"
   ]
  },
  {
   "cell_type": "code",
   "execution_count": null,
   "metadata": {},
   "outputs": [],
   "source": []
  },
  {
   "cell_type": "code",
   "execution_count": 347,
   "metadata": {},
   "outputs": [],
   "source": [
    "class ScheduledCourse(BaseModel):\n",
    "    department: str = \"?\"\n",
    "    course_number: int\n",
    "    start_date: date = date.today()\n",
    "    end_date: date\n",
    "\n",
    "    @model_validator(mode=\"after\")\n",
    "    def validate_dates(self):\n",
    "        if self.start_date > self.end_date:\n",
    "            raise ValueError('Start date must be before end date')\n",
    "        return self"
   ]
  },
  {
   "cell_type": "code",
   "execution_count": 342,
   "metadata": {},
   "outputs": [],
   "source": [
    "course = ScheduledCourse(\n",
    "    course_number=101, \n",
    "    end_date=date(2026, 1, 1)\n",
    ")"
   ]
  },
  {
   "cell_type": "code",
   "execution_count": 343,
   "metadata": {},
   "outputs": [
    {
     "data": {
      "text/plain": [
       "'{\"course_number\":101,\"end_date\":\"2026-01-01\"}'"
      ]
     },
     "execution_count": 343,
     "metadata": {},
     "output_type": "execute_result"
    }
   ],
   "source": [
    "course.model_dump_json(exclude_unset=True)"
   ]
  },
  {
   "cell_type": "code",
   "execution_count": 344,
   "metadata": {},
   "outputs": [],
   "source": [
    "course = ScheduledCourse(\n",
    "    course_number=101, \n",
    "    end_date=date(2026, 1, 1),\n",
    "    department=\"?\"\n",
    ")"
   ]
  },
  {
   "cell_type": "code",
   "execution_count": 345,
   "metadata": {},
   "outputs": [
    {
     "data": {
      "text/plain": [
       "'{\"department\":\"?\",\"course_number\":101,\"end_date\":\"2026-01-01\"}'"
      ]
     },
     "execution_count": 345,
     "metadata": {},
     "output_type": "execute_result"
    }
   ],
   "source": [
    "course.model_dump_json(exclude_unset=True)"
   ]
  },
  {
   "cell_type": "code",
   "execution_count": 346,
   "metadata": {},
   "outputs": [
    {
     "data": {
      "text/plain": [
       "'{\"course_number\":101,\"end_date\":\"2026-01-01\"}'"
      ]
     },
     "execution_count": 346,
     "metadata": {},
     "output_type": "execute_result"
    }
   ],
   "source": [
    "course.model_dump_json(exclude_defaults=True)"
   ]
  },
  {
   "cell_type": "markdown",
   "metadata": {},
   "source": [
    "##### `JSON Schema`"
   ]
  },
  {
   "cell_type": "markdown",
   "metadata": {},
   "source": [
    "> * <span style=\"font-family: Monaco; font-size:.8em;\">what are schemas?</span>\n",
    "> <ul style=\"font-family: Monaco; font-size:.6em;\">\n",
    "> <li style=\"margin-left: 0.6em;\">schemas are blueprints for data structures</li>\n",
    "> <li style=\"margin-left: 0.6em;\">they describe the shape of a structure in the abstract</li>\n",
    "> <li style=\"margin-left: 0.6em;\">widely useful in codegen, documentation, automation, etc</li>\n",
    "> <li style=\"margin-left: 0.6em;\">JSON Schema is the dominant standard in the JSON ecosystem</li>\n",
    "> </ul>"
   ]
  },
  {
   "cell_type": "code",
   "execution_count": 348,
   "metadata": {},
   "outputs": [],
   "source": [
    "class ScheduledCourse(BaseModel):\n",
    "    department: str = \"?\"\n",
    "    course_number: int\n",
    "    start_date: date = date.today()\n",
    "    end_date: date\n",
    "\n",
    "    @model_validator(mode=\"after\")\n",
    "    def validate_dates(self):\n",
    "        if self.start_date > self.end_date:\n",
    "            raise ValueError('Start date must be before end date')\n",
    "        return self"
   ]
  },
  {
   "cell_type": "code",
   "execution_count": 350,
   "metadata": {},
   "outputs": [
    {
     "data": {
      "text/plain": [
       "{'properties': {'department': {'default': '?',\n",
       "   'title': 'Department',\n",
       "   'type': 'string'},\n",
       "  'course_number': {'title': 'Course Number', 'type': 'integer'},\n",
       "  'start_date': {'default': '2023-12-30',\n",
       "   'format': 'date',\n",
       "   'title': 'Start Date',\n",
       "   'type': 'string'},\n",
       "  'end_date': {'format': 'date', 'title': 'End Date', 'type': 'string'}},\n",
       " 'required': ['course_number', 'end_date'],\n",
       " 'title': 'ScheduledCourse',\n",
       " 'type': 'object'}"
      ]
     },
     "execution_count": 350,
     "metadata": {},
     "output_type": "execute_result"
    }
   ],
   "source": [
    "ScheduledCourse.model_json_schema()"
   ]
  },
  {
   "cell_type": "code",
   "execution_count": 351,
   "metadata": {},
   "outputs": [],
   "source": [
    "import json"
   ]
  },
  {
   "cell_type": "code",
   "execution_count": 353,
   "metadata": {},
   "outputs": [
    {
     "name": "stdout",
     "output_type": "stream",
     "text": [
      "{\n",
      "  \"properties\": {\n",
      "    \"department\": {\n",
      "      \"default\": \"?\",\n",
      "      \"title\": \"Department\",\n",
      "      \"type\": \"string\"\n",
      "    },\n",
      "    \"course_number\": {\n",
      "      \"title\": \"Course Number\",\n",
      "      \"type\": \"integer\"\n",
      "    },\n",
      "    \"start_date\": {\n",
      "      \"default\": \"2023-12-30\",\n",
      "      \"format\": \"date\",\n",
      "      \"title\": \"Start Date\",\n",
      "      \"type\": \"string\"\n",
      "    },\n",
      "    \"end_date\": {\n",
      "      \"format\": \"date\",\n",
      "      \"title\": \"End Date\",\n",
      "      \"type\": \"string\"\n",
      "    }\n",
      "  },\n",
      "  \"required\": [\n",
      "    \"course_number\",\n",
      "    \"end_date\"\n",
      "  ],\n",
      "  \"title\": \"ScheduledCourse\",\n",
      "  \"type\": \"object\"\n",
      "}\n"
     ]
    }
   ],
   "source": [
    "print(json.dumps(ScheduledCourse.model_json_schema(), indent=2))"
   ]
  },
  {
   "cell_type": "code",
   "execution_count": 354,
   "metadata": {},
   "outputs": [],
   "source": [
    "from typing import List, Optional\n",
    "\n",
    "class Item(BaseModel):\n",
    "    name: str\n",
    "    description: Optional[str] = None\n",
    "\n",
    "class Order(BaseModel):\n",
    "    id: int\n",
    "    items: List[Item]"
   ]
  },
  {
   "cell_type": "code",
   "execution_count": 355,
   "metadata": {},
   "outputs": [],
   "source": [
    "# $defs"
   ]
  },
  {
   "cell_type": "code",
   "execution_count": 361,
   "metadata": {},
   "outputs": [
    {
     "name": "stdout",
     "output_type": "stream",
     "text": [
      "{\n",
      "  \"$defs\": {\n",
      "    \"Item\": {\n",
      "      \"properties\": {\n",
      "        \"name\": {\n",
      "          \"title\": \"Name\",\n",
      "          \"type\": \"string\"\n",
      "        },\n",
      "        \"description\": {\n",
      "          \"anyOf\": [\n",
      "            {\n",
      "              \"type\": \"string\"\n",
      "            },\n",
      "            {\n",
      "              \"type\": \"null\"\n",
      "            }\n",
      "          ],\n",
      "          \"default\": null,\n",
      "          \"title\": \"Description\"\n",
      "        }\n",
      "      },\n",
      "      \"required\": [\n",
      "        \"name\"\n",
      "      ],\n",
      "      \"title\": \"Item\",\n",
      "      \"type\": \"object\"\n",
      "    }\n",
      "  },\n",
      "  \"properties\": {\n",
      "    \"id\": {\n",
      "      \"title\": \"Id\",\n",
      "      \"type\": \"integer\"\n",
      "    },\n",
      "    \"items\": {\n",
      "      \"items\": {\n",
      "        \"$ref\": \"#/$defs/Item\"\n",
      "      },\n",
      "      \"title\": \"Items\",\n",
      "      \"type\": \"array\"\n",
      "    }\n",
      "  },\n",
      "  \"required\": [\n",
      "    \"id\",\n",
      "    \"items\"\n",
      "  ],\n",
      "  \"title\": \"Order\",\n",
      "  \"type\": \"object\"\n",
      "}\n"
     ]
    }
   ],
   "source": [
    "print(json.dumps(Order.model_json_schema(), indent=2))"
   ]
  },
  {
   "cell_type": "markdown",
   "metadata": {},
   "source": [
    "##### `Deserialization`"
   ]
  },
  {
   "cell_type": "code",
   "execution_count": 362,
   "metadata": {},
   "outputs": [],
   "source": [
    "from pydantic import BaseModel, EmailStr\n",
    "from typing import Optional\n",
    "\n",
    "class User(BaseModel):\n",
    "    name: str\n",
    "    age: int\n",
    "    email: Optional[EmailStr] = None"
   ]
  },
  {
   "cell_type": "code",
   "execution_count": null,
   "metadata": {},
   "outputs": [],
   "source": []
  },
  {
   "cell_type": "code",
   "execution_count": 364,
   "metadata": {},
   "outputs": [],
   "source": [
    "user_data = '{\"name\": \"Alice\", \"age\": 30, \"email\": \"alice@example.com\"}'"
   ]
  },
  {
   "cell_type": "code",
   "execution_count": 366,
   "metadata": {},
   "outputs": [],
   "source": [
    "user = User.model_validate_json(user_data)"
   ]
  },
  {
   "cell_type": "code",
   "execution_count": 367,
   "metadata": {},
   "outputs": [
    {
     "data": {
      "text/plain": [
       "'Alice'"
      ]
     },
     "execution_count": 367,
     "metadata": {},
     "output_type": "execute_result"
    }
   ],
   "source": [
    "user.name"
   ]
  },
  {
   "cell_type": "code",
   "execution_count": 368,
   "metadata": {},
   "outputs": [],
   "source": [
    "users_data = [\n",
    "    '{\"name\": \"Alice\", \"age\": 30, \"email\": \"alice@hotmail.com\"}',\n",
    "    '{\"name\": \"Bob\", \"age\": \"30\", \"email\": \"brian@gmail\"}',\n",
    "    '{\"name\": \"Charlie\", \"age\": 25, \"email\": \"tiana\"}'\n",
    "]"
   ]
  },
  {
   "cell_type": "code",
   "execution_count": 369,
   "metadata": {},
   "outputs": [
    {
     "name": "stdout",
     "output_type": "stream",
     "text": [
      "✅ VALID USER:\n",
      "name='Alice' age=30 email='alice@hotmail.com'\n",
      "\n",
      "❌ INVALID USER: \n",
      "value is not a valid email address: The part after the @-sign is not valid. It should have a period.\n",
      "\n",
      "❌ INVALID USER: \n",
      "value is not a valid email address: The email address is not valid. It must have exactly one @-sign.\n",
      "\n"
     ]
    }
   ],
   "source": [
    "for u in users_data:\n",
    "    try:\n",
    "        user = User.model_validate_json(u)\n",
    "        print(\"✅ VALID USER:\")\n",
    "        print(user, end=\"\\n\\n\")\n",
    "    except ValidationError as e:\n",
    "        print(\"❌ INVALID USER: \")\n",
    "        print(e.errors()[0][\"msg\"], end=\"\\n\\n\")"
   ]
  },
  {
   "cell_type": "code",
   "execution_count": null,
   "metadata": {},
   "outputs": [],
   "source": []
  }
 ],
 "metadata": {
  "kernelspec": {
   "display_name": "env",
   "language": "python",
   "name": "python3"
  },
  "language_info": {
   "codemirror_mode": {
    "name": "ipython",
    "version": 3
   },
   "file_extension": ".py",
   "mimetype": "text/x-python",
   "name": "python",
   "nbconvert_exporter": "python",
   "pygments_lexer": "ipython3",
   "version": "3.10.1"
  }
 },
 "nbformat": 4,
 "nbformat_minor": 2
}
