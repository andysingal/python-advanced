{
  "nbformat": 4,
  "nbformat_minor": 0,
  "metadata": {
    "colab": {
      "provenance": []
    },
    "kernelspec": {
      "name": "python3",
      "display_name": "Python 3"
    },
    "language_info": {
      "name": "python"
    }
  },
  "cells": [
    {
      "cell_type": "code",
      "execution_count": 1,
      "metadata": {
        "colab": {
          "base_uri": "https://localhost:8080/"
        },
        "id": "l1Dk603e9Ftd",
        "outputId": "65a8aa87-99b8-45b3-9ff7-3eca4921da30"
      },
      "outputs": [
        {
          "output_type": "stream",
          "name": "stdout",
          "text": [
            "\u001b[2K     \u001b[90m━━━━━━━━━━━━━━━━━━━━━━━━━━━━━━━━━━━━━━━━\u001b[0m \u001b[32m262.9/262.9 kB\u001b[0m \u001b[31m6.4 MB/s\u001b[0m eta \u001b[36m0:00:00\u001b[0m\n",
            "\u001b[2K     \u001b[90m━━━━━━━━━━━━━━━━━━━━━━━━━━━━━━━━━━━━━━━━\u001b[0m \u001b[32m810.5/810.5 kB\u001b[0m \u001b[31m20.4 MB/s\u001b[0m eta \u001b[36m0:00:00\u001b[0m\n",
            "\u001b[2K     \u001b[90m━━━━━━━━━━━━━━━━━━━━━━━━━━━━━━━━━━━━━━━━\u001b[0m \u001b[32m75.6/75.6 kB\u001b[0m \u001b[31m5.2 MB/s\u001b[0m eta \u001b[36m0:00:00\u001b[0m\n",
            "\u001b[2K     \u001b[90m━━━━━━━━━━━━━━━━━━━━━━━━━━━━━━━━━━━━━━━━\u001b[0m \u001b[32m307.7/307.7 kB\u001b[0m \u001b[31m15.7 MB/s\u001b[0m eta \u001b[36m0:00:00\u001b[0m\n",
            "\u001b[2K     \u001b[90m━━━━━━━━━━━━━━━━━━━━━━━━━━━━━━━━━━━━━━━━\u001b[0m \u001b[32m77.9/77.9 kB\u001b[0m \u001b[31m4.5 MB/s\u001b[0m eta \u001b[36m0:00:00\u001b[0m\n",
            "\u001b[2K     \u001b[90m━━━━━━━━━━━━━━━━━━━━━━━━━━━━━━━━━━━━━━━━\u001b[0m \u001b[32m58.3/58.3 kB\u001b[0m \u001b[31m3.8 MB/s\u001b[0m eta \u001b[36m0:00:00\u001b[0m\n",
            "\u001b[2K     \u001b[90m━━━━━━━━━━━━━━━━━━━━━━━━━━━━━━━━━━━━━━━━\u001b[0m \u001b[32m1.8/1.8 MB\u001b[0m \u001b[31m34.9 MB/s\u001b[0m eta \u001b[36m0:00:00\u001b[0m\n",
            "\u001b[2K     \u001b[90m━━━━━━━━━━━━━━━━━━━━━━━━━━━━━━━━━━━━━━━━\u001b[0m \u001b[32m273.9/273.9 kB\u001b[0m \u001b[31m13.2 MB/s\u001b[0m eta \u001b[36m0:00:00\u001b[0m\n",
            "\u001b[2K     \u001b[90m━━━━━━━━━━━━━━━━━━━━━━━━━━━━━━━━━━━━━━━━\u001b[0m \u001b[32m86.9/86.9 kB\u001b[0m \u001b[31m4.2 MB/s\u001b[0m eta \u001b[36m0:00:00\u001b[0m\n",
            "\u001b[2K     \u001b[90m━━━━━━━━━━━━━━━━━━━━━━━━━━━━━━━━━━━━━━━━\u001b[0m \u001b[32m49.4/49.4 kB\u001b[0m \u001b[31m2.3 MB/s\u001b[0m eta \u001b[36m0:00:00\u001b[0m\n",
            "\u001b[2K     \u001b[90m━━━━━━━━━━━━━━━━━━━━━━━━━━━━━━━━━━━━━━━━\u001b[0m \u001b[32m53.0/53.0 kB\u001b[0m \u001b[31m3.1 MB/s\u001b[0m eta \u001b[36m0:00:00\u001b[0m\n",
            "\u001b[2K     \u001b[90m━━━━━━━━━━━━━━━━━━━━━━━━━━━━━━━━━━━━━━━━\u001b[0m \u001b[32m144.8/144.8 kB\u001b[0m \u001b[31m3.0 MB/s\u001b[0m eta \u001b[36m0:00:00\u001b[0m\n",
            "\u001b[?25h"
          ]
        }
      ],
      "source": [
        "%pip install -q kor markdownify requests pydantic pydantic[email] openai colorama bs4 rich"
      ]
    },
    {
      "cell_type": "code",
      "source": [
        "from pydantic import BaseModel, Field, ValidationError\n",
        "\n",
        "from math import pi\n",
        "\n",
        "\n",
        "class Circle(BaseModel):\n",
        "    center: tuple[int, int] = (0, 0)\n",
        "    radius: int = Field(default=1, gt=0)\n",
        "\n",
        "    def area(self):\n",
        "        return pi * self.radius ** 2\n",
        "\n",
        "c = Circle(center=(1, 1), radius=2)"
      ],
      "metadata": {
        "id": "3jIe7QT8-QVq"
      },
      "execution_count": 2,
      "outputs": []
    },
    {
      "cell_type": "code",
      "source": [
        "c.model_dump()"
      ],
      "metadata": {
        "colab": {
          "base_uri": "https://localhost:8080/"
        },
        "id": "m3_7_5yw-sRU",
        "outputId": "205b1f92-8ec4-41f8-bb68-bb4183ed8393"
      },
      "execution_count": 3,
      "outputs": [
        {
          "output_type": "execute_result",
          "data": {
            "text/plain": [
              "{'center': (1, 1), 'radius': 2}"
            ]
          },
          "metadata": {},
          "execution_count": 3
        }
      ]
    },
    {
      "cell_type": "markdown",
      "source": [
        "So, while we can add properties to our pydantic models, they do not get serialized. We'll need to do a bit more work if we want those properties to be included in our model serialization.\n",
        "\n",
        "Before we look at that, I want to point out that we could also choose to cache our properties.\n",
        "\n",
        "In this example, we might want to cache the area - but that means we need to make sure the radius field is immutable (frozen). We could make the entire circle frozen, or we could choose to just make radius frozen.\n",
        "\n"
      ],
      "metadata": {
        "id": "-6Vx29HS-1Up"
      }
    },
    {
      "cell_type": "code",
      "source": [
        "from functools import cached_property\n",
        "\n",
        "class Circle(BaseModel):\n",
        "    center: tuple[int, int] = (0, 0)\n",
        "    radius: int = Field(default=1, gt=0, frozen=True)\n",
        "\n",
        "    @cached_property\n",
        "    def area(self):\n",
        "        print(\"calculating area...\")\n",
        "        return pi * self.radius ** 2\n",
        "\n",
        "c = Circle()\n",
        "c.area"
      ],
      "metadata": {
        "colab": {
          "base_uri": "https://localhost:8080/"
        },
        "id": "nfHgDCWq-4S-",
        "outputId": "b93a1bff-f147-49c8-ecc3-f546684523ee"
      },
      "execution_count": 4,
      "outputs": [
        {
          "output_type": "stream",
          "name": "stdout",
          "text": [
            "calculating area...\n"
          ]
        },
        {
          "output_type": "execute_result",
          "data": {
            "text/plain": [
              "3.141592653589793"
            ]
          },
          "metadata": {},
          "execution_count": 4
        }
      ]
    },
    {
      "cell_type": "markdown",
      "source": [
        "## Computed Fields\n",
        "Sometimes, we want those properties to be actual fields in our Pydantic model - which means they get serialized just like any other field."
      ],
      "metadata": {
        "id": "ffmcqw84ACI0"
      }
    },
    {
      "cell_type": "code",
      "source": [
        "from functools import cached_property\n",
        "from math import pi\n",
        "from pydantic import BaseModel, computed_field, Field, PydanticUserError, ValidationError"
      ],
      "metadata": {
        "id": "TH0dwCXHACww"
      },
      "execution_count": 5,
      "outputs": []
    },
    {
      "cell_type": "code",
      "source": [
        "try:\n",
        "    class Circle(BaseModel):\n",
        "        center: tuple[int, int] = (0, 0)\n",
        "        radius: int = Field(default=1, gt=0, frozen=True)\n",
        "\n",
        "        @computed_field\n",
        "        @property\n",
        "        def area(self):\n",
        "            print(\"calculating area...\")\n",
        "            return pi * self.radius ** 2\n",
        "except PydanticUserError as ex:\n",
        "    print(ex)"
      ],
      "metadata": {
        "colab": {
          "base_uri": "https://localhost:8080/"
        },
        "id": "gAShrGkcAHQW",
        "outputId": "504db361-9d79-4feb-9ca3-eef25788c914"
      },
      "execution_count": 6,
      "outputs": [
        {
          "output_type": "stream",
          "name": "stdout",
          "text": [
            "Computed field is missing return type annotation or specifying `return_type` to the `@computed_field` decorator (e.g. `@computed_field(return_type=int|str)`)\n",
            "\n",
            "For further information visit https://errors.pydantic.dev/2.6/u/model-field-missing-annotation\n"
          ]
        }
      ]
    },
    {
      "cell_type": "markdown",
      "source": [
        "Now, with these computed properties, we do not have that Field mechanism to omit a computed field from the representation. But the @computed_field decorator, does enable that option, also using repr as an argument:"
      ],
      "metadata": {
        "id": "hYCY8NLjCGBR"
      }
    },
    {
      "cell_type": "code",
      "source": [
        "class Circle(BaseModel):\n",
        "    center: tuple[int, int] = (0, 0)\n",
        "    radius: int = Field(default=1, gt=0, frozen=True)\n",
        "\n",
        "    @computed_field(alias=\"AREA\", repr=False)\n",
        "    @property\n",
        "    def area(self) -> float:\n",
        "        print(\"calculating area...\")\n",
        "        return pi * self.radius ** 2"
      ],
      "metadata": {
        "id": "w0AYpwI-CGad"
      },
      "execution_count": 7,
      "outputs": []
    },
    {
      "cell_type": "code",
      "source": [
        "c = Circle()"
      ],
      "metadata": {
        "id": "mrf8SV5yDB-H"
      },
      "execution_count": 8,
      "outputs": []
    },
    {
      "cell_type": "code",
      "source": [
        "c.area"
      ],
      "metadata": {
        "colab": {
          "base_uri": "https://localhost:8080/"
        },
        "id": "B8gq482lDQy8",
        "outputId": "fa97034c-45d6-49c8-baf3-b21261906011"
      },
      "execution_count": 10,
      "outputs": [
        {
          "output_type": "stream",
          "name": "stdout",
          "text": [
            "calculating area...\n"
          ]
        },
        {
          "output_type": "execute_result",
          "data": {
            "text/plain": [
              "3.141592653589793"
            ]
          },
          "metadata": {},
          "execution_count": 10
        }
      ]
    },
    {
      "cell_type": "code",
      "source": [
        "c.model_dump()"
      ],
      "metadata": {
        "colab": {
          "base_uri": "https://localhost:8080/"
        },
        "id": "1vd-AgWTDVLp",
        "outputId": "13bcb077-f9df-4112-ab2a-9767994ae7d7"
      },
      "execution_count": 12,
      "outputs": [
        {
          "output_type": "stream",
          "name": "stdout",
          "text": [
            "calculating area...\n"
          ]
        },
        {
          "output_type": "execute_result",
          "data": {
            "text/plain": [
              "{'center': (0, 0), 'radius': 1, 'area': 3.141592653589793}"
            ]
          },
          "metadata": {},
          "execution_count": 12
        }
      ]
    },
    {
      "cell_type": "code",
      "source": [
        "try:\n",
        "    c.area = 10\n",
        "except AttributeError as ex:\n",
        "    print(ex)"
      ],
      "metadata": {
        "colab": {
          "base_uri": "https://localhost:8080/"
        },
        "id": "n9PM5T4YDLns",
        "outputId": "c82b096d-cde8-4fb2-c6da-509622e2e1e6"
      },
      "execution_count": 13,
      "outputs": [
        {
          "output_type": "stream",
          "name": "stdout",
          "text": [
            "can't set attribute 'area'\n"
          ]
        }
      ]
    },
    {
      "cell_type": "markdown",
      "source": [],
      "metadata": {
        "id": "iW2TK2WfDmtv"
      }
    },
    {
      "cell_type": "code",
      "source": [
        "class Circle(BaseModel):\n",
        "    center: tuple[int, int] = (0, 0)\n",
        "    radius: int = Field(default=1, gt=0, frozen=True)\n",
        "\n",
        "    @computed_field(alias=\"AREA\", repr=False)\n",
        "    @cached_property\n",
        "    def area(self) -> float:\n",
        "        print(\"calculating area...\")\n",
        "        return pi * self.radius ** 2\n",
        "\n",
        "c = Circle()\n",
        "c.area"
      ],
      "metadata": {
        "colab": {
          "base_uri": "https://localhost:8080/"
        },
        "id": "8dlrGwKjDm1P",
        "outputId": "d9242dca-487d-4897-92d3-7b26d773e40e"
      },
      "execution_count": 14,
      "outputs": [
        {
          "output_type": "stream",
          "name": "stdout",
          "text": [
            "calculating area...\n"
          ]
        },
        {
          "output_type": "execute_result",
          "data": {
            "text/plain": [
              "3.141592653589793"
            ]
          },
          "metadata": {},
          "execution_count": 14
        }
      ]
    },
    {
      "cell_type": "markdown",
      "source": [],
      "metadata": {
        "id": "6csqeLW8F33Y"
      }
    },
    {
      "cell_type": "markdown",
      "source": [
        "## PROJECT"
      ],
      "metadata": {
        "id": "C4d5FN9XF4F2"
      }
    },
    {
      "cell_type": "code",
      "source": [
        "countries = {\n",
        "    \"australia\": (\"Australia\", \"AUS\"),\n",
        "    \"canada\": (\"Canada\", \"CAN\"),\n",
        "    \"china\": (\"China\", \"CHN\"),\n",
        "    \"france\": (\"France\", \"FRA\"),\n",
        "    \"germany\": (\"Germany\", \"DEU\"),\n",
        "    \"india\": (\"India\", \"IND\"),\n",
        "    \"mexico\": (\"Mexico\", \"MEX\"),\n",
        "    \"norway\": (\"Norway\", \"NOR\"),\n",
        "    \"pakistan\": (\"Pakistan\", \"PAK\"),\n",
        "    \"san marino\": (\"San Marino\", \"SMR\"),\n",
        "    \"sanmarino\": (\"San Marino\", \"SMR\"),\n",
        "    \"spain\": (\"Spain\", \"ESP\"),\n",
        "    \"sweden\": (\"Sweden\", \"SWE\"),\n",
        "    \"united kingdom\": (\"United Kingdom\", \"GBR\"),\n",
        "    \"uk\": (\"United Kingdom\", \"GBR\"),\n",
        "    \"great britain\": (\"United Kingdom\", \"GBR\"),\n",
        "    \"britain\": (\"United Kingdom\", \"GBR\"),\n",
        "    \"us\": (\"United States of America\", \"USA\"),\n",
        "    \"united states\": (\"United States of America\", \"USA\"),\n",
        "    \"usa\": (\"United States of America\", \"USA\"),\n",
        "}\n",
        "valid_country_names = sorted(countries.keys())\n",
        "valid_country_names\n",
        "\n",
        "def lookup_country(name: str) -> tuple[str, str]:\n",
        "    name = name.strip().casefold()\n",
        "\n",
        "    try:\n",
        "        return countries[name]\n",
        "    except KeyError:\n",
        "        raise ValueError(\n",
        "            \"Unknown country name. \"\n",
        "            f\"Country name must be one of: {','.join(valid_country_names)}\"\n",
        "        )"
      ],
      "metadata": {
        "id": "KbdoGroVF5Ia"
      },
      "execution_count": 15,
      "outputs": []
    },
    {
      "cell_type": "code",
      "source": [
        "from datetime import date\n",
        "from enum import Enum\n",
        "from typing import Annotated, TypeVar\n",
        "from uuid import uuid4\n",
        "from pydantic import (\n",
        "    AfterValidator,\n",
        "    BaseModel,\n",
        "    ConfigDict,\n",
        "    Field,\n",
        "    UUID4,\n",
        "    field_serializer,\n",
        "    field_validator,\n",
        "    ValidationInfo,\n",
        ")\n",
        "from pydantic.alias_generators import to_camel\n",
        "\n",
        "\n",
        "class AutomobileType(Enum):\n",
        "    sedan = \"Sedan\"\n",
        "    coupe = \"Coupe\"\n",
        "    convertible = \"Convertible\"\n",
        "    suv = \"SUV\"\n",
        "    truck = \"Truck\"\n",
        "\n",
        "\n",
        "T = TypeVar('T')\n",
        "BoundedString = Annotated[str, Field(min_length=2, max_length=50)]\n",
        "BoundedList = Annotated[list[T], Field(min_length=1, max_length=5)]\n",
        "\n",
        "\n",
        "Country = Annotated[str, AfterValidator(lambda name: lookup_country(name)[0])]\n",
        "\n",
        "class Automobile(BaseModel):\n",
        "    model_config = ConfigDict(\n",
        "        extra=\"forbid\",\n",
        "        str_strip_whitespace=True,\n",
        "        validate_default=True,\n",
        "        validate_assignment=True,\n",
        "        alias_generator=to_camel,\n",
        "    )\n",
        "\n",
        "    id_: UUID4 | None = Field(alias=\"id\", default_factory=uuid4)\n",
        "    manufacturer: BoundedString\n",
        "    series_name: BoundedString\n",
        "    type_: AutomobileType = Field(alias=\"type\")\n",
        "    is_electric: bool = False\n",
        "    manufactured_date: date = Field(validation_alias=\"completionDate\", ge=date(1980, 1, 1))\n",
        "    base_msrp_usd: float = Field(\n",
        "        validation_alias=\"msrpUSD\",\n",
        "        serialization_alias=\"baseMSRPUSD\"\n",
        "    )\n",
        "    top_features: BoundedList[BoundedString] | None = None\n",
        "    vin: BoundedString\n",
        "    number_of_doors: int = Field(\n",
        "        default=4,\n",
        "        validation_alias=\"doors\",\n",
        "        ge=2,\n",
        "        le=4,\n",
        "        multiple_of=2,\n",
        "    )\n",
        "    registration_country: Country | None = None\n",
        "    registration_date: date | None = None\n",
        "    license_plate: BoundedString | None = None\n",
        "\n",
        "    @field_serializer(\"manufactured_date\", \"registration_date\", when_used=\"json-unless-none\")\n",
        "    def serialize_date(self, value: date) -> str:\n",
        "        return value.strftime(\"%Y/%m/%d\")\n",
        "\n",
        "    @field_validator(\"registration_date\")\n",
        "    @classmethod\n",
        "    def validate_registration_date(cls, value:date, values: ValidationInfo):\n",
        "        data = values.data\n",
        "        if \"manufactured_date\" in data and data[\"manufactured_date\"] > value:\n",
        "            raise ValueError(\"Automobile cannot be registered prior to manufacture date.\")\n",
        "        return value"
      ],
      "metadata": {
        "id": "6F4MI2aKGzmL"
      },
      "execution_count": 16,
      "outputs": []
    },
    {
      "cell_type": "code",
      "source": [
        "country_code_lookup = {\n",
        "    name: code\n",
        "    for name, code in countries.values()\n",
        "}\n",
        "country_code_lookup"
      ],
      "metadata": {
        "colab": {
          "base_uri": "https://localhost:8080/"
        },
        "id": "EN5-3N3THbQP",
        "outputId": "8f4ad12d-f99c-4173-f41a-326a2445d50d"
      },
      "execution_count": 17,
      "outputs": [
        {
          "output_type": "execute_result",
          "data": {
            "text/plain": [
              "{'Australia': 'AUS',\n",
              " 'Canada': 'CAN',\n",
              " 'China': 'CHN',\n",
              " 'France': 'FRA',\n",
              " 'Germany': 'DEU',\n",
              " 'India': 'IND',\n",
              " 'Mexico': 'MEX',\n",
              " 'Norway': 'NOR',\n",
              " 'Pakistan': 'PAK',\n",
              " 'San Marino': 'SMR',\n",
              " 'Spain': 'ESP',\n",
              " 'Sweden': 'SWE',\n",
              " 'United Kingdom': 'GBR',\n",
              " 'United States of America': 'USA'}"
            ]
          },
          "metadata": {},
          "execution_count": 17
        }
      ]
    },
    {
      "cell_type": "markdown",
      "source": [
        "Also, now would be a good time to clean up our model's representation string. Remove all fields, except for id_, manufacturer, series_name and type_ from the representatino string.\n",
        "\n",
        "Here is some sample data to help you test your model:"
      ],
      "metadata": {
        "id": "413hV6r5HpMU"
      }
    },
    {
      "cell_type": "code",
      "source": [
        "from uuid import UUID\n",
        "\n",
        "data = {\n",
        "    \"id\": \"c4e60f4a-3c7f-4da5-9b3f-07aee50b23e7\",\n",
        "    \"manufacturer\": \"BMW\",\n",
        "    \"seriesName\": \"M4 Competition xDrive\",\n",
        "    \"type\": \"Convertible\",\n",
        "    \"isElectric\": False,\n",
        "    \"completionDate\": \"2023-01-01\",\n",
        "    \"msrpUSD\": 93_300,\n",
        "    \"topFeatures\": [\"6 cylinders\", \"all-wheel drive\", \"convertible\"],\n",
        "    \"vin\": \"1234567890\",\n",
        "    \"doors\": 2,\n",
        "    \"registrationCountry\": \"us\",\n",
        "    \"registrationDate\": \"2023-06-01\",\n",
        "    \"licensePlate\": \"AAA-BBB\"\n",
        "}\n",
        "\n",
        "expected_serialized_by_alias = {\n",
        "    'id': UUID('c4e60f4a-3c7f-4da5-9b3f-07aee50b23e7'),\n",
        "    'manufacturer': 'BMW',\n",
        "    'seriesName': 'M4 Competition xDrive',\n",
        "    'type': AutomobileType.convertible,\n",
        "    'isElectric': False,\n",
        "    'manufacturedDate': date(2023, 1, 1),\n",
        "    'baseMSRPUSD': 93300.0,\n",
        "    'topFeatures': ['6 cylinders', 'all-wheel drive', 'convertible'],\n",
        "    'vin': '1234567890',\n",
        "    'numberOfDoors': 2,\n",
        "    'registrationCountry': 'United States of America',\n",
        "    'registrationCountryCode': 'USA',\n",
        "    'registrationDate': date(2023, 6, 1),\n",
        "    'licensePlate': 'AAA-BBB',\n",
        "}"
      ],
      "metadata": {
        "id": "BlnB5yApHp-L"
      },
      "execution_count": 18,
      "outputs": []
    },
    {
      "cell_type": "markdown",
      "source": [
        "## Solution\n",
        "To implement this we are going to use ```@cached_property``` and Pydantic's ```@computed_field decorators```."
      ],
      "metadata": {
        "id": "NyUifc2fICjF"
      }
    },
    {
      "cell_type": "code",
      "source": [
        "from functools import cached_property\n",
        "from pydantic import computed_field\n",
        "\n",
        "class Automobile(BaseModel):\n",
        "    model_config = ConfigDict(\n",
        "        extra=\"forbid\",\n",
        "        str_strip_whitespace=True,\n",
        "        validate_default=True,\n",
        "        validate_assignment=True,\n",
        "        alias_generator=to_camel,\n",
        "    )\n",
        "\n",
        "    id_: UUID4 | None = Field(alias=\"id\", default_factory=uuid4)\n",
        "    manufacturer: BoundedString\n",
        "    series_name: BoundedString\n",
        "    type_: AutomobileType = Field(alias=\"type\")\n",
        "    is_electric: bool = Field(default=False, repr=False)\n",
        "    manufactured_date: date = Field(\n",
        "        validation_alias=\"completionDate\",\n",
        "        ge=date(1980, 1, 1),\n",
        "        repr=False\n",
        "    )\n",
        "    base_msrp_usd: float = Field(\n",
        "        validation_alias=\"msrpUSD\",\n",
        "        serialization_alias=\"baseMSRPUSD\",\n",
        "        repr=False,\n",
        "    )\n",
        "    top_features: BoundedList[BoundedString] | None = Field(default=None, repr=False)\n",
        "    vin: BoundedString = Field(repr=False)\n",
        "    number_of_doors: int = Field(\n",
        "        default=4,\n",
        "        validation_alias=\"doors\",\n",
        "        ge=2,\n",
        "        le=4,\n",
        "        multiple_of=2,\n",
        "        repr=False,\n",
        "    )\n",
        "    registration_country: Country | None = Field(default=None, repr=False)\n",
        "\n",
        "    @computed_field(repr=False)\n",
        "    @cached_property\n",
        "    def registration_country_code(self) -> str:\n",
        "        return country_code_lookup[self.registration_country]\n",
        "\n",
        "    registration_date: date | None = Field(default=None, repr=False)\n",
        "    license_plate: BoundedString | None = Field(default=None, repr=False)\n",
        "\n",
        "\n",
        "    @field_serializer(\"manufactured_date\", \"registration_date\", when_used=\"json-unless-none\")\n",
        "    def serialize_date(self, value: date) -> str:\n",
        "        return value.strftime(\"%Y/%m/%d\")\n",
        "\n",
        "    @field_validator(\"registration_date\")\n",
        "    @classmethod\n",
        "    def validate_registration_date(cls, value:date, values: ValidationInfo):\n",
        "        data = values.data\n",
        "        if \"manufactured_date\" in data and data[\"manufactured_date\"] > value:\n",
        "            raise ValueError(\"Automobile cannot be registered prior to manufacture date.\")\n",
        "        return value"
      ],
      "metadata": {
        "id": "GiLkubQVIDP4"
      },
      "execution_count": 19,
      "outputs": []
    },
    {
      "cell_type": "code",
      "source": [
        "car = Automobile.model_validate(data)\n",
        "car"
      ],
      "metadata": {
        "colab": {
          "base_uri": "https://localhost:8080/"
        },
        "id": "janqDQxoJmV4",
        "outputId": "fe6e2cc4-099e-4101-f7ca-fa823db7b32c"
      },
      "execution_count": 20,
      "outputs": [
        {
          "output_type": "execute_result",
          "data": {
            "text/plain": [
              "Automobile(id_=UUID('c4e60f4a-3c7f-4da5-9b3f-07aee50b23e7'), manufacturer='BMW', series_name='M4 Competition xDrive', type_=<AutomobileType.convertible: 'Convertible'>)"
            ]
          },
          "metadata": {},
          "execution_count": 20
        }
      ]
    },
    {
      "cell_type": "code",
      "source": [
        "assert car.model_dump(by_alias=True) == expected_serialized_by_alias"
      ],
      "metadata": {
        "id": "tvQtB_2eJqy2"
      },
      "execution_count": 21,
      "outputs": []
    }
  ]
}