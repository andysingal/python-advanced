{
  "nbformat": 4,
  "nbformat_minor": 0,
  "metadata": {
    "colab": {
      "provenance": []
    },
    "kernelspec": {
      "name": "python3",
      "display_name": "Python 3"
    },
    "language_info": {
      "name": "python"
    }
  },
  "cells": [
    {
      "cell_type": "code",
      "execution_count": 1,
      "metadata": {
        "id": "X4lbFSHZVlbu",
        "colab": {
          "base_uri": "https://localhost:8080/"
        },
        "outputId": "8730e16c-2779-4e31-8362-01e74b49fb5c"
      },
      "outputs": [
        {
          "output_type": "stream",
          "name": "stdout",
          "text": [
            "\u001b[2K     \u001b[90m━━━━━━━━━━━━━━━━━━━━━━━━━━━━━━━━━━━━━━━━\u001b[0m \u001b[32m227.4/227.4 kB\u001b[0m \u001b[31m5.6 MB/s\u001b[0m eta \u001b[36m0:00:00\u001b[0m\n",
            "\u001b[2K     \u001b[90m━━━━━━━━━━━━━━━━━━━━━━━━━━━━━━━━━━━━━━━━\u001b[0m \u001b[32m807.5/807.5 kB\u001b[0m \u001b[31m29.9 MB/s\u001b[0m eta \u001b[36m0:00:00\u001b[0m\n",
            "\u001b[2K     \u001b[90m━━━━━━━━━━━━━━━━━━━━━━━━━━━━━━━━━━━━━━━━\u001b[0m \u001b[32m75.6/75.6 kB\u001b[0m \u001b[31m7.9 MB/s\u001b[0m eta \u001b[36m0:00:00\u001b[0m\n",
            "\u001b[2K     \u001b[90m━━━━━━━━━━━━━━━━━━━━━━━━━━━━━━━━━━━━━━━━\u001b[0m \u001b[32m307.7/307.7 kB\u001b[0m \u001b[31m26.8 MB/s\u001b[0m eta \u001b[36m0:00:00\u001b[0m\n",
            "\u001b[2K     \u001b[90m━━━━━━━━━━━━━━━━━━━━━━━━━━━━━━━━━━━━━━━━\u001b[0m \u001b[32m77.8/77.8 kB\u001b[0m \u001b[31m8.3 MB/s\u001b[0m eta \u001b[36m0:00:00\u001b[0m\n",
            "\u001b[2K     \u001b[90m━━━━━━━━━━━━━━━━━━━━━━━━━━━━━━━━━━━━━━━━\u001b[0m \u001b[32m58.3/58.3 kB\u001b[0m \u001b[31m5.9 MB/s\u001b[0m eta \u001b[36m0:00:00\u001b[0m\n",
            "\u001b[2K     \u001b[90m━━━━━━━━━━━━━━━━━━━━━━━━━━━━━━━━━━━━━━━━\u001b[0m \u001b[32m1.8/1.8 MB\u001b[0m \u001b[31m45.8 MB/s\u001b[0m eta \u001b[36m0:00:00\u001b[0m\n",
            "\u001b[2K     \u001b[90m━━━━━━━━━━━━━━━━━━━━━━━━━━━━━━━━━━━━━━━━\u001b[0m \u001b[32m256.9/256.9 kB\u001b[0m \u001b[31m19.3 MB/s\u001b[0m eta \u001b[36m0:00:00\u001b[0m\n",
            "\u001b[2K     \u001b[90m━━━━━━━━━━━━━━━━━━━━━━━━━━━━━━━━━━━━━━━━\u001b[0m \u001b[32m66.6/66.6 kB\u001b[0m \u001b[31m6.6 MB/s\u001b[0m eta \u001b[36m0:00:00\u001b[0m\n",
            "\u001b[2K     \u001b[90m━━━━━━━━━━━━━━━━━━━━━━━━━━━━━━━━━━━━━━━━\u001b[0m \u001b[32m49.4/49.4 kB\u001b[0m \u001b[31m3.3 MB/s\u001b[0m eta \u001b[36m0:00:00\u001b[0m\n",
            "\u001b[2K     \u001b[90m━━━━━━━━━━━━━━━━━━━━━━━━━━━━━━━━━━━━━━━━\u001b[0m \u001b[32m138.5/138.5 kB\u001b[0m \u001b[31m13.2 MB/s\u001b[0m eta \u001b[36m0:00:00\u001b[0m\n",
            "\u001b[?25h"
          ]
        }
      ],
      "source": [
        "%pip install -q kor markdownify requests pydantic pydantic[email] openai colorama bs4 rich"
      ]
    },
    {
      "cell_type": "markdown",
      "source": [
        "## After Validation\n",
        "\n",
        "Custom validators serve as transformation functions that, during deserialization, receive input and return the corresponding deserialized value. Beyond validation checks, these validators also play a role in transforming data. It's essential to recognize that they can be utilized for validation only, deserialization only, or both. In the upcoming content, we'll explore the process of defining custom validators using a decorator."
      ],
      "metadata": {
        "id": "VHj1ucE4MhxJ"
      }
    },
    {
      "cell_type": "code",
      "source": [
        "from pydantic import BaseModel, Field, field_validator, ValidationError\n",
        "class Model(BaseModel):\n",
        "    number: int = Field(gt=0, lt=10)\n",
        "\n",
        "    @field_validator(\"number\")\n",
        "    @classmethod\n",
        "    def validate_even(cls, value):\n",
        "        print(\"Running custom validator\")\n",
        "        print(f\"{value=}, {type(value)=}\")\n",
        "        return value  # custom validators must return a value\n",
        "\n",
        "try:\n",
        "    Model(number=12)\n",
        "except ValidationError as ex:\n",
        "    print(ex)"
      ],
      "metadata": {
        "colab": {
          "base_uri": "https://localhost:8080/"
        },
        "id": "lZd6uNwXPL2l",
        "outputId": "3bbac875-aacd-40a2-b33e-1ac0d1b5bbdd"
      },
      "execution_count": 2,
      "outputs": [
        {
          "output_type": "stream",
          "name": "stdout",
          "text": [
            "1 validation error for Model\n",
            "number\n",
            "  Input should be less than 10 [type=less_than, input_value=12, input_type=int]\n",
            "    For further information visit https://errors.pydantic.dev/2.6/v/less_than\n"
          ]
        }
      ]
    },
    {
      "cell_type": "markdown",
      "source": [
        "To indicate a validation error in our custom validator, we just raise a ValueError with an appropriate message."
      ],
      "metadata": {
        "id": "ALfttE3vPdT7"
      }
    },
    {
      "cell_type": "code",
      "source": [
        "# from pydantic import BaseModel, ConfigDict, Field, field_validator, ValidationError\n",
        "# from datetime import datetime, timezone\n",
        "# from typing import List,Dict,Set,Tuple, Union, Annotated, get_args, Any, TypeVar\n",
        "\n",
        "class Model(BaseModel):\n",
        "    number: int = Field(gt=0, lt=10)\n",
        "\n",
        "    @field_validator(\"number\")\n",
        "    @classmethod\n",
        "    def validate_even(cls, value):\n",
        "        print(\"Running custom validator\")\n",
        "        print(f\"{value=}, {type(value)=}\")\n",
        "        if value % 2 == 0:\n",
        "            # number is even, so return it\n",
        "            return value\n",
        "        raise ValueError(\"value must be even\")\n",
        "\n",
        "try:\n",
        "    Model(number=3)\n",
        "except Exception as ex:\n",
        "    print(f\"{type(ex)=}, {ex}\")"
      ],
      "metadata": {
        "colab": {
          "base_uri": "https://localhost:8080/"
        },
        "id": "3T8hIAqLVm-g",
        "outputId": "7fb930fd-8261-4ef8-a231-990da2b87231"
      },
      "execution_count": 3,
      "outputs": [
        {
          "output_type": "stream",
          "name": "stdout",
          "text": [
            "Running custom validator\n",
            "value=3, type(value)=<class 'int'>\n",
            "type(ex)=<class 'pydantic_core._pydantic_core.ValidationError'>, 1 validation error for Model\n",
            "number\n",
            "  Value error, value must be even [type=value_error, input_value=3, input_type=int]\n",
            "    For further information visit https://errors.pydantic.dev/2.6/v/value_error\n"
          ]
        }
      ]
    },
    {
      "cell_type": "markdown",
      "source": [
        "Now, let's make a model that ensures datetimes are always stored as UTC aware datetimes in our model."
      ],
      "metadata": {
        "id": "NsmBLwo9WZNi"
      }
    },
    {
      "cell_type": "code",
      "source": [
        "from datetime import datetime\n",
        "import pytz\n",
        "\n",
        "class Model(BaseModel):\n",
        "    dt: datetime\n",
        "\n",
        "    @field_validator(\"dt\")\n",
        "    @classmethod\n",
        "    def make_utc(cls, dt: datetime) -> datetime:\n",
        "        if dt.tzinfo is None:\n",
        "            dt = pytz.utc.localize(dt)\n",
        "        else:\n",
        "            dt = dt.astimezone(pytz.utc)\n",
        "        return dt\n",
        "\n",
        "Model(dt=\"2020-01-01T03:00:00\")\n"
      ],
      "metadata": {
        "colab": {
          "base_uri": "https://localhost:8080/"
        },
        "id": "NMg9ciNaWZt-",
        "outputId": "19ec8871-b24d-4b6e-8d43-deae09274930"
      },
      "execution_count": 4,
      "outputs": [
        {
          "output_type": "execute_result",
          "data": {
            "text/plain": [
              "Model(dt=datetime.datetime(2020, 1, 1, 3, 0, tzinfo=<UTC>))"
            ]
          },
          "metadata": {},
          "execution_count": 4
        }
      ]
    },
    {
      "cell_type": "markdown",
      "source": [
        "As we saw in the lecture video, the order of execution of after validators is the top to bottom definition order of the functions in the class."
      ],
      "metadata": {
        "id": "Fvaz_AY6Wx25"
      }
    },
    {
      "cell_type": "code",
      "source": [
        "class Model(BaseModel):\n",
        "    number: int\n",
        "\n",
        "    @field_validator(\"number\")\n",
        "    @classmethod\n",
        "    def add_1(cls, value: int):\n",
        "        print(f\"running add_1({value}) -> {value + 1}\")\n",
        "        return value + 1\n",
        "\n",
        "    @field_validator(\"number\")\n",
        "    @classmethod\n",
        "    def add_2(cls, value: int):\n",
        "        print(f\"running add_2({value}) -> {value + 2}\")\n",
        "        return value + 2\n",
        "\n",
        "    @field_validator(\"number\")\n",
        "    @classmethod\n",
        "    def add_3(cls, value: int):\n",
        "        print(f\"running add_3({value}) -> {value + 3}\")\n",
        "        return value + 3"
      ],
      "metadata": {
        "id": "KtPgaTvJWyqn"
      },
      "execution_count": 5,
      "outputs": []
    },
    {
      "cell_type": "code",
      "source": [
        "Model(number=1)"
      ],
      "metadata": {
        "colab": {
          "base_uri": "https://localhost:8080/"
        },
        "id": "jGeJvUGDW00G",
        "outputId": "5dc3778a-405e-4495-ddf5-d67af81732ad"
      },
      "execution_count": 6,
      "outputs": [
        {
          "output_type": "stream",
          "name": "stdout",
          "text": [
            "running add_1(1) -> 2\n",
            "running add_2(2) -> 4\n",
            "running add_3(4) -> 7\n"
          ]
        },
        {
          "output_type": "execute_result",
          "data": {
            "text/plain": [
              "Model(number=7)"
            ]
          },
          "metadata": {},
          "execution_count": 6
        }
      ]
    },
    {
      "cell_type": "markdown",
      "source": [],
      "metadata": {
        "id": "Byl1tsdEXHZj"
      }
    },
    {
      "cell_type": "code",
      "source": [
        "class Model(BaseModel):\n",
        "    unit_cost: float\n",
        "    unit_price: float\n",
        "\n",
        "    @field_validator(\"*\")\n",
        "    @classmethod\n",
        "    def round_2(cls, value: float) -> float:\n",
        "        return round(value, 2)\n",
        "\n",
        "Model(unit_cost=2.12345, unit_price=5.9876)"
      ],
      "metadata": {
        "colab": {
          "base_uri": "https://localhost:8080/"
        },
        "id": "ITPa_frkXHgt",
        "outputId": "f6b67589-ad1f-47e7-cb59-b7b9e1e56af0"
      },
      "execution_count": 7,
      "outputs": [
        {
          "output_type": "execute_result",
          "data": {
            "text/plain": [
              "Model(unit_cost=2.12, unit_price=5.99)"
            ]
          },
          "metadata": {},
          "execution_count": 7
        }
      ]
    },
    {
      "cell_type": "markdown",
      "source": [
        "## Before Validation\n",
        "\n",
        "Pre-validators, also known as \"before validators,\" allow us to intercept data before Pydantic performs its own validation. Typically, validators run after Pydantic's initial deserialization, ensuring the received value is of the correct type and meets specified model validations. However, in certain cases, employing before validators becomes essential for customizing the deserialization process before Pydantic executes its validation. For instance, this is particularly useful when dealing with a model containing a datetime field, where Pydantic's string-to-datetime coercion requires a specific ISO format."
      ],
      "metadata": {
        "id": "X8cXbe37avTF"
      }
    },
    {
      "cell_type": "code",
      "source": [
        "class Model(BaseModel):\n",
        "    dt: datetime\n",
        "\n",
        "Model(dt=\"2020-01-01T12:00:00\")"
      ],
      "metadata": {
        "colab": {
          "base_uri": "https://localhost:8080/"
        },
        "id": "eXkZzbfga9gs",
        "outputId": "10385776-b066-4404-c740-e3adce6d3f35"
      },
      "execution_count": 8,
      "outputs": [
        {
          "output_type": "execute_result",
          "data": {
            "text/plain": [
              "Model(dt=datetime.datetime(2020, 1, 1, 12, 0))"
            ]
          },
          "metadata": {},
          "execution_count": 8
        }
      ]
    },
    {
      "cell_type": "markdown",
      "source": [
        "Let's first write some Python code that will be able to parse these various date strings into proper datetime objects.\n",
        "\n",
        "We'll use the python-dateutil 3rd party library to do this.\n",
        "\n",
        "You'll need to install in in your virtual environment, and docs for that library are located here\n",
        "\n",
        "In particular, we'll use that library's parser."
      ],
      "metadata": {
        "id": "McPoJ0_QbtWg"
      }
    },
    {
      "cell_type": "code",
      "source": [
        "from dateutil.parser import parse\n",
        "\n",
        "parse(\"2020/1/1 3pm\")"
      ],
      "metadata": {
        "colab": {
          "base_uri": "https://localhost:8080/"
        },
        "id": "ui2kBJJYbtx6",
        "outputId": "168c0224-cb58-47b2-85de-35ebb945b59b"
      },
      "execution_count": 9,
      "outputs": [
        {
          "output_type": "execute_result",
          "data": {
            "text/plain": [
              "datetime.datetime(2020, 1, 1, 15, 0)"
            ]
          },
          "metadata": {},
          "execution_count": 9
        }
      ]
    },
    {
      "cell_type": "code",
      "source": [
        "try:\n",
        "    parse(datetime(2020, 1, 1, 15, 0, 0))\n",
        "except TypeError as ex:\n",
        "    print(ex)"
      ],
      "metadata": {
        "colab": {
          "base_uri": "https://localhost:8080/"
        },
        "id": "rMi8w7NsigEV",
        "outputId": "48178cdf-2955-49d8-ce66-49e74d175b74"
      },
      "execution_count": 10,
      "outputs": [
        {
          "output_type": "stream",
          "name": "stdout",
          "text": [
            "Parser must be a string or character stream, not datetime\n"
          ]
        }
      ]
    },
    {
      "cell_type": "markdown",
      "source": [
        "Technically we don't have to return the final (model) type from our validator, since the Pydantic validators will run after, but we could if we wanted to. In this case, we're going to attempt to parse the value if it is a string, otherwise we'll just forward the value, whatever type it is, and let Pydantic handle non-string input values."
      ],
      "metadata": {
        "id": "cDeDaKfRitGM"
      }
    },
    {
      "cell_type": "code",
      "source": [
        "from typing import Any\n",
        "\n",
        "\n",
        "class Model(BaseModel):\n",
        "    dt: datetime\n",
        "\n",
        "    @field_validator(\"dt\", mode=\"before\")\n",
        "    @classmethod\n",
        "    def parse_datetime(cls, value: Any):\n",
        "        if isinstance(value, str):\n",
        "            print(\"parsing string\")\n",
        "            try:\n",
        "                return parse(value)\n",
        "            except Exception as ex:\n",
        "                raise ValueError(str(ex))\n",
        "        print(\"pass through...\")\n",
        "        return value\n",
        "\n",
        "Model(dt=\"2020/1/1 3pm\")"
      ],
      "metadata": {
        "colab": {
          "base_uri": "https://localhost:8080/"
        },
        "id": "veGPb9HuilTt",
        "outputId": "f4c27a15-f191-4be3-c914-20ec94be84fc"
      },
      "execution_count": 11,
      "outputs": [
        {
          "output_type": "stream",
          "name": "stdout",
          "text": [
            "parsing string\n"
          ]
        },
        {
          "output_type": "execute_result",
          "data": {
            "text/plain": [
              "Model(dt=datetime.datetime(2020, 1, 1, 15, 0))"
            ]
          },
          "metadata": {},
          "execution_count": 11
        }
      ]
    },
    {
      "cell_type": "markdown",
      "source": [
        "## Combining Before and After Validators\n",
        "We saw how to define before validators, and after validators.\n",
        "\n",
        "We can define as many before and after validators as we want, and we can also mix both before and after validators.\n",
        "\n",
        "The before validators will be executed first (bottom to top order), then the Pydantic validator, then the after validators (top to bottom).\n",
        "\n",
        "Using both before and after validators can be quite handy."
      ],
      "metadata": {
        "id": "WX2ZhJhLjKFr"
      }
    },
    {
      "cell_type": "code",
      "source": [
        "from datetime import datetime\n",
        "from typing import Any\n",
        "\n",
        "import pytz\n",
        "from dateutil.parser import parse\n",
        "from pydantic import BaseModel, field_validator, ValidationError\n",
        "\n",
        "\n",
        "class Model(BaseModel):\n",
        "    dt: datetime\n",
        "\n",
        "    @field_validator(\"dt\", mode=\"before\")\n",
        "    @classmethod\n",
        "    def parse_datetime(cls, value: Any):\n",
        "        if isinstance(value, str):\n",
        "            try:\n",
        "                return parse(value)\n",
        "            except Exception as ex:\n",
        "                raise ValueError(str(ex))\n",
        "        return value\n",
        "\n",
        "Model(dt=100_000)"
      ],
      "metadata": {
        "colab": {
          "base_uri": "https://localhost:8080/"
        },
        "id": "lsrBBdxGjA6f",
        "outputId": "83ebbaee-482a-4a27-8aff-4283d272c06b"
      },
      "execution_count": 12,
      "outputs": [
        {
          "output_type": "execute_result",
          "data": {
            "text/plain": [
              "Model(dt=datetime.datetime(1970, 1, 2, 3, 46, 40, tzinfo=TzInfo(UTC)))"
            ]
          },
          "metadata": {},
          "execution_count": 12
        }
      ]
    },
    {
      "cell_type": "markdown",
      "source": [
        "So now, we are going to combine both of those validators:"
      ],
      "metadata": {
        "id": "9gWsNPoIj-z3"
      }
    },
    {
      "cell_type": "code",
      "source": [
        "class Model(BaseModel):\n",
        "    dt: datetime\n",
        "\n",
        "    @field_validator(\"dt\", mode=\"before\")\n",
        "    @classmethod\n",
        "    def parse_datetime(cls, value: Any):\n",
        "        if isinstance(value, str):\n",
        "            try:\n",
        "                return parse(value)\n",
        "            except Exception as ex:\n",
        "                raise ValueError(str(ex))\n",
        "        return value\n",
        "\n",
        "    @field_validator(\"dt\")\n",
        "    @classmethod\n",
        "    def make_utc(cls, dt: datetime) -> datetime:\n",
        "        if dt.tzinfo is None:\n",
        "            dt = pytz.utc.localize(dt)\n",
        "        else:\n",
        "            dt = dt.astimezone(pytz.utc)\n",
        "        return dt\n",
        "\n",
        "Model(dt=100_000)"
      ],
      "metadata": {
        "colab": {
          "base_uri": "https://localhost:8080/"
        },
        "id": "qQJ3NBiujghv",
        "outputId": "f0d91629-14b1-417d-a69f-140236f652d3"
      },
      "execution_count": 13,
      "outputs": [
        {
          "output_type": "execute_result",
          "data": {
            "text/plain": [
              "Model(dt=datetime.datetime(1970, 1, 2, 3, 46, 40, tzinfo=<UTC>))"
            ]
          },
          "metadata": {},
          "execution_count": 13
        }
      ]
    },
    {
      "cell_type": "markdown",
      "source": [
        "## EXTRA EXAMPLES:\n"
      ],
      "metadata": {
        "id": "KbtkXMxAldu9"
      }
    },
    {
      "cell_type": "code",
      "source": [
        "from datetime import date\n",
        "from pydantic import model_validator\n",
        "class ScheduledCourse(BaseModel):\n",
        "    department: str\n",
        "    course_number: int\n",
        "    start_date: date\n",
        "    end_date: date\n",
        "\n",
        "    @model_validator(mode=\"before\")\n",
        "    @classmethod\n",
        "    def validate_dates(cls, data: dict):\n",
        "        if data[\"start_date\"] > data[\"end_date\"]:\n",
        "            raise ValueError(\"Start date must be before end date for the course\")\n",
        "        return data\n",
        "\n"
      ],
      "metadata": {
        "id": "PaRIsrDYkE4v"
      },
      "execution_count": 14,
      "outputs": []
    },
    {
      "cell_type": "code",
      "source": [
        "try:\n",
        "    course = ScheduledCourse(\n",
        "        start_date=\"2024-12-22\",\n",
        "        end_date=\"2024-11-10\"\n",
        "        )\n",
        "    print(course)\n",
        "except ValidationError as e:\n",
        "    print(e)"
      ],
      "metadata": {
        "colab": {
          "base_uri": "https://localhost:8080/"
        },
        "id": "ZXddmhDalgQW",
        "outputId": "5d15d5ff-d5d8-4bd4-db26-ec332f576b7d"
      },
      "execution_count": 15,
      "outputs": [
        {
          "output_type": "stream",
          "name": "stdout",
          "text": [
            "1 validation error for ScheduledCourse\n",
            "  Value error, Start date must be before end date for the course [type=value_error, input_value={'start_date': '2024-12-2...end_date': '2024-11-10'}, input_type=dict]\n",
            "    For further information visit https://errors.pydantic.dev/2.6/v/value_error\n"
          ]
        }
      ]
    },
    {
      "cell_type": "markdown",
      "source": [
        "## Custom Validators using Annotations"
      ],
      "metadata": {
        "id": "3CuGdFev4jaD"
      }
    },
    {
      "cell_type": "code",
      "source": [
        "from pydantic import BaseModel, Field, ValidationError\n",
        "\n",
        "class Model(BaseModel):\n",
        "    number: int = Field(gt=0, lt=5)"
      ],
      "metadata": {
        "id": "aj6KxFLD3EYl"
      },
      "execution_count": 17,
      "outputs": []
    },
    {
      "cell_type": "markdown",
      "source": [
        "Or we could do it using an annotated type:"
      ],
      "metadata": {
        "id": "QIVgyFF3LpHr"
      }
    },
    {
      "cell_type": "code",
      "source": [
        "from typing import Annotated\n",
        "\n",
        "BoundedInt = Annotated[int, Field(gt=0, lt=5)]\n",
        "\n",
        "class Model(BaseModel):\n",
        "    number: BoundedInt"
      ],
      "metadata": {
        "id": "EX7eMyKXLpvq"
      },
      "execution_count": 16,
      "outputs": []
    },
    {
      "cell_type": "markdown",
      "source": [
        "We can do something similar with validators.\n",
        "\n",
        "First, we define our validation function. Because we are essentially defining this function outside of a class, it is a regular function, not a class method (so we don't need that cls argument at all).\n",
        "\n",
        "Let's do our datetime example, starting with a before validator:"
      ],
      "metadata": {
        "id": "Mo-k9JV1Nga6"
      }
    },
    {
      "cell_type": "code",
      "source": [
        "from datetime import datetime\n",
        "from typing import Any\n",
        "from pydantic import BeforeValidator, AfterValidator\n",
        "\n",
        "from dateutil.parser import parse\n",
        "\n",
        "def parse_datetime(value: Any):\n",
        "    if isinstance(value, str):\n",
        "        try:\n",
        "            return parse(value)\n",
        "        except Exception as ex:\n",
        "            raise ValueError(str(ex))\n",
        "    return value\n",
        "\n",
        "DateTime = Annotated[datetime, BeforeValidator(parse_datetime)]\n",
        "\n",
        "class Model(BaseModel):\n",
        "    dt: DateTime\n",
        "\n",
        "Model(dt=\"2020/1/1 3pm\")\n"
      ],
      "metadata": {
        "colab": {
          "base_uri": "https://localhost:8080/"
        },
        "id": "HLH2bY-oNhGC",
        "outputId": "f190e7c3-7cdc-42ce-fb54-05e331034259"
      },
      "execution_count": 19,
      "outputs": [
        {
          "output_type": "execute_result",
          "data": {
            "text/plain": [
              "Model(dt=datetime.datetime(2020, 1, 1, 15, 0))"
            ]
          },
          "metadata": {},
          "execution_count": 19
        }
      ]
    },
    {
      "cell_type": "code",
      "source": [
        "import pytz\n",
        "\n",
        "def make_utc(dt: datetime) -> datetime:\n",
        "    if dt.tzinfo is None:\n",
        "        dt = pytz.utc.localize(dt)\n",
        "    else:\n",
        "        dt = dt.astimezone(pytz.utc)\n",
        "    return dt\n",
        "\n",
        "DateTimeUTC = Annotated[datetime, BeforeValidator(parse_datetime), AfterValidator(make_utc)]"
      ],
      "metadata": {
        "id": "fTRBsc1MOivJ"
      },
      "execution_count": 20,
      "outputs": []
    },
    {
      "cell_type": "code",
      "source": [
        "class Model(BaseModel):\n",
        "    dt: DateTimeUTC\n",
        "\n",
        "Model(dt=\"2020/1/1 3pm\")"
      ],
      "metadata": {
        "colab": {
          "base_uri": "https://localhost:8080/"
        },
        "id": "LPmfiVfWP_8q",
        "outputId": "290d2853-3734-496c-d105-21846817c4d6"
      },
      "execution_count": 21,
      "outputs": [
        {
          "output_type": "execute_result",
          "data": {
            "text/plain": [
              "Model(dt=datetime.datetime(2020, 1, 1, 15, 0, tzinfo=<UTC>))"
            ]
          },
          "metadata": {},
          "execution_count": 21
        }
      ]
    },
    {
      "cell_type": "markdown",
      "source": [
        "Let's look at another example of using annotations for validators.\n",
        "\n",
        "Suppose we want to define a field that is a list, of some type, that only contains unique elements.\n",
        "\n",
        "We'll want to make it reusable, so we'll implement this using annotations.\n",
        "\n",
        "First, we'll start with an annotated type for just integers, then we'll use the same technique I showed you earlier with TypeVar to extend this to arbitrary types."
      ],
      "metadata": {
        "id": "fw5YeD8FQZxZ"
      }
    },
    {
      "cell_type": "code",
      "source": [
        "def are_elements_unique(values: list[Any]) -> list[Any]:\n",
        "    unique_elements = []\n",
        "    for value in values:\n",
        "        if value in unique_elements:\n",
        "            raise ValueError(\"elements must be unique\")\n",
        "        unique_elements.append(value)\n",
        "    return values\n",
        "\n",
        "UniqueIntegerList = Annotated[list[int], AfterValidator(are_elements_unique)]\n",
        "\n",
        "class Model(BaseModel):\n",
        "    numbers: UniqueIntegerList = []\n",
        "\n",
        "try:\n",
        "    Model(numbers=[1, 1, 2, 3])\n",
        "except ValidationError as ex:\n",
        "    print(ex)"
      ],
      "metadata": {
        "colab": {
          "base_uri": "https://localhost:8080/"
        },
        "id": "wHvUA8ptQaP3",
        "outputId": "c3af1be0-0921-4f08-d292-0242628ddf2b"
      },
      "execution_count": 22,
      "outputs": [
        {
          "output_type": "stream",
          "name": "stdout",
          "text": [
            "1 validation error for Model\n",
            "numbers\n",
            "  Value error, elements must be unique [type=value_error, input_value=[1, 1, 2, 3], input_type=list]\n",
            "    For further information visit https://errors.pydantic.dev/2.6/v/value_error\n"
          ]
        }
      ]
    },
    {
      "cell_type": "markdown",
      "source": [
        "## Dependent Field Validations"
      ],
      "metadata": {
        "id": "XBvw7BHwTEyg"
      }
    },
    {
      "cell_type": "code",
      "source": [
        "from pydantic import BaseModel, field_validator, ValidationError, ValidationInfo\n",
        "\n",
        "class Model(BaseModel):\n",
        "    field_1: int\n",
        "    field_2: list[int]\n",
        "    field_3: str\n",
        "    field_4: list[str]\n",
        "\n",
        "    @field_validator(\"field_3\")\n",
        "    @classmethod\n",
        "    def validator(cls, value: str, validated_values: ValidationInfo):\n",
        "        print(f\"{value=}\")\n",
        "        print(f\"{validated_values=}\")\n",
        "        return value\n",
        "\n",
        "Model(field_1=100, field_2=[1, 2, 3], field_3=\"python\", field_4=[\"a\", \"b\"])"
      ],
      "metadata": {
        "colab": {
          "base_uri": "https://localhost:8080/"
        },
        "id": "RpED-uWvTFo8",
        "outputId": "5b717836-1d35-4765-b36f-75eedc340fc2"
      },
      "execution_count": 23,
      "outputs": [
        {
          "output_type": "stream",
          "name": "stdout",
          "text": [
            "value='python'\n",
            "validated_values=ValidationInfo(config={'title': 'Model'}, context=None, data={'field_1': 100, 'field_2': [1, 2, 3]}, field_name='field_3')\n"
          ]
        },
        {
          "output_type": "execute_result",
          "data": {
            "text/plain": [
              "Model(field_1=100, field_2=[1, 2, 3], field_3='python', field_4=['a', 'b'])"
            ]
          },
          "metadata": {},
          "execution_count": 23
        }
      ]
    },
    {
      "cell_type": "markdown",
      "source": [
        "Let's see a typical application of this.\n",
        "\n",
        "Suppose we have a model with a start and end datetime - our validation needs to ensure that the end date is not earlier than the start date, so let's implement that.\n",
        "\n",
        "We'll bring back the validators we had when dealing with datetimes:"
      ],
      "metadata": {
        "id": "lZqy1JpBTpYY"
      }
    },
    {
      "cell_type": "code",
      "source": [
        "from datetime import datetime\n",
        "from typing import Annotated, Any\n",
        "\n",
        "import pytz\n",
        "from dateutil.parser import parse\n",
        "from pydantic import AfterValidator, BeforeValidator\n",
        "\n",
        "def parse_datetime(value: Any):\n",
        "    if isinstance(value, str):\n",
        "        try:\n",
        "            return parse(value)\n",
        "        except Exception as ex:\n",
        "            raise ValueError(str(ex))\n",
        "    return value\n",
        "\n",
        "\n",
        "def make_utc(dt: datetime) -> datetime:\n",
        "    if dt.tzinfo is None:\n",
        "        dt = pytz.utc.localize(dt)\n",
        "    else:\n",
        "        dt = dt.astimezone(pytz.utc)\n",
        "    return dt\n",
        "\n",
        "DateTimeUTC = Annotated[datetime, BeforeValidator(parse_datetime), AfterValidator(make_utc)]"
      ],
      "metadata": {
        "id": "kd72_syATs5h"
      },
      "execution_count": 24,
      "outputs": []
    },
    {
      "cell_type": "code",
      "source": [],
      "metadata": {
        "id": "i0RSibMaUzJm"
      },
      "execution_count": null,
      "outputs": []
    },
    {
      "cell_type": "code",
      "source": [
        "class Model(BaseModel):\n",
        "    start_dt: DateTimeUTC\n",
        "    end_dt: DateTimeUTC\n",
        "\n",
        "    @field_validator(\"end_dt\")\n",
        "    @classmethod\n",
        "    def validate_end_after_start_dt(cls, value: datetime, values: ValidationInfo):\n",
        "        data = values.data\n",
        "        if \"start_dt\" in data:\n",
        "            if value <= data[\"start_dt\"]:\n",
        "                raise ValueError(\"end_dt must come after start_dt\")\n",
        "        # if start_dt failed validation, there's not much we can check here.\n",
        "        #    So just return value as-is\n",
        "        return value"
      ],
      "metadata": {
        "id": "DzXpsDbCUzQV"
      },
      "execution_count": 25,
      "outputs": []
    },
    {
      "cell_type": "code",
      "source": [
        "Model(start_dt=\"2020/1/1\", end_dt=\"2020/12/31\")"
      ],
      "metadata": {
        "colab": {
          "base_uri": "https://localhost:8080/"
        },
        "id": "wSZype4NVHLd",
        "outputId": "3d7a1149-d071-48c2-e27b-21cc4c40ce66"
      },
      "execution_count": 26,
      "outputs": [
        {
          "output_type": "execute_result",
          "data": {
            "text/plain": [
              "Model(start_dt=datetime.datetime(2020, 1, 1, 0, 0, tzinfo=<UTC>), end_dt=datetime.datetime(2020, 12, 31, 0, 0, tzinfo=<UTC>))"
            ]
          },
          "metadata": {},
          "execution_count": 26
        }
      ]
    },
    {
      "cell_type": "code",
      "source": [],
      "metadata": {
        "id": "eu-FZtSlVHiN"
      },
      "execution_count": null,
      "outputs": []
    },
    {
      "cell_type": "markdown",
      "source": [
        "## Project Specs\n",
        "This is where we left off in the previous section project:"
      ],
      "metadata": {
        "id": "R7kgS4e3VPnf"
      }
    },
    {
      "cell_type": "code",
      "source": [
        "from datetime import date\n",
        "from enum import Enum\n",
        "from typing import Annotated, TypeVar\n",
        "from uuid import uuid4\n",
        "from pydantic import BaseModel, ConfigDict, Field, field_serializer\n",
        "from pydantic.alias_generators import to_camel\n",
        "from pydantic import UUID4\n",
        "\n",
        "\n",
        "class AutomobileType(Enum):\n",
        "    sedan = \"Sedan\"\n",
        "    coupe = \"Coupe\"\n",
        "    convertible = \"Convertible\"\n",
        "    suv = \"SUV\"\n",
        "    truck = \"Truck\"\n",
        "\n",
        "\n",
        "T = TypeVar('T')\n",
        "BoundedString = Annotated[str, Field(min_length=2, max_length=50)]\n",
        "BoundedList = Annotated[list[T], Field(min_length=1, max_length=5)]\n",
        "\n",
        "\n",
        "class Automobile(BaseModel):\n",
        "    model_config = ConfigDict(\n",
        "        extra=\"forbid\",\n",
        "        str_strip_whitespace=True,\n",
        "        validate_default=True,\n",
        "        validate_assignment=True,\n",
        "        alias_generator=to_camel,\n",
        "    )\n",
        "\n",
        "    id_: UUID4 | None = Field(alias=\"id\", default_factory=uuid4)\n",
        "    manufacturer: BoundedString\n",
        "    series_name: BoundedString\n",
        "    type_: AutomobileType = Field(alias=\"type\")\n",
        "    is_electric: bool = False\n",
        "    manufactured_date: date = Field(validation_alias=\"completionDate\", ge=date(1980, 1, 1))\n",
        "    base_msrp_usd: float = Field(\n",
        "        validation_alias=\"msrpUSD\",\n",
        "        serialization_alias=\"baseMSRPUSD\"\n",
        "    )\n",
        "    top_features: BoundedList[BoundedString] | None = None\n",
        "    vin: BoundedString\n",
        "    number_of_doors: int = Field(\n",
        "        default=4,\n",
        "        validation_alias=\"doors\",\n",
        "        ge=2,\n",
        "        le=4,\n",
        "        multiple_of=2,\n",
        "    )\n",
        "    registration_country: BoundedString | None = None\n",
        "    license_plate: BoundedString | None = None\n",
        "\n",
        "    @field_serializer(\"manufactured_date\", when_used=\"json-unless-none\")\n",
        "    def serialize_date(self, value: date) -> str:\n",
        "        return value.strftime(\"%Y/%m/%d\")"
      ],
      "metadata": {
        "id": "JP5yb_EfVQRM"
      },
      "execution_count": 27,
      "outputs": []
    },
    {
      "cell_type": "markdown",
      "source": [
        "There are two main changes we are going to make on our model.\n",
        "\n",
        "First, we want to add an additional field to capture when an automobile was registered. To do so add a field named registration_date that is implemented as follows:\n",
        "\n",
        "place it right after registration_country in the model\n",
        "if should be a date object\n",
        "it should be optional and default to None\n",
        "it should deserialize from and serialize to the camel case version of the field name\n",
        "if cannot be earlier than the manufactured_date\n",
        "just like manufactured_date it should serialize the data to a YYYY/MM/DD format for JSON serialization. (Hint: you do not need to define a second serializer for that field! The syntax is the same as what I showed you when aplying the same decorator validator to multiple fields)\n",
        "Secondly, we want to ensure that the registration_country only allows values from a pre-determined list of countries.\n",
        "\n",
        "We are not going to use an enum for this, as there would simply be too many values. Instead we are going to validate the country name against a \"database\".\n",
        "\n",
        "For this exercise we are not going to use an actual database, instead you can use the dictionary provided below. The dictionary keys are going to become the accepted \"input\" value for country names, and each key's value contains a tuple consisting of the country name (properly formatted), and the 3 character country code (we won't use the country code right now, but we will later).\n",
        "\n",
        "Create a custom validator for registration_country that validates the data being deserialized is one of the keys in that dictionary, and replace the deserialized value with the country name from the first name in the tuple.\n",
        "\n",
        "For example, if the input data contains:\n",
        "\n",
        "{\n",
        "    ...,\n",
        "    \"registrationCountry\": \"UK\",\n",
        "    ...\n",
        "}\n",
        "then, since our \"database\" gives us this info:\n",
        "\n",
        "\"uk\": (\"United Kingdom\", \"GBR\")\n",
        "the deserialized value in our model should become United Kingdom.\n",
        "\n",
        "Your validator should validate a country name based on the lower-cased and stripped version of the string - i.e. input data such as \"UK\", \"Uk\", \"uk \" should all end up being matched with the key \"uk\" in the database.\n",
        "\n",
        "Use an annotated type to do this - name your new annotated type Country."
      ],
      "metadata": {
        "id": "FDS6oUwXVoHi"
      }
    },
    {
      "cell_type": "code",
      "source": [
        "countries = {\n",
        "    \"australia\": (\"Australia\", \"AUS\"),\n",
        "    \"canada\": (\"Canada\", \"CAN\"),\n",
        "    \"china\": (\"China\", \"CHN\"),\n",
        "    \"france\": (\"France\", \"FRA\"),\n",
        "    \"germany\": (\"Germany\", \"DEU\"),\n",
        "    \"india\": (\"India\", \"IND\"),\n",
        "    \"mexico\": (\"Mexico\", \"MEX\"),\n",
        "    \"norway\": (\"Norway\", \"NOR\"),\n",
        "    \"pakistan\": (\"Pakistan\", \"PAK\"),\n",
        "    \"san marino\": (\"San Marino\", \"SMR\"),\n",
        "    \"sanmarino\": (\"San Marino\", \"SMR\"),\n",
        "    \"spain\": (\"Spain\", \"ESP\"),\n",
        "    \"sweden\": (\"Sweden\", \"SWE\"),\n",
        "    \"united kingdom\": (\"United Kingdom\", \"GBR\"),\n",
        "    \"uk\": (\"United Kingdom\", \"GBR\"),\n",
        "    \"great britain\": (\"United Kingdom\", \"GBR\"),\n",
        "    \"britain\": (\"United Kingdom\", \"GBR\"),\n",
        "    \"us\": (\"United States of America\", \"USA\"),\n",
        "    \"united states\": (\"United States of America\", \"USA\"),\n",
        "    \"usa\": (\"United States of America\", \"USA\"),\n",
        "}"
      ],
      "metadata": {
        "id": "wNKRHbBPVzbX"
      },
      "execution_count": 28,
      "outputs": []
    },
    {
      "cell_type": "code",
      "source": [
        "from uuid import UUID\n",
        "\n",
        "data = {\n",
        "    \"id\": \"c4e60f4a-3c7f-4da5-9b3f-07aee50b23e7\",\n",
        "    \"manufacturer\": \"BMW\",\n",
        "    \"seriesName\": \"M4 Competition xDrive\",\n",
        "    \"type\": \"Convertible\",\n",
        "    \"isElectric\": False,\n",
        "    \"completionDate\": \"2023-01-01\",\n",
        "    \"msrpUSD\": 93_300,\n",
        "    \"topFeatures\": [\"6 cylinders\", \"all-wheel drive\", \"convertible\"],\n",
        "    \"vin\": \"1234567890\",\n",
        "    \"doors\": 2,\n",
        "    \"registrationCountry\": \"us\",\n",
        "    \"registrationDate\": \"2023-06-01\",\n",
        "    \"licensePlate\": \"AAA-BBB\"\n",
        "}\n",
        "\n",
        "expected_by_alias = {\n",
        "    'id': UUID('c4e60f4a-3c7f-4da5-9b3f-07aee50b23e7'),\n",
        "    'manufacturer': 'BMW',\n",
        "    'seriesName': 'M4 Competition xDrive',\n",
        "    'type': AutomobileType.convertible,\n",
        "    'isElectric': False,\n",
        "    'manufacturedDate': date(2023, 1, 1),\n",
        "    'baseMSRPUSD': 93300.0,\n",
        "    'topFeatures': ['6 cylinders', 'all-wheel drive', 'convertible'],\n",
        "    'vin': '1234567890',\n",
        "    'numberOfDoors': 2,\n",
        "    'registrationCountry': 'United States of America',\n",
        "    'registrationDate': date(2023, 6, 1),\n",
        "    'licensePlate': 'AAA-BBB'\n",
        "}\n",
        "\n",
        "expected_json_by_alias = '{\"id\":\"c4e60f4a-3c7f-4da5-9b3f-07aee50b23e7\",\"manufacturer\":\"BMW\",\"seriesName\":\"M4 Competition xDrive\",\"type\":\"Convertible\",\"isElectric\":false,\"manufacturedDate\":\"2023/01/01\",\"baseMSRPUSD\":93300.0,\"topFeatures\":[\"6 cylinders\",\"all-wheel drive\",\"convertible\"],\"vin\":\"1234567890\",\"numberOfDoors\":2,\"registrationCountry\":\"United States of America\",\"registrationDate\":\"2023/06/01\",\"licensePlate\":\"AAA-BBB\"}'"
      ],
      "metadata": {
        "id": "cg1fP7oYWD9T"
      },
      "execution_count": 29,
      "outputs": []
    },
    {
      "cell_type": "markdown",
      "source": [
        "## Solution\n",
        "We're going to write a lookup function that will return the country name and code given an input - we'll also perform a case-insensitive search, and strip our string (in case it's not already).\n",
        "\n",
        "I am going to pre-create a list of valid country names (based on the countries dictionary, so that I can return that information when country validation fails. I am not putting this code into my validator since i do not want to incur the cost of re-generating that list every time the validator is executed."
      ],
      "metadata": {
        "id": "anRLrJFEWKWr"
      }
    },
    {
      "cell_type": "code",
      "source": [
        "valid_country_names = sorted(countries.keys())\n",
        "valid_country_names"
      ],
      "metadata": {
        "colab": {
          "base_uri": "https://localhost:8080/"
        },
        "id": "ppSZdkVeWLh1",
        "outputId": "5f3fb3a0-2b33-4ff3-e551-0162967c9d74"
      },
      "execution_count": 30,
      "outputs": [
        {
          "output_type": "execute_result",
          "data": {
            "text/plain": [
              "['australia',\n",
              " 'britain',\n",
              " 'canada',\n",
              " 'china',\n",
              " 'france',\n",
              " 'germany',\n",
              " 'great britain',\n",
              " 'india',\n",
              " 'mexico',\n",
              " 'norway',\n",
              " 'pakistan',\n",
              " 'san marino',\n",
              " 'sanmarino',\n",
              " 'spain',\n",
              " 'sweden',\n",
              " 'uk',\n",
              " 'united kingdom',\n",
              " 'united states',\n",
              " 'us',\n",
              " 'usa']"
            ]
          },
          "metadata": {},
          "execution_count": 30
        }
      ]
    },
    {
      "cell_type": "code",
      "source": [
        "def lookup_country(name: str) -> tuple[str, str]:\n",
        "    name = name.strip().casefold()\n",
        "\n",
        "    try:\n",
        "        return countries[name]\n",
        "    except KeyError:\n",
        "        raise ValueError(\n",
        "            \"Unknown country name. \"\n",
        "            f\"Country name must be one of: {','.join(valid_country_names)}\"\n",
        "        )"
      ],
      "metadata": {
        "id": "8pXinkmrXUnL"
      },
      "execution_count": 31,
      "outputs": []
    },
    {
      "cell_type": "code",
      "source": [
        "from pydantic import AfterValidator\n",
        "\n",
        "Country = Annotated[str, AfterValidator(lambda name: lookup_country(name)[0])]"
      ],
      "metadata": {
        "id": "MmQKC7VAXVFY"
      },
      "execution_count": 32,
      "outputs": []
    },
    {
      "cell_type": "markdown",
      "source": [
        "And now, let's use it in our model:"
      ],
      "metadata": {
        "id": "MDeEHxPdXa0M"
      }
    },
    {
      "cell_type": "code",
      "source": [
        "class Automobile(BaseModel):\n",
        "    model_config = ConfigDict(\n",
        "        extra=\"forbid\",\n",
        "        str_strip_whitespace=True,\n",
        "        validate_default=True,\n",
        "        validate_assignment=True,\n",
        "        alias_generator=to_camel,\n",
        "    )\n",
        "\n",
        "    id_: UUID4 | None = Field(alias=\"id\", default_factory=uuid4)\n",
        "    manufacturer: BoundedString\n",
        "    series_name: BoundedString\n",
        "    type_: AutomobileType = Field(alias=\"type\")\n",
        "    is_electric: bool = False\n",
        "    manufactured_date: date = Field(validation_alias=\"completionDate\", ge=date(1980, 1, 1))\n",
        "    base_msrp_usd: float = Field(\n",
        "        validation_alias=\"msrpUSD\",\n",
        "        serialization_alias=\"baseMSRPUSD\"\n",
        "    )\n",
        "    top_features: BoundedList[BoundedString] | None = None\n",
        "    vin: BoundedString\n",
        "    number_of_doors: int = Field(\n",
        "        default=4,\n",
        "        validation_alias=\"doors\",\n",
        "        ge=2,\n",
        "        le=4,\n",
        "        multiple_of=2,\n",
        "    )\n",
        "    registration_country: Country | None = None\n",
        "    registration_date: date | None = None\n",
        "    license_plate: BoundedString | None = None\n",
        "\n",
        "    @field_serializer(\"manufactured_date\", \"registration_date\", when_used=\"json-unless-none\")\n",
        "    def serialize_date(self, value: date) -> str:\n",
        "        return value.strftime(\"%Y/%m/%d\")"
      ],
      "metadata": {
        "id": "2PuGoAeaXXlt"
      },
      "execution_count": 33,
      "outputs": []
    },
    {
      "cell_type": "markdown",
      "source": [
        "We still have to add a custom validator for registration_date that will check that this date is not earlier than the manufactured_date."
      ],
      "metadata": {
        "id": "Kn588VDLYedN"
      }
    },
    {
      "cell_type": "code",
      "source": [
        "from pydantic import field_validator, ValidationInfo\n",
        "\n",
        "\n",
        "class Automobile(BaseModel):\n",
        "    model_config = ConfigDict(\n",
        "        extra=\"forbid\",\n",
        "        str_strip_whitespace=True,\n",
        "        validate_default=True,\n",
        "        validate_assignment=True,\n",
        "        alias_generator=to_camel,\n",
        "    )\n",
        "\n",
        "    id_: UUID4 | None = Field(alias=\"id\", default_factory=uuid4)\n",
        "    manufacturer: BoundedString\n",
        "    series_name: BoundedString\n",
        "    type_: AutomobileType = Field(alias=\"type\")\n",
        "    is_electric: bool = False\n",
        "    manufactured_date: date = Field(validation_alias=\"completionDate\", ge=date(1980, 1, 1))\n",
        "    base_msrp_usd: float = Field(\n",
        "        validation_alias=\"msrpUSD\",\n",
        "        serialization_alias=\"baseMSRPUSD\"\n",
        "    )\n",
        "    top_features: BoundedList[BoundedString] | None = None\n",
        "    vin: BoundedString\n",
        "    number_of_doors: int = Field(\n",
        "        default=4,\n",
        "        validation_alias=\"doors\",\n",
        "        ge=2,\n",
        "        le=4,\n",
        "        multiple_of=2,\n",
        "    )\n",
        "    registration_country: Country | None = None\n",
        "    registration_date: date | None = None\n",
        "    license_plate: BoundedString | None = None\n",
        "\n",
        "    @field_serializer(\"manufactured_date\", \"registration_date\", when_used=\"json-unless-none\")\n",
        "    def serialize_date(self, value: date) -> str:\n",
        "        return value.strftime(\"%Y/%m/%d\")\n",
        "\n",
        "    @field_validator(\"registration_date\")\n",
        "    @classmethod\n",
        "    def validate_registration_date(cls, value:date, values: ValidationInfo):\n",
        "        data = values.data\n",
        "        if \"manufactured_date\" in data and data[\"manufactured_date\"] > value:\n",
        "            raise ValueError(\"Automobile cannot be registered prior to manufacture date.\")\n",
        "        return value\n",
        ""
      ],
      "metadata": {
        "id": "cZxPRcVgYaDZ"
      },
      "execution_count": 34,
      "outputs": []
    },
    {
      "cell_type": "code",
      "source": [
        "car = Automobile.model_validate(data)\n",
        "car"
      ],
      "metadata": {
        "colab": {
          "base_uri": "https://localhost:8080/"
        },
        "id": "AP491qsLYxLy",
        "outputId": "b06e4d95-59bf-4ba3-8e85-23cbc4897175"
      },
      "execution_count": 35,
      "outputs": [
        {
          "output_type": "execute_result",
          "data": {
            "text/plain": [
              "Automobile(id_=UUID('c4e60f4a-3c7f-4da5-9b3f-07aee50b23e7'), manufacturer='BMW', series_name='M4 Competition xDrive', type_=<AutomobileType.convertible: 'Convertible'>, is_electric=False, manufactured_date=datetime.date(2023, 1, 1), base_msrp_usd=93300.0, top_features=['6 cylinders', 'all-wheel drive', 'convertible'], vin='1234567890', number_of_doors=2, registration_country='United States of America', registration_date=datetime.date(2023, 6, 1), license_plate='AAA-BBB')"
            ]
          },
          "metadata": {},
          "execution_count": 35
        }
      ]
    },
    {
      "cell_type": "code",
      "source": [
        "assert car.model_dump(by_alias=True) == expected_by_alias\n",
        "\n",
        "assert car.model_dump_json(by_alias=True) == expected_json_by_alias"
      ],
      "metadata": {
        "id": "Kx1m6T39Y2i8"
      },
      "execution_count": 36,
      "outputs": []
    },
    {
      "cell_type": "code",
      "source": [
        "bad_data = {\n",
        "    \"id\": \"c4e60f4a-3c7f-4da5-9b3f-07aee50b23e7\",\n",
        "    \"manufacturer\": \"BMW\",\n",
        "    \"seriesName\": \"M4 Competition xDrive\",\n",
        "    \"type\": \"Convertible\",\n",
        "    \"isElectric\": False,\n",
        "    \"completionDate\": \"2023-01-01\",\n",
        "    \"msrpUSD\": 93_300,\n",
        "    \"topFeatures\": [\"6 cylinders\", \"all-wheel drive\", \"convertible\"],\n",
        "    \"vin\": \"1234567890\",\n",
        "    \"doors\": 2,\n",
        "    \"registrationCountry\": \"Lunar Colony\",\n",
        "    \"registrationDate\": \"2022-06-01\",\n",
        "    \"licensePlate\": \"AAA-BBB\"\n",
        "}"
      ],
      "metadata": {
        "id": "bj7b5IugZAST"
      },
      "execution_count": 37,
      "outputs": []
    },
    {
      "cell_type": "code",
      "source": [
        "from pydantic import ValidationError\n",
        "\n",
        "try:\n",
        "    Automobile.model_validate(bad_data)\n",
        "except ValidationError as ex:\n",
        "    print(ex)"
      ],
      "metadata": {
        "colab": {
          "base_uri": "https://localhost:8080/"
        },
        "id": "92DDFjJdZAm0",
        "outputId": "f8dfe439-447b-4f21-a9c7-f07fd5d21db6"
      },
      "execution_count": 38,
      "outputs": [
        {
          "output_type": "stream",
          "name": "stdout",
          "text": [
            "2 validation errors for Automobile\n",
            "registrationCountry\n",
            "  Value error, Unknown country name. Country name must be one of: australia,britain,canada,china,france,germany,great britain,india,mexico,norway,pakistan,san marino,sanmarino,spain,sweden,uk,united kingdom,united states,us,usa [type=value_error, input_value='Lunar Colony', input_type=str]\n",
            "    For further information visit https://errors.pydantic.dev/2.6/v/value_error\n",
            "registrationDate\n",
            "  Value error, Automobile cannot be registered prior to manufacture date. [type=value_error, input_value='2022-06-01', input_type=str]\n",
            "    For further information visit https://errors.pydantic.dev/2.6/v/value_error\n"
          ]
        }
      ]
    },
    {
      "cell_type": "markdown",
      "source": [
        "This method also supports an indent parameter - although we normally don't use it when returnin JSON from an API (we try to keep data as compact as possible), here we would want to use it so we can print a legible JSON object."
      ],
      "metadata": {
        "id": "oE7V9zdhZK0V"
      }
    },
    {
      "cell_type": "code",
      "source": [
        "try:\n",
        "    Automobile.model_validate(bad_data)\n",
        "except ValidationError as ex:\n",
        "    exceptions = ex.json(indent=2)"
      ],
      "metadata": {
        "id": "DTcsKqC5ZLSn"
      },
      "execution_count": 39,
      "outputs": []
    },
    {
      "cell_type": "code",
      "source": [
        "print(exceptions)"
      ],
      "metadata": {
        "colab": {
          "base_uri": "https://localhost:8080/"
        },
        "id": "AamryBzJZT9g",
        "outputId": "a696b6b3-b1b5-413a-de24-6bb78bed0367"
      },
      "execution_count": 40,
      "outputs": [
        {
          "output_type": "stream",
          "name": "stdout",
          "text": [
            "[\n",
            "  {\n",
            "    \"type\": \"value_error\",\n",
            "    \"loc\": [\n",
            "      \"registrationCountry\"\n",
            "    ],\n",
            "    \"msg\": \"Value error, Unknown country name. Country name must be one of: australia,britain,canada,china,france,germany,great britain,india,mexico,norway,pakistan,san marino,sanmarino,spain,sweden,uk,united kingdom,united states,us,usa\",\n",
            "    \"input\": \"Lunar Colony\",\n",
            "    \"ctx\": {\n",
            "      \"error\": \"Unknown country name. Country name must be one of: australia,britain,canada,china,france,germany,great britain,india,mexico,norway,pakistan,san marino,sanmarino,spain,sweden,uk,united kingdom,united states,us,usa\"\n",
            "    },\n",
            "    \"url\": \"https://errors.pydantic.dev/2.6/v/value_error\"\n",
            "  },\n",
            "  {\n",
            "    \"type\": \"value_error\",\n",
            "    \"loc\": [\n",
            "      \"registrationDate\"\n",
            "    ],\n",
            "    \"msg\": \"Value error, Automobile cannot be registered prior to manufacture date.\",\n",
            "    \"input\": \"2022-06-01\",\n",
            "    \"ctx\": {\n",
            "      \"error\": \"Automobile cannot be registered prior to manufacture date.\"\n",
            "    },\n",
            "    \"url\": \"https://errors.pydantic.dev/2.6/v/value_error\"\n",
            "  }\n",
            "]\n"
          ]
        }
      ]
    }
  ]
}