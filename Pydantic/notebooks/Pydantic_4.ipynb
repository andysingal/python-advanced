{
  "nbformat": 4,
  "nbformat_minor": 0,
  "metadata": {
    "colab": {
      "provenance": []
    },
    "kernelspec": {
      "name": "python3",
      "display_name": "Python 3"
    },
    "language_info": {
      "name": "python"
    }
  },
  "cells": [
    {
      "cell_type": "code",
      "execution_count": 1,
      "metadata": {
        "colab": {
          "base_uri": "https://localhost:8080/"
        },
        "id": "C4ZN7-5OE8k4",
        "outputId": "16bd01ee-0614-4d1a-a6ad-6bcbd6017bff"
      },
      "outputs": [
        {
          "output_type": "stream",
          "name": "stdout",
          "text": [
            "\u001b[2K     \u001b[90m━━━━━━━━━━━━━━━━━━━━━━━━━━━━━━━━━━━━━━━━\u001b[0m \u001b[32m227.4/227.4 kB\u001b[0m \u001b[31m2.7 MB/s\u001b[0m eta \u001b[36m0:00:00\u001b[0m\n",
            "\u001b[2K     \u001b[90m━━━━━━━━━━━━━━━━━━━━━━━━━━━━━━━━━━━━━━━━\u001b[0m \u001b[32m807.5/807.5 kB\u001b[0m \u001b[31m13.5 MB/s\u001b[0m eta \u001b[36m0:00:00\u001b[0m\n",
            "\u001b[2K     \u001b[90m━━━━━━━━━━━━━━━━━━━━━━━━━━━━━━━━━━━━━━━━\u001b[0m \u001b[32m75.6/75.6 kB\u001b[0m \u001b[31m7.6 MB/s\u001b[0m eta \u001b[36m0:00:00\u001b[0m\n",
            "\u001b[2K     \u001b[90m━━━━━━━━━━━━━━━━━━━━━━━━━━━━━━━━━━━━━━━━\u001b[0m \u001b[32m307.7/307.7 kB\u001b[0m \u001b[31m27.2 MB/s\u001b[0m eta \u001b[36m0:00:00\u001b[0m\n",
            "\u001b[2K     \u001b[90m━━━━━━━━━━━━━━━━━━━━━━━━━━━━━━━━━━━━━━━━\u001b[0m \u001b[32m77.8/77.8 kB\u001b[0m \u001b[31m6.2 MB/s\u001b[0m eta \u001b[36m0:00:00\u001b[0m\n",
            "\u001b[2K     \u001b[90m━━━━━━━━━━━━━━━━━━━━━━━━━━━━━━━━━━━━━━━━\u001b[0m \u001b[32m58.3/58.3 kB\u001b[0m \u001b[31m6.3 MB/s\u001b[0m eta \u001b[36m0:00:00\u001b[0m\n",
            "\u001b[2K     \u001b[90m━━━━━━━━━━━━━━━━━━━━━━━━━━━━━━━━━━━━━━━━\u001b[0m \u001b[32m1.8/1.8 MB\u001b[0m \u001b[31m29.6 MB/s\u001b[0m eta \u001b[36m0:00:00\u001b[0m\n",
            "\u001b[2K     \u001b[90m━━━━━━━━━━━━━━━━━━━━━━━━━━━━━━━━━━━━━━━━\u001b[0m \u001b[32m256.9/256.9 kB\u001b[0m \u001b[31m19.9 MB/s\u001b[0m eta \u001b[36m0:00:00\u001b[0m\n",
            "\u001b[2K     \u001b[90m━━━━━━━━━━━━━━━━━━━━━━━━━━━━━━━━━━━━━━━━\u001b[0m \u001b[32m66.6/66.6 kB\u001b[0m \u001b[31m6.6 MB/s\u001b[0m eta \u001b[36m0:00:00\u001b[0m\n",
            "\u001b[2K     \u001b[90m━━━━━━━━━━━━━━━━━━━━━━━━━━━━━━━━━━━━━━━━\u001b[0m \u001b[32m49.4/49.4 kB\u001b[0m \u001b[31m5.1 MB/s\u001b[0m eta \u001b[36m0:00:00\u001b[0m\n",
            "\u001b[2K     \u001b[90m━━━━━━━━━━━━━━━━━━━━━━━━━━━━━━━━━━━━━━━━\u001b[0m \u001b[32m138.5/138.5 kB\u001b[0m \u001b[31m13.7 MB/s\u001b[0m eta \u001b[36m0:00:00\u001b[0m\n",
            "\u001b[?25h"
          ]
        }
      ],
      "source": [
        "%pip install -q kor markdownify requests pydantic pydantic[email] openai colorama bs4 rich"
      ]
    },
    {
      "cell_type": "markdown",
      "source": [
        "Python provides a mechanism to attach metadata to any type."
      ],
      "metadata": {
        "id": "d76XYz6DFdp_"
      }
    },
    {
      "cell_type": "code",
      "source": [
        "from pydantic import BaseModel, ConfigDict, Field, ValidationError\n",
        "from datetime import datetime, timezone\n",
        "from typing import List,Dict,Set,Tuple, Union, Annotated, get_args, Any, TypeVar\n",
        "\n",
        "SpecialInt = Annotated[int, \"metadata 1\", [1, 2, 3], 100]\n",
        "\n",
        "get_args(SpecialInt)"
      ],
      "metadata": {
        "colab": {
          "base_uri": "https://localhost:8080/"
        },
        "id": "xvvA7acrFFKT",
        "outputId": "e214827d-9728-4d61-d965-1257fadef36c"
      },
      "execution_count": 12,
      "outputs": [
        {
          "output_type": "execute_result",
          "data": {
            "text/plain": [
              "(int, 'metadata 1', [1, 2, 3], 100)"
            ]
          },
          "metadata": {},
          "execution_count": 12
        }
      ]
    },
    {
      "cell_type": "markdown",
      "source": [
        "Pydantic can make use of these type annotations.\n",
        "\n",
        "They need to be annotations that Pydantic can understand (i.e. we have to use specific objects in our annotations). This provides a very flexible way to add functionality to our types, such as constraints, validators, and much more.\n",
        "\n",
        "Let's start with a simple example."
      ],
      "metadata": {
        "id": "5WIx1TTyF75e"
      }
    },
    {
      "cell_type": "code",
      "source": [],
      "metadata": {
        "id": "AQDAygFJNfpB"
      },
      "execution_count": null,
      "outputs": []
    },
    {
      "cell_type": "code",
      "source": [
        "class Model(BaseModel):\n",
        "    x: int = Field(gt=0, le=100)\n",
        "    y: int = Field(gt=0, le=100)\n",
        "    z: int = Field(gt=0, le=100)\n",
        "\n",
        "Model.model_fields"
      ],
      "metadata": {
        "colab": {
          "base_uri": "https://localhost:8080/"
        },
        "id": "F7Ykcu3kFZO1",
        "outputId": "2add7ece-2575-4fad-cd2b-53e8221a7c0e"
      },
      "execution_count": 4,
      "outputs": [
        {
          "output_type": "execute_result",
          "data": {
            "text/plain": [
              "{'x': FieldInfo(annotation=int, required=True, metadata=[Gt(gt=0), Le(le=100)]),\n",
              " 'y': FieldInfo(annotation=int, required=True, metadata=[Gt(gt=0), Le(le=100)]),\n",
              " 'z': FieldInfo(annotation=int, required=True, metadata=[Gt(gt=0), Le(le=100)])}"
            ]
          },
          "metadata": {},
          "execution_count": 4
        }
      ]
    },
    {
      "cell_type": "code",
      "source": [
        "BoundedInt = Annotated[int, Field(gt=0, le=100)]\n",
        "\n",
        "class Model(BaseModel):\n",
        "    x: BoundedInt\n",
        "    y: BoundedInt\n",
        "    z: BoundedInt\n",
        "\n",
        "Model.model_fields"
      ],
      "metadata": {
        "colab": {
          "base_uri": "https://localhost:8080/"
        },
        "id": "dnAa_-4vGQMD",
        "outputId": "4fb5623d-4461-45ff-f106-aeb132713e7f"
      },
      "execution_count": 5,
      "outputs": [
        {
          "output_type": "execute_result",
          "data": {
            "text/plain": [
              "{'x': FieldInfo(annotation=int, required=True, metadata=[Gt(gt=0), Le(le=100)]),\n",
              " 'y': FieldInfo(annotation=int, required=True, metadata=[Gt(gt=0), Le(le=100)]),\n",
              " 'z': FieldInfo(annotation=int, required=True, metadata=[Gt(gt=0), Le(le=100)])}"
            ]
          },
          "metadata": {},
          "execution_count": 5
        }
      ]
    },
    {
      "cell_type": "code",
      "source": [
        "try:\n",
        "    Model(x=0, y=10, z=103)\n",
        "except ValueError as ex:\n",
        "    print(ex)"
      ],
      "metadata": {
        "colab": {
          "base_uri": "https://localhost:8080/"
        },
        "id": "S4FkEunkGpqJ",
        "outputId": "6bbb36a8-6d2d-4fc5-d367-5aa9455d23dd"
      },
      "execution_count": 6,
      "outputs": [
        {
          "output_type": "stream",
          "name": "stdout",
          "text": [
            "2 validation errors for Model\n",
            "x\n",
            "  Input should be greater than 0 [type=greater_than, input_value=0, input_type=int]\n",
            "    For further information visit https://errors.pydantic.dev/2.6/v/greater_than\n",
            "z\n",
            "  Input should be less than or equal to 100 [type=less_than_equal, input_value=103, input_type=int]\n",
            "    For further information visit https://errors.pydantic.dev/2.6/v/less_than_equal\n"
          ]
        }
      ]
    },
    {
      "cell_type": "code",
      "source": [
        "class Model(BaseModel):\n",
        "    field_1: Annotated[int, Field(gt=0)] = 1\n",
        "    field_2: Annotated[str, Field(min_length=1, max_length=10)] | None = None\n",
        "\n",
        "Model()"
      ],
      "metadata": {
        "colab": {
          "base_uri": "https://localhost:8080/"
        },
        "id": "nikgIh-hGp5l",
        "outputId": "f2b1f119-819f-4dca-e0c7-b33d8c3a86ff"
      },
      "execution_count": 7,
      "outputs": [
        {
          "output_type": "execute_result",
          "data": {
            "text/plain": [
              "Model(field_1=1, field_2=None)"
            ]
          },
          "metadata": {},
          "execution_count": 7
        }
      ]
    },
    {
      "cell_type": "markdown",
      "source": [
        "## Annotated Types and Type Variables"
      ],
      "metadata": {
        "id": "yx4rI0g7KV_s"
      }
    },
    {
      "cell_type": "code",
      "source": [
        "class Model(BaseModel):\n",
        "    elements: list[int] = Field(default=[], max_length=10)\n",
        "\n",
        "try:\n",
        "    Model(elements = [1, ] * 20)\n",
        "except ValidationError as ex:\n",
        "    print(ex)"
      ],
      "metadata": {
        "colab": {
          "base_uri": "https://localhost:8080/"
        },
        "id": "Nrhua0zUKMyt",
        "outputId": "5c7055cf-c18f-408c-c56f-03b034b69bbf"
      },
      "execution_count": 8,
      "outputs": [
        {
          "output_type": "stream",
          "name": "stdout",
          "text": [
            "1 validation error for Model\n",
            "elements\n",
            "  List should have at most 10 items after validation, not 20 [type=too_long, input_value=[1, 1, 1, 1, 1, 1, 1, 1, ... 1, 1, 1, 1, 1, 1, 1, 1], input_type=list]\n",
            "    For further information visit https://errors.pydantic.dev/2.6/v/too_long\n"
          ]
        }
      ]
    },
    {
      "cell_type": "code",
      "source": [
        "BoundedListInt = Annotated[list[int], Field(max_length=10)]\n",
        "\n",
        "class Model(BaseModel):\n",
        "    field_1: BoundedListInt = []\n",
        "    field_2: BoundedListInt = []"
      ],
      "metadata": {
        "id": "Owv7yvBrLiC6"
      },
      "execution_count": 9,
      "outputs": []
    },
    {
      "cell_type": "markdown",
      "source": [
        "As you can see, the only thing that changes is that the type in list[] changes, from int, to float to str. And if we wanted other types, we'd have keep creating these types that are otherwise identical.\n",
        "\n",
        "We could use the Any type in our annotation - but doing so we would lose the type validation Pydantic has to offer (since it would now accept lists that contained any type, including lists with mixed types) - which is probably not something we want."
      ],
      "metadata": {
        "id": "UEz5UXBmMVXR"
      }
    },
    {
      "cell_type": "code",
      "source": [
        "BoundedList = Annotated[list[Any], Field(max_length=10)]\n",
        "\n"
      ],
      "metadata": {
        "id": "uF4OC6qGMVqV"
      },
      "execution_count": 11,
      "outputs": []
    },
    {
      "cell_type": "code",
      "source": [
        "T = TypeVar('T')\n",
        "\n",
        "BoundedList = Annotated[list[T], Field(max_length=10)]"
      ],
      "metadata": {
        "id": "ya1ie3ulNggq"
      },
      "execution_count": 13,
      "outputs": []
    },
    {
      "cell_type": "markdown",
      "source": [
        "## String Constraints"
      ],
      "metadata": {
        "id": "d3mrEklWOiIU"
      }
    },
    {
      "cell_type": "code",
      "source": [
        "from pydantic import StringConstraints"
      ],
      "metadata": {
        "id": "iak6vc3vO6a7"
      },
      "execution_count": 14,
      "outputs": []
    },
    {
      "cell_type": "code",
      "source": [
        "class Model(BaseModel):\n",
        "    name: str = Field(min_length=2, max_length=5)"
      ],
      "metadata": {
        "id": "EwZ6MSV0Oj-7"
      },
      "execution_count": 15,
      "outputs": []
    },
    {
      "cell_type": "code",
      "source": [
        "StandardString = Annotated[\n",
        "    str,\n",
        "    StringConstraints(to_lower=True, min_length=2, strip_whitespace=True)\n",
        "]"
      ],
      "metadata": {
        "id": "vfpOQ4KtO_cj"
      },
      "execution_count": 16,
      "outputs": []
    },
    {
      "cell_type": "code",
      "source": [
        "class Model(BaseModel):\n",
        "    code: StandardString | None = None"
      ],
      "metadata": {
        "id": "Kz-dEjO6PCm8"
      },
      "execution_count": 17,
      "outputs": []
    },
    {
      "cell_type": "code",
      "source": [
        "Model()"
      ],
      "metadata": {
        "colab": {
          "base_uri": "https://localhost:8080/"
        },
        "id": "eQ_l6m_nPC-Y",
        "outputId": "3b1f3cb7-4cd4-4946-b719-b0f35f01fd54"
      },
      "execution_count": 18,
      "outputs": [
        {
          "output_type": "execute_result",
          "data": {
            "text/plain": [
              "Model(code=None)"
            ]
          },
          "metadata": {},
          "execution_count": 18
        }
      ]
    },
    {
      "cell_type": "markdown",
      "source": [
        "##PROJECT"
      ],
      "metadata": {
        "id": "DVGUczptPQYe"
      }
    },
    {
      "cell_type": "code",
      "source": [
        "from datetime import date\n",
        "from enum import Enum\n",
        "from uuid import uuid4\n",
        "from pydantic import BaseModel, ConfigDict, Field, field_serializer\n",
        "from pydantic.alias_generators import to_camel\n",
        "from pydantic import UUID4\n",
        "\n",
        "\n",
        "class AutomobileType(Enum):\n",
        "    sedan = \"Sedan\"\n",
        "    coupe = \"Coupe\"\n",
        "    convertible = \"Convertible\"\n",
        "    suv = \"SUV\"\n",
        "    truck = \"Truck\"\n",
        "\n",
        "\n",
        "class Automobile(BaseModel):\n",
        "    model_config = ConfigDict(\n",
        "        extra=\"forbid\",\n",
        "        str_strip_whitespace=True,\n",
        "        validate_default=True,\n",
        "        validate_assignment=True,\n",
        "        alias_generator=to_camel,\n",
        "    )\n",
        "\n",
        "    id_: UUID4 | None = Field(alias=\"id\", default_factory=uuid4)\n",
        "    manufacturer: str\n",
        "    series_name: str\n",
        "    type_: AutomobileType = Field(alias=\"type\")\n",
        "    is_electric: bool = False\n",
        "    manufactured_date: date = Field(validation_alias=\"completionDate\", ge=date(1980, 1, 1))\n",
        "    base_msrp_usd: float = Field(\n",
        "        validation_alias=\"msrpUSD\",\n",
        "        serialization_alias=\"baseMSRPUSD\"\n",
        "    )\n",
        "    vin: str\n",
        "    number_of_doors: int = Field(\n",
        "        default=4,\n",
        "        validation_alias=\"doors\",\n",
        "        ge=2,\n",
        "        le=4,\n",
        "        multiple_of=2,\n",
        "    )\n",
        "    registration_country: str | None = None\n",
        "    license_plate: str | None = None\n",
        "\n",
        "    @field_serializer(\"manufactured_date\", when_used=\"json-unless-none\")\n",
        "    def serialize_date(self, value: date) -> str:\n",
        "        return value.strftime(\"%Y/%m/%d\")"
      ],
      "metadata": {
        "id": "WxFwNTq4PE5o"
      },
      "execution_count": 19,
      "outputs": []
    },
    {
      "cell_type": "code",
      "source": [
        "from uuid import UUID\n",
        "\n",
        "data = {\n",
        "    \"id\": \"c4e60f4a-3c7f-4da5-9b3f-07aee50b23e7\",\n",
        "    \"manufacturer\": \"BMW\",\n",
        "    \"seriesName\": \"M4 Competition xDrive\",\n",
        "    \"type\": \"Convertible\",\n",
        "    \"isElectric\": False,\n",
        "    \"completionDate\": \"2023-01-01\",\n",
        "    \"msrpUSD\": 93_300,\n",
        "    \"topFeatures\": [\"6 cylinders\", \"all-wheel drive\", \"convertible\"],\n",
        "    \"vin\": \"1234567890\",\n",
        "    \"doors\": 2,\n",
        "    \"registrationCountry\": \"France\",\n",
        "    \"licensePlate\": \"AAA-BBB\"\n",
        "}\n",
        "\n",
        "expected_serialized_by_alias = {\n",
        "    'id': UUID('c4e60f4a-3c7f-4da5-9b3f-07aee50b23e7'),\n",
        "    'manufacturer': 'BMW',\n",
        "    'seriesName': 'M4 Competition xDrive',\n",
        "    'type': AutomobileType.convertible,\n",
        "    'isElectric': False,\n",
        "    'manufacturedDate': date(2023, 1, 1),\n",
        "    'baseMSRPUSD': 93300.0,\n",
        "    'topFeatures': ['6 cylinders', 'all-wheel drive', 'convertible'],\n",
        "    'vin': '1234567890',\n",
        "    'numberOfDoors': 2,\n",
        "    'registrationCountry': 'France',\n",
        "    'licensePlate': 'AAA-BBB'\n",
        "}"
      ],
      "metadata": {
        "id": "ipn8s60lPXzm"
      },
      "execution_count": 20,
      "outputs": []
    },
    {
      "cell_type": "markdown",
      "source": [
        "## Solution"
      ],
      "metadata": {
        "id": "ZraN1iWmRgRE"
      }
    },
    {
      "cell_type": "code",
      "source": [
        "from typing import Annotated, TypeVar\n",
        "from pydantic import Field\n",
        "\n",
        "BoundedString = Annotated[str, Field(min_length=2, max_length=50)]\n",
        "\n",
        "T = TypeVar('T')\n",
        "\n",
        "BoundedList = Annotated[list[T], Field(min_length=1, max_length=5)]"
      ],
      "metadata": {
        "id": "RnqO86wKRhQs"
      },
      "execution_count": 21,
      "outputs": []
    },
    {
      "cell_type": "code",
      "source": [
        "class Test(BaseModel):\n",
        "    field1: BoundedString\n",
        "\n",
        "Test(field1=\"abc\")"
      ],
      "metadata": {
        "colab": {
          "base_uri": "https://localhost:8080/"
        },
        "id": "FeGLsrXqRh7k",
        "outputId": "0409d5bf-2727-4418-81b8-b28a79d88f7e"
      },
      "execution_count": 22,
      "outputs": [
        {
          "output_type": "execute_result",
          "data": {
            "text/plain": [
              "Test(field1='abc')"
            ]
          },
          "metadata": {},
          "execution_count": 22
        }
      ]
    },
    {
      "cell_type": "code",
      "source": [
        "try:\n",
        "    Test(field1=\"a\")\n",
        "except ValidationError as ex:\n",
        "    print(ex)"
      ],
      "metadata": {
        "colab": {
          "base_uri": "https://localhost:8080/"
        },
        "id": "yj6PFHZlRmDO",
        "outputId": "350edc3b-61e1-49a5-a03a-2f1ffa5d0d51"
      },
      "execution_count": 23,
      "outputs": [
        {
          "output_type": "stream",
          "name": "stdout",
          "text": [
            "1 validation error for Test\n",
            "field1\n",
            "  String should have at least 2 characters [type=string_too_short, input_value='a', input_type=str]\n",
            "    For further information visit https://errors.pydantic.dev/2.6/v/string_too_short\n"
          ]
        }
      ]
    },
    {
      "cell_type": "code",
      "source": [
        "try:\n",
        "    Test(field1=\"a\" * 51)\n",
        "except ValidationError as ex:\n",
        "    print(ex)"
      ],
      "metadata": {
        "colab": {
          "base_uri": "https://localhost:8080/"
        },
        "id": "sRBvgIwJR0W7",
        "outputId": "867b0fc7-6ac6-492c-bb62-8b7f096edd4e"
      },
      "execution_count": 24,
      "outputs": [
        {
          "output_type": "stream",
          "name": "stdout",
          "text": [
            "1 validation error for Test\n",
            "field1\n",
            "  String should have at most 50 characters [type=string_too_long, input_value='aaaaaaaaaaaaaaaaaaaaaaaa...aaaaaaaaaaaaaaaaaaaaaaa', input_type=str]\n",
            "    For further information visit https://errors.pydantic.dev/2.6/v/string_too_long\n"
          ]
        }
      ]
    },
    {
      "cell_type": "code",
      "source": [
        "class Automobile(BaseModel):\n",
        "    model_config = ConfigDict(\n",
        "        extra=\"forbid\",\n",
        "        str_strip_whitespace=True,\n",
        "        validate_default=True,\n",
        "        validate_assignment=True,\n",
        "        alias_generator=to_camel,\n",
        "    )\n",
        "\n",
        "    id_: UUID4 | None = Field(alias=\"id\", default_factory=uuid4)\n",
        "    manufacturer: BoundedString\n",
        "    series_name: BoundedString\n",
        "    type_: AutomobileType = Field(alias=\"type\")\n",
        "    is_electric: bool = False\n",
        "    manufactured_date: date = Field(validation_alias=\"completionDate\", ge=date(1980, 1, 1))\n",
        "    base_msrp_usd: float = Field(\n",
        "        validation_alias=\"msrpUSD\",\n",
        "        serialization_alias=\"baseMSRPUSD\"\n",
        "    )\n",
        "    top_features: BoundedList[BoundedString] | None = None\n",
        "    vin: BoundedString\n",
        "    number_of_doors: int = Field(\n",
        "        default=4,\n",
        "        validation_alias=\"doors\",\n",
        "        ge=2,\n",
        "        le=4,\n",
        "        multiple_of=2,\n",
        "    )\n",
        "    registration_country: BoundedString | None = None\n",
        "    license_plate: BoundedString | None = None\n",
        "\n",
        "    @field_serializer(\"manufactured_date\", when_used=\"json-unless-none\")\n",
        "    def serialize_date(self, value: date) -> str:\n",
        "        return value.strftime(\"%Y/%m/%d\")"
      ],
      "metadata": {
        "id": "x37OrDd9R0te"
      },
      "execution_count": 25,
      "outputs": []
    },
    {
      "cell_type": "code",
      "source": [
        "car = Automobile.model_validate(data)\n",
        "car"
      ],
      "metadata": {
        "colab": {
          "base_uri": "https://localhost:8080/"
        },
        "id": "45nb7SJ-TJjx",
        "outputId": "b708fcac-7fdb-4088-8e49-c5330d9a6288"
      },
      "execution_count": 26,
      "outputs": [
        {
          "output_type": "execute_result",
          "data": {
            "text/plain": [
              "Automobile(id_=UUID('c4e60f4a-3c7f-4da5-9b3f-07aee50b23e7'), manufacturer='BMW', series_name='M4 Competition xDrive', type_=<AutomobileType.convertible: 'Convertible'>, is_electric=False, manufactured_date=datetime.date(2023, 1, 1), base_msrp_usd=93300.0, top_features=['6 cylinders', 'all-wheel drive', 'convertible'], vin='1234567890', number_of_doors=2, registration_country='France', license_plate='AAA-BBB')"
            ]
          },
          "metadata": {},
          "execution_count": 26
        }
      ]
    },
    {
      "cell_type": "code",
      "source": [],
      "metadata": {
        "id": "QaxdneGDTJ5R"
      },
      "execution_count": null,
      "outputs": []
    }
  ]
}