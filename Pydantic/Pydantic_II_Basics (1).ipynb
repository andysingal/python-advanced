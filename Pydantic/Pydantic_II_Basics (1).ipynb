{
  "nbformat": 4,
  "nbformat_minor": 0,
  "metadata": {
    "colab": {
      "provenance": []
    },
    "kernelspec": {
      "name": "python3",
      "display_name": "Python 3"
    },
    "language_info": {
      "name": "python"
    }
  },
  "cells": [
    {
      "cell_type": "code",
      "execution_count": null,
      "metadata": {
        "id": "IfiY1x_VYBS-",
        "colab": {
          "base_uri": "https://localhost:8080/"
        },
        "outputId": "fb67f060-76c4-45fe-d96d-d9ebfbb78779"
      },
      "outputs": [
        {
          "output_type": "stream",
          "name": "stdout",
          "text": [
            "\u001b[2K     \u001b[90m━━━━━━━━━━━━━━━━━━━━━━━━━━━━━━━━━━━━━━━━\u001b[0m \u001b[32m226.7/226.7 kB\u001b[0m \u001b[31m10.1 MB/s\u001b[0m eta \u001b[36m0:00:00\u001b[0m\n",
            "\u001b[2K     \u001b[90m━━━━━━━━━━━━━━━━━━━━━━━━━━━━━━━━━━━━━━━━\u001b[0m \u001b[32m816.1/816.1 kB\u001b[0m \u001b[31m34.7 MB/s\u001b[0m eta \u001b[36m0:00:00\u001b[0m\n",
            "\u001b[2K     \u001b[90m━━━━━━━━━━━━━━━━━━━━━━━━━━━━━━━━━━━━━━━━\u001b[0m \u001b[32m75.9/75.9 kB\u001b[0m \u001b[31m9.8 MB/s\u001b[0m eta \u001b[36m0:00:00\u001b[0m\n",
            "\u001b[2K     \u001b[90m━━━━━━━━━━━━━━━━━━━━━━━━━━━━━━━━━━━━━━━━\u001b[0m \u001b[32m77.0/77.0 kB\u001b[0m \u001b[31m8.7 MB/s\u001b[0m eta \u001b[36m0:00:00\u001b[0m\n",
            "\u001b[2K     \u001b[90m━━━━━━━━━━━━━━━━━━━━━━━━━━━━━━━━━━━━━━━━\u001b[0m \u001b[32m58.3/58.3 kB\u001b[0m \u001b[31m6.9 MB/s\u001b[0m eta \u001b[36m0:00:00\u001b[0m\n",
            "\u001b[2K     \u001b[90m━━━━━━━━━━━━━━━━━━━━━━━━━━━━━━━━━━━━━━━━\u001b[0m \u001b[32m1.7/1.7 MB\u001b[0m \u001b[31m42.1 MB/s\u001b[0m eta \u001b[36m0:00:00\u001b[0m\n",
            "\u001b[2K     \u001b[90m━━━━━━━━━━━━━━━━━━━━━━━━━━━━━━━━━━━━━━━━\u001b[0m \u001b[32m241.3/241.3 kB\u001b[0m \u001b[31m24.3 MB/s\u001b[0m eta \u001b[36m0:00:00\u001b[0m\n",
            "\u001b[2K     \u001b[90m━━━━━━━━━━━━━━━━━━━━━━━━━━━━━━━━━━━━━━━━\u001b[0m \u001b[32m61.0/61.0 kB\u001b[0m \u001b[31m7.2 MB/s\u001b[0m eta \u001b[36m0:00:00\u001b[0m\n",
            "\u001b[2K     \u001b[90m━━━━━━━━━━━━━━━━━━━━━━━━━━━━━━━━━━━━━━━━\u001b[0m \u001b[32m49.4/49.4 kB\u001b[0m \u001b[31m5.8 MB/s\u001b[0m eta \u001b[36m0:00:00\u001b[0m\n",
            "\u001b[?25h\u001b[31mERROR: pip's dependency resolver does not currently take into account all the packages that are installed. This behaviour is the source of the following dependency conflicts.\n",
            "llmx 0.0.15a0 requires cohere, which is not installed.\n",
            "llmx 0.0.15a0 requires tiktoken, which is not installed.\u001b[0m\u001b[31m\n",
            "\u001b[0m"
          ]
        }
      ],
      "source": [
        "!pip install -q kor markdownify requests pydantic openai colorama bs4 rich"
      ]
    },
    {
      "cell_type": "code",
      "source": [
        "from pydantic import BaseModel\n",
        "from pydantic import ValidationError\n",
        "\n",
        "class Person(BaseModel):\n",
        "    first_name: str\n",
        "    last_name: str\n",
        "    age: int\n",
        "\n",
        "    @property\n",
        "    def display_name(self):\n",
        "        return f\"{self.first_name} {self.last_name[0]}\"\n",
        "\n",
        "p = Person(first_name=\"Evariste\", last_name=\"Galois\", age=20)"
      ],
      "metadata": {
        "id": "y0QYd4HTZKoX"
      },
      "execution_count": null,
      "outputs": []
    },
    {
      "cell_type": "code",
      "source": [
        "try:\n",
        "    Person(first_name=\"Evariste\", last_name=\"Galois\", age=20)\n",
        "except ValidationError as ex:\n",
        "    print(ex)"
      ],
      "metadata": {
        "id": "lxB6bnYPZan9"
      },
      "execution_count": null,
      "outputs": []
    },
    {
      "cell_type": "markdown",
      "source": [
        "## Deserialization\n",
        "Deserialization is the act of taking data (that can be provided in a number of ways) to create and populate a new model instance.\n",
        "\n",
        "We already saw one way of doing this:"
      ],
      "metadata": {
        "id": "uR6IFFDpbR-v"
      }
    },
    {
      "cell_type": "code",
      "source": [
        "from pydantic import BaseModel, ValidationError\n",
        "\n",
        "\n",
        "class Person(BaseModel):\n",
        "    first_name: str\n",
        "    last_name: str\n",
        "    age: int\n",
        "\n",
        "    @property\n",
        "    def display_name(self):\n",
        "        return f\"{self.first_name} {self.last_name[0]}\"\n",
        "\n",
        "data = {\n",
        "    \"first_name\": \"Isaac\",\n",
        "    \"last_name\": \"Newton\",\n",
        "    \"age\": 84\n",
        "}"
      ],
      "metadata": {
        "id": "hOu-qDCQbSw1"
      },
      "execution_count": null,
      "outputs": []
    },
    {
      "cell_type": "code",
      "source": [
        "Person(**data)"
      ],
      "metadata": {
        "colab": {
          "base_uri": "https://localhost:8080/"
        },
        "id": "62AGIp9zbn2m",
        "outputId": "f95383c2-3451-471f-a4af-5b7b0148c66d"
      },
      "execution_count": null,
      "outputs": [
        {
          "output_type": "execute_result",
          "data": {
            "text/plain": [
              "Person(first_name='Isaac', last_name='Newton', age=84)"
            ]
          },
          "metadata": {},
          "execution_count": 5
        }
      ]
    },
    {
      "cell_type": "code",
      "source": [
        "p = Person.model_validate(data)\n",
        "p"
      ],
      "metadata": {
        "colab": {
          "base_uri": "https://localhost:8080/"
        },
        "id": "9Cy-R4OMboQg",
        "outputId": "3621f911-1b47-4aed-891a-8d929b75b1ca"
      },
      "execution_count": null,
      "outputs": [
        {
          "output_type": "execute_result",
          "data": {
            "text/plain": [
              "Person(first_name='Isaac', last_name='Newton', age=84)"
            ]
          },
          "metadata": {},
          "execution_count": 6
        }
      ]
    },
    {
      "cell_type": "markdown",
      "source": [
        "The same validation exceptions we saw earlier will be raised when we have validation issues:"
      ],
      "metadata": {
        "id": "kIZzqyogcB4C"
      }
    },
    {
      "cell_type": "code",
      "source": [
        "missing_data = {\"last_name\": \"Newton\"}\n",
        "\n",
        "try:\n",
        "    Person.model_validate(missing_data)\n",
        "except ValidationError as ex:\n",
        "    print(ex)"
      ],
      "metadata": {
        "colab": {
          "base_uri": "https://localhost:8080/"
        },
        "id": "wwIwjvEUcBDd",
        "outputId": "7d37a6c2-0fba-487d-fa42-4cdc649ff5d8"
      },
      "execution_count": null,
      "outputs": [
        {
          "output_type": "stream",
          "name": "stdout",
          "text": [
            "2 validation errors for Person\n",
            "first_name\n",
            "  Field required [type=missing, input_value={'last_name': 'Newton'}, input_type=dict]\n",
            "    For further information visit https://errors.pydantic.dev/2.6/v/missing\n",
            "age\n",
            "  Field required [type=missing, input_value={'last_name': 'Newton'}, input_type=dict]\n",
            "    For further information visit https://errors.pydantic.dev/2.6/v/missing\n"
          ]
        }
      ]
    },
    {
      "cell_type": "markdown",
      "source": [
        "## PROJECT"
      ],
      "metadata": {
        "id": "pJuOa9ogcwjF"
      }
    },
    {
      "cell_type": "code",
      "source": [
        "# Python dictionary\n",
        "from datetime import date\n",
        "\n",
        "data = {\n",
        "    \"manufacturer\": \"BMW\",\n",
        "    \"series_name\": \"M4\",\n",
        "    \"type_\": \"Convertible\",\n",
        "    \"is_electric\": False,\n",
        "    \"manufactured_date\": \"2023-01-01\",\n",
        "    \"base_msrp_usd\": 93_300,\n",
        "    \"vin\": \"1234567890\",\n",
        "    \"number_of_doors\": 2,\n",
        "    \"registration_country\": \"France\",\n",
        "    \"license_plate\": \"AAA-BBB\",\n",
        "}\n",
        "\n",
        "data_expected_serialization = {\n",
        "    'manufacturer': 'BMW',\n",
        "    'series_name': 'M4',\n",
        "    'type_': 'Convertible',\n",
        "    'is_electric': False,\n",
        "    'manufactured_date': date(2023,1,1),\n",
        "    'base_msrp_usd': 93_300,\n",
        "    'vin': '1234567890',\n",
        "    'number_of_doors': 2,\n",
        "    'registration_country': 'France',\n",
        "    'license_plate': 'AAA-BBB',\n",
        "}\n",
        "\n",
        "\n",
        "# JSON\n",
        "data_json = '''\n",
        "{\n",
        "    \"manufacturer\": \"BMW\",\n",
        "    \"series_name\": \"M4\",\n",
        "    \"type_\": \"Convertible\",\n",
        "    \"manufactured_date\": \"2023-01-01\",\n",
        "    \"base_msrp_usd\": 93300,\n",
        "    \"vin\": \"1234567890\"\n",
        "}\n",
        "'''\n",
        "\n",
        "data_json_expected_serialization = {\n",
        "    'manufacturer': 'BMW',\n",
        "    'series_name': 'M4',\n",
        "    'type_': 'Convertible',\n",
        "    'is_electric': False,\n",
        "    'manufactured_date': date(2023, 1, 1),\n",
        "    'base_msrp_usd': 93_300,\n",
        "    'vin': '1234567890',\n",
        "    'number_of_doors': 4,\n",
        "    'registration_country': None,\n",
        "    'license_plate': None,\n",
        "}"
      ],
      "metadata": {
        "id": "WA9Uq-kbcFxr"
      },
      "execution_count": null,
      "outputs": []
    },
    {
      "cell_type": "code",
      "source": [
        "from datetime import date\n",
        "from pydantic import BaseModel\n",
        "\n",
        "\n",
        "class Automobile(BaseModel):\n",
        "    manufacturer: str\n",
        "    series_name: str\n",
        "    type_: str\n",
        "    is_electric: bool = False\n",
        "    manufactured_date: date\n",
        "    base_msrp_usd: float\n",
        "    vin: str\n",
        "    number_of_doors: int = 4\n",
        "    registration_country: str | None = None\n",
        "    license_plate: str | None = None"
      ],
      "metadata": {
        "id": "7gyArbsReee9"
      },
      "execution_count": null,
      "outputs": []
    },
    {
      "cell_type": "code",
      "source": [
        "car = Automobile.model_validate(data)\n",
        "car"
      ],
      "metadata": {
        "colab": {
          "base_uri": "https://localhost:8080/"
        },
        "id": "kr9w-DJAeoH7",
        "outputId": "de9ac627-e604-4a11-9c9e-d45dd72e6423"
      },
      "execution_count": null,
      "outputs": [
        {
          "output_type": "execute_result",
          "data": {
            "text/plain": [
              "Automobile(manufacturer='BMW', series_name='M4', type_='Convertible', is_electric=False, manufactured_date=datetime.date(2023, 1, 1), base_msrp_usd=93300.0, vin='1234567890', number_of_doors=2, registration_country='France', license_plate='AAA-BBB')"
            ]
          },
          "metadata": {},
          "execution_count": 11
        }
      ]
    },
    {
      "cell_type": "code",
      "source": [
        "assert car.model_dump() == data_expected_serialization"
      ],
      "metadata": {
        "id": "hlEMHHUmesAI"
      },
      "execution_count": null,
      "outputs": []
    },
    {
      "cell_type": "markdown",
      "source": [
        "And using JSON deserialization:"
      ],
      "metadata": {
        "id": "FFMacEsIe2JN"
      }
    },
    {
      "cell_type": "code",
      "source": [
        "car = Automobile.model_validate_json(data_json)\n",
        "car"
      ],
      "metadata": {
        "colab": {
          "base_uri": "https://localhost:8080/"
        },
        "id": "qhIKrk27e1W2",
        "outputId": "a82e177a-23bc-4a7e-dd57-342726b853c2"
      },
      "execution_count": null,
      "outputs": [
        {
          "output_type": "execute_result",
          "data": {
            "text/plain": [
              "Automobile(manufacturer='BMW', series_name='M4', type_='Convertible', is_electric=False, manufactured_date=datetime.date(2023, 1, 1), base_msrp_usd=93300.0, vin='1234567890', number_of_doors=4, registration_country=None, license_plate=None)"
            ]
          },
          "metadata": {},
          "execution_count": 13
        }
      ]
    },
    {
      "cell_type": "code",
      "source": [
        "assert car.model_dump() == data_json_expected_serialization\n"
      ],
      "metadata": {
        "id": "v8UACtHge6eq"
      },
      "execution_count": null,
      "outputs": []
    },
    {
      "cell_type": "markdown",
      "source": [
        "## MODEL CONFIGURATION"
      ],
      "metadata": {
        "id": "Ea-fsBbvgSkv"
      }
    },
    {
      "cell_type": "markdown",
      "source": [
        "## Handling Extra Fields"
      ],
      "metadata": {
        "id": "IZC9Lc9wgfuq"
      }
    },
    {
      "cell_type": "code",
      "source": [
        "from pydantic import BaseModel, ConfigDict, ValidationError\n",
        "\n",
        "class Model(BaseModel):\n",
        "    model_config = ConfigDict(extra=\"ignore\")\n",
        "\n",
        "    field_1: int = 0\n",
        "\n",
        "try:\n",
        "    Model(field_1=10, extra_1=\"data\")\n",
        "except ValidationError as ex:\n",
        "    print(ex)"
      ],
      "metadata": {
        "id": "0QoiOZmpgVVu"
      },
      "execution_count": 15,
      "outputs": []
    },
    {
      "cell_type": "code",
      "source": [
        "m = Model(field_1=10, extra_1=\"data\")\n",
        "\n",
        "dict(m)"
      ],
      "metadata": {
        "colab": {
          "base_uri": "https://localhost:8080/"
        },
        "id": "aa39mMpzo6kB",
        "outputId": "3e892554-b2eb-4ed0-854f-08d165c3e65a"
      },
      "execution_count": 16,
      "outputs": [
        {
          "output_type": "execute_result",
          "data": {
            "text/plain": [
              "{'field_1': 10}"
            ]
          },
          "metadata": {},
          "execution_count": 16
        }
      ]
    },
    {
      "cell_type": "code",
      "source": [
        "m.model_fields"
      ],
      "metadata": {
        "colab": {
          "base_uri": "https://localhost:8080/"
        },
        "id": "6Xlb4j-SqAk0",
        "outputId": "10f9a465-cf4c-4b0c-b457-af435a04324c"
      },
      "execution_count": 17,
      "outputs": [
        {
          "output_type": "execute_result",
          "data": {
            "text/plain": [
              "{'field_1': FieldInfo(annotation=int, required=False, default=0)}"
            ]
          },
          "metadata": {},
          "execution_count": 17
        }
      ]
    },
    {
      "cell_type": "markdown",
      "source": [
        "## Strict and Lax Type Coercion\n",
        "As we saw earlier, Pydantic performs a lax type coercion."
      ],
      "metadata": {
        "id": "oIzqV0HMsOVK"
      }
    },
    {
      "cell_type": "code",
      "source": [
        "class Model(BaseModel):\n",
        "    field_1: str\n",
        "    field_2: float\n",
        "    field_3: list\n",
        "    field_4: tuple\n",
        "\n",
        "try:\n",
        "    Model(field_1=100, field_2=1, field_3=[1, 2, 3], field_4=(1, 2, 3))\n",
        "except ValidationError as ex:\n",
        "    print(ex)"
      ],
      "metadata": {
        "colab": {
          "base_uri": "https://localhost:8080/"
        },
        "id": "qe6hFqyDsPD5",
        "outputId": "f9fae4cd-23e8-474c-e6f0-f0fa0b0fcaa9"
      },
      "execution_count": 18,
      "outputs": [
        {
          "output_type": "stream",
          "name": "stdout",
          "text": [
            "1 validation error for Model\n",
            "field_1\n",
            "  Input should be a valid string [type=string_type, input_value=100, input_type=int]\n",
            "    For further information visit https://errors.pydantic.dev/2.6/v/string_type\n"
          ]
        }
      ]
    },
    {
      "cell_type": "markdown",
      "source": [
        "## Let explore an example:"
      ],
      "metadata": {
        "id": "3gvnCaWCxIuj"
      }
    },
    {
      "cell_type": "code",
      "source": [
        "json_data = '''\n",
        "{\n",
        "    \"field_1\": true,\n",
        "    \"field_2\": 10.5,\n",
        "    \"field_3\": 10,\n",
        "    \"field_4\": null,\n",
        "    \"field_5\": [1, 2, 3],\n",
        "    \"field_6\": {\n",
        "        \"a\": 1,\n",
        "        \"b\": 2,\n",
        "        \"c\": [3, 4, 5]\n",
        "    },\n",
        "    \"field_7\": [\n",
        "        [1, 0, 0],\n",
        "        [0, 1, 0],\n",
        "        [0, 0, 1]\n",
        "    ]\n",
        "}\n",
        "'''"
      ],
      "metadata": {
        "id": "Sg2x4fvexMT1"
      },
      "execution_count": 20,
      "outputs": []
    },
    {
      "cell_type": "code",
      "source": [
        "import json\n",
        "from pprint import pprint\n",
        "\n",
        "data = json.loads(json_data)\n",
        "pprint(data)"
      ],
      "metadata": {
        "colab": {
          "base_uri": "https://localhost:8080/"
        },
        "id": "YBNfVqPuxMuw",
        "outputId": "c887fa3c-cfe3-4354-c1b4-914aeb1b76c8"
      },
      "execution_count": 21,
      "outputs": [
        {
          "output_type": "stream",
          "name": "stdout",
          "text": [
            "{'field_1': True,\n",
            " 'field_2': 10.5,\n",
            " 'field_3': 10,\n",
            " 'field_4': None,\n",
            " 'field_5': [1, 2, 3],\n",
            " 'field_6': {'a': 1, 'b': 2, 'c': [3, 4, 5]},\n",
            " 'field_7': [[1, 0, 0], [0, 1, 0], [0, 0, 1]]}\n"
          ]
        }
      ]
    },
    {
      "cell_type": "code",
      "source": [
        "class Model(BaseModel):\n",
        "    # model_config = ConfigDict(strict=True)\n",
        "\n",
        "    field_1: bool\n",
        "    field_2: float\n",
        "    field_3: int\n",
        "    field_4: str | None\n",
        "    field_5: tuple[int, ...]\n",
        "    field_6: set[str]\n",
        "    field_7: dict"
      ],
      "metadata": {
        "id": "K6Fq2EKqxrha"
      },
      "execution_count": 22,
      "outputs": []
    },
    {
      "cell_type": "code",
      "source": [
        "try:\n",
        "    Model.model_validate_json(json_data)\n",
        "except ValidationError as ex:\n",
        "    print(ex)"
      ],
      "metadata": {
        "colab": {
          "base_uri": "https://localhost:8080/"
        },
        "id": "GnJxhnRJx8nc",
        "outputId": "691aec95-fd41-4433-f077-12ec61d0a3c3"
      },
      "execution_count": 23,
      "outputs": [
        {
          "output_type": "stream",
          "name": "stdout",
          "text": [
            "2 validation errors for Model\n",
            "field_6\n",
            "  Input should be a valid array [type=set_type, input_value={'a': 1, 'b': 2, 'c': [3, 4, 5]}, input_type=dict]\n",
            "    For further information visit https://errors.pydantic.dev/2.6/v/set_type\n",
            "field_7\n",
            "  Input should be an object [type=dict_type, input_value=[[1, 0, 0], [0, 1, 0], [0, 0, 1]], input_type=list]\n",
            "    For further information visit https://errors.pydantic.dev/2.6/v/dict_type\n"
          ]
        }
      ]
    },
    {
      "cell_type": "markdown",
      "source": [
        "## Mutability\n",
        "By default, Pydantic models are mutable, i.e. we can modify the values in a model instance after the model instance has been created."
      ],
      "metadata": {
        "id": "bzMrNVn0yGx6"
      }
    },
    {
      "cell_type": "code",
      "source": [
        "class Model(BaseModel):\n",
        "    field: int\n",
        "\n",
        "m = Model(field=10)"
      ],
      "metadata": {
        "id": "x6zEE89Fx-of"
      },
      "execution_count": 24,
      "outputs": []
    },
    {
      "cell_type": "code",
      "source": [
        "try:\n",
        "    m.field=20\n",
        "except ValidationError as ex:\n",
        "    print(ex)"
      ],
      "metadata": {
        "id": "_tM30ygUyx-5"
      },
      "execution_count": 25,
      "outputs": []
    },
    {
      "cell_type": "markdown",
      "source": [
        "## Project"
      ],
      "metadata": {
        "id": "kANNhtvPzFRK"
      }
    },
    {
      "cell_type": "code",
      "source": [
        "from datetime import date\n",
        "from pydantic import BaseModel\n",
        "\n",
        "\n",
        "class Automobile(BaseModel):\n",
        "    manufacturer: str\n",
        "    series_name: str\n",
        "    type_: str\n",
        "    is_electric: bool = False\n",
        "    manufactured_date: date\n",
        "    base_msrp_usd: float\n",
        "    vin: str\n",
        "    number_of_doors: int = 4\n",
        "    registration_country: str | None = None\n",
        "    license_plate: str | None = None"
      ],
      "metadata": {
        "id": "-Dg3pxJgy0RU"
      },
      "execution_count": 26,
      "outputs": []
    },
    {
      "cell_type": "code",
      "source": [
        "from enum import Enum\n",
        "\n",
        "class AutomobileType(Enum):\n",
        "    sedan = \"Sedan\"\n",
        "    coupe = \"Coupe\"\n",
        "    convertible = \"Convertible\"\n",
        "    suv = \"SUV\"\n",
        "    truck = \"Truck\""
      ],
      "metadata": {
        "id": "VQ7J6cIhzU1t"
      },
      "execution_count": 27,
      "outputs": []
    },
    {
      "cell_type": "code",
      "source": [
        "data_json = '''\n",
        "{\n",
        "    \"manufacturer\": \" BMW \",\n",
        "    \"series_name\": \" M4 \",\n",
        "    \"type_\": \"Convertible\",\n",
        "    \"manufactured_date\": \"2023-01-01\",\n",
        "    \"base_msrp_usd\": 93300,\n",
        "    \"vin\": \" 1234567890 \"\n",
        "}\n",
        "'''"
      ],
      "metadata": {
        "id": "7_dUozNOzdhA"
      },
      "execution_count": 28,
      "outputs": []
    },
    {
      "cell_type": "code",
      "source": [
        "data_json_expected_serialization = {\n",
        "    'manufacturer': 'BMW',\n",
        "    'series_name': 'M4',\n",
        "    'type_': AutomobileType.convertible,\n",
        "    'is_electric': False,\n",
        "    'manufactured_date': date(2023, 1, 1),\n",
        "    'base_msrp_usd': 93300.0,\n",
        "    'vin': '1234567890',\n",
        "    'number_of_doors': 4,\n",
        "    'registration_country': None,\n",
        "    'license_plate': None\n",
        "}"
      ],
      "metadata": {
        "id": "fNf_pisQ2gF8"
      },
      "execution_count": 29,
      "outputs": []
    },
    {
      "cell_type": "markdown",
      "source": [
        "#Modified class"
      ],
      "metadata": {
        "id": "OqXWL2vQ4pbY"
      }
    },
    {
      "cell_type": "code",
      "source": [
        "from pydantic import ConfigDict\n",
        "\n",
        "\n",
        "class Automobile(BaseModel):\n",
        "    model_config = ConfigDict(\n",
        "        extra=\"forbid\",\n",
        "        str_strip_whitespace=True,\n",
        "        validate_default=True,\n",
        "        validate_assignment=True,\n",
        "    )\n",
        "\n",
        "    manufacturer: str\n",
        "    series_name: str\n",
        "    type_: AutomobileType\n",
        "    is_electric: bool = False\n",
        "    manufactured_date: date\n",
        "    base_msrp_usd: float\n",
        "    vin: str\n",
        "    number_of_doors: int = 4\n",
        "    registration_country: str | None = None\n",
        "    license_plate: str | None = None"
      ],
      "metadata": {
        "id": "WpiFGCnR4q0Z"
      },
      "execution_count": 30,
      "outputs": []
    },
    {
      "cell_type": "code",
      "source": [
        "car = Automobile.model_validate_json(data_json)\n",
        "car"
      ],
      "metadata": {
        "colab": {
          "base_uri": "https://localhost:8080/"
        },
        "id": "loNCSiJ_4yMD",
        "outputId": "781f9ec0-e864-4251-c84b-cbad3386eb6a"
      },
      "execution_count": 31,
      "outputs": [
        {
          "output_type": "execute_result",
          "data": {
            "text/plain": [
              "Automobile(manufacturer='BMW', series_name='M4', type_=<AutomobileType.convertible: 'Convertible'>, is_electric=False, manufactured_date=datetime.date(2023, 1, 1), base_msrp_usd=93300.0, vin='1234567890', number_of_doors=4, registration_country=None, license_plate=None)"
            ]
          },
          "metadata": {},
          "execution_count": 31
        }
      ]
    },
    {
      "cell_type": "code",
      "source": [
        "assert car.model_dump() == data_json_expected_serialization"
      ],
      "metadata": {
        "id": "k70FrMxf41dC"
      },
      "execution_count": 32,
      "outputs": []
    }
  ]
}