{
  "nbformat": 4,
  "nbformat_minor": 0,
  "metadata": {
    "colab": {
      "provenance": []
    },
    "kernelspec": {
      "name": "python3",
      "display_name": "Python 3"
    },
    "language_info": {
      "name": "python"
    }
  },
  "cells": [
    {
      "cell_type": "code",
      "execution_count": null,
      "metadata": {
        "colab": {
          "base_uri": "https://localhost:8080/"
        },
        "id": "Xc8-jeMsUQwy",
        "outputId": "d4419dbe-a553-4ea1-cc56-484a73892a12"
      },
      "outputs": [
        {
          "output_type": "execute_result",
          "data": {
            "text/plain": [
              "datetime.datetime(2023, 5, 24, 5, 54, 39, 604282)"
            ]
          },
          "metadata": {},
          "execution_count": 4
        }
      ],
      "source": [
        "from datetime import datetime\n",
        "import json\n",
        "current = datetime.utcnow()\n",
        "current"
      ]
    },
    {
      "cell_type": "code",
      "source": [
        "def format_iso(dt):\n",
        "    return dt.strftime('%Y-%m-%dT%H:%M:%S')"
      ],
      "metadata": {
        "id": "5UbSF1NHUZ--"
      },
      "execution_count": null,
      "outputs": []
    },
    {
      "cell_type": "code",
      "source": [
        "format_iso(current)"
      ],
      "metadata": {
        "colab": {
          "base_uri": "https://localhost:8080/",
          "height": 35
        },
        "id": "ZIRk4eVnUe3r",
        "outputId": "f008bcb5-48bd-456d-da35-7c11562008c4"
      },
      "execution_count": null,
      "outputs": [
        {
          "output_type": "execute_result",
          "data": {
            "text/plain": [
              "'2023-05-24T05:53:37'"
            ],
            "application/vnd.google.colaboratory.intrinsic+json": {
              "type": "string"
            }
          },
          "metadata": {},
          "execution_count": 3
        }
      ]
    },
    {
      "cell_type": "code",
      "source": [
        "log_record = {'time': datetime.utcnow().isoformat(), 'message': 'testing'}\n",
        "json.dumps(log_record)"
      ],
      "metadata": {
        "colab": {
          "base_uri": "https://localhost:8080/",
          "height": 35
        },
        "id": "HxGABGrMUusw",
        "outputId": "730f7cb6-539e-4d4f-9673-062ea255139b"
      },
      "execution_count": null,
      "outputs": [
        {
          "output_type": "execute_result",
          "data": {
            "text/plain": [
              "'{\"time\": \"2023-05-24T05:55:14.336457\", \"message\": \"testing\"}'"
            ],
            "application/vnd.google.colaboratory.intrinsic+json": {
              "type": "string"
            }
          },
          "metadata": {},
          "execution_count": 5
        }
      ]
    },
    {
      "cell_type": "markdown",
      "source": [
        "Let's first write it without the decorator to make sure we have our code correct:"
      ],
      "metadata": {
        "id": "_l1l0TFkVvUI"
      }
    },
    {
      "cell_type": "code",
      "source": [
        "def custom_json_formatter(arg):\n",
        "    if isinstance(arg, datetime):\n",
        "        return arg.isoformat()\n",
        "    elif isinstance(arg, set):\n",
        "        return list(arg)"
      ],
      "metadata": {
        "id": "jSFrAQmVU161"
      },
      "execution_count": null,
      "outputs": []
    },
    {
      "cell_type": "code",
      "source": [
        "json.dumps(log_record, default=custom_json_formatter)"
      ],
      "metadata": {
        "colab": {
          "base_uri": "https://localhost:8080/",
          "height": 35
        },
        "id": "xwMBM0dGVo_j",
        "outputId": "627679d1-233c-40f3-a886-227a209b9a93"
      },
      "execution_count": null,
      "outputs": [
        {
          "output_type": "execute_result",
          "data": {
            "text/plain": [
              "'{\"time\": \"2023-05-24T05:55:14.336457\", \"message\": \"testing\"}'"
            ],
            "application/vnd.google.colaboratory.intrinsic+json": {
              "type": "string"
            }
          },
          "metadata": {},
          "execution_count": 7
        }
      ]
    },
    {
      "cell_type": "code",
      "source": [
        "class Person:\n",
        "    def __init__(self, name, age):\n",
        "        self.name = name\n",
        "        self.age = age\n",
        "        self.create_dt = datetime.utcnow()\n",
        "        \n",
        "    def __repr__(self):\n",
        "        return f'Person(name={self.name}, age={self.age})'\n",
        "    \n",
        "    def toJSON(self):\n",
        "        return {\n",
        "            'name': self.name,\n",
        "            'age': self.age,\n",
        "            'create_dt': self.create_dt.isoformat()\n",
        "        }"
      ],
      "metadata": {
        "id": "GIDTcqBjVrl0"
      },
      "execution_count": null,
      "outputs": []
    },
    {
      "cell_type": "code",
      "source": [
        "p = Person('John', 82)\n",
        "print(p)\n",
        "print(p.toJSON())"
      ],
      "metadata": {
        "colab": {
          "base_uri": "https://localhost:8080/"
        },
        "id": "SH84TT5JXTJ5",
        "outputId": "889909c8-30c0-4ce2-a17c-f13b490f036f"
      },
      "execution_count": null,
      "outputs": [
        {
          "output_type": "stream",
          "name": "stdout",
          "text": [
            "Person(name=John, age=82)\n",
            "{'name': 'John', 'age': 82, 'create_dt': '2023-05-24T06:06:13.132241'}\n"
          ]
        }
      ]
    },
    {
      "cell_type": "code",
      "source": [
        "def custom_json_formatter(arg):\n",
        "    if isinstance(arg, datetime):\n",
        "        return arg.isoformat()\n",
        "    elif isinstance(arg, set):\n",
        "        return list(arg)\n",
        "    elif isinstance(arg, Person):\n",
        "        return arg.toJSON()"
      ],
      "metadata": {
        "id": "RElqA5s8XXHB"
      },
      "execution_count": null,
      "outputs": []
    },
    {
      "cell_type": "code",
      "source": [
        "log_record = dict(time=datetime.utcnow(),\n",
        "                  message='Created new person record',\n",
        "                  person=p)"
      ],
      "metadata": {
        "id": "iLUiDKNvXedl"
      },
      "execution_count": null,
      "outputs": []
    },
    {
      "cell_type": "code",
      "source": [
        "json.dumps(log_record, default=custom_json_formatter)"
      ],
      "metadata": {
        "colab": {
          "base_uri": "https://localhost:8080/",
          "height": 35
        },
        "id": "agV_LWxVXhHN",
        "outputId": "fab2212e-fab2-4607-9e86-1d041a3903a5"
      },
      "execution_count": null,
      "outputs": [
        {
          "output_type": "execute_result",
          "data": {
            "text/plain": [
              "'{\"time\": \"2023-05-24T06:06:54.530044\", \"message\": \"Created new person record\", \"person\": {\"name\": \"John\", \"age\": 82, \"create_dt\": \"2023-05-24T06:06:13.132241\"}}'"
            ],
            "application/vnd.google.colaboratory.intrinsic+json": {
              "type": "string"
            }
          },
          "metadata": {},
          "execution_count": 12
        }
      ]
    },
    {
      "cell_type": "code",
      "source": [
        "print(json.dumps(log_record, default=custom_json_formatter, indent=2))"
      ],
      "metadata": {
        "colab": {
          "base_uri": "https://localhost:8080/"
        },
        "id": "nfBfHutuXjCc",
        "outputId": "a259069c-1936-4749-a247-baaaa1f28beb"
      },
      "execution_count": null,
      "outputs": [
        {
          "output_type": "stream",
          "name": "stdout",
          "text": [
            "{\n",
            "  \"time\": \"2023-05-24T06:06:54.530044\",\n",
            "  \"message\": \"Created new person record\",\n",
            "  \"person\": {\n",
            "    \"name\": \"John\",\n",
            "    \"age\": 82,\n",
            "    \"create_dt\": \"2023-05-24T06:06:13.132241\"\n",
            "  }\n",
            "}\n"
          ]
        }
      ]
    },
    {
      "cell_type": "code",
      "source": [
        "class Person:\n",
        "    def __init__(self, name, age):\n",
        "        self.name = name\n",
        "        self.age = age\n",
        "        self.create_dt = datetime.utcnow()\n",
        "        \n",
        "    def __repr__(self):\n",
        "        return f'Person(name={self.name}, age={self.age})'\n",
        "    \n",
        "    def toJSON(self):\n",
        "        return vars(self)"
      ],
      "metadata": {
        "id": "4BPE7FOdXm2-"
      },
      "execution_count": null,
      "outputs": []
    },
    {
      "cell_type": "code",
      "source": [
        "p = Person('Python', 27)"
      ],
      "metadata": {
        "id": "CNih8nttXzbs"
      },
      "execution_count": null,
      "outputs": []
    },
    {
      "cell_type": "code",
      "source": [
        "log_record = dict(time=datetime.utcnow(),\n",
        "                  message='Created new person record',\n",
        "                  person=p)"
      ],
      "metadata": {
        "id": "HGlXT8SUX1wl"
      },
      "execution_count": null,
      "outputs": []
    },
    {
      "cell_type": "code",
      "source": [
        "print(json.dumps(log_record, default=custom_json_formatter, indent=2))"
      ],
      "metadata": {
        "colab": {
          "base_uri": "https://localhost:8080/"
        },
        "id": "R2MXADMyYD3E",
        "outputId": "cf87ccb5-4832-4288-feab-fb047501aef6"
      },
      "execution_count": null,
      "outputs": [
        {
          "output_type": "stream",
          "name": "stdout",
          "text": [
            "{\n",
            "  \"time\": \"2023-05-24T06:08:57.118874\",\n",
            "  \"message\": \"Created new person record\",\n",
            "  \"person\": {\n",
            "    \"name\": \"Python\",\n",
            "    \"age\": 27,\n",
            "    \"create_dt\": \"2023-05-24T06:08:18.633524\"\n",
            "  }\n",
            "}\n"
          ]
        }
      ]
    },
    {
      "cell_type": "code",
      "source": [
        "class Point:\n",
        "    def __init__(self, x, y):\n",
        "        self.x = x\n",
        "        self.y = y\n",
        "        \n",
        "    def __repr__(self):\n",
        "        return f'Point(x={self.x}, y={self.y})'"
      ],
      "metadata": {
        "id": "Uybr_FXUYzrA"
      },
      "execution_count": null,
      "outputs": []
    },
    {
      "cell_type": "code",
      "source": [
        "class Person:\n",
        "    def __init__(self, name, age):\n",
        "        self.name = name\n",
        "        self.age = age\n",
        "        self.create_dt = datetime.utcnow()\n",
        "        \n",
        "    def __repr__(self):\n",
        "        return f'Person(name={self.name}, age={self.age})'\n",
        "    \n",
        "    def toJSON(self):\n",
        "        return vars(self)"
      ],
      "metadata": {
        "id": "E0uGzw2dZQb0"
      },
      "execution_count": null,
      "outputs": []
    },
    {
      "cell_type": "code",
      "source": [
        "def custom_json_formatter(arg):\n",
        "    if isinstance(arg, datetime):\n",
        "        return arg.isoformat()\n",
        "    elif isinstance(arg, set):\n",
        "        return list(arg)\n",
        "    else:\n",
        "        try:\n",
        "            return arg.toJSON()\n",
        "        except AttributeError:\n",
        "            try:\n",
        "                return vars(arg)\n",
        "            except TypeError:\n",
        "                return str(arg)"
      ],
      "metadata": {
        "id": "k0cDl9vRacsS"
      },
      "execution_count": null,
      "outputs": []
    },
    {
      "cell_type": "code",
      "source": [
        "from functools import singledispatch"
      ],
      "metadata": {
        "id": "SqhPvOoaYfuf"
      },
      "execution_count": null,
      "outputs": []
    },
    {
      "cell_type": "code",
      "source": [
        "from decimal import Decimal \n",
        "pt1 = Point(1,2)\n",
        "p = Person('John',18)\n",
        "pt2 = Point(Decimal('10.5'), Decimal(100.5))\n",
        "\n",
        "log_record = dict(time=datetime.utcnow(),\n",
        "                  message='Created new point',\n",
        "                  point=pt1,\n",
        "                  point_2 = pt2,\n",
        "                  created_by=p)"
      ],
      "metadata": {
        "id": "xLL186SXYdED"
      },
      "execution_count": null,
      "outputs": []
    },
    {
      "cell_type": "code",
      "source": [
        "print(json.dumps(log_record, default=custom_json_formatter, indent=2))"
      ],
      "metadata": {
        "colab": {
          "base_uri": "https://localhost:8080/"
        },
        "id": "QkI3jipbafwZ",
        "outputId": "ab79acee-7aa8-4762-9612-d32758491b2b"
      },
      "execution_count": null,
      "outputs": [
        {
          "output_type": "stream",
          "name": "stdout",
          "text": [
            "{\n",
            "  \"time\": \"2023-05-24T06:19:13.058858\",\n",
            "  \"message\": \"Created new point\",\n",
            "  \"point\": {\n",
            "    \"x\": 1,\n",
            "    \"y\": 2\n",
            "  },\n",
            "  \"point_2\": {\n",
            "    \"x\": \"10.5\",\n",
            "    \"y\": \"100.5\"\n",
            "  },\n",
            "  \"created_by\": {\n",
            "    \"name\": \"John\",\n",
            "    \"age\": 18,\n",
            "    \"create_dt\": \"2023-05-24T06:19:13.058567\"\n",
            "  }\n",
            "}\n"
          ]
        }
      ]
    },
    {
      "cell_type": "code",
      "source": [
        "@singledispatch\n",
        "def json_format(arg):\n",
        "    print(arg)\n",
        "    try:\n",
        "        print('\\ttrying to use toJSON...')\n",
        "        return arg.toJSON()\n",
        "    except AttributeError:\n",
        "        print('\\tfailed - trying to use vars...')\n",
        "        try:\n",
        "            return vars(arg)\n",
        "        except TypeError:\n",
        "            print('\\tfailed - using string representation...')\n",
        "            return str(arg)"
      ],
      "metadata": {
        "id": "yDAvhzGdagTY"
      },
      "execution_count": null,
      "outputs": []
    },
    {
      "cell_type": "code",
      "source": [
        "@json_format.register(datetime)\n",
        "def _(arg):\n",
        "    return arg.isoformat()"
      ],
      "metadata": {
        "id": "VoEowskRa0kq"
      },
      "execution_count": null,
      "outputs": []
    },
    {
      "cell_type": "code",
      "source": [
        "@json_format.register(set)\n",
        "def _(arg):\n",
        "    return list(arg)"
      ],
      "metadata": {
        "id": "TYViQsKRbBma"
      },
      "execution_count": null,
      "outputs": []
    },
    {
      "cell_type": "code",
      "source": [
        "log_record = dict(time=datetime.utcnow(),\n",
        "                  message='Created new point',\n",
        "                  point=pt1,\n",
        "                  point_2 = pt2,\n",
        "                  created_by=p)"
      ],
      "metadata": {
        "id": "-F0HD83wblL7"
      },
      "execution_count": null,
      "outputs": []
    },
    {
      "cell_type": "code",
      "source": [
        "print(json.dumps(log_record, default=json_format, indent=2))"
      ],
      "metadata": {
        "colab": {
          "base_uri": "https://localhost:8080/"
        },
        "id": "0guL_vhtbFnt",
        "outputId": "041035b3-b978-44c7-e962-67404aedd0c4"
      },
      "execution_count": null,
      "outputs": [
        {
          "output_type": "stream",
          "name": "stdout",
          "text": [
            "Point(x=1, y=2)\n",
            "\ttrying to use toJSON...\n",
            "\tfailed - trying to use vars...\n",
            "Point(x=10.5, y=100.5)\n",
            "\ttrying to use toJSON...\n",
            "\tfailed - trying to use vars...\n",
            "10.5\n",
            "\ttrying to use toJSON...\n",
            "\tfailed - trying to use vars...\n",
            "\tfailed - using string representation...\n",
            "100.5\n",
            "\ttrying to use toJSON...\n",
            "\tfailed - trying to use vars...\n",
            "\tfailed - using string representation...\n",
            "Person(name=John, age=18)\n",
            "\ttrying to use toJSON...\n",
            "{\n",
            "  \"time\": \"2023-05-24T06:19:13.058858\",\n",
            "  \"message\": \"Created new point\",\n",
            "  \"point\": {\n",
            "    \"x\": 1,\n",
            "    \"y\": 2\n",
            "  },\n",
            "  \"point_2\": {\n",
            "    \"x\": \"10.5\",\n",
            "    \"y\": \"100.5\"\n",
            "  },\n",
            "  \"created_by\": {\n",
            "    \"name\": \"John\",\n",
            "    \"age\": 18,\n",
            "    \"create_dt\": \"2023-05-24T06:19:13.058567\"\n",
            "  }\n",
            "}\n"
          ]
        }
      ]
    },
    {
      "cell_type": "markdown",
      "source": [
        "#Let's change our Person class to emit some custom JSON instead of just using vars:"
      ],
      "metadata": {
        "id": "e4qMF5OYc2q1"
      }
    },
    {
      "cell_type": "code",
      "source": [
        "from decimal import Decimal\n",
        "from fractions import Fraction\n",
        "\n",
        "json.dumps(dict(a=1+1j, \n",
        "                b=Decimal('0.5'), \n",
        "                c=Fraction(1, 3),\n",
        "                p=Person('Python', 27),\n",
        "                pt=Point(0,0),\n",
        "                time=datetime.utcnow()\n",
        "               ), \n",
        "           default=json_format)"
      ],
      "metadata": {
        "colab": {
          "base_uri": "https://localhost:8080/",
          "height": 357
        },
        "id": "bKNnG1KUbIlC",
        "outputId": "2f1d4c28-30a1-492b-c2f9-c6b388b0b668"
      },
      "execution_count": null,
      "outputs": [
        {
          "output_type": "stream",
          "name": "stdout",
          "text": [
            "(1+1j)\n",
            "\ttrying to use toJSON...\n",
            "\tfailed - trying to use vars...\n",
            "\tfailed - using string representation...\n",
            "0.5\n",
            "\ttrying to use toJSON...\n",
            "\tfailed - trying to use vars...\n",
            "\tfailed - using string representation...\n",
            "1/3\n",
            "\ttrying to use toJSON...\n",
            "\tfailed - trying to use vars...\n",
            "\tfailed - using string representation...\n",
            "Person(name=Python, age=27)\n",
            "\ttrying to use toJSON...\n",
            "Point(x=0, y=0)\n",
            "\ttrying to use toJSON...\n",
            "\tfailed - trying to use vars...\n"
          ]
        },
        {
          "output_type": "execute_result",
          "data": {
            "text/plain": [
              "'{\"a\": \"(1+1j)\", \"b\": \"0.5\", \"c\": \"1/3\", \"p\": {\"name\": \"Python\", \"age\": 27, \"create_dt\": \"2023-05-24T06:36:54.868193\"}, \"pt\": {\"x\": 0, \"y\": 0}, \"time\": \"2023-05-24T06:36:54.868200\"}'"
            ],
            "application/vnd.google.colaboratory.intrinsic+json": {
              "type": "string"
            }
          },
          "metadata": {},
          "execution_count": 30
        }
      ]
    },
    {
      "cell_type": "code",
      "source": [
        "@json_format.register(Decimal)\n",
        "def _(arg):\n",
        "    return f'Decimal({str(arg)})'"
      ],
      "metadata": {
        "id": "65xaUzsAeoe3"
      },
      "execution_count": null,
      "outputs": []
    },
    {
      "cell_type": "code",
      "source": [
        "json.dumps(dict(a=1+1j, \n",
        "                b=Decimal(0.5), \n",
        "                c=Fraction(1, 3),\n",
        "                p=Person('Python', 27),\n",
        "                pt = Point(0,0),\n",
        "                time = datetime.utcnow()\n",
        "               ), \n",
        "           default=json_format)"
      ],
      "metadata": {
        "colab": {
          "base_uri": "https://localhost:8080/",
          "height": 285
        },
        "id": "7owsoEQiepdp",
        "outputId": "5f92d52a-d968-4830-950c-31c2ccaec5f8"
      },
      "execution_count": null,
      "outputs": [
        {
          "output_type": "stream",
          "name": "stdout",
          "text": [
            "(1+1j)\n",
            "\ttrying to use toJSON...\n",
            "\tfailed - trying to use vars...\n",
            "\tfailed - using string representation...\n",
            "1/3\n",
            "\ttrying to use toJSON...\n",
            "\tfailed - trying to use vars...\n",
            "\tfailed - using string representation...\n",
            "Person(name=Python, age=27)\n",
            "\ttrying to use toJSON...\n",
            "Point(x=0, y=0)\n",
            "\ttrying to use toJSON...\n",
            "\tfailed - trying to use vars...\n"
          ]
        },
        {
          "output_type": "execute_result",
          "data": {
            "text/plain": [
              "'{\"a\": \"(1+1j)\", \"b\": \"Decimal(0.5)\", \"c\": \"1/3\", \"p\": {\"name\": \"Python\", \"age\": 27, \"create_dt\": \"2023-05-24T06:38:31.273685\"}, \"pt\": {\"x\": 0, \"y\": 0}, \"time\": \"2023-05-24T06:38:31.273690\"}'"
            ],
            "application/vnd.google.colaboratory.intrinsic+json": {
              "type": "string"
            }
          },
          "metadata": {},
          "execution_count": 32
        }
      ]
    },
    {
      "cell_type": "code",
      "source": [
        "print(json.dumps(dict(pt = Point(Person('Python', 27), 2+2j)),\n",
        "          default=json_format, indent=2))"
      ],
      "metadata": {
        "colab": {
          "base_uri": "https://localhost:8080/"
        },
        "id": "Vth6okXuewNw",
        "outputId": "2ca594b9-dba8-4c91-b1cc-d0a11a59ab30"
      },
      "execution_count": null,
      "outputs": [
        {
          "output_type": "stream",
          "name": "stdout",
          "text": [
            "Point(x=Person(name=Python, age=27), y=(2+2j))\n",
            "\ttrying to use toJSON...\n",
            "\tfailed - trying to use vars...\n",
            "Person(name=Python, age=27)\n",
            "\ttrying to use toJSON...\n",
            "(2+2j)\n",
            "\ttrying to use toJSON...\n",
            "\tfailed - trying to use vars...\n",
            "\tfailed - using string representation...\n",
            "{\n",
            "  \"pt\": {\n",
            "    \"x\": {\n",
            "      \"name\": \"Python\",\n",
            "      \"age\": 27,\n",
            "      \"create_dt\": \"2023-05-24T06:38:42.022302\"\n",
            "    },\n",
            "    \"y\": \"(2+2j)\"\n",
            "  }\n",
            "}\n"
          ]
        }
      ]
    },
    {
      "cell_type": "code",
      "source": [],
      "metadata": {
        "id": "SoIVcr9tey7c"
      },
      "execution_count": null,
      "outputs": []
    }
  ]
}