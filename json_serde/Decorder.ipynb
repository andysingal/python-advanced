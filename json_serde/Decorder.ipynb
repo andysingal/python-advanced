{
  "nbformat": 4,
  "nbformat_minor": 0,
  "metadata": {
    "colab": {
      "provenance": []
    },
    "kernelspec": {
      "name": "python3",
      "display_name": "Python 3"
    },
    "language_info": {
      "name": "python"
    }
  },
  "cells": [
    {
      "cell_type": "code",
      "execution_count": 3,
      "metadata": {
        "id": "t5aAZiDXXpzp"
      },
      "outputs": [],
      "source": [
        "import json\n",
        "import datetime"
      ]
    },
    {
      "cell_type": "code",
      "source": [
        "p = '''\n",
        "    {\n",
        "        \"time\": {\n",
        "            \"objecttype\": \"datetime\",\n",
        "            \"value\": \"2018-10-21T09:14:15\"\n",
        "            },\n",
        "        \"message\": \"created this json string\"\n",
        "    }\n",
        "'''"
      ],
      "metadata": {
        "id": "4l6KdVtKXuAo"
      },
      "execution_count": 2,
      "outputs": []
    },
    {
      "cell_type": "code",
      "source": [
        "d = json.loads(p)\n",
        "d"
      ],
      "metadata": {
        "colab": {
          "base_uri": "https://localhost:8080/"
        },
        "id": "nIZntFszYpd8",
        "outputId": "7bed2c00-4e37-4717-d841-4fd73d22675f"
      },
      "execution_count": 7,
      "outputs": [
        {
          "output_type": "execute_result",
          "data": {
            "text/plain": [
              "{'time': {'objecttype': 'datetime', 'value': '2018-10-21T09:14:15'},\n",
              " 'message': 'created this json string'}"
            ]
          },
          "metadata": {},
          "execution_count": 7
        }
      ]
    },
    {
      "cell_type": "code",
      "source": [
        "from datetime import datetime\n",
        "\n",
        "for key, value in d.items():\n",
        "    if (isinstance(value, dict) and \n",
        "        'objecttype' in value and \n",
        "        value['objecttype'] == 'datetime'):\n",
        "        d[key] = datetime.strptime(value['value'], '%Y-%m-%dT%H:%M:%S')"
      ],
      "metadata": {
        "id": "28rZNEZJYxlD"
      },
      "execution_count": 5,
      "outputs": []
    },
    {
      "cell_type": "code",
      "source": [
        "d"
      ],
      "metadata": {
        "colab": {
          "base_uri": "https://localhost:8080/"
        },
        "id": "FAzo7HdXZKVo",
        "outputId": "ac5dce70-f14f-4eb0-b041-312914880758"
      },
      "execution_count": 6,
      "outputs": [
        {
          "output_type": "execute_result",
          "data": {
            "text/plain": [
              "{'time': datetime.datetime(2018, 10, 21, 9, 14, 15),\n",
              " 'message': 'created this json string'}"
            ]
          },
          "metadata": {},
          "execution_count": 6
        }
      ]
    },
    {
      "cell_type": "code",
      "source": [
        "j = '''\n",
        "    {\n",
        "        \"cake\": \"yummy chocolate cake\",\n",
        "        \"myShare\": {\n",
        "            \"objecttype\": \"fraction\",\n",
        "            \"numerator\": 1,\n",
        "            \"denominator\": 8\n",
        "        }\n",
        "    }\n",
        "'''"
      ],
      "metadata": {
        "id": "YNKTkA2HZK4i"
      },
      "execution_count": 8,
      "outputs": []
    },
    {
      "cell_type": "code",
      "source": [
        "n = json.loads(j)"
      ],
      "metadata": {
        "id": "99ibPZhmcHef"
      },
      "execution_count": 10,
      "outputs": []
    },
    {
      "cell_type": "code",
      "source": [
        "from fractions import Fraction\n",
        "\n",
        "for key, value in n.items():\n",
        "    if (isinstance(value, dict) and\n",
        "        'objecttype' in value and\n",
        "        value['objecttype'] == 'fraction'):\n",
        "        numerator = value['numerator']\n",
        "        denominator = value['denominator']\n",
        "        n[key] = Fraction(numerator, denominator)"
      ],
      "metadata": {
        "id": "KApXEftXcH7_"
      },
      "execution_count": 11,
      "outputs": []
    },
    {
      "cell_type": "code",
      "source": [
        "n"
      ],
      "metadata": {
        "colab": {
          "base_uri": "https://localhost:8080/"
        },
        "id": "og7XFOW6cVeQ",
        "outputId": "e07edcc9-0ef0-4add-fc11-16c24fd82247"
      },
      "execution_count": 12,
      "outputs": [
        {
          "output_type": "execute_result",
          "data": {
            "text/plain": [
              "{'cake': 'yummy chocolate cake', 'myShare': Fraction(1, 8)}"
            ]
          },
          "metadata": {},
          "execution_count": 12
        }
      ]
    },
    {
      "cell_type": "code",
      "source": [],
      "metadata": {
        "id": "uqFdyMHwcjO7"
      },
      "execution_count": null,
      "outputs": []
    },
    {
      "cell_type": "code",
      "source": [
        "j = '''\n",
        "    {\n",
        "        \"time\": {\n",
        "            \"objecttype\": \"datetime\",\n",
        "            \"value\": \"2018-10-21T09:14:15\"\n",
        "            },\n",
        "        \"message\": \"created this json string\"\n",
        "    }\n",
        "'''"
      ],
      "metadata": {
        "id": "-AU5Ix73cjY6"
      },
      "execution_count": 13,
      "outputs": []
    },
    {
      "cell_type": "code",
      "source": [
        "def custom_decoder(arg):\n",
        "    if 'objecttype' in arg and arg['objecttype'] == 'datetime':\n",
        "        return datetime.strptime(arg['value'], '%Y-%m-%dT%H:%M:%S')\n",
        "    else:\n",
        "        return arg  # important, otherwise we lose anything that's not a date!"
      ],
      "metadata": {
        "id": "brkuCiQjcj3u"
      },
      "execution_count": 14,
      "outputs": []
    },
    {
      "cell_type": "code",
      "source": [
        "custom_decoder(dict(objecttype='datetime', value='2018-10-21T09:14:15'))"
      ],
      "metadata": {
        "colab": {
          "base_uri": "https://localhost:8080/"
        },
        "id": "VQRZjGrKcl2_",
        "outputId": "4a5fe84c-3ac0-4622-e9a7-a576af129776"
      },
      "execution_count": 15,
      "outputs": [
        {
          "output_type": "execute_result",
          "data": {
            "text/plain": [
              "datetime.datetime(2018, 10, 21, 9, 14, 15)"
            ]
          },
          "metadata": {},
          "execution_count": 15
        }
      ]
    },
    {
      "cell_type": "code",
      "source": [
        "j = '''\n",
        "    {\n",
        "        \"times\": {\n",
        "            \"created\": {\n",
        "                \"objecttype\": \"datetime\",\n",
        "                \"value\": \"2018-10-21T09:14:15\"\n",
        "                },\n",
        "            \"updated\": {\n",
        "                \"objecttype\": \"datetime\",\n",
        "                \"value\": \"2018-10-22T10:00:05\"\n",
        "                }\n",
        "            },\n",
        "        \"message\": \"log message here...\"\n",
        "    }\n",
        "'''"
      ],
      "metadata": {
        "id": "hrzllcawcnnf"
      },
      "execution_count": 16,
      "outputs": []
    },
    {
      "cell_type": "code",
      "source": [
        "d = json.loads(j, object_hook=custom_decoder)"
      ],
      "metadata": {
        "id": "mqwKbnxlc5aO"
      },
      "execution_count": 17,
      "outputs": []
    },
    {
      "cell_type": "code",
      "source": [
        "d"
      ],
      "metadata": {
        "colab": {
          "base_uri": "https://localhost:8080/"
        },
        "id": "vAQd_rUgc6_p",
        "outputId": "b4eeea57-d79e-4e1e-8fbd-4f42f1916ea6"
      },
      "execution_count": 18,
      "outputs": [
        {
          "output_type": "execute_result",
          "data": {
            "text/plain": [
              "{'times': {'created': datetime.datetime(2018, 10, 21, 9, 14, 15),\n",
              "  'updated': datetime.datetime(2018, 10, 22, 10, 0, 5)},\n",
              " 'message': 'log message here...'}"
            ]
          },
          "metadata": {},
          "execution_count": 18
        }
      ]
    },
    {
      "cell_type": "markdown",
      "source": [
        "We can also extend this custom decoder to include other structures (schemas). Let's add in our fraction decoder:"
      ],
      "metadata": {
        "id": "wK_B4c7ldF0X"
      }
    },
    {
      "cell_type": "code",
      "source": [
        "def custom_decoder(arg):\n",
        "    ret_value = arg\n",
        "    if 'objecttype' in arg:\n",
        "        if arg['objecttype'] == 'datetime':\n",
        "            ret_value = datetime.strptime(arg['value'], '%Y-%m-%dT%H:%M:%S')\n",
        "        elif arg['objecttype'] == 'fraction':\n",
        "            ret_value = Fraction(arg['numerator'], arg['denominator'])\n",
        "    return ret_value"
      ],
      "metadata": {
        "id": "MSjRPvKac7dK"
      },
      "execution_count": 19,
      "outputs": []
    },
    {
      "cell_type": "code",
      "source": [
        "j = '''\n",
        "    {\n",
        "        \"cake\": \"yummy chocolate cake\",\n",
        "        \"myShare\": {\n",
        "            \"objecttype\": \"fraction\",\n",
        "            \"numerator\": 1,\n",
        "            \"denominator\": 8\n",
        "        },\n",
        "        \"eaten\": {\n",
        "            \"at\": {\n",
        "                \"objecttype\": \"datetime\",\n",
        "                \"value\": \"2018-10-21T21:30:00\"\n",
        "                },\n",
        "            \"time_taken\": \"30 seconds\"\n",
        "        }\n",
        "    }\n",
        "'''"
      ],
      "metadata": {
        "id": "vgHOm_xgdIX5"
      },
      "execution_count": 20,
      "outputs": []
    },
    {
      "cell_type": "code",
      "source": [
        "d = json.loads(j, object_hook=custom_decoder)"
      ],
      "metadata": {
        "id": "ZFxdp8cUdLGG"
      },
      "execution_count": 21,
      "outputs": []
    },
    {
      "cell_type": "code",
      "source": [
        "d\n"
      ],
      "metadata": {
        "colab": {
          "base_uri": "https://localhost:8080/"
        },
        "id": "v108SZJMdNUe",
        "outputId": "6976fe6d-4ca3-4b99-f0af-3c9e1f9ad8c4"
      },
      "execution_count": 22,
      "outputs": [
        {
          "output_type": "execute_result",
          "data": {
            "text/plain": [
              "{'cake': 'yummy chocolate cake',\n",
              " 'myShare': Fraction(1, 8),\n",
              " 'eaten': {'at': datetime.datetime(2018, 10, 21, 21, 30),\n",
              "  'time_taken': '30 seconds'}}"
            ]
          },
          "metadata": {},
          "execution_count": 22
        }
      ]
    },
    {
      "cell_type": "code",
      "source": [
        "def custom_decoder(arg):\n",
        "    ret_value = arg\n",
        "    if 'objecttype' in arg:\n",
        "        if arg['objecttype'] == 'datetime':\n",
        "            ret_value = datetime.strptime(arg['value'], '%Y-%m-%dT%H:%M:%S')\n",
        "        elif arg['objecttype'] == 'fraction':\n",
        "            ret_value = Fraction(arg['numerator'], arg['denominator'])\n",
        "        elif arg['objecttype'] == 'person':\n",
        "            ret_value = Person(arg['name'], arg['ssn'])\n",
        "    return ret_value"
      ],
      "metadata": {
        "id": "_w9umD0OdOIh"
      },
      "execution_count": 23,
      "outputs": []
    },
    {
      "cell_type": "code",
      "source": [
        "class Person:\n",
        "    def __init__(self, name, ssn):\n",
        "        self.name = name\n",
        "        self.ssn = ssn\n",
        "        \n",
        "    def __repr__(self):\n",
        "        return f'Person(name={self.name}, ssn={self.ssn})'"
      ],
      "metadata": {
        "id": "z0_7M5uIdioY"
      },
      "execution_count": 24,
      "outputs": []
    },
    {
      "cell_type": "code",
      "source": [
        "d = json.loads(j, object_hook=custom_decoder)"
      ],
      "metadata": {
        "id": "TMsbmMXWdr3u"
      },
      "execution_count": 25,
      "outputs": []
    },
    {
      "cell_type": "markdown",
      "source": [
        "Again note that in all cases, the received argument is the string read from the json string.\n",
        "\n",
        "Finally we have the object_pairs_hook argument. It works similarly to the object_hook with two differences:\n",
        "\n",
        "the argument is a list of 2-tuples - the first value is the key, the second is the value\n",
        "the list is ordered in the same order as the keys in the json document.\n",
        "Remember that the dictionary is not guaranteed to be ordered in the same order as the keys in the json document - given Python 3.6+ has guaranteed dictionary order, this is likely to be true, but the documents do not mention this specifically, so at this point it should be considered an implementation detail and not relied on - if you must have gauranteed key order, then you will have to use the object_pairs_hook.\n",
        "\n",
        "Also, you should not specify both object_hook and object_pairs_hook - if you do, then the object_pairs_hook will be used and object_hook will be ignored."
      ],
      "metadata": {
        "id": "_4gCYGWhd8Ju"
      }
    },
    {
      "cell_type": "code",
      "source": [
        "j = '''\n",
        "    {\n",
        "        \"a\": [1, 2, 3, 4, 5],\n",
        "        \"b\": 100,\n",
        "        \"c\": 10.5,\n",
        "        \"d\": NaN,\n",
        "        \"e\": null,\n",
        "        \"f\": \"python\"\n",
        "    }\n",
        "'''"
      ],
      "metadata": {
        "id": "kkQB09d_duI6"
      },
      "execution_count": 26,
      "outputs": []
    },
    {
      "cell_type": "code",
      "source": [
        "def float_handler(arg):\n",
        "    print('float handler', type(arg), arg)\n",
        "    return float(arg)"
      ],
      "metadata": {
        "id": "yxOwiWooeYmi"
      },
      "execution_count": 27,
      "outputs": []
    },
    {
      "cell_type": "code",
      "source": [
        "def int_handler(arg):\n",
        "    print('int handler', type(arg), arg)\n",
        "    return int(arg)"
      ],
      "metadata": {
        "id": "bRLzBAz5ea8q"
      },
      "execution_count": 28,
      "outputs": []
    },
    {
      "cell_type": "code",
      "source": [
        "def const_handler(arg):\n",
        "    print('const handler', type(arg), arg)\n",
        "    return None"
      ],
      "metadata": {
        "id": "Zvk_Nom8eg_6"
      },
      "execution_count": 29,
      "outputs": []
    },
    {
      "cell_type": "code",
      "source": [
        "def obj_hook(arg):\n",
        "    print('obj hook', type(arg), arg)\n",
        "    return arg"
      ],
      "metadata": {
        "id": "uYlT99oXejCt"
      },
      "execution_count": 30,
      "outputs": []
    },
    {
      "cell_type": "code",
      "source": [
        "def obj_pairs_hook(arg):\n",
        "    print('obj pairs hook', type(arg), arg)\n",
        "    return arg"
      ],
      "metadata": {
        "id": "_VWJFvjPekqx"
      },
      "execution_count": 31,
      "outputs": []
    },
    {
      "cell_type": "code",
      "source": [
        "json.loads(j, \n",
        "           object_hook=obj_hook,\n",
        "           parse_float=float_handler,\n",
        "           parse_int=int_handler,\n",
        "           parse_constant=const_handler\n",
        "          )"
      ],
      "metadata": {
        "colab": {
          "base_uri": "https://localhost:8080/"
        },
        "id": "QTOsezEoeoG2",
        "outputId": "7de6f4d9-d139-467e-cb18-4dff1af21971"
      },
      "execution_count": 32,
      "outputs": [
        {
          "output_type": "stream",
          "name": "stdout",
          "text": [
            "int handler <class 'str'> 1\n",
            "int handler <class 'str'> 2\n",
            "int handler <class 'str'> 3\n",
            "int handler <class 'str'> 4\n",
            "int handler <class 'str'> 5\n",
            "int handler <class 'str'> 100\n",
            "float handler <class 'str'> 10.5\n",
            "const handler <class 'str'> NaN\n",
            "obj hook <class 'dict'> {'a': [1, 2, 3, 4, 5], 'b': 100, 'c': 10.5, 'd': None, 'e': None, 'f': 'python'}\n"
          ]
        },
        {
          "output_type": "execute_result",
          "data": {
            "text/plain": [
              "{'a': [1, 2, 3, 4, 5],\n",
              " 'b': 100,\n",
              " 'c': 10.5,\n",
              " 'd': None,\n",
              " 'e': None,\n",
              " 'f': 'python'}"
            ]
          },
          "metadata": {},
          "execution_count": 32
        }
      ]
    },
    {
      "cell_type": "code",
      "source": [],
      "metadata": {
        "id": "ka-qZEcAeqvy"
      },
      "execution_count": null,
      "outputs": []
    }
  ]
}