{
  "cells": [
    {
      "cell_type": "markdown",
      "metadata": {
        "id": "view-in-github",
        "colab_type": "text"
      },
      "source": [
        "<a href=\"https://colab.research.google.com/github/andysingal/python-advanced/blob/main/basics/notebooks/bank_project/01_Project_1.ipynb\" target=\"_parent\"><img src=\"https://colab.research.google.com/assets/colab-badge.svg\" alt=\"Open In Colab\"/></a>"
      ]
    },
    {
      "cell_type": "markdown",
      "metadata": {
        "id": "Y2XR-vyeJ_XU"
      },
      "source": [
        "### Project 1"
      ]
    },
    {
      "cell_type": "markdown",
      "metadata": {
        "id": "6Jzr_vwtJ_XW"
      },
      "source": [
        "We need to design an dimplement a class that will be used to represent bank accounts.\n",
        "\n",
        "We want the following functionality and characteristics:\n",
        "- accounts are uniquely identified by an **account number** (assume it will just be passed in the initializer)\n",
        "- account holders have a **first** and **last** name\n",
        "- accounts have an associated **preferred time zone offset** (e.g. -7 for MST)\n",
        "- **balances** need to be zero or higher, and should not be directly settable.\n",
        "- but, **deposits** and **withdrawals** can be made (given sufficient funds)\n",
        "    - if a withdrawal is attempted that would result in nagative funds, the transaction should be declined.\n",
        "- a **monthly interest rate** exists and is applicable to all accounts **uniformly**. There should be a method that can be called to calculate the interest on the current balance using the current interest rate, and **add it** to the balance.\n",
        "- each deposit and withdrawal must generate a **confirmation number** composed of:\n",
        "    - the transaction type: `D` for deposit, and `W` for withdrawal, `I` for interest deposit, and `X` for declined (in which case the balance remains unaffected)\n",
        "    - the account number\n",
        "    - the time the transaction was made, using UTC\n",
        "    - an incrementing number (that increments across all accounts and transactions)\n",
        "    - for (extreme!) simplicity assume that the transaction id starts at zero (or whatever number you choose) whenever the program starts\n",
        "    - the confirmation number should be returned from any of the transaction methods (deposit, withdraw, etc)\n",
        "- create a **method** that, given a confirmation number, returns:\n",
        "    - the account number, transaction code (D, W, etc), datetime (UTC format), date time (in whatever timezone is specified in te argument, but more human readable), the transaction ID\n",
        "    - make it so it is a nicely structured object (so can use dotted notation to access these three attributes)\n",
        "    - I purposefully made it so the desired timezone is passed as an argument. Can you figure out why? (hint: does this method require any information from any instance?)"
      ]
    },
    {
      "cell_type": "markdown",
      "metadata": {
        "id": "B0qQxEFTJ_XX"
      },
      "source": [
        "For example, we may have an account with:\n",
        "- account number `140568` \n",
        "- preferred time zone offset of -7 (MST) \n",
        "- an existing balance of `100.00`\n",
        "\n",
        "Suppose the last transaction ID in the system was `123`, and a deposit is made for `50.00` on `2019-03-15T14:59:00` (UTC) on that account (or `2019-03-15T07:59:00` in account's preferred time zone offset)\n",
        "\n",
        "The new balance should reflect `150.00` and the confirmation number returned should look something like this:\n",
        "\n",
        "```D-140568-20190315145900-124```\n",
        "\n",
        "We also want a method that given the confirmation number returns an object with attributes:\n",
        "- `result.account_number` --> `140568`\n",
        "- `result.transaction_code` --> `D`\n",
        "- `result.transaction_id` --> `124`\n",
        "- `result.time` --> `2019-03-15 07:59:00 (MST)`\n",
        "- `result.time_utc` --> `2019-03-15T14:59:00`"
      ]
    },
    {
      "cell_type": "markdown",
      "metadata": {
        "id": "39tgKWY4J_XX"
      },
      "source": [
        "Furthermore, if current interest rate is `0.5%`, and the account's balance is `1000.00`, then the result of calling the `deposit_interest` (or whatever name you choose) method, should result in a new transaction and a new balance of `1050.00`. Calling this method should also return a confirmation number.\n",
        "\n",
        "For simplicty, just use floats, but be aware that for these types of situations you'll probably want to use `Decimal` objects instead of floats."
      ]
    },
    {
      "cell_type": "markdown",
      "metadata": {
        "id": "r8_pw4YKJ_XX"
      },
      "source": [
        "There are going to be many ways to design something like this, especially since I have not nailed down all the specific requirements, so you'll have to fill the gaps yourself and decide what other things you may want to implement (like is the account number going to be a mutable property, or \"read-only\" and so on).\n",
        "\n",
        "See how many different ideas you can use from what we covered in the last section. "
      ]
    },
    {
      "cell_type": "markdown",
      "metadata": {
        "id": "1K8m7JCYJ_XX"
      },
      "source": [
        "My approach will end up creating two classes: a `TimeZone` class used to store the time zone name and offset definition (in hours and minutes), and a main class called `Account` that will have the following \"public\" interface:\n",
        "- initializer with account number, first name, last name, optional preferred time zone, starting balance (defaults to 0)\n",
        "- a first name property (read/write)\n",
        "- a last name property (read/write)\n",
        "- a full name property (computed, read-only)\n",
        "- a balance property (read-only)\n",
        "- an interest rate property (class level property)\n",
        "- deposit, withdraw, pay_interest methods\n",
        "- parse confirmation code\n",
        "\n",
        "Class will have additional state and methods, but those will be used for implementation."
      ]
    },
    {
      "cell_type": "markdown",
      "metadata": {
        "id": "1Uu1SA_lJ_XY"
      },
      "source": [
        "You should also remember to test your code! In the solutions I will introduce you to Python's `unittest` package. Even if you skip this project, at least review that video and/or notebook if you are unfamiliar with `unittest`."
      ]
    },
    {
      "cell_type": "code",
      "execution_count": null,
      "metadata": {
        "id": "ye1ivmQmJ_XY"
      },
      "outputs": [],
      "source": []
    }
  ],
  "metadata": {
    "kernelspec": {
      "display_name": "Python 3",
      "language": "python",
      "name": "python3"
    },
    "language_info": {
      "codemirror_mode": {
        "name": "ipython",
        "version": 3
      },
      "file_extension": ".py",
      "mimetype": "text/x-python",
      "name": "python",
      "nbconvert_exporter": "python",
      "pygments_lexer": "ipython3",
      "version": "3.6.7"
    },
    "colab": {
      "provenance": [],
      "include_colab_link": true
    }
  },
  "nbformat": 4,
  "nbformat_minor": 0
}