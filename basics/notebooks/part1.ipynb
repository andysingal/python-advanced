{
  "nbformat": 4,
  "nbformat_minor": 0,
  "metadata": {
    "colab": {
      "provenance": [],
      "authorship_tag": "ABX9TyN1SudBXduUE/yRWQJnuBi6",
      "include_colab_link": true
    },
    "kernelspec": {
      "name": "python3",
      "display_name": "Python 3"
    },
    "language_info": {
      "name": "python"
    }
  },
  "cells": [
    {
      "cell_type": "markdown",
      "metadata": {
        "id": "view-in-github",
        "colab_type": "text"
      },
      "source": [
        "<a href=\"https://colab.research.google.com/github/andysingal/python-advanced/blob/main/basics/notebooks/part1.ipynb\" target=\"_parent\"><img src=\"https://colab.research.google.com/assets/colab-badge.svg\" alt=\"Open In Colab\"/></a>"
      ]
    },
    {
      "cell_type": "markdown",
      "source": [
        "# Project Solution: Goal 1\n",
        "We need to create a Polygon class with the following properties:\n",
        "\n",
        "number of vertices n - passed to the initializer\n",
        "circumradius R - passed to the initializer\n",
        "number of edges\n",
        "number of sides\n",
        "interior angle (in degrees)\n",
        "side length\n",
        "apothem\n",
        "surface area\n",
        "perimeter\n",
        "supports equality based on number of vertices and circumradius\n",
        "supports > based on number of vertices\n",
        "Let's start building our Polygon class.\n",
        "\n",
        "Apart from number of edges / vertices (n) and circumradius (R), all the other properties are computed properties.\n",
        "\n",
        "We will make our Polygon immutable (by basically making n and R \"private\" variables - by convention using the _ prefix)."
      ],
      "metadata": {
        "id": "AI6sPVwXC5w8"
      }
    },
    {
      "cell_type": "code",
      "execution_count": 3,
      "metadata": {
        "id": "s3zZP3JlC41v"
      },
      "outputs": [],
      "source": [
        "import math\n",
        "\n",
        "class Polygon:\n",
        "    def __init__(self, n, R):\n",
        "        if n < 3:\n",
        "            raise ValueError('Polygon must have at least 3 vertices.')\n",
        "        self._n = n\n",
        "        self._R = R\n",
        "        \n",
        "    def __repr__(self):\n",
        "        return f'Polygon(n={self._n}, R={self._R})'\n",
        "    \n",
        "    @property\n",
        "    def count_vertices(self):\n",
        "        return self._n\n",
        "    \n",
        "    @property\n",
        "    def count_edges(self):\n",
        "        return self._n\n",
        "    \n",
        "    @property\n",
        "    def circumradius(self):\n",
        "        return self._R\n",
        "    \n",
        "    @property\n",
        "    def interior_angle(self):\n",
        "        return (self._n - 2) * 180 / self._n\n",
        "\n",
        "    @property\n",
        "    def side_length(self):\n",
        "        return 2 * self._R * math.sin(math.pi / self._n)\n",
        "    \n",
        "    @property\n",
        "    def apothem(self):\n",
        "        return self._R * math.cos(math.pi / self._n)\n",
        "    \n",
        "    @property\n",
        "    def area(self):\n",
        "        return self._n / 2 * self.side_length * self.apothem\n",
        "    \n",
        "    @property\n",
        "    def perimeter(self):\n",
        "        return self._n * self.side_length\n",
        "    \n",
        "    def __eq__(self, other):\n",
        "        if isinstance(other, self.__class__):\n",
        "            return (self.count_edges == other.count_edges \n",
        "                    and self.circumradius == other.circumradius)\n",
        "        else:\n",
        "            return NotImplemented\n",
        "        \n",
        "    def __gt__(self, other):\n",
        "        if isinstance(other, self.__class__):\n",
        "            return self.count_vertices > other.count_vertices\n",
        "        else:\n",
        "            return NotImplemented\n",
        "            "
      ]
    },
    {
      "cell_type": "code",
      "source": [],
      "metadata": {
        "id": "LyFoVQ8kDKUn"
      },
      "execution_count": null,
      "outputs": []
    }
  ]
}