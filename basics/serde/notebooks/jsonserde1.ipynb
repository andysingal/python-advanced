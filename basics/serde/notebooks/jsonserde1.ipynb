{
  "nbformat": 4,
  "nbformat_minor": 0,
  "metadata": {
    "colab": {
      "provenance": [],
      "authorship_tag": "ABX9TyPAPqRUhXME+NjYxbh0UNz/",
      "include_colab_link": true
    },
    "kernelspec": {
      "name": "python3",
      "display_name": "Python 3"
    },
    "language_info": {
      "name": "python"
    }
  },
  "cells": [
    {
      "cell_type": "markdown",
      "metadata": {
        "id": "view-in-github",
        "colab_type": "text"
      },
      "source": [
        "<a href=\"https://colab.research.google.com/github/andysingal/python-advanced/blob/main/basics/serde/notebooks/jsonserde1.ipynb\" target=\"_parent\"><img src=\"https://colab.research.google.com/assets/colab-badge.svg\" alt=\"Open In Colab\"/></a>"
      ]
    },
    {
      "cell_type": "markdown",
      "source": [
        "# JSON Serialization\n",
        "As we saw in the lecture, JSON is an extremely popular format for data interchange. Unlike pickling it is safe, because JSON data is basically just text. It's human readable too, which is a plus.\n",
        "\n",
        "There are other formats too, such as XML - but XML does not translate directly to Python dictionaries like JSON does. JSON is a far more natural fit with Python - in fact, when we view the contents of a Python dictionary it reminds us of JSON."
      ],
      "metadata": {
        "id": "944rnJh0LexS"
      }
    },
    {
      "cell_type": "code",
      "execution_count": 1,
      "metadata": {
        "id": "Ov6_4L7RLX-W"
      },
      "outputs": [],
      "source": [
        "d = {\n",
        "    \"name\": {\n",
        "        \"first\": \"...\",\n",
        "        \"last\": \"...\"\n",
        "    },\n",
        "    \"contact\": {\n",
        "        \"phone\": [\n",
        "            {\"type\": \"...\", \"number\": \"...\"},\n",
        "            {\"type\": \"...\", \"number\": \"...\"},\n",
        "            {\"type\": \"...\", \"number\": \"...\"},\n",
        "        ],\n",
        "        \"email\": [\"...\", \"...\", \"...\"]\n",
        "    },\n",
        "    \"address\": {\n",
        "        \"line1\": \"...\",\n",
        "        \"line2\": \"...\",\n",
        "        \"city\": \"...\",\n",
        "        \"country\": \"...\"\n",
        "    }\n",
        "}"
      ]
    },
    {
      "cell_type": "markdown",
      "source": [
        "This is a standard Python dictionary, but if you look at the format, it is also technically JSON.\n",
        "\n",
        "A JSON object contains key/value pairs, nested objects and arrays - just like a Python dictionary.\n",
        "\n",
        "The big difference is that JSON is basically just one big string, while a Python dictionary is an object containing other objects.\n",
        "\n",
        "So the big question when we want to \"convert\" (serialize) a Python object to JSON is how to represent Python objects as strings.\n",
        "\n",
        "Conversely, if we want to load a JSON object into a Python dictionary, how do we \"convert\" (deserialize) the JSON value strings into a Python object.\n",
        "\n",
        "By the way this concept of serializing/deserializing is also often called marshalling.\n",
        "\n",
        "JSON has just a few data types it supports:\n",
        "\n",
        "- Strings: must be delimited by double quotes\n",
        "- Booleans: the values true and false\n",
        "- Numbers: can be integers, or floats (including exponential notation, 1.3E2 for example), but are all considered floats in the standard\n",
        "- Arrays: an ordered collection of zero or more items of any valid JSON type\n",
        "Objects: an unordered collection of key:value pairs - the keys must be strings (so delimited by double quotes), and the values can be any valid JSON type.\n",
        "NULL: a null object, denoted by null and equivalent to None in Python.\n",
        "This means that the data types supported by JSON are relatively limited - but it turns out, as we'll see later, that it's not really a limitation.\n",
        "\n",
        "Any object can be serialized into a string (think of the __repr__ method we've used often throughout this course) - in fact, any piece of information in your computer is a series of bits, as are characters - so theoretically any piece of information can be represented using characters. We'll come back to this in a later video. For now, we're going to stick with the basic data types supported by JSON and see what Python provides us for marshalling JSON.\n",
        "\n",
        "We are going to use the json module:"
      ],
      "metadata": {
        "id": "N6JskH-aLtJw"
      }
    },
    {
      "cell_type": "code",
      "source": [
        "import json"
      ],
      "metadata": {
        "id": "oj6u4g3nLjds"
      },
      "execution_count": 2,
      "outputs": []
    },
    {
      "cell_type": "code",
      "source": [
        "d1 = {\"a\": 100, \"b\": 200}\n",
        "d1_json = json.dumps(d1)"
      ],
      "metadata": {
        "id": "_vXnJjeQL3FI"
      },
      "execution_count": 3,
      "outputs": []
    },
    {
      "cell_type": "code",
      "source": [
        "d_json = '''\n",
        "{\n",
        "    \"name\": \"John Cleese\",\n",
        "    \"age\": 82,\n",
        "    \"height\": 1.96,\n",
        "    \"walksFunny\": true,\n",
        "    \"sketches\": [\n",
        "        {\n",
        "        \"title\": \"Dead Parrot\",\n",
        "        \"costars\": [\"Michael Palin\"]\n",
        "        },\n",
        "        {\n",
        "        \"title\": \"Ministry of Silly Walks\",\n",
        "        \"costars\": [\"Michael Palin\", \"Terry Jones\"]\n",
        "        }\n",
        "    ],\n",
        "    \"boring\": null    \n",
        "}\n",
        "'''"
      ],
      "metadata": {
        "id": "_qkXgCGDL73U"
      },
      "execution_count": 4,
      "outputs": []
    },
    {
      "cell_type": "code",
      "source": [
        "d = json.loads(d_json)\n",
        "d"
      ],
      "metadata": {
        "colab": {
          "base_uri": "https://localhost:8080/"
        },
        "id": "Cgw6t_UaMKgw",
        "outputId": "b7d14c65-f89a-4741-ee07-d13d6ccdf758"
      },
      "execution_count": 7,
      "outputs": [
        {
          "output_type": "execute_result",
          "data": {
            "text/plain": [
              "{'name': 'John Cleese',\n",
              " 'age': 82,\n",
              " 'height': 1.96,\n",
              " 'walksFunny': True,\n",
              " 'sketches': [{'title': 'Dead Parrot', 'costars': ['Michael Palin']},\n",
              "  {'title': 'Ministry of Silly Walks',\n",
              "   'costars': ['Michael Palin', 'Terry Jones']}],\n",
              " 'boring': None}"
            ]
          },
          "metadata": {},
          "execution_count": 7
        }
      ]
    },
    {
      "cell_type": "code",
      "source": [
        "class Person:\n",
        "    def __init__(self, name, age):\n",
        "        self.name = name\n",
        "        self.age = age\n",
        "    \n",
        "    def __repr__(self):\n",
        "        return f'Person(name={self.name}, age={self.age})'\n",
        "    \n",
        "    def toJSON(self):\n",
        "        return dict(name=self.name, age=self.age)"
      ],
      "metadata": {
        "id": "ayR-9tR6MPCn"
      },
      "execution_count": 8,
      "outputs": []
    },
    {
      "cell_type": "code",
      "source": [
        "p = Person('John', 82)"
      ],
      "metadata": {
        "id": "HOwTk_yHMeHT"
      },
      "execution_count": 9,
      "outputs": []
    },
    {
      "cell_type": "code",
      "source": [
        "p.toJSON()"
      ],
      "metadata": {
        "colab": {
          "base_uri": "https://localhost:8080/"
        },
        "id": "nqhL9ismMhHP",
        "outputId": "a31dfd36-b094-4659-e15d-4dd29d86648b"
      },
      "execution_count": 12,
      "outputs": [
        {
          "output_type": "execute_result",
          "data": {
            "text/plain": [
              "{'name': 'John', 'age': 82}"
            ]
          },
          "metadata": {},
          "execution_count": 12
        }
      ]
    },
    {
      "cell_type": "code",
      "source": [
        "print(json.dumps({\"john\": p.toJSON()}, indent=2))"
      ],
      "metadata": {
        "colab": {
          "base_uri": "https://localhost:8080/"
        },
        "id": "rkZktxtTMi6k",
        "outputId": "9625ae80-0b1b-47ce-b57c-f04170579c61"
      },
      "execution_count": 13,
      "outputs": [
        {
          "output_type": "stream",
          "name": "stdout",
          "text": [
            "{\n",
            "  \"john\": {\n",
            "    \"name\": \"John\",\n",
            "    \"age\": 82\n",
            "  }\n",
            "}\n"
          ]
        }
      ]
    },
    {
      "cell_type": "markdown",
      "source": [
        "In fact, often we can make our life a little easier by using the vars function (or the __dict__ attribute) to return a dictionary of our object attributes:"
      ],
      "metadata": {
        "id": "xg_3xa6uM5Ch"
      }
    },
    {
      "cell_type": "code",
      "source": [
        "p.__dict__"
      ],
      "metadata": {
        "colab": {
          "base_uri": "https://localhost:8080/"
        },
        "id": "IJsum9kYMtxy",
        "outputId": "9299c839-0a56-4e10-d383-a7cd978e4d99"
      },
      "execution_count": 14,
      "outputs": [
        {
          "output_type": "execute_result",
          "data": {
            "text/plain": [
              "{'name': 'John', 'age': 82}"
            ]
          },
          "metadata": {},
          "execution_count": 14
        }
      ]
    },
    {
      "cell_type": "code",
      "source": [
        "class Person:\n",
        "    def __init__(self, name, age):\n",
        "        self.name = name\n",
        "        self.age = age\n",
        "    \n",
        "    def __repr__(self):\n",
        "        return f'Person(name={self.name}, age={self.age})'\n",
        "    \n",
        "    def toJSON(self):\n",
        "        return vars(self)"
      ],
      "metadata": {
        "id": "BLYUs9XQM7nX"
      },
      "execution_count": 17,
      "outputs": []
    },
    {
      "cell_type": "code",
      "source": [
        "json.dumps(dict(john=p.toJSON()))"
      ],
      "metadata": {
        "colab": {
          "base_uri": "https://localhost:8080/",
          "height": 35
        },
        "id": "TfQ62kjUNEya",
        "outputId": "11473808-0049-48d2-cc4c-d581bee82d6d"
      },
      "execution_count": 18,
      "outputs": [
        {
          "output_type": "execute_result",
          "data": {
            "text/plain": [
              "'{\"john\": {\"name\": \"John\", \"age\": 82}}'"
            ],
            "application/vnd.google.colaboratory.intrinsic+json": {
              "type": "string"
            }
          },
          "metadata": {},
          "execution_count": 18
        }
      ]
    },
    {
      "cell_type": "markdown",
      "source": [
        "#Custom JSON Serialization"
      ],
      "metadata": {
        "id": "41sN2aBkNNCU"
      }
    },
    {
      "cell_type": "markdown",
      "source": [
        "As we saw in the previous video, certain data types cannot be serialized to JSON using Python's defaults. Here's a simple example of this:"
      ],
      "metadata": {
        "id": "Rnm4h0KZNozG"
      }
    },
    {
      "cell_type": "markdown",
      "source": [
        "As we can see Python raises a TypeError exception, stating that datetime objects are not JSON serializable.\n",
        "\n",
        "So, we'll need to come up with our own serialization format.\n",
        "\n",
        "For datetimes, the most common format is the ISO 8601 format - you can read up more about it here (https://en.wikipedia.org/wiki/ISO_8601), but basically the format is:\n",
        "\n",
        "YYYY-MM-DD T HH:MM:SS\n",
        "\n",
        "There are some variations for encoding timezones, but to keep things simple I am going to use timezone naive timestamps, and just use UTC everywhere.\n",
        "\n",
        "We could use Python's string representation for datetimes:"
      ],
      "metadata": {
        "id": "kzvd_GbOOS0t"
      }
    },
    {
      "cell_type": "code",
      "source": [
        "from datetime import datetime\n",
        "current = datetime.utcnow()\n",
        "\n",
        "def format_iso(dt):\n",
        "    return dt.strftime('%Y-%m-%dT%H:%M:%S')\n",
        "\n",
        "format_iso(current)"
      ],
      "metadata": {
        "colab": {
          "base_uri": "https://localhost:8080/",
          "height": 35
        },
        "id": "V6NU-cpYNBzw",
        "outputId": "e6ca36a6-1086-4fd8-fccd-a173e8b7b539"
      },
      "execution_count": 19,
      "outputs": [
        {
          "output_type": "execute_result",
          "data": {
            "text/plain": [
              "'2023-05-17T05:39:02'"
            ],
            "application/vnd.google.colaboratory.intrinsic+json": {
              "type": "string"
            }
          },
          "metadata": {},
          "execution_count": 19
        }
      ]
    },
    {
      "cell_type": "code",
      "source": [
        "log_record = {'time': datetime.utcnow().isoformat(), 'message': 'testing'}"
      ],
      "metadata": {
        "id": "CSU647y9OAvb"
      },
      "execution_count": 20,
      "outputs": []
    },
    {
      "cell_type": "code",
      "source": [
        "json.dumps(log_record)"
      ],
      "metadata": {
        "colab": {
          "base_uri": "https://localhost:8080/",
          "height": 35
        },
        "id": "mN3QduZDOGr_",
        "outputId": "e4057f09-87cd-4baa-ab2b-50cb7560d819"
      },
      "execution_count": 21,
      "outputs": [
        {
          "output_type": "execute_result",
          "data": {
            "text/plain": [
              "'{\"time\": \"2023-05-17T05:39:27.289337\", \"message\": \"testing\"}'"
            ],
            "application/vnd.google.colaboratory.intrinsic+json": {
              "type": "string"
            }
          },
          "metadata": {},
          "execution_count": 21
        }
      ]
    },
    {
      "cell_type": "code",
      "source": [
        "log_record = {'time': datetime.utcnow(), 'message': 'testing'}"
      ],
      "metadata": {
        "id": "njnXi5zcOMF6"
      },
      "execution_count": 22,
      "outputs": []
    },
    {
      "cell_type": "markdown",
      "source": [
        "The problem is that log_record is now not JSON serializable!\n",
        "\n",
        "What we have to do is write custom code to replace non-JSON serializable objects in our dictionary with custom representations. This can quickly become tedious and unmanageable if we deal with many dictionaries, and arbitrary structures.\n",
        "\n",
        "Fortunately, Python's dump and dumps functions have some ways for us to define general serializations for non-standard JSON objects.\n",
        "\n",
        "The simplest way is to specify a function that dump/dumps will call when it encounters something it cannot serialize:"
      ],
      "metadata": {
        "id": "A8mXl_G5Oqsv"
      }
    },
    {
      "cell_type": "code",
      "source": [
        "def format_iso(dt):\n",
        "    return dt.isoformat()"
      ],
      "metadata": {
        "id": "9SNMMZuTOnSg"
      },
      "execution_count": 23,
      "outputs": []
    },
    {
      "cell_type": "code",
      "source": [
        "json.dumps(log_record, default=format_iso)"
      ],
      "metadata": {
        "colab": {
          "base_uri": "https://localhost:8080/",
          "height": 35
        },
        "id": "lp89BbGVPELa",
        "outputId": "05a769aa-d728-418c-bc00-96c31d3797b0"
      },
      "execution_count": 24,
      "outputs": [
        {
          "output_type": "execute_result",
          "data": {
            "text/plain": [
              "'{\"time\": \"2023-05-17T05:41:40.754724\", \"message\": \"testing\"}'"
            ],
            "application/vnd.google.colaboratory.intrinsic+json": {
              "type": "string"
            }
          },
          "metadata": {},
          "execution_count": 24
        }
      ]
    },
    {
      "cell_type": "code",
      "source": [
        "log_record = {\n",
        "    'time1': datetime.utcnow(),\n",
        "    'time2': datetime.utcnow(),\n",
        "    'message': 'Testing...'\n",
        "}"
      ],
      "metadata": {
        "id": "yXYw7TljPGar"
      },
      "execution_count": 25,
      "outputs": []
    },
    {
      "cell_type": "code",
      "source": [
        "json.dumps(log_record, default=format_iso)"
      ],
      "metadata": {
        "colab": {
          "base_uri": "https://localhost:8080/",
          "height": 35
        },
        "id": "qIofIQcpPVIm",
        "outputId": "fb6d2838-bdb2-4fe7-cad7-4577289c0955"
      },
      "execution_count": 26,
      "outputs": [
        {
          "output_type": "execute_result",
          "data": {
            "text/plain": [
              "'{\"time1\": \"2023-05-17T05:44:48.465930\", \"time2\": \"2023-05-17T05:44:48.465932\", \"message\": \"Testing...\"}'"
            ],
            "application/vnd.google.colaboratory.intrinsic+json": {
              "type": "string"
            }
          },
          "metadata": {},
          "execution_count": 26
        }
      ]
    },
    {
      "cell_type": "code",
      "source": [
        "log_record = {\n",
        "    'time': datetime.utcnow(),\n",
        "    'message': 'Testing...',\n",
        "    'other': {'a', 'b', 'c'}\n",
        "}"
      ],
      "metadata": {
        "id": "QBkhA0mZPb4r"
      },
      "execution_count": 27,
      "outputs": []
    },
    {
      "cell_type": "code",
      "source": [],
      "metadata": {
        "id": "yjFs8BRoPe9i"
      },
      "execution_count": null,
      "outputs": []
    }
  ]
}