{
  "nbformat": 4,
  "nbformat_minor": 0,
  "metadata": {
    "colab": {
      "provenance": [],
      "authorship_tag": "ABX9TyM8/d0Qz3QihoFXikb05+Qe",
      "include_colab_link": true
    },
    "kernelspec": {
      "name": "python3",
      "display_name": "Python 3"
    },
    "language_info": {
      "name": "python"
    }
  },
  "cells": [
    {
      "cell_type": "markdown",
      "metadata": {
        "id": "view-in-github",
        "colab_type": "text"
      },
      "source": [
        "<a href=\"https://colab.research.google.com/github/andysingal/python-advanced/blob/main/basics/Custom_sequences.ipynb\" target=\"_parent\"><img src=\"https://colab.research.google.com/assets/colab-badge.svg\" alt=\"Open In Colab\"/></a>"
      ]
    },
    {
      "cell_type": "code",
      "execution_count": 2,
      "metadata": {
        "id": "HUz9hyFH31ix"
      },
      "outputs": [],
      "source": [
        "class MyClass:\n",
        "    def __init__(self, name):\n",
        "        self.name = name\n",
        "        \n",
        "    def __repr__(self):\n",
        "        return f'MyClass(name={self.name})'\n",
        "    \n",
        "    def __add__(self, other):\n",
        "        print(f'You called + on {self} and {other}')\n",
        "        return 'Hello from __add__'\n",
        "        \n",
        "    def __iadd__(self, other):\n",
        "        if isinstance(other, MyClass):\n",
        "          self.name += other.name \n",
        "        else: \n",
        "          self.name += other\n",
        "        return self   \n"
      ]
    },
    {
      "cell_type": "code",
      "source": [
        "c1 = MyClass('Eric')\n",
        "c2 = MyClass('John')\n",
        "result = c1 + c2"
      ],
      "metadata": {
        "colab": {
          "base_uri": "https://localhost:8080/"
        },
        "id": "tKkDWj6BAavM",
        "outputId": "5ba2c17c-d189-4b2c-f098-f1118fcb716e"
      },
      "execution_count": 3,
      "outputs": [
        {
          "output_type": "stream",
          "name": "stdout",
          "text": [
            "You called + on MyClass(name=Eric) and MyClass(name=John)\n"
          ]
        }
      ]
    },
    {
      "cell_type": "markdown",
      "source": [
        "For this example we'll re-use the Polygon class from a previous lecture on extending sequences.\n",
        "\n",
        "We are going to consider a polygon as nothing more than a collection of points (and we'll stick to a 2-dimensional space).\n",
        "\n",
        "So, we'll need a Point class, but we're going to use our own custom class instead of just using a named tuple.\n",
        "\n",
        "We do this because we want to enforce a rule that our Point co-ordinates will be real numbers. We would not be able to use a named tuple to do that and we could end up with points whose x and y coordinates could be of any type.\n",
        "\n",
        "First we'll need to see how we can test if a type is a numeric real type.\n",
        "\n",
        "We can do this by using the numbers module"
      ],
      "metadata": {
        "id": "ONwPO00BBW2O"
      }
    },
    {
      "cell_type": "code",
      "source": [
        "import numbers"
      ],
      "metadata": {
        "id": "DKvfj_B0AgSx"
      },
      "execution_count": 4,
      "outputs": []
    },
    {
      "cell_type": "code",
      "source": [
        "isinstance(10, numbers.Number)"
      ],
      "metadata": {
        "colab": {
          "base_uri": "https://localhost:8080/"
        },
        "id": "GrcTfUqjBZ_7",
        "outputId": "b564e18b-9039-477f-bd90-694d04e4cd73"
      },
      "execution_count": 5,
      "outputs": [
        {
          "output_type": "execute_result",
          "data": {
            "text/plain": [
              "True"
            ]
          },
          "metadata": {},
          "execution_count": 5
        }
      ]
    },
    {
      "cell_type": "code",
      "source": [
        "class Point: \n",
        "  def __init__(self, x, y):\n",
        "        if isinstance(x, numbers.Real) and isinstance(y, numbers.Real):\n",
        "            self._pt = (x, y)\n",
        "        else:\n",
        "            raise TypeError('Point co-ordinates must be real numbers.')\n",
        "  def __repr__(self):\n",
        "        return f'Point(x={self._pt[0]}, y={self._pt[1]})'\n",
        "    \n",
        "  def __len__(self):\n",
        "        return 2\n",
        "    \n",
        "  def __getitem__(self, s):\n",
        "        return self._pt[s]          "
      ],
      "metadata": {
        "id": "6cgjfV_zBr_G"
      },
      "execution_count": 6,
      "outputs": []
    },
    {
      "cell_type": "code",
      "source": [
        "p = Point(1, 2)"
      ],
      "metadata": {
        "id": "zFEtQwLUCLdA"
      },
      "execution_count": 7,
      "outputs": []
    },
    {
      "cell_type": "markdown",
      "source": [
        "Now, we can start creatiung our Polygon class, that will essentially be a mutable sequence of points making up the verteces of the polygon."
      ],
      "metadata": {
        "id": "roMPsVU9CeH4"
      }
    },
    {
      "cell_type": "code",
      "source": [
        "class Polygon:\n",
        "    def __init__(self, *pts):\n",
        "        if pts:\n",
        "            self._pts = [Point(*pt) for pt in pts]\n",
        "        else:\n",
        "            self._pts = []\n",
        "            \n",
        "    def __repr__(self):\n",
        "        pts_str = ', '.join([str(pt) for pt in self._pts])\n",
        "        return f'Polygon({pts_str})'\n",
        "    \n",
        "    def __len__(self):\n",
        "        return len(self._pts)\n",
        "    \n",
        "    def __getitem__(self, s):\n",
        "        return self._pts[s]\n",
        "    \n",
        "    def __setitem__(self, s, value):\n",
        "        # we first should see if we have a single Point\n",
        "        # or an iterable of Points in value\n",
        "        try:\n",
        "            rhs = [Point(*pt) for pt in value]\n",
        "            is_single = False\n",
        "        except TypeError:\n",
        "            # not a valid iterable of Points\n",
        "            # maybe a single Point?\n",
        "            try:\n",
        "                rhs = Point(*value)\n",
        "                is_single = True\n",
        "            except TypeError:\n",
        "                # still no go\n",
        "                raise TypeError('Invalid Point or iterable of Points')\n",
        "        \n",
        "        # reached here, so rhs is either an iterable of Points, or a Point\n",
        "        # we want to make sure we are assigning to a slice only if we \n",
        "        # have an iterable of points, and assigning to an index if we \n",
        "        # have a single Point only\n",
        "        if (isinstance(s, int) and is_single) \\\n",
        "            or isinstance(s, slice) and not is_single:\n",
        "            self._pts[s] = rhs\n",
        "        else:\n",
        "            raise TypeError('Incompatible index/slice assignment')\n",
        "                \n",
        "    def __add__(self, pt):\n",
        "        if isinstance(pt, Polygon):\n",
        "            new_pts = self._pts + pt._pts\n",
        "            return Polygon(*new_pts)\n",
        "        else:\n",
        "            raise TypeError('can only concatenate with another Polygon')\n",
        "\n",
        "    def append(self, pt):\n",
        "        self._pts.append(Point(*pt))\n",
        "        \n",
        "    def extend(self, pts):\n",
        "        if isinstance(pts, Polygon):\n",
        "            self._pts = self._pts + pts._pts\n",
        "        else:\n",
        "            # assume we are being passed an iterable containing Points\n",
        "            # or something compatible with Points\n",
        "            points = [Point(*pt) for pt in pts]\n",
        "            self._pts = self._pts + points\n",
        "    \n",
        "    def __iadd__(self, pts):\n",
        "        self.extend(pts)\n",
        "        return self\n",
        "    \n",
        "    def insert(self, i, pt):\n",
        "        self._pts.insert(i, Point(*pt))\n",
        "        \n",
        "    def __delitem__(self, s):\n",
        "        del self._pts[s]"
      ],
      "metadata": {
        "id": "Z1aHtR52F1Nb"
      },
      "execution_count": 17,
      "outputs": []
    },
    {
      "cell_type": "code",
      "source": [
        "p1 = Polygon((0,0), Point(1,1))\n",
        "p2 = Polygon([2, 2], [3, 3])\n",
        "print(id(p1), p1)\n",
        "print(id(p2), p2)"
      ],
      "metadata": {
        "colab": {
          "base_uri": "https://localhost:8080/"
        },
        "id": "1xVjfB8SFc86",
        "outputId": "40e548a2-c25a-49ab-e315-19fece7d2740"
      },
      "execution_count": 18,
      "outputs": [
        {
          "output_type": "stream",
          "name": "stdout",
          "text": [
            "140505018512960 Polygon(Point(x=0, y=0), Point(x=1, y=1))\n",
            "140505018511184 Polygon(Point(x=2, y=2), Point(x=3, y=3))\n"
          ]
        }
      ]
    },
    {
      "cell_type": "code",
      "source": [
        "p = Polygon(*zip(range(6), range(6)))"
      ],
      "metadata": {
        "id": "GEO7IFrEF-JD"
      },
      "execution_count": null,
      "outputs": []
    },
    {
      "cell_type": "markdown",
      "source": [
        "Now let's implement concatenation (we'll skip repetition - wouldn't make much sense anyway):"
      ],
      "metadata": {
        "id": "DCjwxLV7Dham"
      }
    },
    {
      "cell_type": "code",
      "source": [
        "p1.append((4, 4))"
      ],
      "metadata": {
        "id": "k5xeUHSmFhbi"
      },
      "execution_count": 15,
      "outputs": []
    },
    {
      "cell_type": "code",
      "source": [
        "p1.append(Point(5,5))"
      ],
      "metadata": {
        "id": "wDqRsAiPDNoF"
      },
      "execution_count": 16,
      "outputs": []
    },
    {
      "cell_type": "code",
      "source": [],
      "metadata": {
        "id": "Rah-VtLAFkbe"
      },
      "execution_count": null,
      "outputs": []
    }
  ]
}