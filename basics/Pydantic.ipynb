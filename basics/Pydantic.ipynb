{
  "nbformat": 4,
  "nbformat_minor": 0,
  "metadata": {
    "colab": {
      "provenance": [],
      "authorship_tag": "ABX9TyPnF/W21TloOlqn3OOfGa9K",
      "include_colab_link": true
    },
    "kernelspec": {
      "name": "python3",
      "display_name": "Python 3"
    },
    "language_info": {
      "name": "python"
    }
  },
  "cells": [
    {
      "cell_type": "markdown",
      "metadata": {
        "id": "view-in-github",
        "colab_type": "text"
      },
      "source": [
        "<a href=\"https://colab.research.google.com/github/andysingal/python-advanced/blob/main/basics/Pydantic.ipynb\" target=\"_parent\"><img src=\"https://colab.research.google.com/assets/colab-badge.svg\" alt=\"Open In Colab\"/></a>"
      ]
    },
    {
      "cell_type": "markdown",
      "source": [
        "#The pydantic Library\n",
        "In this tutorial we're going to take a look at the pydantic library.\n",
        "\n",
        "This is a great library for creating data models in Python, leveraging Python's built-in type hints.\n",
        "\n",
        "I first came across this library when I started using FastAPI for API development.\n",
        "\n",
        "Since then I have been using pydantic for way more than just FastAPI - I find myself using that library practically in almost every project I write.\n",
        "\n",
        "It makes defining data structures (or models in Pydantic's terminology) with \"strict typing\" very easy. Furthermore, Pydantic provides data validation (what basically gives us \"strict typing\", in the sense that we are guaranteed that fields in the structure will be of some specific type), as well as the ability to easily serialize and deserialize data (Python dict objects, JSON and even supports pickling).\n",
        "\n",
        "It also helps with IDE features such as inspection, type checking and auto-completion.\n",
        "\n",
        "I find myself using Pydantic outside of FastAPI, both for the IDE benefits, as well as easy marshalling of data with NoSQL databases.\n",
        "\n",
        "You will need to install pydantic into your virtual environment - see here - although if you use pipenv, the Pipfile included in this github repo already contains Pydantic.\n",
        "\n",
        "\n"
      ],
      "metadata": {
        "id": "vwkGCYu_4lW7"
      }
    },
    {
      "cell_type": "code",
      "execution_count": 6,
      "metadata": {
        "id": "Pki-zEsG314t"
      },
      "outputs": [],
      "source": [
        "from pydantic import BaseModel, ValidationError\n",
        "from typing import Optional"
      ]
    },
    {
      "cell_type": "code",
      "source": [
        "class Person(BaseModel):\n",
        "    first_name: str\n",
        "    last_name: str\n",
        "    age: int"
      ],
      "metadata": {
        "id": "su02PIfU41-W"
      },
      "execution_count": 2,
      "outputs": []
    },
    {
      "cell_type": "code",
      "source": [
        "p = Person(first_name='Isaac', last_name='Newton', age=84)"
      ],
      "metadata": {
        "id": "Kw8dxYIF5ICp"
      },
      "execution_count": 3,
      "outputs": []
    },
    {
      "cell_type": "code",
      "source": [
        "try:\n",
        "    Person(first_name='Isaac')\n",
        "except ValidationError as ex:\n",
        "    print(ex)"
      ],
      "metadata": {
        "colab": {
          "base_uri": "https://localhost:8080/"
        },
        "id": "CRj21BtY5T7F",
        "outputId": "0572c947-4ca3-4b4e-ad0c-aaf9f23717fe"
      },
      "execution_count": 5,
      "outputs": [
        {
          "output_type": "stream",
          "name": "stdout",
          "text": [
            "2 validation errors for Person\n",
            "last_name\n",
            "  field required (type=value_error.missing)\n",
            "age\n",
            "  field required (type=value_error.missing)\n"
          ]
        }
      ]
    },
    {
      "cell_type": "code",
      "source": [
        "class Person(BaseModel):\n",
        "    first_name: str\n",
        "    last_name: str\n",
        "    age: Optional[int]"
      ],
      "metadata": {
        "id": "cBJXOBmT52zE"
      },
      "execution_count": 7,
      "outputs": []
    },
    {
      "cell_type": "code",
      "source": [
        "class Person(BaseModel):\n",
        "    first_name: str = None\n",
        "    last_name: str\n",
        "    age: int = None"
      ],
      "metadata": {
        "id": "3bpZt3Wi6BOJ"
      },
      "execution_count": 8,
      "outputs": []
    },
    {
      "cell_type": "code",
      "source": [
        "p = Person(first_name='Isaac', last_name='Newton', age=84)"
      ],
      "metadata": {
        "id": "kZMe_xT-6tbn"
      },
      "execution_count": 9,
      "outputs": []
    },
    {
      "cell_type": "code",
      "source": [
        "p.dict(exclude={'first_name', 'age'})"
      ],
      "metadata": {
        "colab": {
          "base_uri": "https://localhost:8080/"
        },
        "id": "vgBIRnJ86ww1",
        "outputId": "ff3070f9-4ccf-41d6-f4ea-da0cb777f19a"
      },
      "execution_count": 10,
      "outputs": [
        {
          "output_type": "execute_result",
          "data": {
            "text/plain": [
              "{'last_name': 'Newton'}"
            ]
          },
          "metadata": {},
          "execution_count": 10
        }
      ]
    },
    {
      "cell_type": "code",
      "source": [
        "print(p.json(include={'last_name', 'age'}, indent=4))"
      ],
      "metadata": {
        "colab": {
          "base_uri": "https://localhost:8080/"
        },
        "id": "nF2dcTfD6zck",
        "outputId": "66848e3a-407a-497d-b351-b6fcb2aba2e3"
      },
      "execution_count": 11,
      "outputs": [
        {
          "output_type": "stream",
          "name": "stdout",
          "text": [
            "{\n",
            "    \"last_name\": \"Newton\",\n",
            "    \"age\": 84\n",
            "}\n"
          ]
        }
      ]
    },
    {
      "cell_type": "code",
      "source": [
        "from datetime import date\n",
        "\n",
        "class Person(BaseModel):\n",
        "    first_name: str = None\n",
        "    last_name: str\n",
        "    dob: date"
      ],
      "metadata": {
        "id": "_1rkmskw7CjB"
      },
      "execution_count": 12,
      "outputs": []
    },
    {
      "cell_type": "code",
      "source": [
        "data = {\n",
        "    \"first_name\": \"Isaac\",\n",
        "    \"last_name\": \"Newton\",\n",
        "    \"dob\": date(1643, 1, 4)\n",
        "}"
      ],
      "metadata": {
        "id": "0Qt8Ps9B7HWS"
      },
      "execution_count": 13,
      "outputs": []
    },
    {
      "cell_type": "code",
      "source": [
        "p = Person.parse_obj(data)\n",
        "p"
      ],
      "metadata": {
        "colab": {
          "base_uri": "https://localhost:8080/"
        },
        "id": "YBle_OxX7TAe",
        "outputId": "30241954-2b6f-4c54-de4e-b5cc07f383e7"
      },
      "execution_count": 14,
      "outputs": [
        {
          "output_type": "execute_result",
          "data": {
            "text/plain": [
              "Person(first_name='Isaac', last_name='Newton', dob=datetime.date(1643, 1, 4))"
            ]
          },
          "metadata": {},
          "execution_count": 14
        }
      ]
    },
    {
      "cell_type": "code",
      "source": [],
      "metadata": {
        "id": "hncWsReI7U7K"
      },
      "execution_count": null,
      "outputs": []
    }
  ]
}