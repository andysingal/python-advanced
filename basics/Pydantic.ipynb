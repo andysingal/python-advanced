{
  "nbformat": 4,
  "nbformat_minor": 0,
  "metadata": {
    "colab": {
      "provenance": []
    },
    "kernelspec": {
      "name": "python3",
      "display_name": "Python 3"
    },
    "language_info": {
      "name": "python"
    }
  },
  "cells": [
    {
      "cell_type": "code",
      "execution_count": null,
      "metadata": {
        "id": "3BYEBto1UVCb"
      },
      "outputs": [],
      "source": [
        "url ='https://raw.githubusercontent.com/fbaptiste/python-deepdive/main/Part%202/Section%2004%20-%20Iterables%20and%20Iterators/cars.csv'"
      ]
    },
    {
      "cell_type": "code",
      "source": [
        "import random\n",
        "class Random:\n",
        "  def __init__(self,n):\n",
        "    self.n = n\n",
        "    self.i = 0\n",
        "  def __iter__(self):\n",
        "    return self\n",
        "  def __next__(self):\n",
        "     if self.i >= self.n:\n",
        "       raise StopIteration\n",
        "     else:\n",
        "       self.i += 1\n",
        "       return random.randint(0,100)\n",
        "\n",
        "if __name__ == '__main__':\n",
        "  random.seed(0)\n",
        "  l = list(Random(10))\n",
        "  print(l)\n",
        "  print()"
      ],
      "metadata": {
        "colab": {
          "base_uri": "https://localhost:8080/"
        },
        "id": "qfDsWYdwUkfW",
        "outputId": "2130031c-1b33-4e8e-b698-a7a7d180620e"
      },
      "execution_count": null,
      "outputs": [
        {
          "output_type": "stream",
          "name": "stdout",
          "text": [
            "[49, 97, 53, 5, 33, 65, 62, 51, 100, 38]\n",
            "\n"
          ]
        }
      ]
    },
    {
      "cell_type": "markdown",
      "source": [
        "#PYDANTIC"
      ],
      "metadata": {
        "id": "y6XHAIMrczJx"
      }
    },
    {
      "cell_type": "code",
      "source": [
        "from pydantic import BaseModel\n",
        "from typing import Optional\n",
        "\n",
        "class Person(BaseModel):\n",
        "    first_name: str\n",
        "    last_name: str\n",
        "    age: Optional[int]\n",
        "\n",
        "p = Person(first_name='Isaac', last_name='Newton', age=84)"
      ],
      "metadata": {
        "id": "Mb73H4HjbRLp"
      },
      "execution_count": null,
      "outputs": []
    },
    {
      "cell_type": "code",
      "source": [
        "from pydantic import ValidationError\n",
        "\n",
        "try:\n",
        "    Person(first_name='Isaac')\n",
        "except ValidationError as ex:\n",
        "    print(ex.json())"
      ],
      "metadata": {
        "colab": {
          "base_uri": "https://localhost:8080/"
        },
        "id": "c9UuxuUTdLtL",
        "outputId": "99e86b2f-04c3-4654-fa72-a6159710f57f"
      },
      "execution_count": null,
      "outputs": [
        {
          "output_type": "stream",
          "name": "stdout",
          "text": [
            "[\n",
            "  {\n",
            "    \"loc\": [\n",
            "      \"last_name\"\n",
            "    ],\n",
            "    \"msg\": \"field required\",\n",
            "    \"type\": \"value_error.missing\"\n",
            "  }\n",
            "]\n"
          ]
        }
      ]
    },
    {
      "cell_type": "code",
      "source": [
        "p = Person(first_name='Isaac', last_name='Newton', age=84)"
      ],
      "metadata": {
        "id": "KTSotzaEhHq5"
      },
      "execution_count": null,
      "outputs": []
    },
    {
      "cell_type": "code",
      "source": [
        "from datetime import date\n",
        "\n",
        "class Person(BaseModel):\n",
        "    first_name: str = None\n",
        "    last_name: str\n",
        "    dob: date\n",
        "\n",
        "data = {\n",
        "    \"first_name\": \"Isaac\",\n",
        "    \"last_name\": \"Newton\",\n",
        "    \"dob\": date(1643, 1, 4)\n",
        "}\n",
        "\n",
        "p = Person.parse_obj(data)\n",
        "p"
      ],
      "metadata": {
        "colab": {
          "base_uri": "https://localhost:8080/"
        },
        "id": "7nWxtL3jhMdq",
        "outputId": "ce225ab5-b09e-4e89-acf1-86455d43b24f"
      },
      "execution_count": null,
      "outputs": [
        {
          "output_type": "execute_result",
          "data": {
            "text/plain": [
              "Person(first_name='Isaac', last_name='Newton', dob=datetime.date(1643, 1, 4))"
            ]
          },
          "metadata": {},
          "execution_count": 9
        }
      ]
    },
    {
      "cell_type": "code",
      "source": [
        "json = '''\n",
        "{\n",
        "    \"first_name\": \"Isaac\",\n",
        "    \"last_name\": \"Newton\",\n",
        "    \"dob\": \"1643-01-04\"\n",
        "}\n",
        "'''\n",
        "p = Person.parse_raw(json)\n",
        "p"
      ],
      "metadata": {
        "colab": {
          "base_uri": "https://localhost:8080/"
        },
        "id": "xCesBHMgjdrQ",
        "outputId": "4263f064-1e3f-4464-854f-c050168ce810"
      },
      "execution_count": null,
      "outputs": [
        {
          "output_type": "execute_result",
          "data": {
            "text/plain": [
              "Person(first_name='Isaac', last_name='Newton', dob=datetime.date(1643, 1, 4))"
            ]
          },
          "metadata": {},
          "execution_count": 10
        }
      ]
    },
    {
      "cell_type": "markdown",
      "source": [
        "#Field Aliases\n",
        "One thing you may have noticed, is that the Pydantic model uses snake case for field names, since that's the convention for Python code - but in JSON we typically use camel case. Pydantic supports this!!"
      ],
      "metadata": {
        "id": "B6ba-YnQkEXY"
      }
    },
    {
      "cell_type": "code",
      "source": [
        "from pydantic import Field\n",
        "\n",
        "class Person(BaseModel):\n",
        "    first_name: str = Field(alias='firstName', default=None)\n",
        "    last_name: str = Field(alias='lastName')\n",
        "    dob: date = None\n",
        "\n",
        "try:\n",
        "    Person.parse_obj(data)\n",
        "except ValidationError as ex:\n",
        "    print(ex.json())"
      ],
      "metadata": {
        "colab": {
          "base_uri": "https://localhost:8080/"
        },
        "id": "fdeHPjajj38c",
        "outputId": "ce5eb115-20a0-4bff-bd3b-9bcd181bb938"
      },
      "execution_count": null,
      "outputs": [
        {
          "output_type": "stream",
          "name": "stdout",
          "text": [
            "[\n",
            "  {\n",
            "    \"loc\": [\n",
            "      \"lastName\"\n",
            "    ],\n",
            "    \"msg\": \"field required\",\n",
            "    \"type\": \"value_error.missing\"\n",
            "  }\n",
            "]\n"
          ]
        }
      ]
    },
    {
      "cell_type": "markdown",
      "source": [],
      "metadata": {
        "id": "4Swd2VeKtEc2"
      }
    },
    {
      "cell_type": "code",
      "source": [
        "import uuid\n",
        "from datetime import date, datetime, timedelta\n",
        "import requests\n",
        "from pydantic import BaseModel, conint,confloat\n",
        "\n",
        "url = 'https://raw.githubusercontent.com/bugbytes-io/datasets/master/students_v1.json'\n",
        "\n",
        "response = requests.get(url)\n",
        "data = response.json()\n",
        "\n",
        "#define Pydantic model class\n",
        "class Student(BaseModel):\n",
        "    id: uuid.UUID\n",
        "    name: str\n",
        "    date_of_birth: date\n",
        "    GPA: confloat(gt=0, lt=130)\n",
        "    course: str | None\n",
        "    department: str\n",
        "    fees_paid: bool\n",
        "\n",
        "for student in data:\n",
        "    # create Pydantic model object by unpacking key/val pairs from our JSON dict as arguments\n",
        "    model = Student(**student)\n",
        "    print(model)\n"
      ],
      "metadata": {
        "colab": {
          "base_uri": "https://localhost:8080/"
        },
        "id": "I8V6xarXtEzT",
        "outputId": "01c41ef1-2091-4c30-a7c1-216ea84616d4"
      },
      "execution_count": null,
      "outputs": [
        {
          "output_type": "stream",
          "name": "stdout",
          "text": [
            "id=UUID('d15782d9-3d8f-4624-a88b-c8e836569df8') name='Eric Travis' date_of_birth=datetime.date(1995, 5, 25) GPA=3.0 course='Computer Science' department='Science and Engineering' fees_paid=False\n",
            "id=UUID('4c7b4c43-c863-4855-abc0-3657c078ce23') name='Mark Smith' date_of_birth=datetime.date(1996, 2, 10) GPA=2.5 course=None department='Science and Engineering' fees_paid=True\n",
            "id=UUID('5cd9ad59-fcf1-462c-8863-282a9fb693e4') name='Marissa Barker' date_of_birth=datetime.date(1996, 10, 1) GPA=3.5 course='Biology' department='Life Sciences' fees_paid=False\n",
            "id=UUID('48dda775-785d-41e3-b0dd-26a4a2f7722f') name='Justin Holden' date_of_birth=datetime.date(1994, 8, 22) GPA=3.23 course='Philosophy' department='Arts and Humanities' fees_paid=True\n",
            "id=UUID('7ffe2ceb-562b-4edd-b74c-3741e1b08453') name='Michelle Thompson' date_of_birth=datetime.date(1995, 8, 5) GPA=3.9 course='Film Studies' department='Arts and Humanities' fees_paid=True\n"
          ]
        }
      ]
    },
    {
      "cell_type": "markdown",
      "source": [
        "# Constrained Types"
      ],
      "metadata": {
        "id": "wpPihnfmyE2a"
      }
    },
    {
      "cell_type": "code",
      "source": [
        "import uuid\n",
        "from datetime import date, datetime, timedelta\n",
        "from pydantic import BaseModel, confloat, validator\n",
        "\n",
        "class Student(BaseModel):\n",
        "    id: uuid.UUID\n",
        "    name: str\n",
        "    date_of_birth: date\n",
        "    GPA: confloat(ge=0, le=4)\n",
        "    course: str | None\n",
        "    department: str\n",
        "    fees_paid: bool\n",
        "\n",
        "    @validator('date_of_birth')\n",
        "    def ensure_16_or_over(cls, value):\n",
        "        sixteen_years_ago = datetime.now() - timedelta(days=365*16)\n",
        "\n",
        "        # convert datetime object -> date\n",
        "        sixteen_years_ago = sixteen_years_ago.date()\n",
        "\n",
        "        # raise error if DOB is more recent than 16 years past.\n",
        "        if value > sixteen_years_ago:\n",
        "            raise ValueError(\"Too young to enrol, sorry!\")\n",
        "        return value"
      ],
      "metadata": {
        "id": "B3g0AYBfkZUA"
      },
      "execution_count": null,
      "outputs": []
    },
    {
      "cell_type": "code",
      "source": [
        "for student in data:\n",
        "    # create Pydantic model object by unpacking key/val pairs from our JSON dict as arguments\n",
        "    model = Student(**student)\n",
        "    print(model)\n"
      ],
      "metadata": {
        "id": "SaCCQxO9zbJj",
        "colab": {
          "base_uri": "https://localhost:8080/"
        },
        "outputId": "6f22da06-530a-40bc-f473-891fdeed4d22"
      },
      "execution_count": null,
      "outputs": [
        {
          "output_type": "stream",
          "name": "stdout",
          "text": [
            "id=UUID('d15782d9-3d8f-4624-a88b-c8e836569df8') name='Eric Travis' date_of_birth=datetime.date(1995, 5, 25) GPA=3.0 course='Computer Science' department='Science and Engineering' fees_paid=False\n",
            "id=UUID('4c7b4c43-c863-4855-abc0-3657c078ce23') name='Mark Smith' date_of_birth=datetime.date(1996, 2, 10) GPA=2.5 course=None department='Science and Engineering' fees_paid=True\n",
            "id=UUID('5cd9ad59-fcf1-462c-8863-282a9fb693e4') name='Marissa Barker' date_of_birth=datetime.date(1996, 10, 1) GPA=3.5 course='Biology' department='Life Sciences' fees_paid=False\n",
            "id=UUID('48dda775-785d-41e3-b0dd-26a4a2f7722f') name='Justin Holden' date_of_birth=datetime.date(1994, 8, 22) GPA=3.23 course='Philosophy' department='Arts and Humanities' fees_paid=True\n",
            "id=UUID('7ffe2ceb-562b-4edd-b74c-3741e1b08453') name='Michelle Thompson' date_of_birth=datetime.date(1995, 8, 5) GPA=3.9 course='Film Studies' department='Arts and Humanities' fees_paid=True\n"
          ]
        }
      ]
    },
    {
      "cell_type": "markdown",
      "source": [
        "#ENUM"
      ],
      "metadata": {
        "id": "vN-ArK-RpmnG"
      }
    },
    {
      "cell_type": "code",
      "source": [
        "import uuid\n",
        "from datetime import date, datetime, timedelta\n",
        "from pydantic import BaseModel, confloat, validator\n",
        "from enums import DepartmentEnum\n",
        "\n",
        "class Student(BaseModel):\n",
        "    id: uuid.UUID\n",
        "    name: str\n",
        "    date_of_birth: date\n",
        "    GPA: confloat(ge=0, le=4)\n",
        "    course: str | None\n",
        "    department: DepartmentEnum\n",
        "    fees_paid: bool\n",
        "\n",
        "    @validator('date_of_birth')\n",
        "    def ensure_16_or_over(cls, value):\n",
        "        sixteen_years_ago = datetime.now() - timedelta(days=365*16)\n",
        "\n",
        "        # convert datetime object -> date\n",
        "        sixteen_years_ago = sixteen_years_ago.date()\n",
        "\n",
        "        # raise error if DOB is more recent than 16 years past.\n",
        "        if value > sixteen_years_ago:\n",
        "            raise ValueError(\"Too young to enrol, sorry!\")\n",
        "        return value\n",
        "for student in data:\n",
        "    # create Pydantic model object by unpacking key/val pairs from our JSON dict as arguments\n",
        "    model = Student(**student)\n",
        "    print(model)\n"
      ],
      "metadata": {
        "colab": {
          "base_uri": "https://localhost:8080/"
        },
        "id": "F4_fk62Ppn9B",
        "outputId": "733d66c8-5c54-4196-b886-9899b62e4d9e"
      },
      "execution_count": null,
      "outputs": [
        {
          "output_type": "stream",
          "name": "stdout",
          "text": [
            "id=UUID('d15782d9-3d8f-4624-a88b-c8e836569df8') name='Eric Travis' date_of_birth=datetime.date(1995, 5, 25) GPA=3.0 course='Computer Science' department=<DepartmentEnum.SCIENCE_AND_ENGINEERING: 'Science and Engineering'> fees_paid=False\n",
            "id=UUID('4c7b4c43-c863-4855-abc0-3657c078ce23') name='Mark Smith' date_of_birth=datetime.date(1996, 2, 10) GPA=2.5 course=None department=<DepartmentEnum.SCIENCE_AND_ENGINEERING: 'Science and Engineering'> fees_paid=True\n",
            "id=UUID('5cd9ad59-fcf1-462c-8863-282a9fb693e4') name='Marissa Barker' date_of_birth=datetime.date(1996, 10, 1) GPA=3.5 course='Biology' department=<DepartmentEnum.LIFE_SCIENCES: 'Life Sciences'> fees_paid=False\n",
            "id=UUID('48dda775-785d-41e3-b0dd-26a4a2f7722f') name='Justin Holden' date_of_birth=datetime.date(1994, 8, 22) GPA=3.23 course='Philosophy' department=<DepartmentEnum.ARTS_AND_HUMANITIES: 'Arts and Humanities'> fees_paid=True\n",
            "id=UUID('7ffe2ceb-562b-4edd-b74c-3741e1b08453') name='Michelle Thompson' date_of_birth=datetime.date(1995, 8, 5) GPA=3.9 course='Film Studies' department=<DepartmentEnum.ARTS_AND_HUMANITIES: 'Arts and Humanities'> fees_paid=True\n"
          ]
        }
      ]
    },
    {
      "cell_type": "markdown",
      "source": [],
      "metadata": {
        "id": "2b4LW4F9z_iJ"
      }
    },
    {
      "cell_type": "markdown",
      "source": [
        "# PYDANTIC - NESTED MODELS AND JSON SCHEMAS\n",
        "\n",
        "Objectives\n",
        "In this post, we will learn:\n",
        "\n",
        "- How to create nested Pydantic models, and form parent-child relationships between model classes.\n",
        "- How to use Literal types to constrain input values\n",
        "- How to define default values for fields\n",
        "- How to generate a JSON Schema from your Pydantic model definition\n",
        "- How to use datamodel-code-generator to generate Pydantic models automatically from JSON Schema definitions\n",
        "## Nested Pydantic model classes\n",
        "- The data we worked with in the previous post was simple, flat data, as seen here. However, commonly in real-world apps, we need to deal with nested objects, each with their own schemas and fields.\n",
        "\n",
        "- How do we use nested models in a pydantic context?\n",
        "\n",
        "We have extended the dataset from the previous post to add the concept of nested modules to our student records. You can view the dataset, which we'll use in this post, here.\n",
        "\n",
        "Each student has a set of modules that they are taking in the academic year, and these modules are their own objects with multiple fields.\n",
        "\n",
        "In the previous post, we had the following pydantic model that described a hypothetical Student record in a college/university - note, other code (such as the DepartmentEnum ) can be found in the previous post:"
      ],
      "metadata": {
        "id": "E3JT01Kez_r3"
      }
    },
    {
      "cell_type": "code",
      "source": [
        "import uuid\n",
        "import requests\n",
        "import sys\n",
        "\n",
        "sys.path.append('/content')\n",
        "from typing import Literal\n",
        "from datetime import date, datetime, timedelta\n",
        "\n",
        "from pydantic import BaseModel, confloat, validator\n",
        "from enums import DepartmentEnum\n",
        "# from models import Student\n",
        "\n",
        "# fetch the raw JSON data from Github\n",
        "url = 'https://raw.githubusercontent.com/bugbytes-io/datasets/master/students_v2.json'\n",
        "data = requests.get(url).json()\n",
        "\n",
        "\n",
        "\n",
        "# Pydantic model to outline structure/types of Modules\n",
        "class Module(BaseModel):\n",
        "    id: int | uuid.UUID\n",
        "    name: str\n",
        "    professor: str\n",
        "    credits: Literal[10,20]\n",
        "    registration_code: str\n",
        "\n",
        "\n",
        "class Student(BaseModel):\n",
        "    id: uuid.UUID\n",
        "    name: str\n",
        "    date_of_birth: date\n",
        "    GPA: confloat(ge=0, le=4)\n",
        "    course: str | None\n",
        "    department: DepartmentEnum\n",
        "    fees_paid: bool\n",
        "    modules: list[Module] = []\n",
        "\n",
        "    @validator('modules')\n",
        "    def validate_module_length(cls, value):\n",
        "        if len(value) and len(value) != 3:\n",
        "            raise ValueError('List of modules should have length 3')\n",
        "        return value\n",
        "\n",
        "    @validator('date_of_birth')\n",
        "    def ensure_16_or_over(cls, value):\n",
        "        sixteen_years_ago = datetime.now() - timedelta(days=365*16)\n",
        "\n",
        "        # convert datetime object -> date\n",
        "        sixteen_years_ago = sixteen_years_ago.date()\n",
        "\n",
        "        # raise error if DOB is more recent than 16 years past.\n",
        "        if value > sixteen_years_ago:\n",
        "            raise ValueError(\"Too young to enrol, sorry!\")\n",
        "        return value\n",
        "\n",
        "# for student in data:\n",
        "#   model =Student(**student)\n",
        "#   print(model)\n",
        "\n",
        "print(Module.schema_json(indent=2))"
      ],
      "metadata": {
        "id": "zbJY-sf0pooX",
        "colab": {
          "base_uri": "https://localhost:8080/"
        },
        "outputId": "8ff1bac8-865a-4acf-ad5c-140b2f4fb802"
      },
      "execution_count": null,
      "outputs": [
        {
          "output_type": "stream",
          "name": "stdout",
          "text": [
            "{\n",
            "  \"title\": \"Module\",\n",
            "  \"type\": \"object\",\n",
            "  \"properties\": {\n",
            "    \"id\": {\n",
            "      \"title\": \"Id\",\n",
            "      \"anyOf\": [\n",
            "        {\n",
            "          \"type\": \"integer\"\n",
            "        },\n",
            "        {\n",
            "          \"type\": \"string\",\n",
            "          \"format\": \"uuid\"\n",
            "        }\n",
            "      ]\n",
            "    },\n",
            "    \"name\": {\n",
            "      \"title\": \"Name\",\n",
            "      \"type\": \"string\"\n",
            "    },\n",
            "    \"professor\": {\n",
            "      \"title\": \"Professor\",\n",
            "      \"type\": \"string\"\n",
            "    },\n",
            "    \"credits\": {\n",
            "      \"title\": \"Credits\",\n",
            "      \"enum\": [\n",
            "        10,\n",
            "        20\n",
            "      ],\n",
            "      \"type\": \"integer\"\n",
            "    },\n",
            "    \"registration_code\": {\n",
            "      \"title\": \"Registration Code\",\n",
            "      \"type\": \"string\"\n",
            "    }\n",
            "  },\n",
            "  \"required\": [\n",
            "    \"id\",\n",
            "    \"name\",\n",
            "    \"professor\",\n",
            "    \"credits\",\n",
            "    \"registration_code\"\n",
            "  ]\n",
            "}\n"
          ]
        }
      ]
    },
    {
      "cell_type": "code",
      "source": [
        "!pip install -q datamodel-code-generator"
      ],
      "metadata": {
        "id": "dJ7qIqyoEnDr"
      },
      "execution_count": null,
      "outputs": []
    },
    {
      "cell_type": "code",
      "source": [
        "sys.path.append('/content')\n",
        "!datamodel-codegen --input jsonschema.json --output model2.py"
      ],
      "metadata": {
        "id": "Mcl1EcNtHHBx"
      },
      "execution_count": null,
      "outputs": []
    },
    {
      "cell_type": "code",
      "source": [],
      "metadata": {
        "id": "RmAUGshl0KcR"
      },
      "execution_count": null,
      "outputs": []
    },
    {
      "cell_type": "code",
      "source": [],
      "metadata": {
        "id": "3OaQDmaN0KfG"
      },
      "execution_count": null,
      "outputs": []
    },
    {
      "cell_type": "code",
      "source": [
        "import uuid\n",
        "import requests\n",
        "import sys\n",
        "\n",
        "sys.path.append('/content')\n",
        "from typing import Literal\n",
        "from datetime import date, datetime, timedelta\n",
        "\n",
        "from pydantic import BaseModel, confloat, validator, Field\n",
        "from enums import DepartmentEnum\n",
        "# from models import Student\n",
        "\n",
        "# fetch the raw JSON data from Github\n",
        "url = 'https://raw.githubusercontent.com/bugbytes-io/datasets/master/students_v2.json'\n",
        "data = requests.get(url).json()\n",
        "\n",
        "\n",
        "\n",
        "# Pydantic model to outline structure/types of Modules\n",
        "class Module(BaseModel):\n",
        "    id: int | uuid.UUID\n",
        "    name: str\n",
        "    professor: str\n",
        "    credits: Literal[10,20]\n",
        "    registration_code: str\n",
        "\n",
        "\n",
        "class Student(BaseModel):\n",
        "    id: uuid.UUID\n",
        "    name: str = Field(alias=\"name\")\n",
        "    date_of_birth: date = Field(default_factory=lambda: datetime.today().date())\n",
        "    GPA: confloat(ge=0, le=4)\n",
        "    course: str | None\n",
        "    department: DepartmentEnum\n",
        "    fees_paid: bool\n",
        "    modules: list[Module] = Field(default=[], max_items=10)\n",
        "\n",
        "    class Config:\n",
        "        use_enum_values = True\n",
        "\n",
        "    @validator('modules')\n",
        "    def validate_module_length(cls, value):\n",
        "        if len(value) and len(value) != 3:\n",
        "            raise ValueError('List of modules should have length 3')\n",
        "        return value\n",
        "\n",
        "    @validator('date_of_birth')\n",
        "    def ensure_16_or_over(cls, value):\n",
        "        sixteen_years_ago = datetime.now() - timedelta(days=365*16)\n",
        "\n",
        "        # convert datetime object -> date\n",
        "        sixteen_years_ago = sixteen_years_ago.date()\n",
        "\n",
        "        # raise error if DOB is more recent than 16 years past.\n",
        "        if value > sixteen_years_ago:\n",
        "            raise ValueError(\"Too young to enrol, sorry!\")\n",
        "        return value\n",
        "\n",
        "for student in data:\n",
        "  model =Student(**student)\n",
        "  print(model)\n",
        "\n",
        "# print(Module.schema_json(indent=2))"
      ],
      "metadata": {
        "colab": {
          "base_uri": "https://localhost:8080/"
        },
        "id": "DuTxG1iA0Kh_",
        "outputId": "94af3cf1-f515-480d-8e0c-06dbe69a712e"
      },
      "execution_count": null,
      "outputs": [
        {
          "output_type": "stream",
          "name": "stdout",
          "text": [
            "id=UUID('d15782d9-3d8f-4624-a88b-c8e836569df8') name='Eric Travis' date_of_birth=datetime.date(1995, 5, 25) GPA=3.0 course='Computer Science' department='Science and Engineering' fees_paid=False modules=[Module(id=1, name='Data Science and Machine Learning', professor='Prof. Susan Love', credits=20, registration_code='abc'), Module(id=UUID('e96e86a6-c4e0-4441-af43-0c22cc472e18'), name='Web Development', professor='Prof. James Herman', credits=20, registration_code='abc'), Module(id=3, name='Relational Databases and SQL', professor='Prof. Samantha Curtis', credits=10, registration_code='abc')]\n",
            "id=UUID('4c7b4c43-c863-4855-abc0-3657c078ce23') name='Mark Smith' date_of_birth=datetime.date(1996, 2, 10) GPA=2.5 course=None department='Science and Engineering' fees_paid=True modules=[]\n",
            "id=UUID('5cd9ad59-fcf1-462c-8863-282a9fb693e4') name='Marissa Barker' date_of_birth=datetime.date(1996, 10, 1) GPA=3.5 course='Biology' department='Life Sciences' fees_paid=False modules=[Module(id=55, name='Genes, Molecules and Cells', professor='Prof. Joseph Clark', credits=20, registration_code='abc'), Module(id=66, name='Animal Biology', professor='Prof. Marilyn Gordon', credits=20, registration_code='abc'), Module(id=UUID('8df954b5-bd3e-4316-8153-7d3d68fc0cef'), name='Sports Science', professor='Prof. Nicole Johnson', credits=10, registration_code='abc')]\n",
            "id=UUID('48dda775-785d-41e3-b0dd-26a4a2f7722f') name='Justin Holden' date_of_birth=datetime.date(1994, 8, 22) GPA=3.23 course='Philosophy' department='Arts and Humanities' fees_paid=True modules=[Module(id=UUID('f82d9771-1774-4c65-b290-592bb402d66a'), name='Externalism and Reference', professor='Prof. Brian Sellers', credits=20, registration_code='abc'), Module(id=UUID('86e9b8cd-b24c-4465-b3cd-7cf3ebd99e4e'), name='Formal Logic', professor='Prof. Gregory Fisher', credits=20, registration_code='abc'), Module(id=UUID('b762ddd2-2d99-47b0-b022-4c629e0d1f41'), name='Moral Philosophy', professor='Prof. Michelle Wilson', credits=10, registration_code='abc')]\n",
            "id=UUID('7ffe2ceb-562b-4edd-b74c-3741e1b08453') name='Michelle Thompson' date_of_birth=datetime.date(1995, 8, 5) GPA=3.9 course='Film Studies' department='Arts and Humanities' fees_paid=True modules=[Module(id=101, name='Japanese Cinema', professor='Prof. Travis Hudson', credits=20, registration_code='abc'), Module(id=102, name='South Korean Cinema', professor='Prof. Todd Black', credits=20, registration_code='abc'), Module(id=103, name='French New Wave Cinema', professor='Prof. Bailey Stanley', credits=10, registration_code='abc')]\n"
          ]
        }
      ]
    }
  ]
}